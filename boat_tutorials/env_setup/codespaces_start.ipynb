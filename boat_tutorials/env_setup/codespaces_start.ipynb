{
 "cells": [
  {
   "cell_type": "markdown",
   "metadata": {
    "slideshow": {
     "slide_type": "slide"
    }
   },
   "source": [
    "# Welcome! \n",
    "Let's install some packages and test them out.\n"
   ]
  },
  {
   "cell_type": "code",
   "execution_count": 24,
   "metadata": {},
   "outputs": [
    {
     "name": "stdout",
     "output_type": "stream",
     "text": [
      "Requirement already satisfied: jupyter-book in /usr/local/python/3.12.1/lib/python3.12/site-packages (from -r ../requirements.txt (line 1)) (1.0.4.post1)\n",
      "Requirement already satisfied: matplotlib in /home/codespace/.local/lib/python3.12/site-packages (from -r ../requirements.txt (line 2)) (3.9.3)\n",
      "Requirement already satisfied: numpy in /usr/local/python/3.12.1/lib/python3.12/site-packages (from -r ../requirements.txt (line 3)) (2.1.3)\n",
      "Requirement already satisfied: scipy in /home/codespace/.local/lib/python3.12/site-packages (from -r ../requirements.txt (line 4)) (1.14.1)\n",
      "Requirement already satisfied: ipywidgets in /usr/local/python/3.12.1/lib/python3.12/site-packages (from -r ../requirements.txt (line 5)) (8.1.5)\n",
      "Requirement already satisfied: pandas in /home/codespace/.local/lib/python3.12/site-packages (from -r ../requirements.txt (line 6)) (2.2.3)\n",
      "Requirement already satisfied: click<9,>=7.1 in /usr/local/python/3.12.1/lib/python3.12/site-packages (from jupyter-book->-r ../requirements.txt (line 1)) (8.1.8)\n",
      "Requirement already satisfied: jinja2 in /home/codespace/.local/lib/python3.12/site-packages (from jupyter-book->-r ../requirements.txt (line 1)) (3.1.4)\n",
      "Requirement already satisfied: jsonschema<5 in /home/codespace/.local/lib/python3.12/site-packages (from jupyter-book->-r ../requirements.txt (line 1)) (4.23.0)\n",
      "Requirement already satisfied: linkify-it-py<3,>=2 in /usr/local/python/3.12.1/lib/python3.12/site-packages (from jupyter-book->-r ../requirements.txt (line 1)) (2.0.3)\n",
      "Requirement already satisfied: myst-nb~=1.0 in /usr/local/python/3.12.1/lib/python3.12/site-packages (from jupyter-book->-r ../requirements.txt (line 1)) (1.2.0)\n",
      "Requirement already satisfied: myst-parser~=3.0 in /usr/local/python/3.12.1/lib/python3.12/site-packages (from jupyter-book->-r ../requirements.txt (line 1)) (3.0.1)\n",
      "Requirement already satisfied: pyyaml in /home/codespace/.local/lib/python3.12/site-packages (from jupyter-book->-r ../requirements.txt (line 1)) (6.0.2)\n",
      "Requirement already satisfied: sphinx-book-theme~=1.1 in /usr/local/python/3.12.1/lib/python3.12/site-packages (from jupyter-book->-r ../requirements.txt (line 1)) (1.1.4)\n",
      "Requirement already satisfied: sphinx-comments~=0.0 in /usr/local/python/3.12.1/lib/python3.12/site-packages (from jupyter-book->-r ../requirements.txt (line 1)) (0.0.3)\n",
      "Requirement already satisfied: sphinx-copybutton~=0.5 in /usr/local/python/3.12.1/lib/python3.12/site-packages (from jupyter-book->-r ../requirements.txt (line 1)) (0.5.2)\n",
      "Requirement already satisfied: sphinx-design~=0.6 in /usr/local/python/3.12.1/lib/python3.12/site-packages (from jupyter-book->-r ../requirements.txt (line 1)) (0.6.1)\n",
      "Requirement already satisfied: sphinx-external-toc~=1.0 in /usr/local/python/3.12.1/lib/python3.12/site-packages (from jupyter-book->-r ../requirements.txt (line 1)) (1.0.1)\n",
      "Requirement already satisfied: sphinx-jupyterbook-latex~=1.0 in /usr/local/python/3.12.1/lib/python3.12/site-packages (from jupyter-book->-r ../requirements.txt (line 1)) (1.0.0)\n",
      "Requirement already satisfied: sphinx-multitoc-numbering~=0.1 in /usr/local/python/3.12.1/lib/python3.12/site-packages (from jupyter-book->-r ../requirements.txt (line 1)) (0.1.3)\n",
      "Requirement already satisfied: sphinx-thebe~=0.3 in /usr/local/python/3.12.1/lib/python3.12/site-packages (from jupyter-book->-r ../requirements.txt (line 1)) (0.3.1)\n",
      "Requirement already satisfied: sphinx-togglebutton~=0.3 in /usr/local/python/3.12.1/lib/python3.12/site-packages (from jupyter-book->-r ../requirements.txt (line 1)) (0.3.2)\n",
      "Requirement already satisfied: sphinxcontrib-bibtex~=2.5 in /usr/local/python/3.12.1/lib/python3.12/site-packages (from jupyter-book->-r ../requirements.txt (line 1)) (2.6.3)\n",
      "Requirement already satisfied: sphinx~=7.0 in /usr/local/python/3.12.1/lib/python3.12/site-packages (from jupyter-book->-r ../requirements.txt (line 1)) (7.4.7)\n",
      "Requirement already satisfied: contourpy>=1.0.1 in /home/codespace/.local/lib/python3.12/site-packages (from matplotlib->-r ../requirements.txt (line 2)) (1.3.1)\n",
      "Requirement already satisfied: cycler>=0.10 in /home/codespace/.local/lib/python3.12/site-packages (from matplotlib->-r ../requirements.txt (line 2)) (0.12.1)\n",
      "Requirement already satisfied: fonttools>=4.22.0 in /home/codespace/.local/lib/python3.12/site-packages (from matplotlib->-r ../requirements.txt (line 2)) (4.55.3)\n",
      "Requirement already satisfied: kiwisolver>=1.3.1 in /home/codespace/.local/lib/python3.12/site-packages (from matplotlib->-r ../requirements.txt (line 2)) (1.4.7)\n",
      "Requirement already satisfied: packaging>=20.0 in /home/codespace/.local/lib/python3.12/site-packages (from matplotlib->-r ../requirements.txt (line 2)) (24.2)\n",
      "Requirement already satisfied: pillow>=8 in /home/codespace/.local/lib/python3.12/site-packages (from matplotlib->-r ../requirements.txt (line 2)) (11.0.0)\n",
      "Requirement already satisfied: pyparsing>=2.3.1 in /home/codespace/.local/lib/python3.12/site-packages (from matplotlib->-r ../requirements.txt (line 2)) (3.2.0)\n",
      "Requirement already satisfied: python-dateutil>=2.7 in /home/codespace/.local/lib/python3.12/site-packages (from matplotlib->-r ../requirements.txt (line 2)) (2.9.0.post0)\n",
      "Requirement already satisfied: comm>=0.1.3 in /home/codespace/.local/lib/python3.12/site-packages (from ipywidgets->-r ../requirements.txt (line 5)) (0.2.2)\n",
      "Requirement already satisfied: ipython>=6.1.0 in /home/codespace/.local/lib/python3.12/site-packages (from ipywidgets->-r ../requirements.txt (line 5)) (8.30.0)\n",
      "Requirement already satisfied: traitlets>=4.3.1 in /home/codespace/.local/lib/python3.12/site-packages (from ipywidgets->-r ../requirements.txt (line 5)) (5.14.3)\n",
      "Requirement already satisfied: widgetsnbextension~=4.0.12 in /usr/local/python/3.12.1/lib/python3.12/site-packages (from ipywidgets->-r ../requirements.txt (line 5)) (4.0.13)\n",
      "Requirement already satisfied: jupyterlab-widgets~=3.0.12 in /usr/local/python/3.12.1/lib/python3.12/site-packages (from ipywidgets->-r ../requirements.txt (line 5)) (3.0.13)\n",
      "Requirement already satisfied: pytz>=2020.1 in /home/codespace/.local/lib/python3.12/site-packages (from pandas->-r ../requirements.txt (line 6)) (2024.2)\n",
      "Requirement already satisfied: tzdata>=2022.7 in /home/codespace/.local/lib/python3.12/site-packages (from pandas->-r ../requirements.txt (line 6)) (2024.2)\n",
      "Requirement already satisfied: decorator in /home/codespace/.local/lib/python3.12/site-packages (from ipython>=6.1.0->ipywidgets->-r ../requirements.txt (line 5)) (5.1.1)\n",
      "Requirement already satisfied: jedi>=0.16 in /home/codespace/.local/lib/python3.12/site-packages (from ipython>=6.1.0->ipywidgets->-r ../requirements.txt (line 5)) (0.19.2)\n",
      "Requirement already satisfied: matplotlib-inline in /home/codespace/.local/lib/python3.12/site-packages (from ipython>=6.1.0->ipywidgets->-r ../requirements.txt (line 5)) (0.1.7)\n",
      "Requirement already satisfied: pexpect>4.3 in /home/codespace/.local/lib/python3.12/site-packages (from ipython>=6.1.0->ipywidgets->-r ../requirements.txt (line 5)) (4.9.0)\n",
      "Requirement already satisfied: prompt_toolkit<3.1.0,>=3.0.41 in /home/codespace/.local/lib/python3.12/site-packages (from ipython>=6.1.0->ipywidgets->-r ../requirements.txt (line 5)) (3.0.48)\n",
      "Requirement already satisfied: pygments>=2.4.0 in /home/codespace/.local/lib/python3.12/site-packages (from ipython>=6.1.0->ipywidgets->-r ../requirements.txt (line 5)) (2.18.0)\n",
      "Requirement already satisfied: stack_data in /home/codespace/.local/lib/python3.12/site-packages (from ipython>=6.1.0->ipywidgets->-r ../requirements.txt (line 5)) (0.6.3)\n",
      "Requirement already satisfied: attrs>=22.2.0 in /home/codespace/.local/lib/python3.12/site-packages (from jsonschema<5->jupyter-book->-r ../requirements.txt (line 1)) (24.2.0)\n",
      "Requirement already satisfied: jsonschema-specifications>=2023.03.6 in /home/codespace/.local/lib/python3.12/site-packages (from jsonschema<5->jupyter-book->-r ../requirements.txt (line 1)) (2024.10.1)\n",
      "Requirement already satisfied: referencing>=0.28.4 in /home/codespace/.local/lib/python3.12/site-packages (from jsonschema<5->jupyter-book->-r ../requirements.txt (line 1)) (0.35.1)\n",
      "Requirement already satisfied: rpds-py>=0.7.1 in /home/codespace/.local/lib/python3.12/site-packages (from jsonschema<5->jupyter-book->-r ../requirements.txt (line 1)) (0.22.3)\n",
      "Requirement already satisfied: uc-micro-py in /usr/local/python/3.12.1/lib/python3.12/site-packages (from linkify-it-py<3,>=2->jupyter-book->-r ../requirements.txt (line 1)) (1.0.3)\n",
      "Requirement already satisfied: importlib_metadata in /usr/local/python/3.12.1/lib/python3.12/site-packages (from myst-nb~=1.0->jupyter-book->-r ../requirements.txt (line 1)) (8.6.1)\n",
      "Requirement already satisfied: jupyter-cache>=0.5 in /usr/local/python/3.12.1/lib/python3.12/site-packages (from myst-nb~=1.0->jupyter-book->-r ../requirements.txt (line 1)) (1.0.1)\n",
      "Requirement already satisfied: nbclient in /home/codespace/.local/lib/python3.12/site-packages (from myst-nb~=1.0->jupyter-book->-r ../requirements.txt (line 1)) (0.10.1)\n",
      "Requirement already satisfied: nbformat>=5.0 in /home/codespace/.local/lib/python3.12/site-packages (from myst-nb~=1.0->jupyter-book->-r ../requirements.txt (line 1)) (5.10.4)\n",
      "Requirement already satisfied: typing-extensions in /home/codespace/.local/lib/python3.12/site-packages (from myst-nb~=1.0->jupyter-book->-r ../requirements.txt (line 1)) (4.12.2)\n",
      "Requirement already satisfied: ipykernel in /home/codespace/.local/lib/python3.12/site-packages (from myst-nb~=1.0->jupyter-book->-r ../requirements.txt (line 1)) (6.29.5)\n",
      "Requirement already satisfied: docutils<0.22,>=0.18 in /usr/local/python/3.12.1/lib/python3.12/site-packages (from myst-parser~=3.0->jupyter-book->-r ../requirements.txt (line 1)) (0.21.2)\n",
      "Requirement already satisfied: markdown-it-py~=3.0 in /usr/local/python/3.12.1/lib/python3.12/site-packages (from myst-parser~=3.0->jupyter-book->-r ../requirements.txt (line 1)) (3.0.0)\n",
      "Requirement already satisfied: mdit-py-plugins~=0.4 in /usr/local/python/3.12.1/lib/python3.12/site-packages (from myst-parser~=3.0->jupyter-book->-r ../requirements.txt (line 1)) (0.4.2)\n",
      "Requirement already satisfied: six>=1.5 in /home/codespace/.local/lib/python3.12/site-packages (from python-dateutil>=2.7->matplotlib->-r ../requirements.txt (line 2)) (1.17.0)\n",
      "Requirement already satisfied: sphinxcontrib-applehelp in /usr/local/python/3.12.1/lib/python3.12/site-packages (from sphinx~=7.0->jupyter-book->-r ../requirements.txt (line 1)) (2.0.0)\n",
      "Requirement already satisfied: sphinxcontrib-devhelp in /usr/local/python/3.12.1/lib/python3.12/site-packages (from sphinx~=7.0->jupyter-book->-r ../requirements.txt (line 1)) (2.0.0)\n",
      "Requirement already satisfied: sphinxcontrib-jsmath in /usr/local/python/3.12.1/lib/python3.12/site-packages (from sphinx~=7.0->jupyter-book->-r ../requirements.txt (line 1)) (1.0.1)\n",
      "Requirement already satisfied: sphinxcontrib-htmlhelp>=2.0.0 in /usr/local/python/3.12.1/lib/python3.12/site-packages (from sphinx~=7.0->jupyter-book->-r ../requirements.txt (line 1)) (2.1.0)\n",
      "Requirement already satisfied: sphinxcontrib-serializinghtml>=1.1.9 in /usr/local/python/3.12.1/lib/python3.12/site-packages (from sphinx~=7.0->jupyter-book->-r ../requirements.txt (line 1)) (2.0.0)\n",
      "Requirement already satisfied: sphinxcontrib-qthelp in /usr/local/python/3.12.1/lib/python3.12/site-packages (from sphinx~=7.0->jupyter-book->-r ../requirements.txt (line 1)) (2.0.0)\n",
      "Requirement already satisfied: snowballstemmer>=2.2 in /usr/local/python/3.12.1/lib/python3.12/site-packages (from sphinx~=7.0->jupyter-book->-r ../requirements.txt (line 1)) (2.2.0)\n",
      "Requirement already satisfied: babel>=2.13 in /home/codespace/.local/lib/python3.12/site-packages (from sphinx~=7.0->jupyter-book->-r ../requirements.txt (line 1)) (2.16.0)\n",
      "Requirement already satisfied: alabaster~=0.7.14 in /usr/local/python/3.12.1/lib/python3.12/site-packages (from sphinx~=7.0->jupyter-book->-r ../requirements.txt (line 1)) (0.7.16)\n",
      "Requirement already satisfied: imagesize>=1.3 in /usr/local/python/3.12.1/lib/python3.12/site-packages (from sphinx~=7.0->jupyter-book->-r ../requirements.txt (line 1)) (1.4.1)\n",
      "Requirement already satisfied: requests>=2.30.0 in /home/codespace/.local/lib/python3.12/site-packages (from sphinx~=7.0->jupyter-book->-r ../requirements.txt (line 1)) (2.32.3)\n",
      "Requirement already satisfied: MarkupSafe>=2.0 in /home/codespace/.local/lib/python3.12/site-packages (from jinja2->jupyter-book->-r ../requirements.txt (line 1)) (3.0.2)\n",
      "Requirement already satisfied: pydata-sphinx-theme==0.15.4 in /usr/local/python/3.12.1/lib/python3.12/site-packages (from sphinx-book-theme~=1.1->jupyter-book->-r ../requirements.txt (line 1)) (0.15.4)\n",
      "Requirement already satisfied: beautifulsoup4 in /home/codespace/.local/lib/python3.12/site-packages (from pydata-sphinx-theme==0.15.4->sphinx-book-theme~=1.1->jupyter-book->-r ../requirements.txt (line 1)) (4.12.3)\n",
      "Requirement already satisfied: accessible-pygments in /usr/local/python/3.12.1/lib/python3.12/site-packages (from pydata-sphinx-theme==0.15.4->sphinx-book-theme~=1.1->jupyter-book->-r ../requirements.txt (line 1)) (0.0.5)\n",
      "Requirement already satisfied: setuptools in /home/codespace/.local/lib/python3.12/site-packages (from sphinx-togglebutton~=0.3->jupyter-book->-r ../requirements.txt (line 1)) (75.6.0)\n",
      "Requirement already satisfied: wheel in /usr/local/python/3.12.1/lib/python3.12/site-packages (from sphinx-togglebutton~=0.3->jupyter-book->-r ../requirements.txt (line 1)) (0.45.1)\n",
      "Requirement already satisfied: pybtex>=0.24 in /usr/local/python/3.12.1/lib/python3.12/site-packages (from sphinxcontrib-bibtex~=2.5->jupyter-book->-r ../requirements.txt (line 1)) (0.24.0)\n",
      "Requirement already satisfied: pybtex-docutils>=1.0.0 in /usr/local/python/3.12.1/lib/python3.12/site-packages (from sphinxcontrib-bibtex~=2.5->jupyter-book->-r ../requirements.txt (line 1)) (1.0.3)\n",
      "Requirement already satisfied: parso<0.9.0,>=0.8.4 in /home/codespace/.local/lib/python3.12/site-packages (from jedi>=0.16->ipython>=6.1.0->ipywidgets->-r ../requirements.txt (line 5)) (0.8.4)\n",
      "Requirement already satisfied: sqlalchemy<3,>=1.3.12 in /usr/local/python/3.12.1/lib/python3.12/site-packages (from jupyter-cache>=0.5->myst-nb~=1.0->jupyter-book->-r ../requirements.txt (line 1)) (1.4.54)\n",
      "Requirement already satisfied: tabulate in /usr/local/python/3.12.1/lib/python3.12/site-packages (from jupyter-cache>=0.5->myst-nb~=1.0->jupyter-book->-r ../requirements.txt (line 1)) (0.9.0)\n",
      "Requirement already satisfied: mdurl~=0.1 in /usr/local/python/3.12.1/lib/python3.12/site-packages (from markdown-it-py~=3.0->myst-parser~=3.0->jupyter-book->-r ../requirements.txt (line 1)) (0.1.2)\n",
      "Requirement already satisfied: jupyter-client>=6.1.12 in /home/codespace/.local/lib/python3.12/site-packages (from nbclient->myst-nb~=1.0->jupyter-book->-r ../requirements.txt (line 1)) (8.6.3)\n",
      "Requirement already satisfied: jupyter-core!=5.0.*,>=4.12 in /home/codespace/.local/lib/python3.12/site-packages (from nbclient->myst-nb~=1.0->jupyter-book->-r ../requirements.txt (line 1)) (5.7.2)\n",
      "Requirement already satisfied: fastjsonschema>=2.15 in /home/codespace/.local/lib/python3.12/site-packages (from nbformat>=5.0->myst-nb~=1.0->jupyter-book->-r ../requirements.txt (line 1)) (2.21.1)\n",
      "Requirement already satisfied: ptyprocess>=0.5 in /home/codespace/.local/lib/python3.12/site-packages (from pexpect>4.3->ipython>=6.1.0->ipywidgets->-r ../requirements.txt (line 5)) (0.7.0)\n",
      "Requirement already satisfied: wcwidth in /home/codespace/.local/lib/python3.12/site-packages (from prompt_toolkit<3.1.0,>=3.0.41->ipython>=6.1.0->ipywidgets->-r ../requirements.txt (line 5)) (0.2.13)\n",
      "Requirement already satisfied: latexcodec>=1.0.4 in /usr/local/python/3.12.1/lib/python3.12/site-packages (from pybtex>=0.24->sphinxcontrib-bibtex~=2.5->jupyter-book->-r ../requirements.txt (line 1)) (3.0.0)\n",
      "Requirement already satisfied: charset-normalizer<4,>=2 in /home/codespace/.local/lib/python3.12/site-packages (from requests>=2.30.0->sphinx~=7.0->jupyter-book->-r ../requirements.txt (line 1)) (3.4.0)\n",
      "Requirement already satisfied: idna<4,>=2.5 in /home/codespace/.local/lib/python3.12/site-packages (from requests>=2.30.0->sphinx~=7.0->jupyter-book->-r ../requirements.txt (line 1)) (3.10)\n",
      "Requirement already satisfied: urllib3<3,>=1.21.1 in /home/codespace/.local/lib/python3.12/site-packages (from requests>=2.30.0->sphinx~=7.0->jupyter-book->-r ../requirements.txt (line 1)) (2.2.3)\n",
      "Requirement already satisfied: certifi>=2017.4.17 in /home/codespace/.local/lib/python3.12/site-packages (from requests>=2.30.0->sphinx~=7.0->jupyter-book->-r ../requirements.txt (line 1)) (2024.8.30)\n",
      "Requirement already satisfied: zipp>=3.20 in /usr/local/python/3.12.1/lib/python3.12/site-packages (from importlib_metadata->myst-nb~=1.0->jupyter-book->-r ../requirements.txt (line 1)) (3.21.0)\n",
      "Requirement already satisfied: debugpy>=1.6.5 in /home/codespace/.local/lib/python3.12/site-packages (from ipykernel->myst-nb~=1.0->jupyter-book->-r ../requirements.txt (line 1)) (1.8.9)\n",
      "Requirement already satisfied: nest-asyncio in /home/codespace/.local/lib/python3.12/site-packages (from ipykernel->myst-nb~=1.0->jupyter-book->-r ../requirements.txt (line 1)) (1.6.0)\n",
      "Requirement already satisfied: psutil in /home/codespace/.local/lib/python3.12/site-packages (from ipykernel->myst-nb~=1.0->jupyter-book->-r ../requirements.txt (line 1)) (6.1.0)\n",
      "Requirement already satisfied: pyzmq>=24 in /home/codespace/.local/lib/python3.12/site-packages (from ipykernel->myst-nb~=1.0->jupyter-book->-r ../requirements.txt (line 1)) (26.2.0)\n",
      "Requirement already satisfied: tornado>=6.1 in /home/codespace/.local/lib/python3.12/site-packages (from ipykernel->myst-nb~=1.0->jupyter-book->-r ../requirements.txt (line 1)) (6.4.2)\n",
      "Requirement already satisfied: executing>=1.2.0 in /home/codespace/.local/lib/python3.12/site-packages (from stack_data->ipython>=6.1.0->ipywidgets->-r ../requirements.txt (line 5)) (2.1.0)\n",
      "Requirement already satisfied: asttokens>=2.1.0 in /home/codespace/.local/lib/python3.12/site-packages (from stack_data->ipython>=6.1.0->ipywidgets->-r ../requirements.txt (line 5)) (3.0.0)\n",
      "Requirement already satisfied: pure-eval in /home/codespace/.local/lib/python3.12/site-packages (from stack_data->ipython>=6.1.0->ipywidgets->-r ../requirements.txt (line 5)) (0.2.3)\n",
      "Requirement already satisfied: platformdirs>=2.5 in /home/codespace/.local/lib/python3.12/site-packages (from jupyter-core!=5.0.*,>=4.12->nbclient->myst-nb~=1.0->jupyter-book->-r ../requirements.txt (line 1)) (4.3.6)\n",
      "Requirement already satisfied: greenlet!=0.4.17 in /usr/local/python/3.12.1/lib/python3.12/site-packages (from sqlalchemy<3,>=1.3.12->jupyter-cache>=0.5->myst-nb~=1.0->jupyter-book->-r ../requirements.txt (line 1)) (3.1.1)\n",
      "Requirement already satisfied: soupsieve>1.2 in /home/codespace/.local/lib/python3.12/site-packages (from beautifulsoup4->pydata-sphinx-theme==0.15.4->sphinx-book-theme~=1.1->jupyter-book->-r ../requirements.txt (line 1)) (2.6)\n",
      "\n",
      "\u001b[1m[\u001b[0m\u001b[34;49mnotice\u001b[0m\u001b[1;39;49m]\u001b[0m\u001b[39;49m A new release of pip is available: \u001b[0m\u001b[31;49m24.3.1\u001b[0m\u001b[39;49m -> \u001b[0m\u001b[32;49m25.0.1\u001b[0m\n",
      "\u001b[1m[\u001b[0m\u001b[34;49mnotice\u001b[0m\u001b[1;39;49m]\u001b[0m\u001b[39;49m To update, run: \u001b[0m\u001b[32;49mpython -m pip install --upgrade pip\u001b[0m\n",
      "Note: you may need to restart the kernel to use updated packages.\n"
     ]
    }
   ],
   "source": [
    "pip install -r ../requirements.txt"
   ]
  },
  {
   "cell_type": "code",
   "execution_count": 16,
   "metadata": {},
   "outputs": [],
   "source": [
    "import ipywidgets as widgets\n",
    "import scipy as sp\n",
    "import numpy as np\n",
    "import matplotlib.pyplot as plt"
   ]
  },
  {
   "cell_type": "markdown",
   "metadata": {},
   "source": []
  },
  {
   "cell_type": "code",
   "execution_count": 21,
   "metadata": {},
   "outputs": [],
   "source": [
    "def plot_chirp(f1=(1,100)):\n",
    "    \n",
    "    t = np.linspace(0,1,1000)\n",
    "    plt.plot(t, sp.signal.chirp(t,1,1,f1))"
   ]
  },
  {
   "cell_type": "code",
   "execution_count": 23,
   "metadata": {},
   "outputs": [
    {
     "data": {
      "application/vnd.jupyter.widget-view+json": {
       "model_id": "bb9e46d43bff47e6b1be5d6135899d8d",
       "version_major": 2,
       "version_minor": 0
      },
      "text/plain": [
       "interactive(children=(IntSlider(value=10, description='f1', max=30, min=-10), Output()), _dom_classes=('widget…"
      ]
     },
     "metadata": {},
     "output_type": "display_data"
    }
   ],
   "source": [
    "out = widgets.interact(plot_chirp,f1=10)"
   ]
  }
 ],
 "metadata": {
  "kernelspec": {
   "display_name": "Python 3",
   "language": "python",
   "name": "python3"
  },
  "language_info": {
   "codemirror_mode": {
    "name": "ipython",
    "version": 3
   },
   "file_extension": ".py",
   "mimetype": "text/x-python",
   "name": "python",
   "nbconvert_exporter": "python",
   "pygments_lexer": "ipython3",
   "version": "3.12.1"
  }
 },
 "nbformat": 4,
 "nbformat_minor": 2
}
