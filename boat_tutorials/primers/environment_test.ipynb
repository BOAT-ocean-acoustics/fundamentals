{
 "cells": [
  {
   "cell_type": "markdown",
   "id": "a701b3e2",
   "metadata": {},
   "source": [
    "(primer_environment-test)=\n",
    "# Jupyter notebook to test `boat-fundamentals`"
   ]
  },
  {
   "cell_type": "markdown",
   "id": "294b81ff",
   "metadata": {},
   "source": [
    "To verify that `conda` has set up the `boat-fundamentals` environment that will be used for all tutorials, run through this notebook"
   ]
  },
  {
   "cell_type": "markdown",
   "id": "ab50ad69",
   "metadata": {},
   "source": [
    "1) This notebook starts by importing all packages that were found in `requirements.txt`"
   ]
  },
  {
   "cell_type": "code",
   "execution_count": 1,
   "id": "451f2394",
   "metadata": {},
   "outputs": [],
   "source": [
    "import matplotlib.pyplot as plt\n",
    "import numpy as np\n",
    "import scipy as sp\n",
    "import ipywidgets as widgets\n",
    "import pandas as pd"
   ]
  },
  {
   "cell_type": "markdown",
   "id": "bf4f2e57",
   "metadata": {},
   "source": [
    "2) Next, a method is defined to take a parameter `N` and plot the probability density function (PDF) of `N` samples drawn from a standard normal distribution which is also plotted for comparison. The mean-squared error (MSE) between sample mean and true mean when performing 1000 trials of generating N samples and calculating sample mean is printed on the plot. The vertical dashed line is meant to mark the sample mean of the shown PDF of `N` samples."
   ]
  },
  {
   "cell_type": "code",
   "execution_count": 2,
   "id": "78f256d3",
   "metadata": {},
   "outputs": [],
   "source": [
    "def plot_PDF_of_noise_with_samples(N):\n",
    "    noise = np.random.randn(N)\n",
    "    df = pd.DataFrame({'noise': noise})\n",
    "    sample_mean = df['noise'].mean()\n",
    "\n",
    "    x = np.linspace(-4, 4, 1000)\n",
    "    pdf = sp.stats.norm.pdf(x, loc=0, scale=1)\n",
    "\n",
    "    noise_batches = np.random.randn(N, 1000)\n",
    "    noise_batches_sample_means = noise_batches.mean(axis=0)\n",
    "    mse = (noise_batches_sample_means**2).mean()\n",
    "\n",
    "    plt.figure(figsize=(7, 3))\n",
    "    pdf_ax = plt.gca()\n",
    "    pdf_ax.set_title(f'Probability Density Function ({N} samples)')\n",
    "    pdf_ax.hist(df['noise'], bins=100, density=True, zorder=2)\n",
    "    pdf_ax.plot(x, pdf, label='Theoretical Standard Normal Distribution')\n",
    "\n",
    "    pdf_ax.axvline(x=sample_mean, label=f'Sample mean line',\n",
    "                color='k', linestyle='dashed', linewidth=2, zorder=3)\n",
    "    pdf_ax.text(x = -3.5, y = 0.65, s = f'MSE over 1000 trials: {(mse):.4f})')\n",
    "    pdf_ax.set_ylim(0, 1)\n",
    "    pdf_ax.set_xlim(-4, 4)\n",
    "    pdf_ax.grid(which='both')\n",
    "    pdf_ax.set_ylabel('Probability')\n",
    "    pdf_ax.set_xlabel('Noise values')\n",
    "    pdf_ax.legend()\n",
    "    \n",
    "    plt.show()"
   ]
  },
  {
   "cell_type": "markdown",
   "id": "de461eb4",
   "metadata": {},
   "source": [
    "3) Finally, an interactive widget is used to plot the above PDF for any `N` value ranging from 100 to 10000 with step sizes of 100. As `N` increases, the MSE between sample mean and true mean decreases to 0"
   ]
  },
  {
   "cell_type": "code",
   "execution_count": 3,
   "id": "0bef4be2",
   "metadata": {},
   "outputs": [
    {
     "data": {
      "application/vnd.jupyter.widget-view+json": {
       "model_id": "225ed4c3daf24a1086eab0d531795016",
       "version_major": 2,
       "version_minor": 0
      },
      "text/plain": [
       "interactive(children=(IntSlider(value=100, description='Number of samples:', layout=Layout(width='650px'), max…"
      ]
     },
     "metadata": {},
     "output_type": "display_data"
    }
   ],
   "source": [
    "N_slider = widgets.IntSlider(\n",
    "    value=100,\n",
    "    min=100,\n",
    "    max=5000,\n",
    "    step=10,\n",
    "    description='Number of samples:', \n",
    "    style={'description_width': 'initial'},\n",
    "    disabled=False,\n",
    "    continuous_update=True,\n",
    "    orientation='horizontal',\n",
    "    readout=True,\n",
    "    readout_format='d',\n",
    "    layout=widgets.Layout(width=\"650px\")\n",
    ")\n",
    "\n",
    "out = widgets.interact(plot_PDF_of_noise_with_samples,N=N_slider)"
   ]
  },
  {
   "cell_type": "code",
   "execution_count": null,
   "id": "2f2e7c1a",
   "metadata": {},
   "outputs": [],
   "source": []
  },
  {
   "cell_type": "code",
   "execution_count": null,
   "id": "364c2254-63ce-40b0-971f-2e26d74d42cd",
   "metadata": {},
   "outputs": [],
   "source": []
  }
 ],
 "metadata": {
  "kernelspec": {
   "display_name": "boat-fundamentals",
   "language": "python",
   "name": "boat-fundamentals"
  },
  "language_info": {
   "codemirror_mode": {
    "name": "ipython",
    "version": 3
   },
   "file_extension": ".py",
   "mimetype": "text/x-python",
   "name": "python",
   "nbconvert_exporter": "python",
   "pygments_lexer": "ipython3",
   "version": "3.13.5"
  }
 },
 "nbformat": 4,
 "nbformat_minor": 5
}
