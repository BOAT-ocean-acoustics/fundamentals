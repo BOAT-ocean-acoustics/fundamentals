{
 "cells": [
  {
   "cell_type": "markdown",
   "id": "a701b3e2",
   "metadata": {},
   "source": [
    "(primer_environment-test)=\n",
    "# Jupyter notebook to test `boat-fundamentals`\n",
    "\n",
    "To verify that `conda` has set up the `boat-fundamentals` environment that will be used for all tutorials, run through this notebook\n",
    "\n",
    "1) This notebook starts by importing all packages that were found in `requirements.txt`"
   ]
  },
  {
   "cell_type": "code",
   "execution_count": 1,
   "id": "305ccd87-fffa-404b-a190-1d4069dedf5a",
   "metadata": {},
   "outputs": [],
   "source": [
    "import matplotlib.pyplot as plt\n",
    "import numpy as np\n",
    "import scipy as sp\n",
    "import ipywidgets as widgets\n",
    "import pandas as pd"
   ]
  },
  {
   "cell_type": "markdown",
   "id": "bf4f2e57",
   "metadata": {},
   "source": [
    "2) Next, a method is defined to take a parameter `std` to generate and plot a normal distribution curve where mean is 0 and standard deviation is `std`"
   ]
  },
  {
   "cell_type": "code",
   "execution_count": null,
   "id": "78f256d3",
   "metadata": {},
   "outputs": [],
   "source": [
    "def plot_normal_PDF(std):\n",
    "    x = np.linspace(-4, 4, 100)\n",
    "    pdf = sp.stats.norm.pdf(x, loc=0, scale=std)\n",
    "\n",
    "    plt.figure(figsize=(7, 3))\n",
    "    pdf_ax = plt.gca()\n",
    "    pdf_ax.set_title(f'Probability Density Function')\n",
    "    pdf_ax.plot(x, pdf, label=f'Normal Distribution (µ=0, σ={std:.1f})', zorder=3)\n",
    "    pdf_ax.set_ylim(0, 1)\n",
    "    pdf_ax.set_xlim(-4, 4)\n",
    "    pdf_ax.grid(which='both')\n",
    "    pdf_ax.set_ylabel('Probability')\n",
    "    pdf_ax.set_xlabel('Values')\n",
    "    pdf_ax.legend()\n",
    "    \n",
    "    plt.show()"
   ]
  },
  {
   "cell_type": "markdown",
   "id": "de461eb4",
   "metadata": {},
   "source": [
    "3) Finally, an interactive widget is used to plot the above PDF for any `std` value ranging from 0.5 to 2 with step sizes of 0.1"
   ]
  },
  {
   "cell_type": "code",
   "execution_count": 94,
   "id": "0bef4be2",
   "metadata": {},
   "outputs": [
    {
     "data": {
      "application/vnd.jupyter.widget-view+json": {
       "model_id": "ab7ad4226c8a45f582117338c29fc13a",
       "version_major": 2,
       "version_minor": 0
      },
      "text/plain": [
       "interactive(children=(FloatSlider(value=1.0, description='Standard deviation:', layout=Layout(width='650px'), …"
      ]
     },
     "metadata": {},
     "output_type": "display_data"
    }
   ],
   "source": [
    "std_slider = widgets.FloatSlider(\n",
    "    value=1,\n",
    "    min=0.5,\n",
    "    max=2,\n",
    "    step=0.1,\n",
    "    description='Standard deviation:', \n",
    "    style={'description_width': 'initial'},\n",
    "    disabled=False,\n",
    "    continuous_update=True,\n",
    "    orientation='horizontal',\n",
    "    readout=True,\n",
    "    readout_format='.1f',\n",
    "    layout=widgets.Layout(width=\"650px\")\n",
    ")\n",
    "\n",
    "out = widgets.interact(plot_normal_PDF,std=std_slider)"
   ]
  }
 ],
 "metadata": {
  "kernelspec": {
   "display_name": "boat-fundamentals",
   "language": "python",
   "name": "python3"
  },
  "language_info": {
   "codemirror_mode": {
    "name": "ipython",
    "version": 3
   },
   "file_extension": ".py",
   "mimetype": "text/x-python",
   "name": "python",
   "nbconvert_exporter": "python",
   "pygments_lexer": "ipython3",
   "version": "3.13.5"
  }
 },
 "nbformat": 4,
 "nbformat_minor": 5
}
