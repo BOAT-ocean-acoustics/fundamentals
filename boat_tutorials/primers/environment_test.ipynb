{
 "cells": [
  {
   "cell_type": "markdown",
   "id": "a701b3e2",
   "metadata": {},
   "source": [
    "(primer_environment-test)=\n",
    "# Jupyter notebook to test `boat-fundamentals`"
   ]
  },
  {
   "cell_type": "markdown",
   "id": "294b81ff",
   "metadata": {},
   "source": [
    "To verify that `conda` has set up the `boat-fundamentals` environment that will be used for all tutorials, run through this notebook"
   ]
  },
  {
   "cell_type": "markdown",
   "id": "ab50ad69",
   "metadata": {},
   "source": [
    "1) This notebook starts by importing all packages that were found in `requirements.txt`"
   ]
  },
  {
   "cell_type": "code",
   "execution_count": null,
   "id": "451f2394",
   "metadata": {},
   "outputs": [],
   "source": [
    "import matplotlib.pyplot as plt\n",
    "import numpy as np\n",
    "import scipy as sp\n",
    "import ipywidgets as widgets\n",
    "import pandas as pd"
   ]
  },
  {
   "cell_type": "markdown",
   "id": "bf4f2e57",
   "metadata": {},
   "source": [
    "2) Next, a method is defined to take a parameter `N` and plot the probability density function (PDF) of `N` samples drawn from a standard normal distribution which is also plotted for comparison. The sample mean is printed in the legend of the vertical dashed line meant to mark the mean of the `N` samples."
   ]
  },
  {
   "cell_type": "code",
   "execution_count": 114,
   "id": "78f256d3",
   "metadata": {},
   "outputs": [],
   "source": [
    "def plot_PDF_of_noise_with_samples(N):\n",
    "    noise = np.random.randn(N)\n",
    "    df = pd.DataFrame({'noise': noise})\n",
    "    sample_mean = df['noise'].mean()\n",
    "\n",
    "    x = np.linspace(-4, 4, 1000)\n",
    "    pdf = sp.stats.norm.pdf(x, loc=0, scale=1)\n",
    "\n",
    "    plt.figure(figsize=(7, 3))\n",
    "    plt.title('Probability Density Function')\n",
    "    plt.hist(df['noise'], bins=100, density=True, zorder=2)\n",
    "    plt.plot(x, pdf, label='Theoretical Standard Normal Distribution')\n",
    "\n",
    "    plt.axvline(x=sample_mean, label=f'Sample mean: {(sample_mean):.4f}',\n",
    "                color='k', linestyle='dashed', linewidth=3, zorder=3)\n",
    "    plt.ylim(0, 1)\n",
    "    plt.xlim(-4, 4)\n",
    "    plt.grid(which='both')\n",
    "    plt.ylabel('Probability')\n",
    "    plt.xlabel('Noise values')\n",
    "    plt.legend()\n",
    "    plt.show()"
   ]
  },
  {
   "cell_type": "markdown",
   "id": "de461eb4",
   "metadata": {},
   "source": [
    "3) Finally, an interactive widget is used to plot the above PDF for any `N` value ranging from 100 to 10000 with step sizes of 100. As `N` increases, the sample mean tends towards matching the true mean which is 0 for the standard normal distribution."
   ]
  },
  {
   "cell_type": "code",
   "execution_count": null,
   "id": "0bef4be2",
   "metadata": {},
   "outputs": [
    {
     "data": {
      "application/vnd.jupyter.widget-view+json": {
       "model_id": "59f49f10f81b43739e614a933c34a4a5",
       "version_major": 2,
       "version_minor": 0
      },
      "text/plain": [
       "interactive(children=(IntSlider(value=100, description='Number of samples:', layout=Layout(width='650px'), max…"
      ]
     },
     "metadata": {},
     "output_type": "display_data"
    }
   ],
   "source": [
    "N_slider = widgets.IntSlider(\n",
    "    value=100,\n",
    "    min=100,\n",
    "    max=10000,\n",
    "    step=100,\n",
    "    description='Number of samples:', \n",
    "    style={'description_width': 'initial'},\n",
    "    disabled=False,\n",
    "    continuous_update=True,\n",
    "    orientation='horizontal',\n",
    "    readout=True,\n",
    "    readout_format='d',\n",
    "    layout=widgets.Layout(width=\"650px\")\n",
    ")\n",
    "\n",
    "out = widgets.interact(plot_PDF_of_noise_with_samples,N=N_slider)"
   ]
  },
  {
   "cell_type": "code",
   "execution_count": null,
   "id": "c4f902e2",
   "metadata": {},
   "outputs": [],
   "source": []
  }
 ],
 "metadata": {
  "kernelspec": {
   "display_name": "boat-fundamentals",
   "language": "python",
   "name": "python3"
  },
  "language_info": {
   "codemirror_mode": {
    "name": "ipython",
    "version": 3
   },
   "file_extension": ".py",
   "mimetype": "text/x-python",
   "name": "python",
   "nbconvert_exporter": "python",
   "pygments_lexer": "ipython3",
   "version": "3.13.5"
  }
 },
 "nbformat": 4,
 "nbformat_minor": 5
}
