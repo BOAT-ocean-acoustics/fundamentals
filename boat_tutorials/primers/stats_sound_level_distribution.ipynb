{
  "cells": [
    {
      "cell_type": "code",
      "execution_count": 1,
      "metadata": {},
      "outputs": [
        {
          "name": "stdout",
          "output_type": "stream",
          "text": [
            "Requirement already satisfied: pandas in /home/codespace/.local/lib/python3.12/site-packages (from -r requirements_stats.txt (line 1)) (2.2.3)\n",
            "Requirement already satisfied: matplotlib in /home/codespace/.local/lib/python3.12/site-packages (from -r requirements_stats.txt (line 2)) (3.9.3)\n",
            "Requirement already satisfied: ipywidgets in /workspaces/fundamentals/.conda/lib/python3.12/site-packages (from -r requirements_stats.txt (line 3)) (8.1.5)\n",
            "Requirement already satisfied: numpy>=1.26.0 in /home/codespace/.local/lib/python3.12/site-packages (from pandas->-r requirements_stats.txt (line 1)) (2.2.0)\n",
            "Requirement already satisfied: python-dateutil>=2.8.2 in /home/codespace/.local/lib/python3.12/site-packages (from pandas->-r requirements_stats.txt (line 1)) (2.9.0.post0)\n",
            "Requirement already satisfied: pytz>=2020.1 in /home/codespace/.local/lib/python3.12/site-packages (from pandas->-r requirements_stats.txt (line 1)) (2024.2)\n",
            "Requirement already satisfied: tzdata>=2022.7 in /home/codespace/.local/lib/python3.12/site-packages (from pandas->-r requirements_stats.txt (line 1)) (2024.2)\n",
            "Requirement already satisfied: contourpy>=1.0.1 in /home/codespace/.local/lib/python3.12/site-packages (from matplotlib->-r requirements_stats.txt (line 2)) (1.3.1)\n",
            "Requirement already satisfied: cycler>=0.10 in /home/codespace/.local/lib/python3.12/site-packages (from matplotlib->-r requirements_stats.txt (line 2)) (0.12.1)\n",
            "Requirement already satisfied: fonttools>=4.22.0 in /home/codespace/.local/lib/python3.12/site-packages (from matplotlib->-r requirements_stats.txt (line 2)) (4.55.3)\n",
            "Requirement already satisfied: kiwisolver>=1.3.1 in /home/codespace/.local/lib/python3.12/site-packages (from matplotlib->-r requirements_stats.txt (line 2)) (1.4.7)\n",
            "Requirement already satisfied: packaging>=20.0 in /home/codespace/.local/lib/python3.12/site-packages (from matplotlib->-r requirements_stats.txt (line 2)) (24.2)\n",
            "Requirement already satisfied: pillow>=8 in /home/codespace/.local/lib/python3.12/site-packages (from matplotlib->-r requirements_stats.txt (line 2)) (11.0.0)\n",
            "Requirement already satisfied: pyparsing>=2.3.1 in /home/codespace/.local/lib/python3.12/site-packages (from matplotlib->-r requirements_stats.txt (line 2)) (3.2.0)\n",
            "Requirement already satisfied: comm>=0.1.3 in /home/codespace/.local/lib/python3.12/site-packages (from ipywidgets->-r requirements_stats.txt (line 3)) (0.2.2)\n",
            "Requirement already satisfied: ipython>=6.1.0 in /home/codespace/.local/lib/python3.12/site-packages (from ipywidgets->-r requirements_stats.txt (line 3)) (8.30.0)\n",
            "Requirement already satisfied: traitlets>=4.3.1 in /home/codespace/.local/lib/python3.12/site-packages (from ipywidgets->-r requirements_stats.txt (line 3)) (5.14.3)\n",
            "Requirement already satisfied: widgetsnbextension~=4.0.12 in /workspaces/fundamentals/.conda/lib/python3.12/site-packages (from ipywidgets->-r requirements_stats.txt (line 3)) (4.0.13)\n",
            "Requirement already satisfied: jupyterlab-widgets~=3.0.12 in /workspaces/fundamentals/.conda/lib/python3.12/site-packages (from ipywidgets->-r requirements_stats.txt (line 3)) (3.0.13)\n",
            "Requirement already satisfied: decorator in /home/codespace/.local/lib/python3.12/site-packages (from ipython>=6.1.0->ipywidgets->-r requirements_stats.txt (line 3)) (5.1.1)\n",
            "Requirement already satisfied: jedi>=0.16 in /home/codespace/.local/lib/python3.12/site-packages (from ipython>=6.1.0->ipywidgets->-r requirements_stats.txt (line 3)) (0.19.2)\n",
            "Requirement already satisfied: matplotlib-inline in /home/codespace/.local/lib/python3.12/site-packages (from ipython>=6.1.0->ipywidgets->-r requirements_stats.txt (line 3)) (0.1.7)\n",
            "Requirement already satisfied: pexpect>4.3 in /home/codespace/.local/lib/python3.12/site-packages (from ipython>=6.1.0->ipywidgets->-r requirements_stats.txt (line 3)) (4.9.0)\n",
            "Requirement already satisfied: prompt_toolkit<3.1.0,>=3.0.41 in /home/codespace/.local/lib/python3.12/site-packages (from ipython>=6.1.0->ipywidgets->-r requirements_stats.txt (line 3)) (3.0.48)\n",
            "Requirement already satisfied: pygments>=2.4.0 in /home/codespace/.local/lib/python3.12/site-packages (from ipython>=6.1.0->ipywidgets->-r requirements_stats.txt (line 3)) (2.18.0)\n",
            "Requirement already satisfied: stack_data in /home/codespace/.local/lib/python3.12/site-packages (from ipython>=6.1.0->ipywidgets->-r requirements_stats.txt (line 3)) (0.6.3)\n",
            "Requirement already satisfied: six>=1.5 in /home/codespace/.local/lib/python3.12/site-packages (from python-dateutil>=2.8.2->pandas->-r requirements_stats.txt (line 1)) (1.17.0)\n",
            "Requirement already satisfied: parso<0.9.0,>=0.8.4 in /home/codespace/.local/lib/python3.12/site-packages (from jedi>=0.16->ipython>=6.1.0->ipywidgets->-r requirements_stats.txt (line 3)) (0.8.4)\n",
            "Requirement already satisfied: ptyprocess>=0.5 in /home/codespace/.local/lib/python3.12/site-packages (from pexpect>4.3->ipython>=6.1.0->ipywidgets->-r requirements_stats.txt (line 3)) (0.7.0)\n",
            "Requirement already satisfied: wcwidth in /home/codespace/.local/lib/python3.12/site-packages (from prompt_toolkit<3.1.0,>=3.0.41->ipython>=6.1.0->ipywidgets->-r requirements_stats.txt (line 3)) (0.2.13)\n",
            "Requirement already satisfied: executing>=1.2.0 in /home/codespace/.local/lib/python3.12/site-packages (from stack_data->ipython>=6.1.0->ipywidgets->-r requirements_stats.txt (line 3)) (2.1.0)\n",
            "Requirement already satisfied: asttokens>=2.1.0 in /home/codespace/.local/lib/python3.12/site-packages (from stack_data->ipython>=6.1.0->ipywidgets->-r requirements_stats.txt (line 3)) (3.0.0)\n",
            "Requirement already satisfied: pure-eval in /home/codespace/.local/lib/python3.12/site-packages (from stack_data->ipython>=6.1.0->ipywidgets->-r requirements_stats.txt (line 3)) (0.2.3)\n",
            "Note: you may need to restart the kernel to use updated packages.\n"
          ]
        }
      ],
      "source": [
        "pip install -r requirements_stats.txt"
      ]
    },
    {
      "cell_type": "markdown",
      "metadata": {
        "id": "ntlofLSbT73l"
      },
      "source": [
        "## Sound Level Metrics Distributions"
      ]
    },
    {
      "cell_type": "markdown",
      "metadata": {
        "id": "jvrn8zN1UOUW"
      },
      "source": [
        "Here we will explore the distribution of ocean sound levels from a hydrophone recording. We will access data from the [Sanctuary Soundscape Monitoring Project](https://sanctsound.ioos.us/) which is publicly available through the [NOAA NCEI Passive Acoustics Archive](https://www.ncei.noaa.gov/products/passive-acoustic-data). We will use a dataset of computed broadband sound levels at 1 hour intervals.  "
      ]
    },
    {
      "cell_type": "code",
      "execution_count": 2,
      "metadata": {
        "id": "rx0W21RUxcfr"
      },
      "outputs": [],
      "source": [
        "import pandas as pd\n",
        "import matplotlib.pyplot as plt"
      ]
    },
    {
      "cell_type": "code",
      "execution_count": 3,
      "metadata": {
        "id": "oAZjhs1qyVR-"
      },
      "outputs": [],
      "source": [
        "sound_levels = pd.read_csv(\"https://storage.googleapis.com/noaa-passive-bioacoustic/sanctsound/products/sound_level_metrics/oc03/sanctsound_oc03_02_bb_1h/data/SanctSound_OC03_02_BB_1h.csv\")"
      ]
    },
    {
      "cell_type": "code",
      "execution_count": 4,
      "metadata": {
        "colab": {
          "base_uri": "https://localhost:8080/",
          "height": 300
        },
        "id": "Nai-7IFdykUS",
        "outputId": "384daca3-3ace-48b9-f5ee-9c12518af2d3"
      },
      "outputs": [
        {
          "data": {
            "text/html": [
              "<div>\n",
              "<style scoped>\n",
              "    .dataframe tbody tr th:only-of-type {\n",
              "        vertical-align: middle;\n",
              "    }\n",
              "\n",
              "    .dataframe tbody tr th {\n",
              "        vertical-align: top;\n",
              "    }\n",
              "\n",
              "    .dataframe thead th {\n",
              "        text-align: right;\n",
              "    }\n",
              "</style>\n",
              "<table border=\"1\" class=\"dataframe\">\n",
              "  <thead>\n",
              "    <tr style=\"text-align: right;\">\n",
              "      <th></th>\n",
              "      <th>BB_20-24000</th>\n",
              "    </tr>\n",
              "  </thead>\n",
              "  <tbody>\n",
              "    <tr>\n",
              "      <th>count</th>\n",
              "      <td>3003.000000</td>\n",
              "    </tr>\n",
              "    <tr>\n",
              "      <th>mean</th>\n",
              "      <td>103.586356</td>\n",
              "    </tr>\n",
              "    <tr>\n",
              "      <th>std</th>\n",
              "      <td>7.508545</td>\n",
              "    </tr>\n",
              "    <tr>\n",
              "      <th>min</th>\n",
              "      <td>85.349354</td>\n",
              "    </tr>\n",
              "    <tr>\n",
              "      <th>25%</th>\n",
              "      <td>98.694873</td>\n",
              "    </tr>\n",
              "    <tr>\n",
              "      <th>50%</th>\n",
              "      <td>103.723633</td>\n",
              "    </tr>\n",
              "    <tr>\n",
              "      <th>75%</th>\n",
              "      <td>108.123486</td>\n",
              "    </tr>\n",
              "    <tr>\n",
              "      <th>max</th>\n",
              "      <td>134.773183</td>\n",
              "    </tr>\n",
              "  </tbody>\n",
              "</table>\n",
              "</div>"
            ],
            "text/plain": [
              "       BB_20-24000 \n",
              "count   3003.000000\n",
              "mean     103.586356\n",
              "std        7.508545\n",
              "min       85.349354\n",
              "25%       98.694873\n",
              "50%      103.723633\n",
              "75%      108.123486\n",
              "max      134.773183"
            ]
          },
          "execution_count": 4,
          "metadata": {},
          "output_type": "execute_result"
        }
      ],
      "source": [
        "# summary statistics of the dataset\n",
        "sound_levels.describe()"
      ]
    },
    {
      "cell_type": "markdown",
      "metadata": {
        "id": "ku3b17IcXpVZ"
      },
      "source": [
        "### Histogram\n",
        "\n",
        "Looking at the histogram of the data provides a good first glance of the distribution of the observations. "
      ]
    },
    {
      "cell_type": "code",
      "execution_count": 5,
      "metadata": {
        "colab": {
          "base_uri": "https://localhost:8080/",
          "height": 469
        },
        "id": "2WP5LaCSylLg",
        "outputId": "c6b6a3ee-7b90-4088-f5d8-59133d53ee64"
      },
      "outputs": [
        {
          "data": {
            "text/plain": [
              "array([[<Axes: title={'center': ' BB_20-24000 '}>]], dtype=object)"
            ]
          },
          "execution_count": 5,
          "metadata": {},
          "output_type": "execute_result"
        },
        {
          "data": {
            "image/png": "[encoded data removed]",
            "text/plain": [
              "<Figure size 640x480 with 1 Axes>"
            ]
          },
          "metadata": {},
          "output_type": "display_data"
        }
      ],
      "source": [
        "sound_levels.hist(bins=100)"
      ]
    },
    {
      "cell_type": "markdown",
      "metadata": {
        "id": "sHL25HgwX3_8"
      },
      "source": [
        "* We observe that the range of the values is approximately (85 dB, 135 dB). Note, since those are averaged over 1 hour windows, the actual observed values can fall outside this range.\n",
        "\n",
        "* We also observe that the distribution looks skewed which is typical for sound level distributions. The upper tail is long, which corresponds to rare observations of loud sounds."
      ]
    },
    {
      "cell_type": "markdown",
      "metadata": {
        "id": "KggcMNHhaYDz"
      },
      "source": [
        "### Computing Empirical Probability"
      ]
    },
    {
      "cell_type": "markdown",
      "metadata": {
        "id": "7F1Yiu1CakKy"
      },
      "source": [
        "**The empirical probability** of an event is the relative frequency of the event, or the proportion of trials for which the event occurred."
      ]
    },
    {
      "cell_type": "markdown",
      "metadata": {},
      "source": [
        "**Example:** compute the probability for the event **sound levels > 120 dB**."
      ]
    },
    {
      "cell_type": "code",
      "execution_count": 6,
      "metadata": {
        "colab": {
          "base_uri": "https://localhost:8080/"
        },
        "id": "eArjL7cfbX1z",
        "outputId": "776dc90c-ffb5-4cf2-8a4f-5036eee7308a"
      },
      "outputs": [
        {
          "data": {
            "text/plain": [
              "0.024642024642024644"
            ]
          },
          "execution_count": 6,
          "metadata": {},
          "output_type": "execute_result"
        }
      ],
      "source": [
        "# note the BB_20-24000 column name has spaces around it!\n",
        "# let's calculate the proportion of the values\n",
        "\n",
        "sum(sound_levels[\" BB_20-24000 \"]>120)/len(sound_levels)"
      ]
    },
    {
      "cell_type": "markdown",
      "metadata": {},
      "source": [
        "The histogram splits the range of the outcomes into small intervals (bins) and computes the frequency of the observed outcomes in each bin. Thus, if we compute the normalized histogram (each frequency is divided by the total number of observations), we can use it to estimate the empirical probability that the sound level falls within a particular interval (by summing the frequency for the bins falling in this interval)."
      ]
    },
    {
      "cell_type": "code",
      "execution_count": 7,
      "metadata": {
        "colab": {
          "base_uri": "https://localhost:8080/",
          "height": 469
        },
        "id": "Qfui69Gkf8Ub",
        "outputId": "bd54a6e8-2442-4f76-a1d1-2463e8721be9"
      },
      "outputs": [
        {
          "data": {
            "text/plain": [
              "Text(0.5, 1.0, 'Sound Level Normalized Histogram')"
            ]
          },
          "execution_count": 7,
          "metadata": {},
          "output_type": "execute_result"
        },
        {
          "data": {
            "image/png": "[encoded data removed]",
            "text/plain": [
              "<Figure size 640x480 with 1 Axes>"
            ]
          },
          "metadata": {},
          "output_type": "display_data"
        }
      ],
      "source": [
        "# Set density=True to plot normalized histogram\n",
        "h = sound_levels[' BB_20-24000 '].hist(bins=100, density=True)\n",
        "plt.title(\"Sound Level Normalized Histogram\")"
      ]
    },
    {
      "cell_type": "markdown",
      "metadata": {},
      "source": [
        "**Example:**  For example, if we are interested in the event ** 100 < sound level < 110**. We can build the histogram and the area under heights of the histogram bars and between those bounds will roughly correspond to the empirical probability of this event."
      ]
    },
    {
      "cell_type": "code",
      "execution_count": 8,
      "metadata": {
        "id": "Q2lVlHq43nJj"
      },
      "outputs": [],
      "source": [
        "bound_lower = 100\n",
        "bound_upper = 110"
      ]
    },
    {
      "cell_type": "code",
      "execution_count": 9,
      "metadata": {
        "colab": {
          "base_uri": "https://localhost:8080/",
          "height": 469
        },
        "id": "P-1OVztlnz62",
        "outputId": "55647015-c0d2-4b06-a47e-02ed6fcb7e1b"
      },
      "outputs": [
        {
          "data": {
            "text/plain": [
              "Text(0.5, 1.0, 'Probability: 0.53')"
            ]
          },
          "execution_count": 9,
          "metadata": {},
          "output_type": "execute_result"
        },
        {
          "data": {
            "image/png": "[encoded data removed]",
            "text/plain": [
              "<Figure size 640x480 with 1 Axes>"
            ]
          },
          "metadata": {},
          "output_type": "display_data"
        }
      ],
      "source": [
        "# calculate normalized histogram and store values\n",
        "h = sound_levels[' BB_20-24000 '].hist(bins=100, density=True)\n",
        "plt.title(\"Sound Level Normalized Histogram\")\n",
        "h = plt.hist(sound_levels[' BB_20-24000 '].values, bins=100, density=True)\n",
        "plt.plot(h[1][:-1], h[0],)\n",
        "plt.fill_between(h[1][:-1], h[0], where=((h[1][:-1]>bound_lower) & (h[1][:-1]<bound_upper)), alpha=0.5)\n",
        "p = sum(h[0][(h[1][:-1]>bound_lower) & (h[1][:-1]<bound_upper)])/sum(h[0])\n",
        "plt.title(\"Probability: {:.2f}\".format(p))"
      ]
    },
    {
      "cell_type": "markdown",
      "metadata": {},
      "source": [
        "### Empirical Probability Widget\n",
        "\n",
        "We will make a widget to explore the empirical probability for arbitrary intervals."
      ]
    },
    {
      "cell_type": "code",
      "execution_count": 10,
      "metadata": {
        "id": "4rrE8C8Bx2IO"
      },
      "outputs": [],
      "source": [
        "from ipywidgets import interact\n",
        "import ipywidgets as widgets"
      ]
    },
    {
      "cell_type": "code",
      "execution_count": 11,
      "metadata": {
        "id": "3FoB16fBrPWo"
      },
      "outputs": [],
      "source": [
        "bound_slider = widgets.FloatRangeSlider(\n",
        "    value=[min(sound_levels[' BB_20-24000 ']), max(sound_levels[' BB_20-24000 '])],\n",
        "    min=min(sound_levels[' BB_20-24000 ']),\n",
        "    max=max(sound_levels[' BB_20-24000 ']),\n",
        "    step=0.1,\n",
        "    description='dB Range:',\n",
        "    disabled=False,\n",
        "    continuous_update=False,\n",
        "    orientation='horizontal',\n",
        "    readout=True,\n",
        "    readout_format='.1f',\n",
        "\n",
        ")"
      ]
    },
    {
      "cell_type": "code",
      "execution_count": 12,
      "metadata": {
        "id": "sTcIxCkToILS"
      },
      "outputs": [],
      "source": [
        "def plot_probability(bounds):\n",
        "  plt.title(\"Sound Level Normalized Histogram\")\n",
        "  h = plt.hist(sound_levels[' BB_20-24000 '].values, bins=100, density=True)\n",
        "  plt.plot(h[1][:-1], h[0])\n",
        "  plt.fill_between(h[1][:-1], h[0], where=((h[1][:-1]>bounds[0]) & (h[1][:-1]<bounds[1])), alpha=0.3, color='g')\n",
        "  p = sum(h[0][(h[1][:-1]>bounds[0]) & (h[1][:-1]<bounds[1])])/sum(h[0])\n",
        "  plt.title(\"Probability: {:.2f}\".format(p))\n",
        "  plt.show()\n"
      ]
    },
    {
      "cell_type": "code",
      "execution_count": 13,
      "metadata": {
        "colab": {
          "base_uri": "https://localhost:8080/",
          "height": 484,
          "referenced_widgets": [
            "a24bfa29ce7149179ae3fbbd6281e040",
            "b99ff98c9f394808ac3b0957e349dd74",
            "5fda81b2e4b7413f93065fafe4928d65",
            "2f8fce68c24e46799ad1402ce47c8ad7",
            "493c6e5a1d464c0b8f480a9869628a52",
            "8c0a01ecffb249a599e7a8a1c74a6857",
            "11d721f3b3e743c28cdaf5c5b863abc4"
          ]
        },
        "id": "yqCp5Bpl2qZv",
        "outputId": "54514ccf-c430-4828-ef58-f97ea2909eb2"
      },
      "outputs": [
        {
          "data": {
            "application/vnd.jupyter.widget-view+json": {
              "model_id": "09eac1b75292428fbd0dcbbe3ae3334b",
              "version_major": 2,
              "version_minor": 0
            },
            "text/plain": [
              "interactive(children=(FloatRangeSlider(value=(85.349354, 134.773183), continuous_update=False, description='dB…"
            ]
          },
          "metadata": {},
          "output_type": "display_data"
        }
      ],
      "source": [
        "out = interact(plot_probability, bounds=bound_slider)"
      ]
    }
  ],
  "metadata": {
    "colab": {
      "provenance": []
    },
    "kernelspec": {
      "display_name": ".conda",
      "language": "python",
      "name": "python3"
    },
    "language_info": {
      "codemirror_mode": {
        "name": "ipython",
        "version": 3
      },
      "file_extension": ".py",
      "mimetype": "text/x-python",
      "name": "python",
      "nbconvert_exporter": "python",
      "pygments_lexer": "ipython3",
      "version": "3.12.8"
    },
    "widgets": {
      "application/vnd.jupyter.widget-state+json": {
        "11d721f3b3e743c28cdaf5c5b863abc4": {
          "model_module": "@jupyter-widgets/base",
          "model_module_version": "1.2.0",
          "model_name": "LayoutModel",
          "state": {
            "_model_module": "@jupyter-widgets/base",
            "_model_module_version": "1.2.0",
            "_model_name": "LayoutModel",
            "_view_count": null,
            "_view_module": "@jupyter-widgets/base",
            "_view_module_version": "1.2.0",
            "_view_name": "LayoutView",
            "align_content": null,
            "align_items": null,
            "align_self": null,
            "border": null,
            "bottom": null,
            "display": null,
            "flex": null,
            "flex_flow": null,
            "grid_area": null,
            "grid_auto_columns": null,
            "grid_auto_flow": null,
            "grid_auto_rows": null,
            "grid_column": null,
            "grid_gap": null,
            "grid_row": null,
            "grid_template_areas": null,
            "grid_template_columns": null,
            "grid_template_rows": null,
            "height": null,
            "justify_content": null,
            "justify_items": null,
            "left": null,
            "margin": null,
            "max_height": null,
            "max_width": null,
            "min_height": null,
            "min_width": null,
            "object_fit": null,
            "object_position": null,
            "order": null,
            "overflow": null,
            "overflow_x": null,
            "overflow_y": null,
            "padding": null,
            "right": null,
            "top": null,
            "visibility": null,
            "width": null
          }
        },
        "2f8fce68c24e46799ad1402ce47c8ad7": {
          "model_module": "@jupyter-widgets/base",
          "model_module_version": "1.2.0",
          "model_name": "LayoutModel",
          "state": {
            "_model_module": "@jupyter-widgets/base",
            "_model_module_version": "1.2.0",
            "_model_name": "LayoutModel",
            "_view_count": null,
            "_view_module": "@jupyter-widgets/base",
            "_view_module_version": "1.2.0",
            "_view_name": "LayoutView",
            "align_content": null,
            "align_items": null,
            "align_self": null,
            "border": null,
            "bottom": null,
            "display": null,
            "flex": null,
            "flex_flow": null,
            "grid_area": null,
            "grid_auto_columns": null,
            "grid_auto_flow": null,
            "grid_auto_rows": null,
            "grid_column": null,
            "grid_gap": null,
            "grid_row": null,
            "grid_template_areas": null,
            "grid_template_columns": null,
            "grid_template_rows": null,
            "height": null,
            "justify_content": null,
            "justify_items": null,
            "left": null,
            "margin": null,
            "max_height": null,
            "max_width": null,
            "min_height": null,
            "min_width": null,
            "object_fit": null,
            "object_position": null,
            "order": null,
            "overflow": null,
            "overflow_x": null,
            "overflow_y": null,
            "padding": null,
            "right": null,
            "top": null,
            "visibility": null,
            "width": null
          }
        },
        "493c6e5a1d464c0b8f480a9869628a52": {
          "model_module": "@jupyter-widgets/base",
          "model_module_version": "1.2.0",
          "model_name": "LayoutModel",
          "state": {
            "_model_module": "@jupyter-widgets/base",
            "_model_module_version": "1.2.0",
            "_model_name": "LayoutModel",
            "_view_count": null,
            "_view_module": "@jupyter-widgets/base",
            "_view_module_version": "1.2.0",
            "_view_name": "LayoutView",
            "align_content": null,
            "align_items": null,
            "align_self": null,
            "border": null,
            "bottom": null,
            "display": null,
            "flex": null,
            "flex_flow": null,
            "grid_area": null,
            "grid_auto_columns": null,
            "grid_auto_flow": null,
            "grid_auto_rows": null,
            "grid_column": null,
            "grid_gap": null,
            "grid_row": null,
            "grid_template_areas": null,
            "grid_template_columns": null,
            "grid_template_rows": null,
            "height": null,
            "justify_content": null,
            "justify_items": null,
            "left": null,
            "margin": null,
            "max_height": null,
            "max_width": null,
            "min_height": null,
            "min_width": null,
            "object_fit": null,
            "object_position": null,
            "order": null,
            "overflow": null,
            "overflow_x": null,
            "overflow_y": null,
            "padding": null,
            "right": null,
            "top": null,
            "visibility": null,
            "width": null
          }
        },
        "5fda81b2e4b7413f93065fafe4928d65": {
          "model_module": "@jupyter-widgets/output",
          "model_module_version": "1.0.0",
          "model_name": "OutputModel",
          "state": {
            "_dom_classes": [],
            "_model_module": "@jupyter-widgets/output",
            "_model_module_version": "1.0.0",
            "_model_name": "OutputModel",
            "_view_count": null,
            "_view_module": "@jupyter-widgets/output",
            "_view_module_version": "1.0.0",
            "_view_name": "OutputView",
            "layout": "IPY_MODEL_11d721f3b3e743c28cdaf5c5b863abc4",
            "msg_id": "",
            "outputs": [
              {
                "data": {
                  "image/png": "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\n",
                  "text/plain": "<Figure size 640x480 with 1 Axes>"
                },
                "metadata": {},
                "output_type": "display_data"
              }
            ]
          }
        },
        "8c0a01ecffb249a599e7a8a1c74a6857": {
          "model_module": "@jupyter-widgets/controls",
          "model_module_version": "1.5.0",
          "model_name": "SliderStyleModel",
          "state": {
            "_model_module": "@jupyter-widgets/controls",
            "_model_module_version": "1.5.0",
            "_model_name": "SliderStyleModel",
            "_view_count": null,
            "_view_module": "@jupyter-widgets/base",
            "_view_module_version": "1.2.0",
            "_view_name": "StyleView",
            "description_width": "",
            "handle_color": null
          }
        },
        "a24bfa29ce7149179ae3fbbd6281e040": {
          "model_module": "@jupyter-widgets/controls",
          "model_module_version": "1.5.0",
          "model_name": "VBoxModel",
          "state": {
            "_dom_classes": [
              "widget-interact"
            ],
            "_model_module": "@jupyter-widgets/controls",
            "_model_module_version": "1.5.0",
            "_model_name": "VBoxModel",
            "_view_count": null,
            "_view_module": "@jupyter-widgets/controls",
            "_view_module_version": "1.5.0",
            "_view_name": "VBoxView",
            "box_style": "",
            "children": [
              "IPY_MODEL_b99ff98c9f394808ac3b0957e349dd74",
              "IPY_MODEL_5fda81b2e4b7413f93065fafe4928d65"
            ],
            "layout": "IPY_MODEL_2f8fce68c24e46799ad1402ce47c8ad7"
          }
        },
        "b99ff98c9f394808ac3b0957e349dd74": {
          "model_module": "@jupyter-widgets/controls",
          "model_module_version": "1.5.0",
          "model_name": "FloatRangeSliderModel",
          "state": {
            "_dom_classes": [],
            "_model_module": "@jupyter-widgets/controls",
            "_model_module_version": "1.5.0",
            "_model_name": "FloatRangeSliderModel",
            "_view_count": null,
            "_view_module": "@jupyter-widgets/controls",
            "_view_module_version": "1.5.0",
            "_view_name": "FloatRangeSliderView",
            "continuous_update": false,
            "description": "Test:",
            "description_tooltip": null,
            "disabled": false,
            "layout": "IPY_MODEL_493c6e5a1d464c0b8f480a9869628a52",
            "max": 134.773183,
            "min": 85.349354,
            "orientation": "horizontal",
            "readout": true,
            "readout_format": ".1f",
            "step": 0.1,
            "style": "IPY_MODEL_8c0a01ecffb249a599e7a8a1c74a6857",
            "value": [
              85.349354,
              134.749354
            ]
          }
        }
      }
    }
  },
  "nbformat": 4,
  "nbformat_minor": 0
}
