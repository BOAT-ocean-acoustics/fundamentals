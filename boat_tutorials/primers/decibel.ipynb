{
 "cells": [
  {
   "cell_type": "markdown",
   "id": "6FEfP7LsP7gt",
   "metadata": {
    "editable": true,
    "id": "6FEfP7LsP7gt",
    "slideshow": {
     "slide_type": ""
    },
    "tags": []
   },
   "source": [
    "(primer-decibel)=\n",
    "# Decibel\n",
    "\n",
    "Sound levels are often described on a **decibel (dB)** scale. But what is actually a decibel, and how does it relate to the signals we are measuring?"
   ]
  },
  {
   "cell_type": "markdown",
   "id": "dm_pdPXBUqbU",
   "metadata": {
    "editable": true,
    "id": "dm_pdPXBUqbU",
    "slideshow": {
     "slide_type": ""
    },
    "tags": []
   },
   "source": [
    "Decibel is a **relative** measure of the ratio of power of two signals on a logarithmic scale. It is usually in the form of :\n",
    "\n",
    "$$10 \\log_{10} \\frac{\\Pi}{\\Pi_{ref}}  \\,\\mathrm{dB} $$\n",
    "\n",
    "where $\\Pi$ is the power of sound we are interested in measuring, and $\\Pi_{ref}$ is the reference.\n",
    "\n",
    "Power is proportional to the square of pressure. Therefore, the above is equivalent to\n",
    "\n",
    "$$10 \\log_{10} \\left( \\frac{P}{P_{ref}} \\right)^2 = 20 \\log_{10} \\frac{P}{P_{ref}}  \\,\\mathrm{dB} $$\n",
    "\n",
    "Yet, we often hear noise levels announced in terms of decibels without explicitly mentioning the reference. This can cause problems, since the conventional reference for sounds in the air is 20 μPa, which corresponds to the threshold below which a human usually cannot hear (thus making that sound level equal to 0 dB), but for the reference is 20 μPa for sound in water. This means that for the same sound, the decibel value can be different depending on which reference one uses!"
   ]
  },
  {
   "cell_type": "markdown",
   "id": "82bf48b3",
   "metadata": {
    "editable": true,
    "slideshow": {
     "slide_type": ""
    },
    "tags": []
   },
   "source": [
    "## Why use logarithmic measure?"
   ]
  },
  {
   "cell_type": "markdown",
   "id": "a17ed6e6",
   "metadata": {
    "editable": true,
    "slideshow": {
     "slide_type": ""
    },
    "tags": []
   },
   "source": [
    "We use the decibel measure, because logarithm provides a convenient **compression** of values that allows us to easily compare sound as loud as a jet taking off right outside of your window (approximately 140 dB re 20 μPa) with sound as soft as dropping a needle on the floor (approximately 15 dB re 20 μPa)."
   ]
  },
  {
   "cell_type": "markdown",
   "id": "d0ae1be3",
   "metadata": {
    "editable": true,
    "slideshow": {
     "slide_type": ""
    },
    "tags": []
   },
   "source": [
    "To get an intuitive feeling of how logarithm works, try the widget below:"
   ]
  },
  {
   "cell_type": "code",
   "execution_count": 1,
   "id": "268e5d87",
   "metadata": {
    "editable": true,
    "slideshow": {
     "slide_type": ""
    },
    "tags": [
     "hide-input"
    ]
   },
   "outputs": [],
   "source": [
    "import matplotlib\n",
    "matplotlib.use('module://matplotlib_inline.backend_inline')\n",
    "\n",
    "import numpy as np\n",
    "import matplotlib.pyplot as plt\n",
    "import ipywidgets as widgets\n",
    "\n",
    "from IPython.display import display"
   ]
  },
  {
   "cell_type": "code",
   "execution_count": 2,
   "id": "84ab29b5",
   "metadata": {
    "editable": true,
    "slideshow": {
     "slide_type": ""
    },
    "tags": [
     "hide-input"
    ]
   },
   "outputs": [
    {
     "data": {
      "application/vnd.jupyter.widget-view+json": {
       "model_id": "00c76a4e310a49578d6d3691c0a6d50c",
       "version_major": 2,
       "version_minor": 0
      },
      "text/plain": [
       "interactive(children=(FloatSlider(value=1.0, description='x value', layout=Layout(width='400px'), max=10.0, mi…"
      ]
     },
     "metadata": {},
     "output_type": "display_data"
    }
   ],
   "source": [
    "x_all = np.hstack((np.arange(0.1, 1, 0.1), np.arange(1, 10, 0.1)))\n",
    "\n",
    "def plot_log_point(x, base):\n",
    "\n",
    "    plt.figure(figsize=(5,3))\n",
    "    plt.gca().axhline(0, color=\"b\", lw=0.5)\n",
    "    plt.gca().axvline(0, color=\"b\", lw=0.5)\n",
    "    match base:\n",
    "        case \"10\":\n",
    "            plt.plot(x_all, np.log10(x_all), \"k\")\n",
    "            plt.plot(x, np.log10(x), \"ro\", markerfacecolor=\"w\")\n",
    "        case \"2\":\n",
    "            plt.plot(x_all, np.log2(x_all), \"k\")\n",
    "            plt.plot(x, np.log2(x), \"ro\", markerfacecolor=\"w\")\n",
    "        case \"e (natural log)\":\n",
    "            plt.plot(x_all, np.log(x_all), \"k\")\n",
    "            plt.plot(x, np.log(x), \"ro\", markerfacecolor=\"w\")\n",
    "    plt.grid()\n",
    "    plt.xlabel(\"x\")\n",
    "    plt.ylabel(\"log value\")\n",
    "    plt.show()\n",
    "\n",
    "x_slider = widgets.FloatSlider(\n",
    "    value=1, min=0.01, max=10, step=0.01,\n",
    "    description=\"x value\", \n",
    "    continuous_update=True, \n",
    "    style={'description_width': 'initial'}, \n",
    "    layout=widgets.Layout(width=\"400px\")\n",
    ")\n",
    "\n",
    "base_radio = widgets.RadioButtons(\n",
    "    options=[\"10\", \"2\", \"e (natural log)\"],\n",
    "    value=\"10\",  # default selected\n",
    "    description=\"Base of logarithm\",\n",
    "    disabled=False,\n",
    "    style={'description_width': 'initial'},\n",
    ")\n",
    "\n",
    "interactive_plot = widgets.interactive(\n",
    "    plot_log_point, x=x_slider, base=base_radio)\n",
    "display(interactive_plot)"
   ]
  },
  {
   "cell_type": "markdown",
   "id": "a9f12f71",
   "metadata": {
    "editable": true,
    "slideshow": {
     "slide_type": ""
    },
    "tags": []
   },
   "source": [
    "## Exercises\n",
    "\n",
    "To get more confident in using decibels, try the following exercise."
   ]
  },
  {
   "cell_type": "markdown",
   "id": "id3xe2CLkqf6",
   "metadata": {
    "editable": true,
    "id": "id3xe2CLkqf6",
    "slideshow": {
     "slide_type": ""
    },
    "tags": []
   },
   "source": [
    "### Exercise 1: Comparing power\n",
    "\n",
    "The sound of breathing is roughly 10 dB and the sound of a trumpet playing is roughly 110 dB. How much louder is the trumpet than the breathing?\n",
    "\n",
    "$$100 \\, \\textrm{dB} = 10\\log_{10} \\frac{\\Pi_1}{\\Pi_2} $$\n",
    "\n",
    "The trumpet's power is 10<sup>10</sup> higher than that of breathing.\n"
   ]
  },
  {
   "cell_type": "markdown",
   "id": "IbrPLgKPlZDO",
   "metadata": {
    "editable": true,
    "id": "IbrPLgKPlZDO",
    "slideshow": {
     "slide_type": ""
    },
    "tags": []
   },
   "source": [
    "### Exercise 2: dB scaling\n",
    "\n",
    "Let's consider two scenarios:\n",
    "1. 1 person talking\n",
    "2. 100 people talking\n",
    "\n",
    "What is decibel level of signal 2 with respect to signal 1?\n",
    "\n",
    "$$\n",
    "10 \\log_{10} 100 = 20 \\,\\textrm{dB}\n",
    "$$\n"
   ]
  },
  {
   "cell_type": "markdown",
   "id": "b-JxMbj5oQHt",
   "metadata": {
    "editable": true,
    "id": "b-JxMbj5oQHt",
    "slideshow": {
     "slide_type": ""
    },
    "tags": []
   },
   "source": [
    "### Exercise 3: dB in air vs in water\n",
    "\n",
    "What is the difference between air and water decibel values?\n",
    "- reference in air: 20 μPa\n",
    "- reference in water: 1 μPa\n",
    "\n",
    "$$ 20 \\log_{10} \\frac{20}{1} = 26 \\,\\textrm{dB} $$\n",
    "\n",
    "Therefore, for the same sound, decibel values computed with in-water reference is about 26 dB higher than decibel values computed with in-air reference."
   ]
  },
  {
   "cell_type": "markdown",
   "id": "CVhV540oJHF2",
   "metadata": {
    "editable": true,
    "id": "CVhV540oJHF2",
    "slideshow": {
     "slide_type": ""
    },
    "tags": []
   },
   "source": [
    "## References"
   ]
  },
  {
   "cell_type": "markdown",
   "id": "EeDODJmTKMNd",
   "metadata": {
    "editable": true,
    "id": "EeDODJmTKMNd",
    "slideshow": {
     "slide_type": ""
    },
    "tags": []
   },
   "source": [
    "* [What is dB? A Complete Guide for Measuring Sound using Decibel](https://www.hollyland.com/blog/tips/what-is-db)\n",
    "* Svantek Academy: [Sound Pressure Level](https://svantek.com/academy/sound-pressure-level-spl/)\n",
    "* Discovery of the Sounds of Sea: [Introduction to Decibels](https://dosits.org/science/advanced-topics/introduction-to-decibels/)"
   ]
  },
  {
   "cell_type": "markdown",
   "id": "888e45e5",
   "metadata": {
    "editable": true,
    "slideshow": {
     "slide_type": ""
    },
    "tags": []
   },
   "source": []
  }
 ],
 "metadata": {
  "colab": {
   "provenance": []
  },
  "kernelspec": {
   "display_name": "Python 3 (ipykernel)",
   "language": "python",
   "name": "python3"
  },
  "language_info": {
   "codemirror_mode": {
    "name": "ipython",
    "version": 3
   },
   "file_extension": ".py",
   "mimetype": "text/x-python",
   "name": "python",
   "nbconvert_exporter": "python",
   "pygments_lexer": "ipython3",
   "version": "3.12.9"
  },
  "widgets": {
   "application/vnd.jupyter.widget-state+json": {
    "state": {
     "00c76a4e310a49578d6d3691c0a6d50c": {
      "model_module": "@jupyter-widgets/controls",
      "model_module_version": "2.0.0",
      "model_name": "VBoxModel",
      "state": {
       "_dom_classes": [
        "widget-interact"
       ],
       "children": [
        "IPY_MODEL_c32bc767038d4b38b93de44e6aaea3ab",
        "IPY_MODEL_0611af9af9794685878a86df75570937",
        "IPY_MODEL_6e9b664d6ccd406e8c6397fef59c552d"
       ],
       "layout": "IPY_MODEL_65064a3f96bf4644b3f6e3cfd45bb61f"
      }
     },
     "0611af9af9794685878a86df75570937": {
      "model_module": "@jupyter-widgets/controls",
      "model_module_version": "2.0.0",
      "model_name": "RadioButtonsModel",
      "state": {
       "_options_labels": [
        "10",
        "2",
        "e (natural log)"
       ],
       "description": "Base of logarithm",
       "index": 0,
       "layout": "IPY_MODEL_1cac0ca84cc94aadbc2a478170e00741",
       "style": "IPY_MODEL_8fddd817c3364917bbd6304b5f3b0466"
      }
     },
     "1cac0ca84cc94aadbc2a478170e00741": {
      "model_module": "@jupyter-widgets/base",
      "model_module_version": "2.0.0",
      "model_name": "LayoutModel",
      "state": {}
     },
     "65064a3f96bf4644b3f6e3cfd45bb61f": {
      "model_module": "@jupyter-widgets/base",
      "model_module_version": "2.0.0",
      "model_name": "LayoutModel",
      "state": {}
     },
     "6674f3d14c0e4535b0ac16f8b3c5f267": {
      "model_module": "@jupyter-widgets/base",
      "model_module_version": "2.0.0",
      "model_name": "LayoutModel",
      "state": {
       "width": "400px"
      }
     },
     "6e9b664d6ccd406e8c6397fef59c552d": {
      "model_module": "@jupyter-widgets/output",
      "model_module_version": "1.0.0",
      "model_name": "OutputModel",
      "state": {
       "layout": "IPY_MODEL_a53bab495cd24ac59e201813c71acb84",
       "outputs": [
        {
         "data": {
          "image/png": "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",
          "text/plain": "<Figure size 500x300 with 1 Axes>"
         },
         "metadata": {},
         "output_type": "display_data"
        }
       ]
      }
     },
     "8fddd817c3364917bbd6304b5f3b0466": {
      "model_module": "@jupyter-widgets/controls",
      "model_module_version": "2.0.0",
      "model_name": "DescriptionStyleModel",
      "state": {
       "description_width": "initial"
      }
     },
     "a53bab495cd24ac59e201813c71acb84": {
      "model_module": "@jupyter-widgets/base",
      "model_module_version": "2.0.0",
      "model_name": "LayoutModel",
      "state": {}
     },
     "c32bc767038d4b38b93de44e6aaea3ab": {
      "model_module": "@jupyter-widgets/controls",
      "model_module_version": "2.0.0",
      "model_name": "FloatSliderModel",
      "state": {
       "behavior": "drag-tap",
       "description": "x value",
       "layout": "IPY_MODEL_6674f3d14c0e4535b0ac16f8b3c5f267",
       "max": 10,
       "min": 0.01,
       "step": 0.01,
       "style": "IPY_MODEL_d4f37608f0fc451caa2a0413f765e318",
       "value": 1
      }
     },
     "d4f37608f0fc451caa2a0413f765e318": {
      "model_module": "@jupyter-widgets/controls",
      "model_module_version": "2.0.0",
      "model_name": "SliderStyleModel",
      "state": {
       "description_width": "initial"
      }
     }
    },
    "version_major": 2,
    "version_minor": 0
   }
  }
 },
 "nbformat": 4,
 "nbformat_minor": 5
}
