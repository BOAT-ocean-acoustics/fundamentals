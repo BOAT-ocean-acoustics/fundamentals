{
  "cells": [
    {
      "cell_type": "markdown",
      "id": "6FEfP7LsP7gt",
      "metadata": {
        "id": "6FEfP7LsP7gt"
      },
      "source": [
        "(primer-decibel)=\n",
        "## Decibel\n",
        "\n",
        "Sound levels are often described on a decibel scale. But what is actually a decibel, and how does it relate to the signals we are measuring?"
      ]
    },
    {
      "cell_type": "markdown",
      "id": "dm_pdPXBUqbU",
      "metadata": {
        "id": "dm_pdPXBUqbU"
      },
      "source": [
        "Decibel is a relative measure of the ratio of power of two signals on a logarithmic scale. Yet, we often hear noise levels announced in terms of decibels and we have an understanding of what those mean in an \"absolute\" sense. The hidden reference for sounds in air is $20\\mu Pa$, which corresponds to the threshold below which a human usually cannot hear (thus making that sound's level equal to 0dB). In water, however, a difference reference value: $1 \\mu Pa$."
      ]
    },
    {
      "cell_type": "markdown",
      "id": "yO7rX_ObgaTY",
      "metadata": {
        "id": "yO7rX_ObgaTY"
      },
      "source": [
        "The decibel level of a signal with power $P_1$ with respect to a reference signal with power $P_0$ is\n",
        "\n",
        "$$10 \\log_{10}(P_1/P_0)  dB $$\n",
        "\n",
        "We can see that decibel is a scaled measure of the difference in the logarithm of the power of the signals."
      ]
    },
    {
      "cell_type": "markdown",
      "id": "id3xe2CLkqf6",
      "metadata": {
        "id": "id3xe2CLkqf6"
      },
      "source": [
        "### **Exercise 1: Comparing Power**\n",
        "\n",
        "Look at the table the decibel levels for breathing and trumpet. How much louder is the trumpet than the breathing?\n",
        "\n",
        "\n",
        "breathing: 10 dB\n",
        "\n",
        "trumpet: 110 dB\n",
        "\n",
        "$100dB = 10\\log_{10}\\left(\\frac{P_1}{P_2}\\right)$\n",
        "\n",
        "The trumpet's power is 10^10 higher than that of breathing.\n"
      ]
    },
    {
      "cell_type": "markdown",
      "id": "IbrPLgKPlZDO",
      "metadata": {
        "id": "IbrPLgKPlZDO"
      },
      "source": [
        "### **Exercise 2: dB Scaling**\n",
        "\n",
        "Let's consider two scenarios:\n",
        "\n",
        "1. 1 person talking\n",
        "\n",
        "2. 100 people talking\n",
        "\n",
        "What is $dB$ level of signal 2 with respect to signal 1?\n",
        "\n",
        "$10\\log_{10}(100)=20 dB$\n"
      ]
    },
    {
      "cell_type": "markdown",
      "id": "b-JxMbj5oQHt",
      "metadata": {
        "id": "b-JxMbj5oQHt"
      },
      "source": [
        "### **Exercise 3: Air vs Water dB**\n",
        "\n",
        "What is the difference between air and water $dB$ values?\n",
        "\n",
        "$20\\log_{10}(20) = 26 dB$"
      ]
    },
    {
      "cell_type": "markdown",
      "id": "Hb7CSJBOpq01",
      "metadata": {
        "id": "Hb7CSJBOpq01"
      },
      "source": [
        "## Ship vs Background Noise Level Example"
      ]
    },
    {
      "cell_type": "markdown",
      "id": "74e852d7-9edb-44b9-8c68-a359fc3fecd1",
      "metadata": {
        "id": "74e852d7-9edb-44b9-8c68-a359fc3fecd1"
      },
      "source": [
        "We will calculate the dB of a ship signal in the ocean with reference to the background sound when there is no ship passing by. The data is obtained from the [Orcasound hydrophone](https://live.orcasound.net/listen/orcasound-lab) on San Juan Island, WA."
      ]
    },
    {
      "cell_type": "code",
      "execution_count": 1,
      "id": "f1a335c2",
      "metadata": {},
      "outputs": [],
      "source": [
        "# downloading a ship file\n",
        "!wget -q --no-check-certificate 'https://docs.google.com/uc?export=download&confirm=t&id=1466snzjsXPVTlKnzkkCkdOgwoO5Zvutq' -O ship.wav"
      ]
    },
    {
      "cell_type": "code",
      "execution_count": 2,
      "id": "e8172aca-bfb2-498e-8610-0917a9ad0aa1",
      "metadata": {
        "id": "e8172aca-bfb2-498e-8610-0917a9ad0aa1"
      },
      "outputs": [],
      "source": [
        "import matplotlib.pyplot as plt\n",
        "import numpy as np\n",
        "from scipy.io import wavfile"
      ]
    },
    {
      "cell_type": "markdown",
      "id": "_TtuDjz7Iu_z",
      "metadata": {
        "id": "_TtuDjz7Iu_z"
      },
      "source": [
        "First we read the signals using the `wavfile` function from the `scipy.io` module."
      ]
    },
    {
      "cell_type": "code",
      "execution_count": 3,
      "id": "CEmlVOrJRHY6",
      "metadata": {
        "id": "CEmlVOrJRHY6"
      },
      "outputs": [],
      "source": [
        "# reading ship data\n",
        "ship_samplerate, ship_signal = wavfile.read('ship.wav')"
      ]
    },
    {
      "cell_type": "code",
      "execution_count": 4,
      "id": "Gipk8NDSRXoV",
      "metadata": {
        "id": "Gipk8NDSRXoV"
      },
      "outputs": [],
      "source": [
        "# reading background data\n",
        "bg_samplerate, bg_signal = wavfile.read('background.wav')"
      ]
    },
    {
      "cell_type": "markdown",
      "id": "737aec53-bb62-4b0d-83ae-f63c4fb07073",
      "metadata": {
        "id": "737aec53-bb62-4b0d-83ae-f63c4fb07073"
      },
      "source": [
        "We will display the amplitute of the signals."
      ]
    },
    {
      "cell_type": "code",
      "execution_count": 5,
      "id": "bd124bd3-b61f-4108-b63f-30d21b327c32",
      "metadata": {
        "colab": {
          "base_uri": "https://localhost:8080/",
          "height": 489
        },
        "id": "bd124bd3-b61f-4108-b63f-30d21b327c32",
        "outputId": "925ed44e-6a98-44e2-fb94-80bea39fe586"
      },
      "outputs": [
        {
          "data": {
            "text/plain": [
              "Text(0.5, 0, 'Time in seconds')"
            ]
          },
          "execution_count": 5,
          "metadata": {},
          "output_type": "execute_result"
        },
        {
          "data": {
            "image/png": "[encoded data removed]",
            "text/plain": [
              "<Figure size 640x480 with 1 Axes>"
            ]
          },
          "metadata": {},
          "output_type": "display_data"
        }
      ],
      "source": [
        "plt.plot(np.linspace(0, len(ship_signal)/ship_samplerate, len(ship_signal)), ship_signal)\n",
        "plt.title(\"Ship Signal Amplitute\")\n",
        "plt.xlabel(\"Time in seconds\")"
      ]
    },
    {
      "cell_type": "code",
      "execution_count": 6,
      "id": "v-SOfw7fR_VA",
      "metadata": {
        "colab": {
          "base_uri": "https://localhost:8080/",
          "height": 489
        },
        "id": "v-SOfw7fR_VA",
        "outputId": "e49f1560-84f2-490c-88ad-4061bb708fb3"
      },
      "outputs": [
        {
          "data": {
            "text/plain": [
              "Text(0.5, 0, 'Time in seconds')"
            ]
          },
          "execution_count": 6,
          "metadata": {},
          "output_type": "execute_result"
        },
        {
          "data": {
            "image/png": "[encoded data removed]",
            "text/plain": [
              "<Figure size 640x480 with 1 Axes>"
            ]
          },
          "metadata": {},
          "output_type": "display_data"
        }
      ],
      "source": [
        "plt.plot(np.linspace(0, len(bg_signal)/bg_samplerate, len(bg_signal)), bg_signal)\n",
        "plt.title(\"Background Signal Amplitute\")\n",
        "plt.xlabel(\"Time in seconds\")"
      ]
    },
    {
      "cell_type": "markdown",
      "id": "xngUlrxlyMKz",
      "metadata": {
        "id": "xngUlrxlyMKz"
      },
      "source": [
        "We observe that the ranges of amplitude for the two signals are very different: while the background signal ranges $~(-1000,1000)$, the ship signal ranges $(-10000,10000)$."
      ]
    },
    {
      "cell_type": "markdown",
      "id": "JPCdNao2w4xB",
      "metadata": {
        "id": "JPCdNao2w4xB"
      },
      "source": [
        "### Root Mean Squares\n",
        "\n"
      ]
    },
    {
      "cell_type": "markdown",
      "id": "xe28r7RCFyzO",
      "metadata": {
        "id": "xe28r7RCFyzO"
      },
      "source": [
        "The power of the signal can be obtained by calculating the root mean squares of the signal's amplitude $s$ in the time domain:\n",
        "\n",
        "$p(s) = RMS(s) = \\sqrt{\\frac{1}{N}\\sum_{i=1}^N s_i^2}$,\n",
        "\n",
        "where $N$ is the number of samples."
      ]
    },
    {
      "cell_type": "code",
      "execution_count": 7,
      "id": "54c76e32-8823-4c82-8318-b719e87923bb",
      "metadata": {
        "colab": {
          "base_uri": "https://localhost:8080/"
        },
        "id": "54c76e32-8823-4c82-8318-b719e87923bb",
        "outputId": "d0bde930-af00-4035-fc35-c9e3893bffdc"
      },
      "outputs": [
        {
          "name": "stdout",
          "output_type": "stream",
          "text": [
            "The root mean square of the ship signal is: 132.05\n"
          ]
        }
      ],
      "source": [
        "# rms for ship signal\n",
        "rms_ship = np.sqrt(np.mean(np.square(ship_signal.astype('float'))))\n",
        "\n",
        "print(\"The root mean square of the ship signal is: \" + str(round(rms_ship,2)))"
      ]
    },
    {
      "cell_type": "code",
      "execution_count": 8,
      "id": "KPugxvyxMClH",
      "metadata": {
        "colab": {
          "base_uri": "https://localhost:8080/"
        },
        "id": "KPugxvyxMClH",
        "outputId": "0678b570-0328-47d7-f7a0-15ca5c56b974"
      },
      "outputs": [
        {
          "name": "stdout",
          "output_type": "stream",
          "text": [
            "The root mean square of the background signal is: 132.05\n"
          ]
        }
      ],
      "source": [
        "# rms for background signal\n",
        "rms_bg = np.sqrt(np.mean(np.square(bg_signal.astype('float'))))\n",
        "\n",
        "print(\"The root mean square of the background signal is: \" + str(round(rms_bg,2)))"
      ]
    },
    {
      "cell_type": "markdown",
      "id": "-6TtJJIV7Q6i",
      "metadata": {
        "id": "-6TtJJIV7Q6i"
      },
      "source": [
        "**Warning!** We converted the signal to `float` to avoid integer overflow. Try to do the calculation with integers, and notice the difference."
      ]
    },
    {
      "cell_type": "markdown",
      "id": "ktAV75vZPtJr",
      "metadata": {
        "id": "ktAV75vZPtJr"
      },
      "source": [
        "### Decibel Computation"
      ]
    },
    {
      "cell_type": "markdown",
      "id": "Fg1M7154Pwyj",
      "metadata": {
        "id": "Fg1M7154Pwyj"
      },
      "source": [
        "The difference in the levels of the two signals is provided in decibels:\n",
        "\n",
        "$10\\log_{10}(P_{\\mathrm{ship}}/ P_{\\mathrm{bg}}) = 20*\\log_{10}(rms_{\\mathrm{ship}}/rms_{\\mathrm{bg}})$"
      ]
    },
    {
      "cell_type": "code",
      "execution_count": 9,
      "id": "xSmkJYGOPwBY",
      "metadata": {
        "colab": {
          "base_uri": "https://localhost:8080/"
        },
        "id": "xSmkJYGOPwBY",
        "outputId": "fdf6eda9-faa9-4c89-d515-8d39dd0328f8"
      },
      "outputs": [
        {
          "data": {
            "text/plain": [
              "np.float64(0.0)"
            ]
          },
          "execution_count": 9,
          "metadata": {},
          "output_type": "execute_result"
        }
      ],
      "source": [
        "20 * np.log10(rms_ship/rms_bg)"
      ]
    },
    {
      "cell_type": "markdown",
      "id": "pbOviNU6tTAb",
      "metadata": {
        "id": "pbOviNU6tTAb"
      },
      "source": [
        "23 dB difference corresponds to ~15 ratio in rms, or ~225 ratio in power between the too signals."
      ]
    },
    {
      "cell_type": "markdown",
      "id": "Vl8CJO8Fxjht",
      "metadata": {
        "id": "Vl8CJO8Fxjht"
      },
      "source": [
        "### RMS with `librosa`"
      ]
    },
    {
      "cell_type": "markdown",
      "id": "HkOjn6c-MDlA",
      "metadata": {
        "id": "HkOjn6c-MDlA"
      },
      "source": [
        "Root mean square can also be obtained through the built-in function `feature.rms` in the `librosa` library. The function is designed to calculate the power over fixed (potentially overlapping) intervals. However, in this scenario we would like to calculate it for the whole signal so we set the window length to be equal to the length of the signal and the hopping interval to be the same so there is only one interval."
      ]
    },
    {
      "cell_type": "code",
      "execution_count": 10,
      "id": "iF6u8DqBnl0x",
      "metadata": {
        "id": "iF6u8DqBnl0x"
      },
      "outputs": [
        {
          "name": "stdout",
          "output_type": "stream",
          "text": [
            "\n",
            "\u001b[1m[\u001b[0m\u001b[34;49mnotice\u001b[0m\u001b[1;39;49m]\u001b[0m\u001b[39;49m A new release of pip is available: \u001b[0m\u001b[31;49m24.3.1\u001b[0m\u001b[39;49m -> \u001b[0m\u001b[32;49m25.0.1\u001b[0m\n",
            "\u001b[1m[\u001b[0m\u001b[34;49mnotice\u001b[0m\u001b[1;39;49m]\u001b[0m\u001b[39;49m To update, run: \u001b[0m\u001b[32;49mpython -m pip install --upgrade pip\u001b[0m\n",
            "Note: you may need to restart the kernel to use updated packages.\n"
          ]
        }
      ],
      "source": [
        "pip -q install librosa"
      ]
    },
    {
      "cell_type": "code",
      "execution_count": 11,
      "id": "6hcpmbuQLX7B",
      "metadata": {
        "id": "6hcpmbuQLX7B"
      },
      "outputs": [],
      "source": [
        "import librosa"
      ]
    },
    {
      "cell_type": "code",
      "execution_count": 12,
      "id": "7U5Ue8khJAhs",
      "metadata": {
        "id": "7U5Ue8khJAhs"
      },
      "outputs": [],
      "source": [
        "rms_bg = librosa.feature.rms(y=bg_signal, frame_length=len(bg_signal), hop_length=len(bg_signal), center=False)"
      ]
    },
    {
      "cell_type": "code",
      "execution_count": 13,
      "id": "8H5t3iwjucTE",
      "metadata": {
        "colab": {
          "base_uri": "https://localhost:8080/"
        },
        "id": "8H5t3iwjucTE",
        "outputId": "3ee3c544-88ab-4d24-d86c-74733e1f553e"
      },
      "outputs": [
        {
          "data": {
            "text/plain": [
              "array([[132.05133]], dtype=float32)"
            ]
          },
          "execution_count": 13,
          "metadata": {},
          "output_type": "execute_result"
        }
      ],
      "source": [
        "rms_bg"
      ]
    },
    {
      "cell_type": "markdown",
      "id": "CVhV540oJHF2",
      "metadata": {
        "id": "CVhV540oJHF2"
      },
      "source": [
        "## References"
      ]
    },
    {
      "cell_type": "markdown",
      "id": "EeDODJmTKMNd",
      "metadata": {
        "id": "EeDODJmTKMNd"
      },
      "source": [
        "* [What is dB? A Complete Guide for Measuring Sound using Decibel](https://www.hollyland.com/blog/tips/what-is-db)\n",
        "* Svantek Academy: [Sound Pressure Level](https://svantek.com/academy/sound-pressure-level-spl/)\n",
        "* Discovery of the Sounds of Sea: [Introduction to Decibels](https://dosits.org/science/advanced-topics/introduction-to-decibels/)"
      ]
    }
  ],
  "metadata": {
    "colab": {
      "provenance": []
    },
    "kernelspec": {
      "display_name": "Python 3",
      "language": "python",
      "name": "python3"
    },
    "language_info": {
      "codemirror_mode": {
        "name": "ipython",
        "version": 3
      },
      "file_extension": ".py",
      "mimetype": "text/x-python",
      "name": "python",
      "nbconvert_exporter": "python",
      "pygments_lexer": "ipython3",
      "version": "3.12.1"
    }
  },
  "nbformat": 4,
  "nbformat_minor": 5
}
