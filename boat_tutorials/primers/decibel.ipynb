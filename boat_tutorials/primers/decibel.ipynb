{
 "cells": [
  {
   "cell_type": "markdown",
   "id": "6FEfP7LsP7gt",
   "metadata": {
    "editable": true,
    "id": "6FEfP7LsP7gt",
    "slideshow": {
     "slide_type": ""
    },
    "tags": []
   },
   "source": [
    "(primer-decibel)=\n",
    "# Decibel\n",
    "\n",
    "Sound levels are often described on a **decibel (dB)** scale. But what is actually a decibel, and how does it relate to the signals we are measuring?"
   ]
  },
  {
   "cell_type": "markdown",
   "id": "dm_pdPXBUqbU",
   "metadata": {
    "editable": true,
    "id": "dm_pdPXBUqbU",
    "slideshow": {
     "slide_type": ""
    },
    "tags": []
   },
   "source": [
    "Decibel is a **relative** measure of the ratio of power of two signals on a logarithmic scale. It is usually in the form of :\n",
    "\n",
    "$$10 \\log_{10} \\frac{P}{P_{ref}}  \\,\\mathrm{dB} $$\n",
    "\n",
    "where $P$ is the power of sound we are interested in measuring, and $P_{ref}$ is the reference.\n",
    "\n",
    "Power is proportional to the square of pressure. Therefore, the above is equivalent to\n",
    "\n",
    "$$10 \\log_{10} \\left( \\frac{p}{p_{ref}} \\right)^2 = 20 \\log_{10} \\frac{p}{p_{ref}}  \\,\\mathrm{dB} $$\n",
    "\n",
    "Yet, we often hear noise levels announced in terms of decibels without explicitly mentioning the reference. This can cause problems, since the conventional reference for sounds in the air is 20 μPa, which corresponds to the threshold below which a human usually cannot hear (thus making that sound level equal to 0 dB), but for the reference is 20 μPa for sound in water. This means that for the same sound, the decibel value can be different depending on which reference one uses!"
   ]
  },
  {
   "cell_type": "markdown",
   "id": "82bf48b3",
   "metadata": {
    "editable": true,
    "slideshow": {
     "slide_type": ""
    },
    "tags": []
   },
   "source": [
    "## Why use logarithmic measure?"
   ]
  },
  {
   "cell_type": "markdown",
   "id": "a17ed6e6",
   "metadata": {
    "editable": true,
    "slideshow": {
     "slide_type": ""
    },
    "tags": []
   },
   "source": [
    "We use the decibel measure, because logarithm provides a convenient **compression** of values that allows us to easily compare sound as loud as a jet taking off right outside of your window (approximately 140 dB re 20 μPa) with sound as soft as dropping a needle on the floor (approximately 15 dB re 20 μPa)."
   ]
  },
  {
   "cell_type": "markdown",
   "id": "d0ae1be3",
   "metadata": {
    "editable": true,
    "slideshow": {
     "slide_type": ""
    },
    "tags": []
   },
   "source": [
    "To get an intuitive feeling of how logarithm works, try the widget below:"
   ]
  },
  {
   "cell_type": "code",
   "execution_count": 1,
   "id": "268e5d87",
   "metadata": {
    "editable": true,
    "slideshow": {
     "slide_type": ""
    },
    "tags": [
     "hide-input"
    ]
   },
   "outputs": [],
   "source": [
    "import matplotlib\n",
    "matplotlib.use('module://matplotlib_inline.backend_inline')\n",
    "\n",
    "import numpy as np\n",
    "import matplotlib.pyplot as plt\n",
    "import ipywidgets as widgets\n",
    "\n",
    "from IPython.display import display"
   ]
  },
  {
   "cell_type": "code",
   "execution_count": 2,
   "id": "84ab29b5",
   "metadata": {
    "editable": true,
    "slideshow": {
     "slide_type": ""
    },
    "tags": [
     "hide-input"
    ]
   },
   "outputs": [
    {
     "data": {
      "application/vnd.jupyter.widget-view+json": {
       "model_id": "0d808efc0c0d4dd3aca67ef1c9388e3a",
       "version_major": 2,
       "version_minor": 0
      },
      "text/plain": [
       "interactive(children=(FloatSlider(value=1.0, description='x value', layout=Layout(width='400px'), max=10.0, mi…"
      ]
     },
     "metadata": {},
     "output_type": "display_data"
    }
   ],
   "source": [
    "x_all = np.hstack((np.arange(0.1, 1, 0.1), np.arange(1, 10, 0.1)))\n",
    "\n",
    "def plot_log_point(x, base):\n",
    "\n",
    "    plt.figure(figsize=(5,3))\n",
    "    plt.gca().axhline(0, color=\"b\", lw=0.5)\n",
    "    plt.gca().axvline(0, color=\"b\", lw=0.5)\n",
    "    match base:\n",
    "        case \"10\":\n",
    "            plt.plot(x_all, np.log10(x_all), \"k\")\n",
    "            plt.plot(x, np.log10(x), \"ro\", markerfacecolor=\"w\")\n",
    "        case \"2\":\n",
    "            plt.plot(x_all, np.log2(x_all), \"k\")\n",
    "            plt.plot(x, np.log2(x), \"ro\", markerfacecolor=\"w\")\n",
    "        case \"e (natural log)\":\n",
    "            plt.plot(x_all, np.log(x_all), \"k\")\n",
    "            plt.plot(x, np.log(x), \"ro\", markerfacecolor=\"w\")\n",
    "    plt.grid()\n",
    "    plt.xlabel(\"x\")\n",
    "    plt.ylabel(\"log value\")\n",
    "    plt.show()\n",
    "\n",
    "x_slider = widgets.FloatSlider(\n",
    "    value=1, min=0.01, max=10, step=0.01,\n",
    "    description=\"x value\", \n",
    "    continuous_update=True, \n",
    "    style={'description_width': 'initial'}, \n",
    "    layout=widgets.Layout(width=\"400px\")\n",
    ")\n",
    "\n",
    "base_radio = widgets.RadioButtons(\n",
    "    options=[\"10\", \"2\", \"e (natural log)\"],\n",
    "    value=\"10\",  # default selected\n",
    "    description=\"Base of logarithm\",\n",
    "    disabled=False,\n",
    "    style={'description_width': 'initial'},\n",
    ")\n",
    "\n",
    "interactive_plot = widgets.interactive(\n",
    "    plot_log_point, x=x_slider, base=base_radio)\n",
    "display(interactive_plot)"
   ]
  },
  {
   "cell_type": "markdown",
   "id": "a9f12f71",
   "metadata": {
    "editable": true,
    "slideshow": {
     "slide_type": ""
    },
    "tags": []
   },
   "source": [
    "## Exercises\n",
    "\n",
    "To get more confident in using decibels, try the following exercise."
   ]
  },
  {
   "cell_type": "markdown",
   "id": "id3xe2CLkqf6",
   "metadata": {
    "editable": true,
    "id": "id3xe2CLkqf6",
    "slideshow": {
     "slide_type": ""
    },
    "tags": []
   },
   "source": [
    "### Exercise 1: Comparing power\n",
    "\n",
    "The sound of breathing is roughly 10 dB, and the sound of a trumpet playing is roughly 110 dB.\n",
    "\n",
    "How much louder is the trumpet than the breathing?\n",
    "\n",
    "<details>\n",
    "  <summary>Answer</summary>\n",
    "$$100 \\, \\textrm{dB} = 10\\log_{10} \\frac{P_1}{P_2} $$\n",
    "\n",
    "Therefore, the trumpet's power is 10<sup>10</sup> higher than that of breathing.\n",
    "</details>"
   ]
  },
  {
   "cell_type": "markdown",
   "id": "IbrPLgKPlZDO",
   "metadata": {
    "editable": true,
    "id": "IbrPLgKPlZDO",
    "slideshow": {
     "slide_type": ""
    },
    "tags": []
   },
   "source": [
    "### Exercise 2: dB scaling\n",
    "\n",
    "Let's consider two scenarios:\n",
    "- Signal 1: 1 person talking\n",
    "- Signal 2: 100 people talking\n",
    "\n",
    "Assuming the power of people talking is added linearly, what is decibel level of signal 2 with respect to signal 1?\n",
    "\n",
    "<details>\n",
    "  <summary>Answer</summary>\n",
    "$$\n",
    "10 \\log_{10} 100 = 20 \\,\\textrm{dB}\n",
    "$$\n",
    "</details>"
   ]
  },
  {
   "cell_type": "markdown",
   "id": "b-JxMbj5oQHt",
   "metadata": {
    "editable": true,
    "id": "b-JxMbj5oQHt",
    "slideshow": {
     "slide_type": ""
    },
    "tags": []
   },
   "source": [
    "### Exercise 3: dB in air vs in water\n",
    "\n",
    "Given the different reference units of sound pressure level (SPL) in air and in water:\n",
    "- Air: 20 μPa\n",
    "- Water: 1 μPa\n",
    "\n",
    "What is the difference between the SPL decibel values measured in air and in water for the same sound?\n",
    "\n",
    "<details>\n",
    "  <summary>Answer</summary>\n",
    "\n",
    "$$ 20 \\log_{10} \\frac{20}{1} = 26 \\,\\textrm{dB} $$\n",
    "\n",
    "Therefore, for the same sound, decibel values computed with in-water reference is about 26 dB higher than decibel values computed with in-air reference.\n",
    "</details>"
   ]
  },
  {
   "cell_type": "markdown",
   "id": "CVhV540oJHF2",
   "metadata": {
    "editable": true,
    "id": "CVhV540oJHF2",
    "slideshow": {
     "slide_type": ""
    },
    "tags": []
   },
   "source": [
    "## References"
   ]
  },
  {
   "cell_type": "markdown",
   "id": "EeDODJmTKMNd",
   "metadata": {
    "editable": true,
    "id": "EeDODJmTKMNd",
    "slideshow": {
     "slide_type": ""
    },
    "tags": []
   },
   "source": [
    "* [What is dB? A Complete Guide for Measuring Sound using Decibel](https://www.hollyland.com/blog/tips/what-is-db)\n",
    "* Svantek Academy: [Sound Pressure Level](https://svantek.com/academy/sound-pressure-level-spl/)\n",
    "* Discovery of the Sounds of Sea: [Introduction to Decibels](https://dosits.org/science/advanced-topics/introduction-to-decibels/)"
   ]
  },
  {
   "cell_type": "markdown",
   "id": "888e45e5",
   "metadata": {
    "editable": true,
    "slideshow": {
     "slide_type": ""
    },
    "tags": []
   },
   "source": []
  }
 ],
 "metadata": {
  "colab": {
   "provenance": []
  },
  "kernelspec": {
   "display_name": "Python 3 (ipykernel)",
   "language": "python",
   "name": "python3"
  },
  "language_info": {
   "codemirror_mode": {
    "name": "ipython",
    "version": 3
   },
   "file_extension": ".py",
   "mimetype": "text/x-python",
   "name": "python",
   "nbconvert_exporter": "python",
   "pygments_lexer": "ipython3",
   "version": "3.12.9"
  },
  "widgets": {
   "application/vnd.jupyter.widget-state+json": {
    "state": {},
    "version_major": 2,
    "version_minor": 0
   }
  }
 },
 "nbformat": 4,
 "nbformat_minor": 5
}
