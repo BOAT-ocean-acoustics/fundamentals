{
 "cells": [
  {
   "cell_type": "markdown",
   "metadata": {},
   "source": [
    "# Parameter Estimation"
   ]
  },
  {
   "cell_type": "markdown",
   "metadata": {},
   "source": [
    "## What is a Parameter Estimator?\n",
    "\n",
    "A parameter estimator is a function of the sample approximating a parameter of the distribution.\n",
    "\n",
    "Example: \n",
    "\n",
    "* sample mean is an estimator for the mean of the normal distribution\n",
    "* sample variance is an estimator for the variance of the normal distribution\n",
    "\n"
   ]
  },
  {
   "cell_type": "markdown",
   "metadata": {},
   "source": [
    "## Method of Moments Estimator\n",
    "\n",
    "In section [Parametric Distributions](./stats_parametric_distributions.ipynb) we used formulas based on sample statistics such as sample mean, variance, and skewness (centered moments) to obtain the model parameters. Those formulas were obtained by matching the sample moments to the theoretical moments of the distribution, and the procedure is called **method of moments**."
   ]
  },
  {
   "cell_type": "markdown",
   "metadata": {},
   "source": [
    "## Maximum Likelihood Estimator\n",
    "\n"
   ]
  },
  {
   "cell_type": "markdown",
   "metadata": {},
   "source": [
    "Given an observed sample $x$ and a probability model with a density function $p_{\\theta}(x)$, the likelihood function is defined as a function of the parameter:\n",
    "$$\\mathcal{L(\\theta| x)} = p_{\\theta}(x)$$\n",
    "\n",
    "When the sample consists of $N$ independent observations $x_1,...,x_N$, the likelihood is:\n",
    "$$\\mathcal{L(\\theta| x)} = \\prod_{i=1}^Np_{\\theta}(x_i)$$\n",
    "\n",
    "When the random variable is discrete, the likelihood of a parameter coincides of with the probability of observing the sample under that distribution:\n",
    "\n",
    "$$P_{\\theta}(X_1 = x_1, X_2 = x_2,..., X_N=x_N) = \\prod_{i=1}^N p_{\\theta}(x_i) = \\mathcal{L(\\theta| x)}$$\n",
    "\n",
    "We want to find the parameter $\\theta$ which maximizes this probability!\n",
    "\n",
    "$$ \\hat{\\theta}_{MLE} = \\argmax_{\\theta}{L(\\theta | x)}$$\n",
    "\n",
    "This approach provides a good estimator even if the variable is continuous!\n",
    "\n",
    ":::{Note}\n",
    "\n",
    "In practice, when the sample is big to calculate the likelihood we need to compute a product of many values, which can result in a numerical error. It is equivalent ot maximize the log-likelihood which is the sum of the likelihood at each point:\n",
    "\n",
    "$$ \\hat{\\theta}_{MLE} = \\argmax_{\\theta}{\\log L(\\theta | x)} = \\sum_{i=1}^N \\log {p_{\\theta}(x_i)}$$\n",
    "\n",
    "Many probability distributions involve exponentials so that simplifies the formulas.\n",
    ":::\n",
    "\n",
    "\n",
    "\n",
    "\n",
    "\n",
    "\n",
    "\n",
    "\n",
    "\n"
   ]
  },
  {
   "cell_type": "markdown",
   "metadata": {},
   "source": [
    "## Evaluating Estimators\n",
    "\n",
    "**MSE** - Mean Squared Error\n",
    "\n",
    "$$ MSE(\\hat \\theta) = \\mathbb{E}_{\\theta}|\\hat \\theta - \\theta|^2$$\n",
    "\n",
    "$$MSE(\\hat \\theta) = bias(\\hat\\theta)^2 + Var(\\hat\\theta)$$"
   ]
  },
  {
   "cell_type": "markdown",
   "metadata": {},
   "source": [
    "Properties of an estimator:\n",
    "* **unbiased**: the expected value of the estimator is equal to the true parameter\n",
    "* **consistent**: as sample size grows, the estimator converges to the true parameter\n",
    "* **efficient**: has minimum variance\n",
    "\n",
    "\n",
    ":::{note}\n",
    "MLE is **Minimum Variance Unbiased Estimator** as sample size grows.\n",
    ":::"
   ]
  },
  {
   "cell_type": "markdown",
   "metadata": {},
   "source": [
    "## MLE Widget"
   ]
  },
  {
   "cell_type": "code",
   "execution_count": 12,
   "metadata": {},
   "outputs": [],
   "source": [
    "import numpy as np\n",
    "from scipy import stats"
   ]
  },
  {
   "cell_type": "code",
   "execution_count": 13,
   "metadata": {},
   "outputs": [
    {
     "name": "stdout",
     "output_type": "stream",
     "text": [
      "--2025-04-02 16:46:44--  https://docs.google.com/uc?export=download&confirm=t&id=1466snzjsXPVTlKnzkkCkdOgwoO5Zvutq\n",
      "Resolving docs.google.com (docs.google.com)... 142.250.69.206, 2607:f8b0:400a:803::200e\n",
      "Connecting to docs.google.com (docs.google.com)|142.250.69.206|:443... connected.\n",
      "HTTP request sent, awaiting response... 303 See Other\n",
      "Location: https://drive.usercontent.google.com/download?id=1466snzjsXPVTlKnzkkCkdOgwoO5Zvutq&export=download [following]\n",
      "--2025-04-02 16:46:44--  https://drive.usercontent.google.com/download?id=1466snzjsXPVTlKnzkkCkdOgwoO5Zvutq&export=download\n",
      "Resolving drive.usercontent.google.com (drive.usercontent.google.com)... 142.251.33.97, 2607:f8b0:400a:80a::2001\n",
      "Connecting to drive.usercontent.google.com (drive.usercontent.google.com)|142.251.33.97|:443... connected.\n",
      "HTTP request sent, awaiting response... 200 OK\n",
      "Length: 5759054 (5.5M) [audio/wav]\n",
      "Saving to: ‘background.wav’\n",
      "\n",
      "background.wav      100%[===================>]   5.49M  --.-KB/s    in 0.07s   \n",
      "\n",
      "2025-04-02 16:46:48 (78.9 MB/s) - ‘background.wav’ saved [5759054/5759054]\n",
      "\n"
     ]
    }
   ],
   "source": [
    "# loading steps\n",
    "\n",
    "!wget --no-check-certificate 'https://docs.google.com/uc?export=download&confirm=t&id=1466snzjsXPVTlKnzkkCkdOgwoO5Zvutq' -O background.wav\n",
    "\n",
    "from scipy.io import wavfile\n",
    "\n",
    "# reading background data\n",
    "bg_samplerate, bg_signal = wavfile.read('background.wav')\n",
    "\n",
    "import numpy as np\n",
    "\n",
    "# first we split small intervals of 0.1s\n",
    "bg_signal_split = np.split(bg_signal[:(len(bg_signal)-len(bg_signal)%bg_samplerate)], len(bg_signal[:(len(bg_signal)-len(bg_signal)%bg_samplerate)])/bg_samplerate*10)\n",
    "\n",
    "# we calculate RMS for each interval\n",
    "RMS_split = [np.sqrt(np.mean(np.square(group.astype('float')))) for group in bg_signal_split]\n",
    "\n",
    "# define the r.v.\n",
    "X = np.log10(RMS_split)\n",
    "\n"
   ]
  },
  {
   "cell_type": "code",
   "execution_count": 14,
   "metadata": {},
   "outputs": [
    {
     "name": "stdout",
     "output_type": "stream",
     "text": [
      "2.0959092368886436\n",
      "0.0911751628524584\n"
     ]
    }
   ],
   "source": [
    "# sample mean and variance\n",
    "mean = np.mean(X)\n",
    "std = np.std(X)\n",
    "print(mean)\n",
    "print(std)"
   ]
  },
  {
   "cell_type": "code",
   "execution_count": 15,
   "metadata": {},
   "outputs": [
    {
     "name": "stdout",
     "output_type": "stream",
     "text": [
      "575.860191529744\n"
     ]
    }
   ],
   "source": [
    "\n",
    "# gaussian likelihood\n",
    "gaussian_likelihood = stats.norm.pdf(X, loc=mean, scale=std)\n",
    "# L = np.prod(gaussian_likelihood)\n",
    "L = np.sum(np.log(gaussian_likelihood))\n",
    "print(L)\n"
   ]
  },
  {
   "cell_type": "markdown",
   "metadata": {},
   "source": [
    ":::{note} Note that even if one sample point is outside of the range of the model's probability density function, the evaluation at that point will be zero, and due to the independence assumption the whole likelihood will be zero. That in a way makes sense: if we observe a point which has probability zero for a specific model, then it means that this model has not produced this observation. In practice, there will be always outliers we may not want to fit to.\n",
    ":::"
   ]
  },
  {
   "cell_type": "code",
   "execution_count": 16,
   "metadata": {},
   "outputs": [
    {
     "name": "stdout",
     "output_type": "stream",
     "text": [
      "-50.10634850074372\n"
     ]
    }
   ],
   "source": [
    "skewnorm_likelihood = stats.skewnorm.pdf(X, a=2, scale=0.06, loc=2)\n",
    "L = np.sum(np.log(skewnorm_likelihood))\n",
    "print(L)"
   ]
  },
  {
   "cell_type": "code",
   "execution_count": 17,
   "metadata": {},
   "outputs": [],
   "source": [
    "def plot_skewnorm_density_L(a, scale, loc):\n",
    "  h = plt.hist(np.log10(RMS_split),bins=100, density=True, alpha=0.5)\n",
    "\n",
    "  # evaluate the function at the histogram bins\n",
    "  skewnorm_density = stats.skewnorm.pdf(h[1], a=a, scale=scale, loc=loc)\n",
    "\n",
    "  # evaluation the function at the observations\n",
    "  skewnorm_likelihood = stats.skewnorm.pdf(X, a=a, scale=scale, loc=loc)\n",
    "  L = np.sum(np.log(skewnorm_likelihood))\n",
    "\n",
    "  plt.plot(h[1], skewnorm_density)\n",
    "  plt.title(f\"Log-Likelihood {L:.10f}\")"
   ]
  },
  {
   "cell_type": "code",
   "execution_count": 18,
   "metadata": {},
   "outputs": [],
   "source": [
    "from ipywidgets import interact\n",
    "import ipywidgets as widgets\n",
    "\n",
    "import matplotlib.pyplot as plt"
   ]
  },
  {
   "cell_type": "code",
   "execution_count": 19,
   "metadata": {},
   "outputs": [],
   "source": [
    "shape_slider = widgets.FloatSlider(\n",
    "    value=2,\n",
    "    min=0.5,\n",
    "    max=10.0,\n",
    "    step=0.5,\n",
    "    description='Shape:',\n",
    "    #disabled=False,\n",
    "    continuous_update=True,\n",
    "    orientation='horizontal',\n",
    "    readout=True,\n",
    "    readout_format='.1f',\n",
    ")"
   ]
  },
  {
   "cell_type": "code",
   "execution_count": null,
   "metadata": {},
   "outputs": [],
   "source": [
    "scale_slider = widgets.FloatSlider(\n",
    "    value=0.06,\n",
    "    min=0.01,\n",
    "    max=0.1,\n",
    "    step=0.01,\n",
    "    description='Scale:',\n",
    "    #disabled=False,\n",
    "    continuous_update=True,\n",
    "    orientation='horizontal',\n",
    "    readout=True,\n",
    "    readout_format='.1f',\n",
    ")"
   ]
  },
  {
   "cell_type": "code",
   "execution_count": 21,
   "metadata": {},
   "outputs": [],
   "source": [
    "loc_slider = widgets.FloatSlider(\n",
    "    value=1.9,\n",
    "    min=1.5,\n",
    "    max=2.5,\n",
    "    step=0.01,\n",
    "    description='Offset:',\n",
    "    # disabled=False,\n",
    "    continuous_update=True,\n",
    "    orientation='horizontal',\n",
    "    readout=True,\n",
    "    readout_format='.1f',\n",
    ")\n"
   ]
  },
  {
   "cell_type": "code",
   "execution_count": null,
   "metadata": {},
   "outputs": [
    {
     "data": {
      "application/vnd.jupyter.widget-view+json": {
       "model_id": "f99127c6c2a146fc9e28bbd7b5ac4333",
       "version_major": 2,
       "version_minor": 0
      },
      "text/plain": [
       "interactive(children=(FloatSlider(value=2.0, description='Shape:', max=10.0, min=0.5, readout_format='.1f', st…"
      ]
     },
     "metadata": {},
     "output_type": "display_data"
    }
   ],
   "source": [
    "out = interact(plot_skewnorm_density_L, a = shape_slider, scale = scale_slider, loc = loc_slider)"
   ]
  }
 ],
 "metadata": {
  "kernelspec": {
   "display_name": "Python 3",
   "language": "python",
   "name": "python3"
  },
  "language_info": {
   "codemirror_mode": {
    "name": "ipython",
    "version": 3
   },
   "file_extension": ".py",
   "mimetype": "text/x-python",
   "name": "python",
   "nbconvert_exporter": "python",
   "pygments_lexer": "ipython3",
   "version": "3.12.1"
  }
 },
 "nbformat": 4,
 "nbformat_minor": 2
}
