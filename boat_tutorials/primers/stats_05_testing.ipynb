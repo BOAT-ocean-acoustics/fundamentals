{
 "cells": [
  {
   "cell_type": "markdown",
   "metadata": {
    "editable": true,
    "slideshow": {
     "slide_type": ""
    },
    "tags": []
   },
   "source": [
    "# Statistical Testing"
   ]
  },
  {
   "cell_type": "markdown",
   "metadata": {
    "editable": true,
    "slideshow": {
     "slide_type": ""
    },
    "tags": []
   },
   "source": [
    "```{admonition} Learning Objectives\n",
    ":class: tip\n",
    "\n",
    "* Identify the components of hypothesis testing.\n",
    "* Construct a hypothesis test for a scientific problem to determine if observations come from one of two distributions.\n",
    "* Perform likelihood ratio test to evaluate hypothesis with a specific level of certainty.\n",
    "```"
   ]
  },
  {
   "cell_type": "markdown",
   "metadata": {
    "editable": true,
    "slideshow": {
     "slide_type": ""
    },
    "tags": []
   },
   "source": [
    "## Statistical Hypothesis\n",
    "\n",
    "In section [Parametric Distributions](../stats_03_parametric_distributions.ipynb) we discussed how several parametric models can \"sort of fit\" the empirical distribution. Now suppose that we want to limit the choices and we only want to compare two specific models and decide which one is \"more probable\". The two models can follow the same family of distributions but with two sets of parameters, for example, normal with two different means, or we can compare the normal distribution to some other non-symmetric distribution. Based on these two options, we can design two hypotheses: \n",
    "\n",
    "$\\mathcal{H_0}: X \\sim p_0(\\theta_0),$\n",
    "\n",
    "$\\mathcal{H_1}: X \\sim p_1(\\theta_1),$\n",
    "\n",
    "where $p_0(\\theta_0)$ and $p_1(\\theta_1)$ are the two different distributions with their corresponding parameters. $\\mathcal{H}_0$ is referred to as the null hypothesis and $\\mathcal{H}_1$ as the alternative hypothesis."
   ]
  },
  {
   "cell_type": "markdown",
   "metadata": {
    "editable": true,
    "slideshow": {
     "slide_type": ""
    },
    "tags": []
   },
   "source": [
    "## Hypothesis Test"
   ]
  },
  {
   "cell_type": "markdown",
   "metadata": {},
   "source": [
    "We would like to come up with a decision strategy based on which to determine if the data supports a certain hypothesis. A **hypothesis test** uses a **test statistic** which is a function of the sample, based on the outcome of which we can distinguish between the two hypotheses. If we assume that the null hypothesis is true, and calculate the distribution of the test statistics under the null hypothesis, we would like to reject the null hypothesis if we observe that the probability of the observed test statistic is low. The region for which the null hypothesis is rejected is called a **critical region**."
   ]
  },
  {
   "cell_type": "markdown",
   "metadata": {},
   "source": [
    "How can we come up with such a test statistic and the cutoff for rejection? We need to accepts that we will make some errors.\n",
    "\n",
    "\n",
    "|Null hypothesis is | TRUE | FALSE|\n",
    "|-------------------|------|------|\n",
    "|Not Rejected| Correct| Type I Error |\n",
    "|Rejected| Type II Error| Correct |\n"
   ]
  },
  {
   "cell_type": "markdown",
   "metadata": {
    "editable": true,
    "slideshow": {
     "slide_type": ""
    },
    "tags": []
   },
   "source": [
    "The probability of **Type I Error** is called a **significance level** and usually denoted by $\\alpha$.\n",
    "\n",
    "The probability of **Type II Error** is denoted by $\\beta$, and the **power** of the test is $1-\\beta$."
   ]
  },
  {
   "cell_type": "markdown",
   "metadata": {
    "editable": true,
    "slideshow": {
     "slide_type": ""
    },
    "tags": []
   },
   "source": [
    "To design a \"good test\" one needs to juggle both errors."
   ]
  },
  {
   "cell_type": "code",
   "execution_count": 1,
   "metadata": {
    "editable": true,
    "slideshow": {
     "slide_type": ""
    },
    "tags": [
     "hide-input"
    ]
   },
   "outputs": [],
   "source": [
    "import matplotlib.pyplot as plt\n",
    "from scipy import stats\n",
    "import numpy as np"
   ]
  },
  {
   "cell_type": "code",
   "execution_count": 2,
   "metadata": {
    "editable": true,
    "slideshow": {
     "slide_type": ""
    },
    "tags": [
     "hide-input"
    ]
   },
   "outputs": [],
   "source": [
    "# parameters for the hypothetical distributions\n",
    "mu_0 = 0\n",
    "mu_1 = 4\n",
    "\n",
    "# significance level\n",
    "alpha = 0.01\n",
    "\n",
    "\n",
    "xrange = np.linspace(-5, 10, 1000)\n",
    "\n",
    "null_likelihood = stats.norm.pdf(xrange, mu_0, 1)\n",
    "alternative_likelihood = stats.norm.pdf(xrange, mu_1, 1)"
   ]
  },
  {
   "cell_type": "code",
   "execution_count": 3,
   "metadata": {
    "editable": true,
    "slideshow": {
     "slide_type": ""
    },
    "tags": [
     "hide-input"
    ]
   },
   "outputs": [],
   "source": [
    "def plot_decision_boundary(alpha):\n",
    "    a = stats.norm.ppf(1-alpha, mu_0, 1)\n",
    "    beta = stats.norm.cdf(a, mu_1, 1)\n",
    "\n",
    "\n",
    "    plt.figure(figsize = (7, 3))\n",
    "    plt.plot(xrange, null_likelihood, label=\"H_0\")\n",
    "    plt.plot(xrange, alternative_likelihood, label=\"H_1\")\n",
    "\n",
    "    plt.fill_between(xrange, null_likelihood, where=(xrange>a), alpha=0.5)\n",
    "    plt.fill_between(xrange, alternative_likelihood, where=(xrange<a), alpha=0.5)\n",
    "    plt.axvline(a, color='r')\n",
    "    plt.ylim([0, 0.5])\n",
    "    plt.legend()\n",
    "    plt.text(6, 0.45, \"Reject H_0\", color = \"red\")\n",
    "    plt.text(-2, 0.45, \"Accept H_0\", color = \"red\")\n",
    "    plt.title(\"beta = {:.4f}\".format(beta))\n",
    "    plt.text(a+1, -0.1, \"Type I Error = {:.4f}\".format(alpha), color=\"C0\")\n",
    "    plt.text(a-5, -0.1, \"Type II Error = {:.4f}\".format(beta), color=\"C1\")"
   ]
  },
  {
   "cell_type": "code",
   "execution_count": 4,
   "metadata": {
    "editable": true,
    "slideshow": {
     "slide_type": ""
    },
    "tags": [
     "hide-input"
    ]
   },
   "outputs": [
    {
     "data": {
      "application/vnd.jupyter.widget-view+json": {
       "model_id": "5675ba190c2b425682b566febcb9576b",
       "version_major": 2,
       "version_minor": 0
      },
      "text/plain": [
       "interactive(children=(FloatSlider(value=0.001, description='alpha', max=0.5, readout_format='.4f', step=1e-05)…"
      ]
     },
     "metadata": {},
     "output_type": "display_data"
    }
   ],
   "source": [
    "from ipywidgets import interact, FloatSlider\n",
    "\n",
    "alpha_slider = FloatSlider(min=0, max=0.5, step=0.00001, value=0.001, readout_format='.4f')\n",
    "\n",
    "out = interact(plot_decision_boundary, alpha = alpha_slider)\n"
   ]
  },
  {
   "cell_type": "markdown",
   "metadata": {},
   "source": [
    "### Likelihood Ratio Test"
   ]
  },
  {
   "cell_type": "markdown",
   "metadata": {},
   "source": [
    "Suppose $X$ was a discrete variable. Then the probability of observing $x$ under each hypothesis is equal to the likelihood function of each model evaluated at $x$. So a measure of which hypothesis is \"more likely\" is the ratio of the likelihoods and we can design a test statistic based on it:\n",
    "\n",
    "$$\\Lambda(X) = \\frac{\\mathcal{L}(\\theta_0|X)}{\\mathcal{L}(\\theta_1|X)}$$"
   ]
  },
  {
   "cell_type": "markdown",
   "metadata": {},
   "source": [
    "and a test, with a significance level $\\alpha$:\n",
    "\n",
    "Reject $\\mathcal{H_0}$:$\\hspace{38pt}\\Lambda(x)\\le c$,\n",
    "\n",
    "Do not reject $\\mathcal{H_0}$:$\\hspace{10pt}$ $\\Lambda(x)> c$,\n",
    "\n",
    "where $c$ is chosen so that $P(\\Lambda(X)\\le c|\\mathcal{H_0}) = \\alpha$."
   ]
  },
  {
   "cell_type": "markdown",
   "metadata": {},
   "source": [
    "Such a test can be specified also for continuous distributions. "
   ]
  },
  {
   "cell_type": "markdown",
   "metadata": {},
   "source": [
    ":::{note}\n",
    "It turns out that *the likelihood ratio test is the most powerful test among the tests of significance level $\\alpha$*! Many of the popular tests in statistics are likelihood ratio tests.\n",
    ":::"
   ]
  },
  {
   "cell_type": "markdown",
   "metadata": {
    "editable": true,
    "slideshow": {
     "slide_type": ""
    },
    "tags": []
   },
   "source": [
    "## Noise Detection Example"
   ]
  },
  {
   "cell_type": "markdown",
   "metadata": {},
   "source": [
    "We want to determine whether noise is present in the environment. If there no noise, we assume that the distribution of the ambient noise follows a Gaussian distribution. If there is ship noise, the distribution will be skewed. The alternative hypothesis is that the observations are from skew normal distribution. "
   ]
  },
  {
   "cell_type": "markdown",
   "metadata": {},
   "source": [
    "\n",
    "$\\mathcal{H_0}: X \\sim \\mathcal{N}(\\mu_0, \\sigma_0^2)$\n",
    " \n",
    "$\\mathcal{H_1}: X \\sim skew\\mathcal{N}(\\alpha_1, scale_1, loc_1)$\n"
   ]
  },
  {
   "cell_type": "code",
   "execution_count": 5,
   "metadata": {
    "editable": true,
    "slideshow": {
     "slide_type": ""
    },
    "tags": [
     "hide-output"
    ]
   },
   "outputs": [
    {
     "name": "stdout",
     "output_type": "stream",
     "text": [
      "--2025-05-16 10:33:35--  https://docs.google.com/uc?export=download&confirm=t&id=1466snzjsXPVTlKnzkkCkdOgwoO5Zvutq\n",
      "Resolving docs.google.com (docs.google.com)... 172.217.14.238, 2607:f8b0:400a:805::200e\n",
      "Connecting to docs.google.com (docs.google.com)|172.217.14.238|:443... connected.\n",
      "HTTP request sent, awaiting response... 303 See Other\n",
      "Location: https://drive.usercontent.google.com/download?id=1466snzjsXPVTlKnzkkCkdOgwoO5Zvutq&export=download [following]\n",
      "--2025-05-16 10:33:35--  https://drive.usercontent.google.com/download?id=1466snzjsXPVTlKnzkkCkdOgwoO5Zvutq&export=download\n",
      "Resolving drive.usercontent.google.com (drive.usercontent.google.com)... 142.251.33.65, 2607:f8b0:400a:800::2001\n",
      "Connecting to drive.usercontent.google.com (drive.usercontent.google.com)|142.251.33.65|:443... connected.\n",
      "HTTP request sent, awaiting response... 200 OK\n",
      "Length: 5759054 (5.5M) [audio/wav]\n",
      "Saving to: ‘background.wav’\n",
      "\n",
      "background.wav      100%[===================>]   5.49M  --.-KB/s    in 0.08s   \n",
      "\n",
      "2025-05-16 10:33:38 (65.3 MB/s) - ‘background.wav’ saved [5759054/5759054]\n",
      "\n"
     ]
    }
   ],
   "source": [
    "!wget --no-check-certificate 'https://docs.google.com/uc?export=download&confirm=t&id=1466snzjsXPVTlKnzkkCkdOgwoO5Zvutq' -O background.wav"
   ]
  },
  {
   "cell_type": "code",
   "execution_count": 6,
   "metadata": {
    "editable": true,
    "slideshow": {
     "slide_type": ""
    },
    "tags": []
   },
   "outputs": [],
   "source": [
    "from scipy.io import wavfile\n",
    "# reading background data\n",
    "samplerate, sound = wavfile.read('background.wav')\n",
    "\n",
    "import numpy as np\n",
    "# first we split small intervals of 0.1s\n",
    "sound_split = np.split(sound[:(len(sound)-len(sound)%samplerate)], len(sound[:(len(sound)-len(sound)%samplerate)])/samplerate*10)\n",
    "# we calculate RMS for each interval\n",
    "RMS_split = [np.sqrt(np.mean(np.square(group.astype('float')))) for group in sound_split]\n",
    "X = 20*np.log10(RMS_split)"
   ]
  },
  {
   "cell_type": "markdown",
   "metadata": {
    "editable": true,
    "slideshow": {
     "slide_type": ""
    },
    "tags": []
   },
   "source": [
    "We will follow the following procedure:\n",
    "\n",
    "1. Set a significance level\n",
    "2. Calculate the test statistic\n",
    "3. Determine the critical region based on alpha and the test statistic\n",
    "4. Make decision"
   ]
  },
  {
   "cell_type": "markdown",
   "metadata": {
    "editable": true,
    "slideshow": {
     "slide_type": ""
    },
    "tags": []
   },
   "source": [
    "**1. Significance level**"
   ]
  },
  {
   "cell_type": "markdown",
   "metadata": {
    "editable": true,
    "slideshow": {
     "slide_type": ""
    },
    "tags": []
   },
   "source": [
    "Despite some acceptance within specific fields of what a reasonable significance level is, it is important to interpret what it means in terms of the context. In this case, it means if we perform the experiment repeatedly, we will on average wrongly predict noise when it is not present $100\\alpha\\%$ of the time. If we would like to detect times when ships were present in a protected zone in which they are not supposed to be present, and we would like to use the detections to notify officials if a ship is present, we would prefer to be really certain that there is a violation before doing that. If we are studying the effect of noise on a another process, we could possibly incorporate that error in the follow up analysis, and it is less important about the specific choice, as long as it is small and accounted for."
   ]
  },
  {
   "cell_type": "code",
   "execution_count": 7,
   "metadata": {
    "editable": true,
    "slideshow": {
     "slide_type": ""
    },
    "tags": []
   },
   "outputs": [],
   "source": [
    "alpha = 0.001"
   ]
  },
  {
   "cell_type": "markdown",
   "metadata": {
    "editable": true,
    "slideshow": {
     "slide_type": ""
    },
    "tags": []
   },
   "source": [
    "**2. Likelihood-ratio test statistic**\n"
   ]
  },
  {
   "cell_type": "markdown",
   "metadata": {
    "editable": true,
    "slideshow": {
     "slide_type": ""
    },
    "tags": []
   },
   "source": [
    "We will evaluate the likelihood ratio of the two distributions with a set of fixed parameters."
   ]
  },
  {
   "cell_type": "code",
   "execution_count": 8,
   "metadata": {
    "editable": true,
    "slideshow": {
     "slide_type": ""
    },
    "tags": []
   },
   "outputs": [],
   "source": [
    "import scipy.stats as stats\n",
    "\n",
    "mean = 42\n",
    "std = 1.8"
   ]
  },
  {
   "cell_type": "code",
   "execution_count": 9,
   "metadata": {
    "editable": true,
    "slideshow": {
     "slide_type": ""
    },
    "tags": []
   },
   "outputs": [],
   "source": [
    "a = 3\n",
    "scale = 2\n",
    "loc = 40.2"
   ]
  },
  {
   "cell_type": "code",
   "execution_count": 10,
   "metadata": {
    "editable": true,
    "slideshow": {
     "slide_type": ""
    },
    "tags": []
   },
   "outputs": [],
   "source": [
    "gaussian_likelihood = stats.norm.pdf(X, loc=mean, scale=std)\n",
    "skewnorm_likelihood = stats.skewnorm.pdf(X, a=a, scale=scale, loc=loc)"
   ]
  },
  {
   "cell_type": "markdown",
   "metadata": {
    "editable": true,
    "slideshow": {
     "slide_type": ""
    },
    "tags": []
   },
   "source": [
    "We can hypothesize that the skew-normal model is more probable. But we need to test this properly."
   ]
  },
  {
   "cell_type": "markdown",
   "metadata": {
    "editable": true,
    "slideshow": {
     "slide_type": ""
    },
    "tags": []
   },
   "source": [
    "We compute the likelihood ratio test statistic:"
   ]
  },
  {
   "cell_type": "code",
   "execution_count": 11,
   "metadata": {
    "editable": true,
    "slideshow": {
     "slide_type": ""
    },
    "tags": []
   },
   "outputs": [
    {
     "name": "stdout",
     "output_type": "stream",
     "text": [
      "-1.6977979556197624\n"
     ]
    }
   ],
   "source": [
    "logL_ratio = np.sum(np.log(gaussian_likelihood))-np.sum(np.log(skewnorm_likelihood))\n",
    "print(logL_ratio)"
   ]
  },
  {
   "cell_type": "code",
   "execution_count": 12,
   "metadata": {
    "editable": true,
    "slideshow": {
     "slide_type": ""
    },
    "tags": []
   },
   "outputs": [],
   "source": [
    "T = logL_ratio"
   ]
  },
  {
   "cell_type": "markdown",
   "metadata": {
    "editable": true,
    "slideshow": {
     "slide_type": ""
    },
    "tags": []
   },
   "source": [
    "**3. Identify critical region**"
   ]
  },
  {
   "cell_type": "markdown",
   "metadata": {
    "editable": true,
    "slideshow": {
     "slide_type": ""
    },
    "tags": []
   },
   "source": [
    "We would like to determine the threshold $c$ for which the significance level of the test is $\\alpha$. Note this can be done before actually observing the sample. What we need for that is to determine the distribution of the likelihood ratio under null hypothesis distribution: in this case the Gaussian distribution with the pre-specified parameters (in this case we extracted them from the sample but we will treat them as known). "
   ]
  },
  {
   "cell_type": "markdown",
   "metadata": {
    "editable": true,
    "slideshow": {
     "slide_type": ""
    },
    "tags": []
   },
   "source": [
    "$P(\\Lambda(X)\\le c)$ = $\\alpha$, where $X \\sim \\mathcal{N}(\\mu_0, \\sigma_0)$"
   ]
  },
  {
   "cell_type": "markdown",
   "metadata": {
    "editable": true,
    "slideshow": {
     "slide_type": ""
    },
    "tags": []
   },
   "source": [
    "Instead of trying to calculate it analytically, we will simulate a set of samples from the Gaussian distribution each of size equal to the size of $X$, evaluate the likelihood ratio on each of them, and calculate the first percentile of those values."
   ]
  },
  {
   "cell_type": "markdown",
   "metadata": {
    "editable": true,
    "slideshow": {
     "slide_type": ""
    },
    "tags": []
   },
   "source": [
    "The steps for an individual sample are as follows:"
   ]
  },
  {
   "cell_type": "code",
   "execution_count": 13,
   "metadata": {
    "editable": true,
    "slideshow": {
     "slide_type": ""
    },
    "tags": []
   },
   "outputs": [],
   "source": [
    "# put the steps in the function\n",
    "def evaluateLogL_ratio(x):\n",
    "  gaussian_likelihood = stats.norm.pdf(x, scale=std, loc=mean)\n",
    "  skewnorm_likelihood = stats.skewnorm.pdf(x, a=a, scale=std, loc=loc)\n",
    "  logL_ratio = np.sum(np.log(gaussian_likelihood)) - np.sum(np.log(skewnorm_likelihood))\n",
    "  return(logL_ratio)\n"
   ]
  },
  {
   "cell_type": "code",
   "execution_count": 14,
   "metadata": {
    "editable": true,
    "slideshow": {
     "slide_type": ""
    },
    "tags": []
   },
   "outputs": [],
   "source": [
    "test_stat_sample_null = [evaluateLogL_ratio(stats.norm.rvs(mean, std, size=len(X))) for i in range(10000)]"
   ]
  },
  {
   "cell_type": "code",
   "execution_count": 15,
   "metadata": {
    "editable": true,
    "slideshow": {
     "slide_type": ""
    },
    "tags": []
   },
   "outputs": [],
   "source": [
    "# calculate first percentile by generating 10000 samples\n",
    "c = np.percentile(test_stat_sample_null, alpha*100)"
   ]
  },
  {
   "cell_type": "code",
   "execution_count": 16,
   "metadata": {
    "editable": true,
    "slideshow": {
     "slide_type": ""
    },
    "tags": []
   },
   "outputs": [
    {
     "name": "stdout",
     "output_type": "stream",
     "text": [
      "0.0\n"
     ]
    }
   ],
   "source": [
    "percentile = stats.percentileofscore(test_stat_sample_null, T, kind='rank')\n",
    "print(percentile)"
   ]
  },
  {
   "cell_type": "code",
   "execution_count": 17,
   "metadata": {
    "editable": true,
    "slideshow": {
     "slide_type": ""
    },
    "tags": []
   },
   "outputs": [
    {
     "data": {
      "text/plain": [
       "<matplotlib.legend.Legend at 0x7f1c6184fd10>"
      ]
     },
     "execution_count": 17,
     "metadata": {},
     "output_type": "execute_result"
    },
    {
     "data": {
      "image/png": "[encoded data removed]",
      "text/plain": [
       "<Figure size 640x480 with 1 Axes>"
      ]
     },
     "metadata": {},
     "output_type": "display_data"
    }
   ],
   "source": [
    "# plot the distribution of the test statisticunder null\n",
    "out = plt.hist(test_stat_sample_null, bins=100)\n",
    "plt.axvline(T, color=\"r\", label=\"Test Statistic\")\n",
    "plt.axvline(c, color=\"k\", label=f\"c for alpha= {alpha:.3f}\")\n",
    "(left, right) = plt.xlim()\n",
    "plt.axvspan(left, c, alpha=0.1, color='red')\n",
    "plt.xlim(left, right)\n",
    "plt.legend()"
   ]
  },
  {
   "cell_type": "markdown",
   "metadata": {
    "editable": true,
    "slideshow": {
     "slide_type": ""
    },
    "tags": []
   },
   "source": [
    "*What is the conclusion?*"
   ]
  },
  {
   "cell_type": "markdown",
   "metadata": {
    "editable": true,
    "slideshow": {
     "slide_type": ""
    },
    "tags": []
   },
   "source": [
    "```{admonition} Exercise\n",
    ":class:\n",
    "Evaluate the power of this test.\n",
    "```"
   ]
  }
 ],
 "metadata": {
  "kernelspec": {
   "display_name": "Python 3 (ipykernel)",
   "language": "python",
   "name": "python3"
  },
  "language_info": {
   "codemirror_mode": {
    "name": "ipython",
    "version": 3
   },
   "file_extension": ".py",
   "mimetype": "text/x-python",
   "name": "python",
   "nbconvert_exporter": "python",
   "pygments_lexer": "ipython3",
   "version": "3.12.10"
  },
  "widgets": {
   "application/vnd.jupyter.widget-state+json": {
    "state": {
     "010c043fe5984e19bfa817d6bee29ab3": {
      "model_module": "@jupyter-widgets/base",
      "model_module_version": "2.0.0",
      "model_name": "LayoutModel",
      "state": {}
     },
     "165279f5b5054133b2ef3e26ac48443d": {
      "model_module": "@jupyter-widgets/base",
      "model_module_version": "2.0.0",
      "model_name": "LayoutModel",
      "state": {}
     },
     "22470cb8f3154df1b0c1bfb234427d92": {
      "model_module": "@jupyter-widgets/base",
      "model_module_version": "2.0.0",
      "model_name": "LayoutModel",
      "state": {}
     },
     "5675ba190c2b425682b566febcb9576b": {
      "model_module": "@jupyter-widgets/controls",
      "model_module_version": "2.0.0",
      "model_name": "VBoxModel",
      "state": {
       "_dom_classes": [
        "widget-interact"
       ],
       "children": [
        "IPY_MODEL_aa34f963965b42fd8d5a4b46f91a96fe",
        "IPY_MODEL_f6fb56f8efa74a438b852fc6f07ec1e8"
       ],
       "layout": "IPY_MODEL_010c043fe5984e19bfa817d6bee29ab3"
      }
     },
     "aa34f963965b42fd8d5a4b46f91a96fe": {
      "model_module": "@jupyter-widgets/controls",
      "model_module_version": "2.0.0",
      "model_name": "FloatSliderModel",
      "state": {
       "behavior": "drag-tap",
       "description": "alpha",
       "layout": "IPY_MODEL_165279f5b5054133b2ef3e26ac48443d",
       "max": 0.5,
       "readout_format": ".4f",
       "step": 1e-05,
       "style": "IPY_MODEL_e4cb3eba80144dc7901c88a3dfccc7f4",
       "value": 0.001
      }
     },
     "e4cb3eba80144dc7901c88a3dfccc7f4": {
      "model_module": "@jupyter-widgets/controls",
      "model_module_version": "2.0.0",
      "model_name": "SliderStyleModel",
      "state": {
       "description_width": ""
      }
     },
     "f6fb56f8efa74a438b852fc6f07ec1e8": {
      "model_module": "@jupyter-widgets/output",
      "model_module_version": "1.0.0",
      "model_name": "OutputModel",
      "state": {
       "layout": "IPY_MODEL_22470cb8f3154df1b0c1bfb234427d92",
       "outputs": [
        {
         "data": {
          "image/png": "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",
          "text/plain": "<Figure size 700x300 with 1 Axes>"
         },
         "metadata": {},
         "output_type": "display_data"
        }
       ]
      }
     }
    },
    "version_major": 2,
    "version_minor": 0
   }
  }
 },
 "nbformat": 4,
 "nbformat_minor": 4
}
