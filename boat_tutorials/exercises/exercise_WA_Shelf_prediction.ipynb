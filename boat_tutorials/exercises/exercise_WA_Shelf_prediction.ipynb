{
 "cells": [
  {
   "cell_type": "markdown",
   "metadata": {},
   "source": [
    "# Statistical Testing Exercise"
   ]
  },
  {
   "cell_type": "markdown",
   "metadata": {},
   "source": [
    "## Statistical Hypothesis\n",
    "\n",
    "In section [Parametric Distributions](../stats_03_parametric_distributions.ipynb) we discussed how several parametric models can \"sort of fit\" the empirical distribution. Now suppose that we want to limit the choices and we only want to compare two specific models and decide which one is \"more probable\". The two models can follow the same family of distributions but with two sets of parameters, for example, normal with two different means, or we can compare the normal distribution to logistic with fixed parameters. Based on these two options, we can design two hypotheses: \n",
    "\n",
    "$\\mathcal{H_0}: X \\sim p_0(\\theta_0),$\n",
    "\n",
    "$\\mathcal{H_1}: X \\sim p_1(\\theta_1),$\n",
    "\n",
    "where $p_0(\\theta_0)$ and $p_1(\\theta_1)$ are the two different distributions with their corresponding parameters. $\\mathcal{H}_0$ is referred to as null hypothesis and $\\mathcal{H}_1$ as alternative hypothesis."
   ]
  },
  {
   "cell_type": "markdown",
   "metadata": {},
   "source": [
    "## Hypothesis Test"
   ]
  },
  {
   "cell_type": "markdown",
   "metadata": {},
   "source": [
    "We would like to come up with a decision strategy based on which to determine if the data supports a certain hypothesis. A **hypothesis test** uses a **test statistic** which is a function of the sample, based on the outcome of which we can distinguish between the two hypotheses. If we assume that the null hypothesis is true, and calculate the distribution of the test statistics under the null hypothesis, we would like to reject the null hypothesis if we observe that the probability of the observed test statistic is low. The region for which the null hypothesis is rejected is called a **critical region**."
   ]
  },
  {
   "cell_type": "markdown",
   "metadata": {},
   "source": [
    "How can we come up with such a test statistic and the cutoff for rejection? We need to accepts that we will make some errors.\n",
    "\n",
    "\n",
    "|Null hypothesis is | TRUE | FALSE|\n",
    "|-------------------|------|------|\n",
    "|Not Rejected| Correct| Type I Error |\n",
    "|Rejected| Type II Error| Correct |\n"
   ]
  },
  {
   "cell_type": "markdown",
   "metadata": {},
   "source": [
    "The probability of Type I Error is called a **significance** level and usually denoted by $\\alpha$.\n",
    "\n",
    "The probability of Type II Error is denoted by $\\beta$, and the **power** of the test is $1-\\beta$."
   ]
  },
  {
   "cell_type": "markdown",
   "metadata": {},
   "source": [
    "To design a \"good test\" one needs to juggle both errors."
   ]
  },
  {
   "cell_type": "markdown",
   "metadata": {},
   "source": [
    "### Likelihood Ratio Test"
   ]
  },
  {
   "cell_type": "markdown",
   "metadata": {},
   "source": [
    "Suppose $X$ was a discrete variable. Then the probability of observing $x$ under each hypothesis is equal to the likelihood function of each model evaluated at $x$. So a measure of which hypothesis is \"more likely\" is the ratio of the likelihoods and we can design a test statistic based on it:\n",
    "\n",
    "$$\\Lambda(X) = \\frac{\\mathcal{L(\\theta_0|X)}}{\\mathcal{L(\\theta_1|X)}}$$"
   ]
  },
  {
   "cell_type": "markdown",
   "metadata": {},
   "source": [
    "and design a test, with a significance level $\\alpha$:\n",
    "\n",
    "Reject $H_0$:$\\Lambda(x)\\le c$,\n",
    "\n",
    "Do not reject $H_1$: $\\Lambda(x)> c$,\n",
    "\n",
    "where $c$ is chosen so that $P(\\Lambda(X)\\le c|\\mathcal{H_0}) = \\alpha$.\n",
    "\n",
    "\n"
   ]
  },
  {
   "cell_type": "markdown",
   "metadata": {},
   "source": [
    "Such a test can be specified also for continuous distributions. "
   ]
  },
  {
   "cell_type": "markdown",
   "metadata": {},
   "source": [
    ":::{note}\n",
    "It turns out that *the likelihood ratio test is the most powerful test among the tests of significance level $\\alpha$*! Many of the popular tests in statistics are likelihood ratio tests.\n",
    ":::"
   ]
  },
  {
   "cell_type": "markdown",
   "metadata": {},
   "source": [
    "## Transmission Detection Exercise"
   ]
  },
  {
   "cell_type": "markdown",
   "metadata": {},
   "source": [
    "We want to determine whether ship noise is present in the environment. If there no ship noise, we assume that the distribution of the ambient noise follows a Gaussian distribution. If there is ship noise, the distribution will be skewed. The alternative hypothesis is that the observations are from Gamma distribution. "
   ]
  },
  {
   "cell_type": "markdown",
   "metadata": {},
   "source": [
    "\n",
    "$\\mathcal{H_0}: X \\sim skew\\mathcal{N}(\\alpha_0, scale_0, loc_0)$\n",
    " \n",
    "$\\mathcal{H_1}: X \\sim skew\\mathcal{N}(\\alpha_1, scale_1, loc_1)$\n"
   ]
  },
  {
   "cell_type": "code",
   "execution_count": 3,
   "metadata": {},
   "outputs": [],
   "source": [
    "import numpy as np\n",
    "import matplotlib.pyplot as plt"
   ]
  },
  {
   "cell_type": "markdown",
   "metadata": {},
   "source": []
  },
  {
   "cell_type": "code",
   "execution_count": 4,
   "metadata": {},
   "outputs": [],
   "source": [
    "tr_all = np.load('tr_all.npy')\n",
    "bg_all = np.load('bg_all.npy')"
   ]
  },
  {
   "cell_type": "code",
   "execution_count": 5,
   "metadata": {},
   "outputs": [],
   "source": [
    "# first part is to select model parameter from cleaner samples\n",
    "\n",
    "X_bg = 20*np.log10(bg_all[-500:])\n",
    "X_tr = 20*np.log10(tr_all[-500:])"
   ]
  },
  {
   "cell_type": "code",
   "execution_count": 6,
   "metadata": {},
   "outputs": [],
   "source": [
    "# second part is to select samples to test the hypothesis of the two distributions\n",
    "\n",
    "Y_bg = 20*np.log10(bg_all[-900:-500])\n",
    "Y_tr = 20*np.log10(tr_all[-900:-500])"
   ]
  },
  {
   "cell_type": "code",
   "execution_count": 7,
   "metadata": {},
   "outputs": [],
   "source": [
    "# arrange by where in the ranking the sample is\n",
    "Y_tr = np.sort(Y_tr)\n",
    "Y_bg = np.sort(Y_bg)"
   ]
  },
  {
   "cell_type": "markdown",
   "metadata": {},
   "source": [
    "We will follow the following procedure:\n",
    "\n",
    "1. Set a significance level\n",
    "2. Calculate the test statistic\n",
    "3. Determine the critical region based on alpha and the test statistic\n",
    "4. Make decision"
   ]
  },
  {
   "cell_type": "markdown",
   "metadata": {},
   "source": [
    "**1. Significance level $\\alpha = 0.001$**"
   ]
  },
  {
   "cell_type": "markdown",
   "metadata": {},
   "source": [
    "Despite some acceptance within specific fields of what a reasonable significance level is, it is important to interpret what it means in terms of the context. In this case, it means that the probability of the scientific problem. In this case, it means if we perform the experiment repeatedly, we will on average wrongly predict ship noise when it is not present $1\\%$ of the time. If we would like to detect times when ships were present in a protected zone in which they are not supposed to be present, and we would like to use the detections to notify officials if a ship is present, we would prefer to be really certain that there is a violation before do that. If we are studying the effect of noise on a another process, we could possibly incorporate that error in the follow up analysis, and it is less important about the specific choice, as long as it is small."
   ]
  },
  {
   "cell_type": "code",
   "execution_count": 8,
   "metadata": {},
   "outputs": [],
   "source": [
    "alpha = 0.001"
   ]
  },
  {
   "cell_type": "markdown",
   "metadata": {},
   "source": [
    "**2. Likelihood-ratio test statistic**\n"
   ]
  },
  {
   "cell_type": "markdown",
   "metadata": {},
   "source": []
  },
  {
   "cell_type": "code",
   "execution_count": 9,
   "metadata": {},
   "outputs": [],
   "source": [
    "import scipy.stats as stats"
   ]
  },
  {
   "cell_type": "code",
   "execution_count": 10,
   "metadata": {},
   "outputs": [],
   "source": [
    "# set parameters for null distribution (background)"
   ]
  },
  {
   "cell_type": "code",
   "execution_count": 11,
   "metadata": {},
   "outputs": [],
   "source": [
    "loc_0 = 66\n",
    "scale_0 = 8.6\n",
    "a_0 = 10"
   ]
  },
  {
   "cell_type": "code",
   "execution_count": 12,
   "metadata": {},
   "outputs": [],
   "source": [
    "# set parameters for alternative distribution (transmission)"
   ]
  },
  {
   "cell_type": "code",
   "execution_count": 13,
   "metadata": {},
   "outputs": [],
   "source": [
    "loc_1 = 86.33124811344999\n",
    "scale_1 = 3.75\n",
    "a_1 = 0"
   ]
  },
  {
   "cell_type": "code",
   "execution_count": 14,
   "metadata": {},
   "outputs": [],
   "source": [
    "# set  the sample to Y_tr or Y_bg\n",
    "# Y = np.array(Y_tr[10]).reshape((1,1))"
   ]
  },
  {
   "cell_type": "code",
   "execution_count": 25,
   "metadata": {},
   "outputs": [],
   "source": [
    "loc = -11\n",
    "Y = np.array(Y_tr[loc:(loc+10)])"
   ]
  },
  {
   "cell_type": "code",
   "execution_count": 26,
   "metadata": {},
   "outputs": [],
   "source": [
    "null_likelihood = stats.skewnorm.pdf(Y, a=a_0, loc=loc_0, scale=scale_0)\n",
    "alternative_likelihood = stats.skewnorm.pdf(Y, a=a_1, loc=loc_1, scale=scale_1)"
   ]
  },
  {
   "cell_type": "markdown",
   "metadata": {},
   "source": [
    "We compute the log likelihood ratio test statistic:"
   ]
  },
  {
   "cell_type": "code",
   "execution_count": 27,
   "metadata": {},
   "outputs": [
    {
     "name": "stdout",
     "output_type": "stream",
     "text": [
      "-34.43716247215689\n"
     ]
    }
   ],
   "source": [
    "logL_ratio = np.sum(np.log(null_likelihood)) - np.sum(np.log(alternative_likelihood))\n",
    "print(logL_ratio)"
   ]
  },
  {
   "cell_type": "code",
   "execution_count": 28,
   "metadata": {},
   "outputs": [],
   "source": [
    "# set the value of the test statistic\n",
    "T = logL_ratio"
   ]
  },
  {
   "cell_type": "markdown",
   "metadata": {},
   "source": [
    "**3. Identify critical region**"
   ]
  },
  {
   "cell_type": "markdown",
   "metadata": {},
   "source": [
    "We would like to determine the threshold $c$ for which the significance level of the test is $\\alpha$. Note this can be done before actually observing the sample. What we need for that is to determine the distribution of the likelihood ratio under null hypothesis distribution: in this case the Gaussian distribution with the pre-specified parameters (in this case we extracted them from the sample but we will treat them as known). "
   ]
  },
  {
   "cell_type": "markdown",
   "metadata": {},
   "source": [
    "$P(\\Lambda(X)\\le c)$ = $0.001$, where $X \\sim skew\\mathcal{N}(\\alpha_0, scale_0, loc_0)$"
   ]
  },
  {
   "cell_type": "markdown",
   "metadata": {},
   "source": [
    "Instead of trying to calculate it analytically, we will simulate a large sample from the Gaussian distribution, evaluate the likelihood ratio on it, and calculate its first percentile."
   ]
  },
  {
   "cell_type": "code",
   "execution_count": 29,
   "metadata": {},
   "outputs": [],
   "source": [
    "def evaluateLogL_ratio(x):\n",
    "  null_likelihood = stats.skewnorm.pdf(x, a=a_0, loc=loc_0, scale=scale_0)\n",
    "  alternative_likelihood = stats.skewnorm.pdf(x, a=a_1, loc=loc_1, scale=scale_1)\n",
    "  logL_ratio = np.sum(np.log(null_likelihood)) - np.sum(np.log(alternative_likelihood))\n",
    "  return(logL_ratio)\n"
   ]
  },
  {
   "cell_type": "code",
   "execution_count": 30,
   "metadata": {},
   "outputs": [
    {
     "data": {
      "text/plain": [
       "<matplotlib.legend.Legend at 0x7db5275a2000>"
      ]
     },
     "execution_count": 30,
     "metadata": {},
     "output_type": "execute_result"
    },
    {
     "data": {
      "image/png": "[encoded data removed]",
      "text/plain": [
       "<Figure size 640x480 with 1 Axes>"
      ]
     },
     "metadata": {},
     "output_type": "display_data"
    }
   ],
   "source": [
    "_ = plt.hist(stats.skewnorm.rvs(loc=loc_0, scale=scale_0, a=a_0, size=len(Y)),bins=50, alpha=0.5, density=True, label=\"null\")\n",
    "_ = plt.hist(Y, bins=50, alpha=0.5, density=True, label=\"observation\")\n",
    "plt.legend()"
   ]
  },
  {
   "cell_type": "code",
   "execution_count": 31,
   "metadata": {},
   "outputs": [],
   "source": [
    "# generate sample from the null distribution and evaluate the loglikelihood ratio at each sample point \n",
    "test_stat_sample_null = [evaluateLogL_ratio(stats.skewnorm.rvs(loc=loc_0, scale=scale_0, a=a_0, size=len(Y))) for i in range(100000)]"
   ]
  },
  {
   "cell_type": "markdown",
   "metadata": {},
   "source": []
  },
  {
   "cell_type": "code",
   "execution_count": 32,
   "metadata": {},
   "outputs": [
    {
     "name": "stdout",
     "output_type": "stream",
     "text": [
      "20.309999731470302\n"
     ]
    }
   ],
   "source": [
    "# evaluate the desired percentile from the sample\n",
    "c = np.percentile(test_stat_sample_null, alpha*100)\n",
    "print(c)"
   ]
  },
  {
   "cell_type": "code",
   "execution_count": 33,
   "metadata": {},
   "outputs": [
    {
     "name": "stdout",
     "output_type": "stream",
     "text": [
      "0.0\n"
     ]
    }
   ],
   "source": [
    "# p-value\n",
    "percentile = stats.percentileofscore(test_stat_sample_null, T, kind='rank')\n",
    "print(percentile/100)"
   ]
  },
  {
   "cell_type": "code",
   "execution_count": 34,
   "metadata": {},
   "outputs": [
    {
     "data": {
      "text/plain": [
       "<matplotlib.legend.Legend at 0x7db523e080e0>"
      ]
     },
     "execution_count": 34,
     "metadata": {},
     "output_type": "execute_result"
    },
    {
     "data": {
      "image/png": "[encoded data removed]",
      "text/plain": [
       "<Figure size 640x480 with 1 Axes>"
      ]
     },
     "metadata": {},
     "output_type": "display_data"
    }
   ],
   "source": [
    "import matplotlib.pyplot as plt\n",
    "\n",
    "# plot the distribution of the test statisticunder null\n",
    "out = plt.hist(test_stat_sample_null, bins=100)\n",
    "plt.axvline(T, color=\"r\", label=\"Test Statistic\")\n",
    "plt.axvline(c, color=\"k\", label=f\"c for alpha= {alpha:.3f}\")\n",
    "plt.legend()"
   ]
  },
  {
   "cell_type": "markdown",
   "metadata": {},
   "source": [
    "What is the conclusion?"
   ]
  },
  {
   "cell_type": "markdown",
   "metadata": {},
   "source": [
    "* If we pick values at the upper end of the background, there is a higher chance they can be in the lower tail of the background distribution. The result is we reject the null hypothesis and we make type II error mistakes.\n",
    "\n",
    "* If we pick values at the lower end of the transmission, there is a higher chance they can be in the upper tail of the background distribution. The result is we cannot reject the null and we make type I error mistakes."
   ]
  },
  {
   "cell_type": "markdown",
   "metadata": {},
   "source": [
    "Exercise: evaluate the power of this test."
   ]
  }
 ],
 "metadata": {
  "kernelspec": {
   "display_name": "Python 3",
   "language": "python",
   "name": "python3"
  },
  "language_info": {
   "codemirror_mode": {
    "name": "ipython",
    "version": 3
   },
   "file_extension": ".py",
   "mimetype": "text/x-python",
   "name": "python",
   "nbconvert_exporter": "python",
   "pygments_lexer": "ipython3",
   "version": "3.12.1"
  }
 },
 "nbformat": 4,
 "nbformat_minor": 2
}
