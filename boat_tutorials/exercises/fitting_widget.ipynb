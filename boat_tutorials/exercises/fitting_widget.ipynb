{
 "cells": [
  {
   "cell_type": "code",
   "execution_count": 1,
   "id": "a4f0ad30",
   "metadata": {},
   "outputs": [],
   "source": [
    "import scipy.signal as signal\n",
    "import matplotlib.pyplot as plt\n",
    "import scipy.io as io\n",
    "import numpy as np"
   ]
  },
  {
   "cell_type": "markdown",
   "id": "15d0f52b",
   "metadata": {},
   "source": [
    "## Read RMS arrays"
   ]
  },
  {
   "cell_type": "code",
   "execution_count": 2,
   "id": "cb128f1b",
   "metadata": {},
   "outputs": [],
   "source": [
    "tr_all = np.load('tr_all.npy')\n",
    "bg_all = np.load('bg_all.npy')"
   ]
  },
  {
   "cell_type": "markdown",
   "id": "c68221b1",
   "metadata": {},
   "source": [
    "## Split data for fitting and prediction"
   ]
  },
  {
   "cell_type": "code",
   "execution_count": 3,
   "id": "9ff23729",
   "metadata": {},
   "outputs": [],
   "source": [
    "# first part is to select model parameter from cleaner samples\n",
    "X_bg = 20*np.log10(bg_all[:700])\n",
    "X_tr = 20*np.log10(tr_all[:700])"
   ]
  },
  {
   "cell_type": "code",
   "execution_count": 4,
   "id": "c45f8c63",
   "metadata": {},
   "outputs": [],
   "source": [
    "# second part is to select samples to test the hypothesis of the two distributions\n",
    "Y_bg = 20*np.log10(bg_all[700:1400])\n",
    "Y_tr = 20*np.log10(tr_all[700:1400])"
   ]
  },
  {
   "cell_type": "code",
   "execution_count": 5,
   "id": "03a7fe1f",
   "metadata": {},
   "outputs": [],
   "source": [
    "# second part is to select samples to test the hypothesis of the two distributions\n",
    "# Y_bg = 20*np.log10(bg_all[700:1400])\n",
    "# Y_tr = 20*np.log10(tr_all[700:1400])\n",
    "\n",
    "Y_bg = 20*np.log10(bg_all[-900:-500])\n",
    "Y_tr = 20*np.log10(tr_all[-900:-500])"
   ]
  },
  {
   "cell_type": "code",
   "execution_count": 6,
   "id": "8d290ac1",
   "metadata": {},
   "outputs": [],
   "source": [
    "# first part is to select model parameter from cleaner samples\n",
    "# X_bg = 20*np.log10(bg_all[:700])\n",
    "# X_tr = 20*np.log10(tr_all[:700])\n",
    "\n",
    "X_bg = 20*np.log10(bg_all[-500:])\n",
    "X_tr = 20*np.log10(tr_all[-500:])"
   ]
  },
  {
   "cell_type": "code",
   "execution_count": 7,
   "id": "9113e809",
   "metadata": {},
   "outputs": [
    {
     "data": {
      "text/plain": [
       "<matplotlib.legend.Legend at 0x7acee2612f60>"
      ]
     },
     "execution_count": 7,
     "metadata": {},
     "output_type": "execute_result"
    },
    {
     "data": {
      "image/png": "[encoded data removed]",
      "text/plain": [
       "<Figure size 640x480 with 1 Axes>"
      ]
     },
     "metadata": {},
     "output_type": "display_data"
    }
   ],
   "source": [
    "plt.title(\"Training and Testing Samples\")\n",
    "plt.hist(X_bg, bins=100, alpha=0.5, label='bg_train')\n",
    "plt.hist(Y_bg, bins=100, alpha=0.5, label='bg_test')\n",
    "plt.hist(X_tr, bins=100, alpha=0.5, label='tr_train')\n",
    "plt.hist(Y_tr, bins=100, alpha=0.5, label='tr_test')\n",
    "plt.legend()"
   ]
  },
  {
   "cell_type": "markdown",
   "id": "8015073c",
   "metadata": {},
   "source": [
    "## Fitting Widget"
   ]
  },
  {
   "cell_type": "code",
   "execution_count": 8,
   "id": "df6bea05",
   "metadata": {},
   "outputs": [],
   "source": [
    "from scipy import stats"
   ]
  },
  {
   "cell_type": "code",
   "execution_count": 9,
   "id": "6b4ef30f",
   "metadata": {},
   "outputs": [],
   "source": [
    "import math"
   ]
  },
  {
   "cell_type": "code",
   "execution_count": 10,
   "id": "a9139ec8",
   "metadata": {},
   "outputs": [],
   "source": [
    "# change to X_tr to fit the transmission data\n",
    "X = X_bg"
   ]
  },
  {
   "cell_type": "code",
   "execution_count": 11,
   "id": "2fab57f1",
   "metadata": {},
   "outputs": [
    {
     "name": "stdout",
     "output_type": "stream",
     "text": [
      "72.40315536298966\n",
      "5.207288200706713\n",
      "1.0539866517234897\n"
     ]
    }
   ],
   "source": [
    "# sample mean, std, skewness\n",
    "mean = np.mean(X)\n",
    "std = np.std(X)\n",
    "sk = stats.skew(X)\n",
    "\n",
    "print(mean)\n",
    "print(std)\n",
    "print(sk)\n",
    "sk = min(0.9952717, sk)\n",
    "sk = max(0, sk)"
   ]
  },
  {
   "cell_type": "code",
   "execution_count": 12,
   "id": "899641a3",
   "metadata": {},
   "outputs": [
    {
     "name": "stdout",
     "output_type": "stream",
     "text": [
      "0.9999999943492268\n",
      "65.51074664540393\n",
      "8.638353334720179\n",
      "9406.565024959626\n"
     ]
    }
   ],
   "source": [
    "# formulas to estimate location, scale, ashape from sample moments\n",
    "delta = math.copysign(1,sk)*math.sqrt(math.pi/2*pow(sk,2/3)/(pow((4-math.pi)/2,2/3)+pow(sk,2/3)))\n",
    "print(delta)\n",
    "\n",
    "shape = delta/math.sqrt(1-delta**2)\n",
    "scale = std/math.sqrt(1-2*delta**2/math.pi)\n",
    "location = mean - scale*delta*math.sqrt(2/math.pi)\n",
    "\n",
    "print(location)\n",
    "print(scale)\n",
    "print(shape)"
   ]
  },
  {
   "cell_type": "code",
   "execution_count": 13,
   "id": "829fd20c",
   "metadata": {},
   "outputs": [],
   "source": [
    "# setting to smaller value of shape\n",
    "shape = min(10, shape)"
   ]
  },
  {
   "cell_type": "code",
   "execution_count": 14,
   "id": "4f45ccae",
   "metadata": {},
   "outputs": [],
   "source": [
    "def plot_skewnorm_density_L(a, scale, loc):\n",
    "  h = plt.hist(X, bins=100, density=True, alpha=0.5)\n",
    "\n",
    "  # evaluate the function at the histogram bins\n",
    "  skewnorm_density = stats.skewnorm.pdf(h[1], a=a, scale=scale, loc=loc)\n",
    "\n",
    "  # evaluation the function at the observations\n",
    "  skewnorm_likelihood = stats.skewnorm.pdf(X, a=a, scale=scale, loc=loc)\n",
    "  L = np.sum(np.log(skewnorm_likelihood))\n",
    "\n",
    "  plt.plot(h[1], skewnorm_density)\n",
    "  plt.title(f\"Log-Likelihood {L:.10f}\")"
   ]
  },
  {
   "cell_type": "code",
   "execution_count": 15,
   "id": "feee172a",
   "metadata": {},
   "outputs": [],
   "source": [
    "# currently using skewnormal, but could explore other distributions\n",
    "\n",
    "def plot_rice_density_L(a, scale, loc):\n",
    "  h = plt.hist(X, bins=100, density=True, alpha=0.5)\n",
    "\n",
    "  # evaluate the function at the histogram bins\n",
    "  skewnorm_density = stats.rice.pdf(h[1], b=a, scale=scale, loc=loc)\n",
    "\n",
    "  # evaluation the function at the observations\n",
    "  skewnorm_likelihood = stats.rice.pdf(X, b=a, scale=scale, loc=loc)\n",
    "  L = np.sum(np.log(skewnorm_likelihood))\n",
    "\n",
    "  plt.plot(h[1], skewnorm_density)\n",
    "  plt.title(f\"Log-Likelihood {L:.10f}\")"
   ]
  },
  {
   "cell_type": "code",
   "execution_count": 16,
   "id": "fa02c2f8",
   "metadata": {},
   "outputs": [],
   "source": [
    "from ipywidgets import interact\n",
    "import ipywidgets as widgets\n",
    "\n",
    "import matplotlib.pyplot as plt"
   ]
  },
  {
   "cell_type": "code",
   "execution_count": 17,
   "id": "c38234d8",
   "metadata": {},
   "outputs": [],
   "source": [
    "shape_slider = widgets.FloatSlider(\n",
    "    value=shape,\n",
    "    min=shape-10,\n",
    "    max=shape+10,\n",
    "    step=0.01,\n",
    "    description='Shape:',\n",
    "    #disabled=False,\n",
    "    continuous_update=True,\n",
    "    orientation='horizontal',\n",
    "    readout=True,\n",
    "    readout_format='.1f',\n",
    ")"
   ]
  },
  {
   "cell_type": "code",
   "execution_count": 18,
   "id": "374dbb6d",
   "metadata": {},
   "outputs": [],
   "source": [
    "scale_slider = widgets.FloatSlider(\n",
    "    value=scale,\n",
    "    min=scale-10,\n",
    "    max=scale+10,\n",
    "    step=0.01,\n",
    "    description='Scale:',\n",
    "    continuous_update=True,\n",
    "    orientation='horizontal',\n",
    "    readout=True,\n",
    "    readout_format='.1f',\n",
    ")"
   ]
  },
  {
   "cell_type": "code",
   "execution_count": 19,
   "id": "e8beaeb9",
   "metadata": {},
   "outputs": [],
   "source": [
    "loc_slider = widgets.FloatSlider(\n",
    "    value=location,\n",
    "    min=location-10,\n",
    "    max=location+10,\n",
    "    step=0.01,\n",
    "    description='Location:',\n",
    "    continuous_update=True,\n",
    "    orientation='horizontal',\n",
    "    readout=True,\n",
    "    readout_format='.1f',\n",
    ")\n"
   ]
  },
  {
   "cell_type": "code",
   "execution_count": 20,
   "id": "9241d521",
   "metadata": {},
   "outputs": [
    {
     "data": {
      "application/vnd.jupyter.widget-view+json": {
       "model_id": "d28d7ebe95eb481eba1cc4dcf31174e1",
       "version_major": 2,
       "version_minor": 0
      },
      "text/plain": [
       "interactive(children=(FloatSlider(value=10.0, description='Shape:', max=20.0, readout_format='.1f', step=0.01)…"
      ]
     },
     "metadata": {},
     "output_type": "display_data"
    }
   ],
   "source": [
    "out = interact(plot_skewnorm_density_L, a = shape_slider, scale = scale_slider, loc = loc_slider)"
   ]
  }
 ],
 "metadata": {
  "kernelspec": {
   "display_name": "Python 3",
   "language": "python",
   "name": "python3"
  },
  "language_info": {
   "codemirror_mode": {
    "name": "ipython",
    "version": 3
   },
   "file_extension": ".py",
   "mimetype": "text/x-python",
   "name": "python",
   "nbconvert_exporter": "python",
   "pygments_lexer": "ipython3",
   "version": "3.12.1"
  }
 },
 "nbformat": 4,
 "nbformat_minor": 5
}
