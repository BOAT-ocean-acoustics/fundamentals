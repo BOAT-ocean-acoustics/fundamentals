{
 "cells": [
  {
   "cell_type": "code",
   "execution_count": 1,
   "metadata": {},
   "outputs": [],
   "source": [
    "import numpy as np\n",
    "import matplotlib.pyplot as plt\n",
    "import matplotlib.gridspec as gridspec\n",
    "import ipywidgets as widgets\n",
    "from IPython.display import display"
   ]
  },
  {
   "cell_type": "code",
   "execution_count": 2,
   "metadata": {},
   "outputs": [
    {
     "data": {
      "text/html": [
       "\n",
       "<style>\n",
       "    .widget-label { \n",
       "        font-size: 24px !important;\n",
       "    }\n",
       "    .slider-value { \n",
       "        font-size: 24px !important;\n",
       "    }\n",
       "    .widget-hslider .widget-readout {\n",
       "        font-size: 22px !important;\n",
       "    }\n",
       "</style>\n"
      ],
      "text/plain": [
       "<IPython.core.display.HTML object>"
      ]
     },
     "metadata": {},
     "output_type": "display_data"
    }
   ],
   "source": [
    "from IPython.display import display, HTML\n",
    "\n",
    "display(HTML(\"\"\"\n",
    "<style>\n",
    "    .widget-label { \n",
    "        font-size: 24px !important;\n",
    "    }\n",
    "    .slider-value { \n",
    "        font-size: 24px !important;\n",
    "    }\n",
    "    .widget-hslider .widget-readout {\n",
    "        font-size: 22px !important;\n",
    "    }\n",
    "</style>\n",
    "\"\"\"))"
   ]
  },
  {
   "cell_type": "code",
   "execution_count": 82,
   "metadata": {},
   "outputs": [
    {
     "data": {
      "application/vnd.jupyter.widget-view+json": {
       "model_id": "897002773cc646e18ff7f7981e58fe50",
       "version_major": 2,
       "version_minor": 0
      },
      "text/plain": [
       "interactive(children=(IntSlider(value=0, description='Angle (°)', layout=Layout(width='1000px'), max=90, min=-…"
      ]
     },
     "metadata": {},
     "output_type": "display_data"
    }
   ],
   "source": [
    "grid_size = 2000\n",
    "circle_radius = 400\n",
    "\n",
    "def update_circle(angle_deg, frequency):\n",
    "    r1x = 0\n",
    "    r1y = -circle_radius/10\n",
    "    r2x = 0\n",
    "    r2y = circle_radius/10\n",
    "    sampling_rate = 16000\n",
    "    t = np.linspace(0, 6, sampling_rate*6)\n",
    "    signal = np.sin(t*2*np.pi*frequency)\n",
    "    start = 3\n",
    "    duration = 2*(10**(-np.floor(np.log10(frequency))))\n",
    "    end = start+duration\n",
    "    speed_of_sound_in_water = 1500\n",
    "\n",
    "    angle_rad = np.radians(angle_deg)\n",
    "    circle_x = circle_radius * np.cos(angle_rad)\n",
    "    circle_y = circle_radius * np.sin(angle_rad)\n",
    "    dist_from_source_to_r1 = max(1, np.sqrt(((circle_x-r1x)**2) + ((circle_y-r1y)**2)))\n",
    "    dist_from_source_to_r2 = max(1, np.sqrt(((circle_x-r2x)**2) + ((circle_y-r2y)**2)))\n",
    "    time_to_r1 = dist_from_source_to_r1 / speed_of_sound_in_water\n",
    "    time_to_r2 = dist_from_source_to_r2 / speed_of_sound_in_water\n",
    "    receive_signal1 = signal/(dist_from_source_to_r1**2)\n",
    "    receive_signal2 = signal/(dist_from_source_to_r2**2)\n",
    "    r1_inds_begin = np.floor((start-time_to_r1)*sampling_rate).astype(int)\n",
    "    r1_inds_end = r1_inds_begin + np.ceil(duration*sampling_rate).astype(int)\n",
    "    chunk_of_received_signal1_in_window = receive_signal1[r1_inds_begin:r1_inds_end]\n",
    "    r2_inds_begin = np.floor((start-time_to_r2)*sampling_rate).astype(int)\n",
    "    r2_inds_end = r2_inds_begin + np.ceil(duration*sampling_rate).astype(int)\n",
    "    chunk_of_received_signal2_in_window = receive_signal2[r2_inds_begin:r2_inds_end]\n",
    "    smallest_r_inds = min(len(chunk_of_received_signal1_in_window), len(chunk_of_received_signal2_in_window))\n",
    "    chunk_of_received_signal1_in_window = chunk_of_received_signal1_in_window[:(smallest_r_inds)]\n",
    "    chunk_of_received_signal2_in_window = chunk_of_received_signal2_in_window[:(smallest_r_inds)]\n",
    "    summed_signal = chunk_of_received_signal1_in_window+chunk_of_received_signal2_in_window\n",
    "    vrms_summed_fixed = np.sqrt(np.mean(np.square(summed_signal)))\n",
    "    vrms_summed_fixed_dB = 20*np.log10(vrms_summed_fixed)\n",
    "\n",
    "    angle_degrees = np.arange(-90, 90)\n",
    "    angle_radians = np.radians(angle_degrees)\n",
    "    circle_x_arr = circle_radius * np.cos(angle_radians)\n",
    "    circle_y_arr = circle_radius * np.sin(angle_radians)\n",
    "    dist_from_source_to_r1_arr = np.sqrt(((circle_x_arr-r1x)**2) + ((circle_y_arr-r1y)**2))\n",
    "    dist_from_source_to_r1_arr[dist_from_source_to_r1_arr<=1] = 1\n",
    "    dist_from_source_to_r2_arr = np.sqrt(((circle_x_arr-r2x)**2) + ((circle_y_arr-r2y)**2))\n",
    "    dist_from_source_to_r2_arr[dist_from_source_to_r2_arr<=1] = 1\n",
    "    time_to_r1_array = dist_from_source_to_r1_arr / speed_of_sound_in_water\n",
    "    time_to_r2_array = dist_from_source_to_r2_arr / speed_of_sound_in_water\n",
    "    receive_signal1_for_degrees = signal[:, np.newaxis] /(dist_from_source_to_r1_arr**2)\n",
    "    receive_signal2_for_degrees = signal[:, np.newaxis] /(dist_from_source_to_r2_arr**2)\n",
    "    r1_indices = ((start - time_to_r1_array) * sampling_rate).astype(int) + np.arange(int(duration * sampling_rate))[:, np.newaxis]\n",
    "    r2_indices = ((start - time_to_r2_array) * sampling_rate).astype(int) + np.arange(int(duration * sampling_rate))[:, np.newaxis]\n",
    "    chunk_of_received_signal1_in_window_degrees = receive_signal1_for_degrees[r1_indices, np.arange(angle_degrees.shape[0])]\n",
    "    chunk_of_received_signal2_in_window_degrees = receive_signal2_for_degrees[r2_indices, np.arange(angle_degrees.shape[0])]\n",
    "    summed_signal_degrees = chunk_of_received_signal1_in_window_degrees+chunk_of_received_signal2_in_window_degrees\n",
    "    vrms_summed = np.sqrt(np.mean(np.square(summed_signal_degrees), axis=0))\n",
    "    vrms_summed_dB = 20*np.log10(vrms_summed)\n",
    "\n",
    "    fig = plt.figure(figsize=(15, 5))\n",
    "    gs = gridspec.GridSpec(1, 3, width_ratios=[4, 4, 2], wspace=0.3) \n",
    "    map_ax = plt.subplot(gs[0, 0])\n",
    "    map_ax.set_xlim(-grid_size / 2, grid_size / 2)\n",
    "    map_ax.set_ylim(-grid_size / 2, grid_size / 2)\n",
    "    map_ax.scatter(circle_x, circle_y, edgecolors='red', facecolors='none', linewidths=2, s=50, label=f\"Source\")\n",
    "    map_ax.scatter(r1x, r1y, color='green', s=50, label=f\"Receiver #1\")\n",
    "    map_ax.scatter(r2x, r2y, color='blue', s=50, label=f\"Receiver #2\")\n",
    "    map_ax.set_xlabel(\"X (meters)\")\n",
    "    map_ax.set_ylabel(\"Y (meters)\")\n",
    "    map_ax.set_title(f\"Sound Reception (2 receivers; 1 source)\")\n",
    "    map_ax.legend()\n",
    "\n",
    "    gs_signals = gridspec.GridSpecFromSubplotSpec(2, 1, height_ratios=[2,1], subplot_spec=gs[0, 1], hspace=0.8)\n",
    "    received_ax = plt.subplot(gs_signals[0])\n",
    "    received_ax.plot((1000*(t+time_to_r1-start)), receive_signal1+1e-5, 'green', label='rcvr #1')\n",
    "    received_ax.plot((1000*(t+time_to_r2-start)), receive_signal2-1e-5, 'blue', label='rcvr #2')\n",
    "    received_ax.set_xlabel(\"Time (ms)\")\n",
    "    received_ax.set_ylabel(\"Amplitude\")\n",
    "    received_ax.set_title(\"Received voltage signal\")\n",
    "    received_ax.legend(loc='upper right')\n",
    "    received_ax.grid(which='both')\n",
    "    received_ax.set_xlim(0, 1000*duration)\n",
    "    received_ax.set_ylim(-2e-5, 2e-5)\n",
    "\n",
    "    summed_ax = plt.subplot(gs_signals[1])\n",
    "    summed_ax.plot(1000*(t[r2_inds_begin:r2_inds_end]+time_to_r2-start), summed_signal, 'k')\n",
    "    summed_ax.set_xlabel(\"Time (ms)\")\n",
    "    summed_ax.set_ylabel(\"Amplitude\")\n",
    "    summed_ax.set_title(\"Summed voltage signal\")\n",
    "    summed_ax.grid(which='both')\n",
    "    summed_ax.set_xlim(0, 1000*duration)\n",
    "    summed_ax.set_ylim(-2e-5, 2e-5)\n",
    "\n",
    "    gs_beam_pattern = gridspec.GridSpecFromSubplotSpec(1, 1, subplot_spec=gs[0, 2], hspace=0.8)\n",
    "    beam_pattern_ax = plt.subplot(gs_beam_pattern[0])\n",
    "    beam_pattern_ax.set_title(f'Beam pattern')\n",
    "    beam_pattern_ax.plot(vrms_summed_dB, angle_degrees, color='k')\n",
    "    beam_pattern_ax.scatter(vrms_summed_fixed_dB, angle_deg, edgecolors='red', facecolors='w', linewidth=2, zorder=2)\n",
    "    beam_pattern_ax.set_xlim(-120, -90)\n",
    "    beam_pattern_ax.grid(which='both')\n",
    "    beam_pattern_ax.set_xlabel(r'dB$V_{rms}$ (dB)')\n",
    "    beam_pattern_ax.set_ylabel('Angle (°)')\n",
    "\n",
    "    plt.show()\n",
    "\n",
    "angle_slider = widgets.IntSlider(\n",
    "    value=0, min=-90, max=90, step=1, description=\"Angle (°)\", continuous_update=True, style={'description_width': 'initial'}, layout=widgets.Layout(width=\"1000px\")\n",
    ")\n",
    "\n",
    "frequency_slider = widgets.IntSlider(\n",
    "    value=0, min=1, max=1e3, step=1, description=\"Frequency (Hz)\", continuous_update=True, style={'description_width': 'initial'}, layout=widgets.Layout(width=\"1000px\")\n",
    ")\n",
    "\n",
    "interactive_plot = widgets.interactive(update_circle, angle_deg=angle_slider, frequency=frequency_slider)\n",
    "display(interactive_plot)"
   ]
  }
 ],
 "metadata": {
  "kernelspec": {
   "display_name": "boat_dev",
   "language": "python",
   "name": "python3"
  },
  "language_info": {
   "codemirror_mode": {
    "name": "ipython",
    "version": 3
   },
   "file_extension": ".py",
   "mimetype": "text/x-python",
   "name": "python",
   "nbconvert_exporter": "python",
   "pygments_lexer": "ipython3",
   "version": "3.13.2"
  }
 },
 "nbformat": 4,
 "nbformat_minor": 2
}
