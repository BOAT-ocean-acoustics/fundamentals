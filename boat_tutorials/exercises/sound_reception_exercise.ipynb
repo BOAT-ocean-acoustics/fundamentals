{
 "cells": [
  {
   "cell_type": "code",
   "execution_count": null,
   "metadata": {},
   "outputs": [],
   "source": [
    "import numpy as np\n",
    "import matplotlib.pyplot as plt\n",
    "import ipywidgets as widgets\n",
    "from IPython.display import display"
   ]
  },
  {
   "cell_type": "code",
   "execution_count": null,
   "metadata": {},
   "outputs": [
    {
     "data": {
      "text/html": [
       "\n",
       "<style>\n",
       "    .widget-label { \n",
       "        font-size: 24px !important;\n",
       "    }\n",
       "    .slider-value { \n",
       "        font-size: 24px !important;\n",
       "    }\n",
       "    .widget-hslider .widget-readout {\n",
       "        font-size: 22px !important;\n",
       "    }\n",
       "</style>\n"
      ],
      "text/plain": [
       "<IPython.core.display.HTML object>"
      ]
     },
     "metadata": {},
     "output_type": "display_data"
    }
   ],
   "source": [
    "from IPython.display import display, HTML\n",
    "\n",
    "display(HTML(\"\"\"\n",
    "<style>\n",
    "    .widget-label { \n",
    "        font-size: 24px !important;\n",
    "    }\n",
    "    .slider-value { \n",
    "        font-size: 24px !important;\n",
    "    }\n",
    "    .widget-hslider .widget-readout {\n",
    "        font-size: 22px !important;\n",
    "    }\n",
    "</style>\n",
    "\"\"\"))"
   ]
  },
  {
   "cell_type": "code",
   "execution_count": 59,
   "metadata": {},
   "outputs": [],
   "source": [
    "grid_size = 1000\n",
    "circle_radius = 100\n",
    "\n",
    "def update_circle(angle_deg):\n",
    "    angle_rad = np.radians(angle_deg)\n",
    "    \n",
    "    circle_x = circle_radius * np.cos(angle_rad)\n",
    "    circle_y = circle_radius * np.sin(angle_rad)\n",
    "    \n",
    "    fig, ax = plt.subplots(1, 2, figsize=(10, 5))\n",
    "\n",
    "    cur_ax = ax[0]\n",
    "    cur_ax.set_xlim(-grid_size / 2, grid_size / 2)\n",
    "    cur_ax.set_ylim(-grid_size / 2, grid_size / 2)\n",
    "    cur_ax.scatter(circle_x, circle_y, color='red', s=10, label=f\"Source: {circle_x:.2f} {circle_y:.2f}\")\n",
    "\n",
    "    r1x = 0\n",
    "    r1y = -100\n",
    "    dist_from_source_to_r1 = np.sqrt(((circle_x-r1x)**2) + ((circle_y-r1y)**2))\n",
    "    transmission_loss_to_r1 = 20*np.log10(dist_from_source_to_r1)\n",
    "    cur_ax.scatter(r1x, r1y, color='green', s=10, label=f\"Receiver #1 {dist_from_source_to_r1:.2f}\")\n",
    "\n",
    "    r1x = 0\n",
    "    r1y = 100\n",
    "    dist_from_source_to_r2 = np.sqrt(((circle_x-r1x)**2) + ((circle_y-r1y)**2))\n",
    "    transmission_loss_to_r2 = 20*np.log10(dist_from_source_to_r2)\n",
    "    cur_ax.scatter(r1x, r1y, color='blue', s=10, label=f\"Receiver #2 {dist_from_source_to_r2:.2f}\")\n",
    "    cur_ax.set_xlabel(\"X\")\n",
    "    cur_ax.set_ylabel(\"Y\")\n",
    "    cur_ax.set_title(f\"Circle Position (Angle = {angle_deg}°)\")\n",
    "    cur_ax.legend()\n",
    "    \n",
    "    cur_ax = ax[1]\n",
    "    t = np.linspace(0, 10, 1000)\n",
    "    signal = np.sin(t*np.pi)\n",
    "    cur_ax.set_title('Transmitted signal')\n",
    "    cur_ax.plot(t, signal, color='red')\n",
    "    cur_ax.plot(t, signal/dist_from_source_to_r1, color='blue')\n",
    "    cur_ax.plot(t, signal/dist_from_source_to_r2, color='green')\n",
    "    cur_ax.set_xlabel('Time (s)')\n",
    "    cur_ax.grid(which='both')\n",
    "\n",
    "    fig.tight_layout()\n",
    "    plt.show()\n"
   ]
  },
  {
   "cell_type": "code",
   "execution_count": null,
   "metadata": {},
   "outputs": [
    {
     "data": {
      "application/vnd.jupyter.widget-view+json": {
       "model_id": "2054daf3b3824108a5ea98e50d3e8e11",
       "version_major": 2,
       "version_minor": 0
      },
      "text/plain": [
       "interactive(children=(IntSlider(value=0, description='Angle (°)', layout=Layout(width='600px'), max=360, style…"
      ]
     },
     "metadata": {},
     "output_type": "display_data"
    }
   ],
   "source": [
    "\n",
    "# Create an angle slider (0 to 360 degrees)\n",
    "angle_slider = widgets.IntSlider(\n",
    "    value=0, min=0, max=360, step=1, description=\"Angle (°)\", continuous_update=True, style={'description_width': 'initial'}, layout=widgets.Layout(width=\"600px\")\n",
    ")\n",
    "\n",
    "# Create interactive widget\n",
    "interactive_plot = widgets.interactive(update_circle, angle_deg=angle_slider)\n",
    "\n",
    "# Display the widget\n",
    "display(interactive_plot)\n"
   ]
  }
 ],
 "metadata": {
  "kernelspec": {
   "display_name": "boat_dev",
   "language": "python",
   "name": "python3"
  },
  "language_info": {
   "codemirror_mode": {
    "name": "ipython",
    "version": 3
   },
   "file_extension": ".py",
   "mimetype": "text/x-python",
   "name": "python",
   "nbconvert_exporter": "python",
   "pygments_lexer": "ipython3",
   "version": "3.13.2"
  }
 },
 "nbformat": 4,
 "nbformat_minor": 2
}
