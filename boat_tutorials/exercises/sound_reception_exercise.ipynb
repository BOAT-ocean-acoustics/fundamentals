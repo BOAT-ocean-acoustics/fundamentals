{
 "cells": [
  {
   "cell_type": "code",
   "execution_count": 105,
   "metadata": {},
   "outputs": [],
   "source": [
    "import numpy as np\n",
    "import matplotlib.pyplot as plt\n",
    "import matplotlib.gridspec as gridspec\n",
    "import ipywidgets as widgets\n",
    "from IPython.display import display"
   ]
  },
  {
   "cell_type": "code",
   "execution_count": 99,
   "metadata": {},
   "outputs": [
    {
     "data": {
      "text/html": [
       "\n",
       "<style>\n",
       "    .widget-label { \n",
       "        font-size: 24px !important;\n",
       "    }\n",
       "    .slider-value { \n",
       "        font-size: 24px !important;\n",
       "    }\n",
       "    .widget-hslider .widget-readout {\n",
       "        font-size: 22px !important;\n",
       "    }\n",
       "</style>\n"
      ],
      "text/plain": [
       "<IPython.core.display.HTML object>"
      ]
     },
     "metadata": {},
     "output_type": "display_data"
    }
   ],
   "source": [
    "from IPython.display import display, HTML\n",
    "\n",
    "display(HTML(\"\"\"\n",
    "<style>\n",
    "    .widget-label { \n",
    "        font-size: 24px !important;\n",
    "    }\n",
    "    .slider-value { \n",
    "        font-size: 24px !important;\n",
    "    }\n",
    "    .widget-hslider .widget-readout {\n",
    "        font-size: 22px !important;\n",
    "    }\n",
    "</style>\n",
    "\"\"\"))"
   ]
  },
  {
   "cell_type": "code",
   "execution_count": 186,
   "metadata": {},
   "outputs": [],
   "source": [
    "grid_size = 50000\n",
    "circle_radius = 10000\n",
    "\n",
    "def update_circle(angle_deg):\n",
    "    angle_rad = np.radians(angle_deg)\n",
    "    \n",
    "    circle_x = circle_radius * np.cos(angle_rad)\n",
    "    circle_y = circle_radius * np.sin(angle_rad)\n",
    "    \n",
    "    fig = plt.figure(figsize=(12, 5))\n",
    "    gs = gridspec.GridSpec(1, 2, width_ratios=[1, 1], wspace=0.3) \n",
    "\n",
    "    cur_ax = plt.subplot(gs[0, 0])\n",
    "    cur_ax.set_xlim(-grid_size / 2, grid_size / 2)\n",
    "    cur_ax.set_ylim(-grid_size / 2, grid_size / 2)\n",
    "    cur_ax.scatter(circle_x, circle_y, color='red', s=10, label=f\"Source: ({circle_x:.2f}, {circle_y:.2f})\")\n",
    "\n",
    "    r1x = 0\n",
    "    r1y = -1000\n",
    "    dist_from_source_to_r1 = max(1, np.sqrt(((circle_x-r1x)**2) + ((circle_y-r1y)**2)))\n",
    "    transmission_loss_to_r1 = 20*np.log10(dist_from_source_to_r1)\n",
    "    cur_ax.scatter(r1x, r1y, color='green', s=10, label=f\"Receiver #1 {dist_from_source_to_r1:.2f}m from source\")\n",
    "\n",
    "    r1x = 0\n",
    "    r1y = 1000\n",
    "    dist_from_source_to_r2 = max(1, np.sqrt(((circle_x-r1x)**2) + ((circle_y-r1y)**2)))\n",
    "    transmission_loss_to_r2 = 20*np.log10(dist_from_source_to_r2)\n",
    "    cur_ax.scatter(r1x, r1y, color='blue', s=10, label=f\"Receiver #2 {dist_from_source_to_r2:.2f}m from source\")\n",
    "    cur_ax.set_xlabel(\"X (meters)\")\n",
    "    cur_ax.set_ylabel(\"Y (meters)\")\n",
    "    cur_ax.set_title(f\"Circle Position (Angle = {angle_deg}°)\")\n",
    "    cur_ax.legend()\n",
    "    \n",
    "    sampling_rate = 2000\n",
    "    t = np.linspace(0, 120, sampling_rate*120)\n",
    "    signal = np.sin(t*np.pi)\n",
    "\n",
    "    start = 10\n",
    "    duration = 5\n",
    "    end = start+duration\n",
    "\n",
    "    speed_of_sound_in_water = 1500\n",
    "    time_to_r1 = dist_from_source_to_r1 / speed_of_sound_in_water\n",
    "    time_to_r2 = dist_from_source_to_r2 / speed_of_sound_in_water\n",
    "\n",
    "    gs_right = gridspec.GridSpecFromSubplotSpec(1, 1, subplot_spec=gs[0, 1], hspace=0.8)\n",
    "\n",
    "    ax_r1 = plt.subplot(gs_right[0])\n",
    "    receive_signal1 = signal/(dist_from_source_to_r1**2)\n",
    "    receive_signal2 = signal/(dist_from_source_to_r2**2)\n",
    "    ax_r1.plot(t+time_to_r1, receive_signal1, 'green')\n",
    "    ax_r1.plot(t+time_to_r2, receive_signal2, 'blue')\n",
    "\n",
    "    chunk_of_received_signal1_in_window = receive_signal1[int((start-time_to_r1)*sampling_rate):int((end-time_to_r1)*sampling_rate)]\n",
    "    chunk_of_received_signal2_in_window = receive_signal2[int((start-time_to_r2)*sampling_rate):int((end-time_to_r2)*sampling_rate)]\n",
    "\n",
    "\n",
    "    ax_r1.plot(t[int((start)*sampling_rate):int((end)*sampling_rate)], chunk_of_received_signal1_in_window+chunk_of_received_signal2_in_window, 'k')\n",
    "    ax_r1.set_xlabel(\"Time (s)\")\n",
    "    ax_r1.set_ylabel(\"Amplitude\")\n",
    "    ax_r1.set_title(\"Received Signal #1\")\n",
    "    ax_r1.grid(which='both')\n",
    "    ax_r1.set_xlim(start, end)\n",
    "    ax_r1.set_ylim(-1e-7, 1e-7)\n",
    "\n",
    "    # ax_r2 = plt.subplot(gs_right[1])\n",
    "    # receive_signal2 = signal/(dist_from_source_to_r2**2)\n",
    "    # ax_r2.plot(t+time_to_r2, receive_signal2, 'blue')\n",
    "    # ax_r2.set_xlabel(\"Time (s)\")\n",
    "    # ax_r2.set_ylabel(\"Amplitude\")\n",
    "    # ax_r2.set_title(\"Received Signal #2\")\n",
    "    # ax_r2.grid(which='both')\n",
    "    # ax_r2.set_xlim(start_time_of_transmission, start_time_of_transmission+duration_of_transmission)\n",
    "\n",
    "    # ax_r1 = plt.subplot(gs_right[2])\n",
    "    # ax_r1.plot(t, receive_signal2+receive_signal1, 'green')\n",
    "    # ax_r1.set_xlabel(\"Time (s)\")\n",
    "    # ax_r1.set_ylabel(\"Amplitude\")\n",
    "    # ax_r1.set_title(\"Received Signal #1\")\n",
    "    # ax_r1.grid(which='both')\n",
    "    # ax_r1.set_xlim(start_time_of_transmission, start_time_of_transmission+duration_of_transmission)\n",
    "\n",
    "    plt.show()\n"
   ]
  },
  {
   "cell_type": "code",
   "execution_count": 187,
   "metadata": {},
   "outputs": [
    {
     "data": {
      "application/vnd.jupyter.widget-view+json": {
       "model_id": "1d5b2c7304c7475da21a464d25e7e48f",
       "version_major": 2,
       "version_minor": 0
      },
      "text/plain": [
       "interactive(children=(IntSlider(value=0, description='Angle (°)', layout=Layout(width='600px'), max=360, style…"
      ]
     },
     "metadata": {},
     "output_type": "display_data"
    }
   ],
   "source": [
    "angle_slider = widgets.IntSlider(\n",
    "    value=0, min=0, max=360, step=1, description=\"Angle (°)\", continuous_update=True, style={'description_width': 'initial'}, layout=widgets.Layout(width=\"600px\")\n",
    ")\n",
    "\n",
    "interactive_plot = widgets.interactive(update_circle, angle_deg=angle_slider)\n",
    "display(interactive_plot)\n"
   ]
  }
 ],
 "metadata": {
  "kernelspec": {
   "display_name": "boat_dev",
   "language": "python",
   "name": "python3"
  },
  "language_info": {
   "codemirror_mode": {
    "name": "ipython",
    "version": 3
   },
   "file_extension": ".py",
   "mimetype": "text/x-python",
   "name": "python",
   "nbconvert_exporter": "python",
   "pygments_lexer": "ipython3",
   "version": "3.13.2"
  }
 },
 "nbformat": 4,
 "nbformat_minor": 2
}
