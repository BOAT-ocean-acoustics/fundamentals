{
 "cells": [
  {
   "cell_type": "code",
   "execution_count": 188,
   "metadata": {},
   "outputs": [],
   "source": [
    "import numpy as np\n",
    "import matplotlib.pyplot as plt\n",
    "import matplotlib.gridspec as gridspec\n",
    "import ipywidgets as widgets\n",
    "from IPython.display import display"
   ]
  },
  {
   "cell_type": "code",
   "execution_count": 189,
   "metadata": {},
   "outputs": [
    {
     "data": {
      "text/html": [
       "\n",
       "<style>\n",
       "    .widget-label { \n",
       "        font-size: 24px !important;\n",
       "    }\n",
       "    .slider-value { \n",
       "        font-size: 24px !important;\n",
       "    }\n",
       "    .widget-hslider .widget-readout {\n",
       "        font-size: 22px !important;\n",
       "    }\n",
       "</style>\n"
      ],
      "text/plain": [
       "<IPython.core.display.HTML object>"
      ]
     },
     "metadata": {},
     "output_type": "display_data"
    }
   ],
   "source": [
    "from IPython.display import display, HTML\n",
    "\n",
    "display(HTML(\"\"\"\n",
    "<style>\n",
    "    .widget-label { \n",
    "        font-size: 24px !important;\n",
    "    }\n",
    "    .slider-value { \n",
    "        font-size: 24px !important;\n",
    "    }\n",
    "    .widget-hslider .widget-readout {\n",
    "        font-size: 22px !important;\n",
    "    }\n",
    "</style>\n",
    "\"\"\"))"
   ]
  },
  {
   "cell_type": "code",
   "execution_count": 308,
   "metadata": {},
   "outputs": [],
   "source": [
    "grid_size = 50000\n",
    "circle_radius = 10000\n",
    "\n",
    "def update_circle(angle_deg, frequency):\n",
    "    angle_rad = np.radians(angle_deg)\n",
    "    \n",
    "    circle_x = circle_radius * np.cos(angle_rad)\n",
    "    circle_y = circle_radius * np.sin(angle_rad)\n",
    "    \n",
    "    fig = plt.figure(figsize=(12, 5))\n",
    "    gs = gridspec.GridSpec(1, 2, width_ratios=[1, 1], wspace=0.3) \n",
    "\n",
    "    map_ax = plt.subplot(gs[0, 0])\n",
    "    map_ax.set_xlim(-grid_size / 2, grid_size / 2)\n",
    "    map_ax.set_ylim(-grid_size / 2, grid_size / 2)\n",
    "    map_ax.scatter(circle_x, circle_y, edgecolors='red', facecolors='none', linewidths=2, s=50, label=f\"Source\")\n",
    "\n",
    "    r1x = 0\n",
    "    r1y = -1000\n",
    "    dist_from_source_to_r1 = max(1, np.sqrt(((circle_x-r1x)**2) + ((circle_y-r1y)**2)))\n",
    "    transmission_loss_to_r1 = 20*np.log10(dist_from_source_to_r1)\n",
    "    map_ax.scatter(r1x, r1y, color='green', s=50, label=f\"Receiver #1\")\n",
    "\n",
    "    r1x = 0\n",
    "    r1y = 1000\n",
    "    dist_from_source_to_r2 = max(1, np.sqrt(((circle_x-r1x)**2) + ((circle_y-r1y)**2)))\n",
    "    transmission_loss_to_r2 = 20*np.log10(dist_from_source_to_r2)\n",
    "    map_ax.scatter(r1x, r1y, color='blue', s=50, label=f\"Receiver #2\")\n",
    "    map_ax.set_xlabel(\"X (meters)\")\n",
    "    map_ax.set_ylabel(\"Y (meters)\")\n",
    "    map_ax.set_title(f\"Sound Reception (2 receivers; 1 source)\")\n",
    "    map_ax.legend()\n",
    "    \n",
    "    sampling_rate = 16000\n",
    "    t = np.linspace(0, 30, sampling_rate*30)\n",
    "    signal = np.sin(t*2*np.pi*frequency)\n",
    "\n",
    "    start = 10\n",
    "    duration = 10**(-np.floor(np.log10(frequency)))\n",
    "    end = start+duration\n",
    "\n",
    "    speed_of_sound_in_water = 1500\n",
    "    time_to_r1 = dist_from_source_to_r1 / speed_of_sound_in_water\n",
    "    time_to_r2 = dist_from_source_to_r2 / speed_of_sound_in_water\n",
    "\n",
    "    gs_right = gridspec.GridSpecFromSubplotSpec(2, 1, height_ratios=[2,1], subplot_spec=gs[0, 1], hspace=0.8)\n",
    "\n",
    "    received_ax = plt.subplot(gs_right[0])\n",
    "    receive_signal1 = signal/(dist_from_source_to_r1**2)\n",
    "    receive_signal2 = signal/(dist_from_source_to_r2**2)\n",
    "    received_ax.plot(t+time_to_r1, receive_signal1+2e-8, 'green', label='rcvr #1')\n",
    "    received_ax.plot(t+time_to_r2, receive_signal2-2e-8, 'blue', label='rcvr #2')\n",
    "\n",
    "    chunk_of_received_signal1_in_window = receive_signal1[int((start-time_to_r1)*sampling_rate):int((end-time_to_r1)*sampling_rate)]\n",
    "    chunk_of_received_signal2_in_window = receive_signal2[int((start-time_to_r2)*sampling_rate):int((end-time_to_r2)*sampling_rate)]\n",
    "\n",
    "    received_ax.set_xlabel(\"Time (s)\")\n",
    "    received_ax.set_ylabel(\"Amplitude\")\n",
    "    received_ax.set_title(\"Received voltage signal\")\n",
    "    received_ax.legend(loc='upper right')\n",
    "    received_ax.grid(which='both')\n",
    "    received_ax.set_xlim(start, end)\n",
    "    received_ax.set_ylim(-5e-8, 5e-8)\n",
    "\n",
    "    summed_ax = plt.subplot(gs_right[1])\n",
    "    receive_signal2 = signal/(dist_from_source_to_r2**2)\n",
    "    summed_ax.plot(t[int((start)*sampling_rate):int((end)*sampling_rate)], chunk_of_received_signal1_in_window+chunk_of_received_signal2_in_window, 'k')\n",
    "    summed_ax.set_xlabel(\"Time (s)\")\n",
    "    summed_ax.set_ylabel(\"Amplitude\")\n",
    "    summed_ax.set_title(\"Summed voltage signal\")\n",
    "    summed_ax.grid(which='both')\n",
    "    summed_ax.set_xlim(start, end)\n",
    "    summed_ax.set_ylim(-5e-8, 5e-8)\n",
    "\n",
    "    plt.show()\n"
   ]
  },
  {
   "cell_type": "code",
   "execution_count": 309,
   "metadata": {},
   "outputs": [
    {
     "data": {
      "application/vnd.jupyter.widget-view+json": {
       "model_id": "0bb7527025274a6b9fed447794bbfc40",
       "version_major": 2,
       "version_minor": 0
      },
      "text/plain": [
       "interactive(children=(IntSlider(value=0, description='Angle (°)', layout=Layout(width='1000px'), max=360, styl…"
      ]
     },
     "metadata": {},
     "output_type": "display_data"
    }
   ],
   "source": [
    "angle_slider = widgets.IntSlider(\n",
    "    value=0, min=0, max=360, step=1, description=\"Angle (°)\", continuous_update=True, style={'description_width': 'initial'}, layout=widgets.Layout(width=\"1000px\")\n",
    ")\n",
    "\n",
    "frequency_slider = widgets.IntSlider(\n",
    "    value=0, min=1, max=1e3, step=1, description=\"Frequency (Hz)\", continuous_update=True, style={'description_width': 'initial'}, layout=widgets.Layout(width=\"1000px\")\n",
    ")\n",
    "\n",
    "interactive_plot = widgets.interactive(update_circle, angle_deg=angle_slider, frequency=frequency_slider)\n",
    "display(interactive_plot)\n"
   ]
  }
 ],
 "metadata": {
  "kernelspec": {
   "display_name": "boat_dev",
   "language": "python",
   "name": "python3"
  },
  "language_info": {
   "codemirror_mode": {
    "name": "ipython",
    "version": 3
   },
   "file_extension": ".py",
   "mimetype": "text/x-python",
   "name": "python",
   "nbconvert_exporter": "python",
   "pygments_lexer": "ipython3",
   "version": "3.13.2"
  }
 },
 "nbformat": 4,
 "nbformat_minor": 2
}
