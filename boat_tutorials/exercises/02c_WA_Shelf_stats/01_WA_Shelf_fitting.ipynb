{
 "cells": [
  {
   "cell_type": "markdown",
   "id": "cd73352e",
   "metadata": {},
   "source": [
    "# Washington Shelf Experiment Data"
   ]
  },
  {
   "cell_type": "markdown",
   "id": "5bc87c87",
   "metadata": {},
   "source": [
    "In this exercise we will study data from the Washington Shelf experiment. The data contains transmission signals among other background noise. We will:\n",
    "\n",
    "* fit a distribution to the background noise\n",
    "* fit a distribution to the transmission signal\n",
    "* use the fitted distributions to set up a statistical test to predict presence of a transmission sound and test on new samples"
   ]
  },
  {
   "cell_type": "markdown",
   "id": "7c929060",
   "metadata": {},
   "source": [
    "## Reading Data"
   ]
  },
  {
   "cell_type": "markdown",
   "id": "9605d60f",
   "metadata": {},
   "source": [
    "To construct \"idealized\" distributions for transmission and background, we have extracted short segments of length 1 sec corresponding to the transmission, and 1 sec of background sound before it. The sampling frequency is 48kHz. We have stored the time series in two `.csv` files: `df_tr.csv` and `df_bg.csv`. The column names correspond to the signal timestamps.\n",
    "\n"
   ]
  },
  {
   "cell_type": "code",
   "execution_count": null,
   "id": "a4f0ad30",
   "metadata": {},
   "outputs": [],
   "source": [
    "import scipy.signal as signal\n",
    "import matplotlib.pyplot as plt\n",
    "import scipy.io as io\n",
    "import numpy as np\n",
    "import pandas as pd\n",
    "import scipy as sp"
   ]
  },
  {
   "cell_type": "code",
   "execution_count": null,
   "id": "81cf6a8a",
   "metadata": {},
   "outputs": [],
   "source": [
    "fs = 48000"
   ]
  },
  {
   "cell_type": "code",
   "execution_count": null,
   "id": "540f8cd2-4564-4a19-9592-c1c2fbe4bc41",
   "metadata": {},
   "outputs": [],
   "source": [
    "data_path = \"/home/jovyan/shared-public/\""
   ]
  },
  {
   "cell_type": "code",
   "execution_count": null,
   "id": "1f205ded",
   "metadata": {},
   "outputs": [],
   "source": [
    "# reading transmission dataset\n",
    "df_tr = pd.read_csv(data_path+\"df_tr.csv\")\n",
    "# reading background dataset\n",
    "df_bg = pd.read_csv(data_path+\"df_bg.csv\")"
   ]
  },
  {
   "cell_type": "code",
   "execution_count": null,
   "id": "2b9c600d",
   "metadata": {},
   "outputs": [],
   "source": [
    "# visualize how the data is organized\n",
    "df_tr.head()"
   ]
  },
  {
   "cell_type": "code",
   "execution_count": null,
   "id": "e36e29ed-10eb-4df5-b730-a655fae79341",
   "metadata": {},
   "outputs": [],
   "source": [
    "df_tr.shape"
   ]
  },
  {
   "cell_type": "markdown",
   "id": "a8b44656-c557-437e-ae57-c71c39897fa0",
   "metadata": {},
   "source": [
    "Each column corresponds to a 1 sec time series (of length 48000) at a given timestamp, and we have 500 observations."
   ]
  },
  {
   "cell_type": "code",
   "execution_count": null,
   "id": "9d72dfce",
   "metadata": {},
   "outputs": [],
   "source": [
    "# display 1 pair of transmission and background time series\n",
    "\n",
    "# select one index to plot the signals\n",
    "idx = 10\n",
    "\n",
    "time = np.arange(0, 1, 1. / fs)\n",
    "\n",
    "plt.plot(time, df_tr.iloc[:,idx], label=\"transmission\", alpha=0.5)\n",
    "plt.plot(time, df_bg.iloc[:,idx], label=\"background\", alpha=0.5)\n",
    "plt.legend()"
   ]
  },
  {
   "cell_type": "code",
   "execution_count": null,
   "id": "56692495-c03c-4ac6-8341-e3849651aa59",
   "metadata": {},
   "outputs": [],
   "source": [
    "Fs = 48000"
   ]
  },
  {
   "cell_type": "code",
   "execution_count": null,
   "id": "864e765e-1b52-4e16-8a20-8ff4b021911e",
   "metadata": {},
   "outputs": [],
   "source": [
    "_ = plt.specgram(df_tr.iloc[:,idx], Fs=Fs)\n",
    "plt.title(\"Transmission\")"
   ]
  },
  {
   "cell_type": "code",
   "execution_count": null,
   "id": "78d0006f-6a70-49da-b643-70f73d8818b3",
   "metadata": {},
   "outputs": [],
   "source": [
    "_ = plt.specgram(df_bg.iloc[:,idx], Fs=Fs)\n",
    "plt.title(\"Background\")"
   ]
  },
  {
   "cell_type": "markdown",
   "id": "5f9d55f9",
   "metadata": {},
   "source": [
    "## Filtering Data"
   ]
  },
  {
   "cell_type": "markdown",
   "id": "0efb8a98",
   "metadata": {},
   "source": [
    "Since the data is quite noisy, and sometimes the transmission is not visible. We will use a filter to limit the frequency content to (3450Hz, 3550Hz) range. "
   ]
  },
  {
   "cell_type": "code",
   "execution_count": null,
   "id": "14174be4",
   "metadata": {},
   "outputs": [],
   "source": [
    "import scipy as sp"
   ]
  },
  {
   "cell_type": "code",
   "execution_count": null,
   "id": "b2060865",
   "metadata": {},
   "outputs": [],
   "source": [
    "def BandPass(inputSignal, bandLimits, freqSample):\n",
    "    sos = sp.signal.butter(4, bandLimits, 'bandpass', fs = freqSample, output='sos')\n",
    "    outputSignal = sp.signal.sosfilt(sos,inputSignal)\n",
    "    \n",
    "    return outputSignal"
   ]
  },
  {
   "cell_type": "code",
   "execution_count": null,
   "id": "6eef4662",
   "metadata": {},
   "outputs": [],
   "source": [
    "flimits = [3450, 3550]\n",
    "signal_tr_filt = BandPass( df_tr.iloc[:,idx], flimits, fs)\n",
    "signal_bg_filt = BandPass( df_bg.iloc[:,idx], flimits, fs)"
   ]
  },
  {
   "cell_type": "code",
   "execution_count": null,
   "id": "a7eafec8",
   "metadata": {},
   "outputs": [],
   "source": [
    "plt.plot(time, signal_tr_filt, alpha=0.5, label = \"transmission\")\n",
    "plt.plot(time, signal_bg_filt, alpha=0.5, label = \"background\")\n",
    "plt.legend()\n",
    "plt.show()"
   ]
  },
  {
   "cell_type": "markdown",
   "id": "20363655",
   "metadata": {},
   "source": [
    "**TODO:** Filter all the data"
   ]
  },
  {
   "cell_type": "markdown",
   "id": "ec174cf3-9849-4981-800b-e210898bc6d6",
   "metadata": {},
   "source": [
    "Hint: you can either use the pandas dataframe [`apply`](https://pandas.pydata.org/docs/reference/api/pandas.DataFrame.apply.html) function or loop through the columns."
   ]
  },
  {
   "cell_type": "markdown",
   "id": "10dca938",
   "metadata": {},
   "source": [
    "## Computing RMS\n",
    "\n",
    "Compute the Root Mean Square for one 1 sec signal, and convert to dB."
   ]
  },
  {
   "cell_type": "code",
   "execution_count": null,
   "id": "ea6f4092",
   "metadata": {},
   "outputs": [],
   "source": [
    "# RMS in dB for one example\n",
    "rms_tr = 20*np.log10(np.sqrt(np.mean(np.square(signal_tr_filt.astype('float')))))\n",
    "print(rms_tr)\n",
    "\n",
    "rms_bg = 20*np.log10(np.sqrt(np.mean(np.square(signal_bg_filt.astype('float')))))\n",
    "print(rms_bg)"
   ]
  },
  {
   "cell_type": "markdown",
   "id": "c5b4dfa6",
   "metadata": {},
   "source": [
    "**TODO:** Compute RMS and convert to dB for each 1 sec signal."
   ]
  },
  {
   "cell_type": "code",
   "execution_count": null,
   "id": "23828841",
   "metadata": {},
   "outputs": [],
   "source": []
  },
  {
   "cell_type": "markdown",
   "id": "b48972f3",
   "metadata": {},
   "source": [
    "**TODO:** Plot the histograms of the RMS dB values for the transmission and background signals. What type of distribution do they follow?"
   ]
  },
  {
   "cell_type": "code",
   "execution_count": null,
   "id": "9bcd931d",
   "metadata": {},
   "outputs": [],
   "source": []
  },
  {
   "cell_type": "markdown",
   "id": "2f5d95b1",
   "metadata": {},
   "source": [
    "## Fitting Distributions"
   ]
  },
  {
   "cell_type": "markdown",
   "id": "f76092f0-4d8a-40e4-a718-4a4cd1b9618b",
   "metadata": {},
   "source": [
    "We can fit a distribution separately to the transmission samples, and to the background samples. You can utilize the skew-normal widget we used in the lecture and modify parameters, models."
   ]
  },
  {
   "cell_type": "code",
   "execution_count": null,
   "id": "42880478",
   "metadata": {},
   "outputs": [],
   "source": [
    "from scipy import stats"
   ]
  },
  {
   "cell_type": "code",
   "execution_count": null,
   "id": "b7530131",
   "metadata": {},
   "outputs": [],
   "source": [
    "def plot_skewnorm_density_L(a, scale, loc):\n",
    "  h = plt.hist(X, bins=100, density=True, alpha=0.5)\n",
    "\n",
    "  # evaluate the function at the histogram bins\n",
    "  skewnorm_density = stats.skewnorm.pdf(h[1], a=a, scale=scale, loc=loc)\n",
    "\n",
    "  # evaluation the function at the observations\n",
    "  skewnorm_likelihood = stats.skewnorm.pdf(X, a=a, scale=scale, loc=loc)\n",
    "  L = np.sum(np.log(skewnorm_likelihood))\n",
    "\n",
    "  plt.plot(h[1], skewnorm_density)\n",
    "  plt.title(f\"Log-Likelihood {L:.10f}\")"
   ]
  },
  {
   "cell_type": "code",
   "execution_count": null,
   "id": "24cfe7de",
   "metadata": {},
   "outputs": [],
   "source": [
    "from ipywidgets import interact\n",
    "import ipywidgets as widgets"
   ]
  },
  {
   "cell_type": "markdown",
   "id": "77264e3e-a4a1-46b5-89bf-dfcefbf23098",
   "metadata": {},
   "source": [
    "**TODO:** Set the sample variable (transmission or background RMS)"
   ]
  },
  {
   "cell_type": "code",
   "execution_count": null,
   "id": "7db6dd10",
   "metadata": {},
   "outputs": [],
   "source": []
  },
  {
   "cell_type": "markdown",
   "id": "c440729b",
   "metadata": {},
   "source": [
    "**TODO:** Select starting values for the widget."
   ]
  },
  {
   "cell_type": "code",
   "execution_count": null,
   "id": "9f1feaf3-4fe0-4789-bbc6-976e73da542c",
   "metadata": {},
   "outputs": [],
   "source": [
    "# shape =\n",
    "# loc = \n",
    "# scale = "
   ]
  },
  {
   "cell_type": "code",
   "execution_count": null,
   "id": "5b3bf633",
   "metadata": {},
   "outputs": [],
   "source": []
  },
  {
   "cell_type": "code",
   "execution_count": null,
   "id": "93f4cca9",
   "metadata": {},
   "outputs": [],
   "source": [
    "shape_slider = widgets.FloatSlider(\n",
    "    value=shape,\n",
    "    min=shape-10,\n",
    "    max=shape+10,\n",
    "    step=0.01,\n",
    "    description='Shape:',\n",
    "    continuous_update=True,\n",
    "    orientation='horizontal',\n",
    "    readout=True,\n",
    "    readout_format='.2f',\n",
    ")\n",
    "\n",
    "scale_slider = widgets.FloatSlider(\n",
    "    value=scale,\n",
    "    min=scale-10,\n",
    "    max=scale+10,\n",
    "    step=0.01,\n",
    "    description='Scale:',\n",
    "    continuous_update=True,\n",
    "    orientation='horizontal',\n",
    "    readout=True,\n",
    "    readout_format='.2f',\n",
    ")\n",
    "\n",
    "loc_slider = widgets.FloatSlider(\n",
    "    value=loc,\n",
    "    min=loc-10,\n",
    "    max=loc+10,\n",
    "    step=0.01,\n",
    "    description='Location:',\n",
    "    continuous_update=True,\n",
    "    orientation='horizontal',\n",
    "    readout=True,\n",
    "    readout_format='.2f',\n",
    ")\n"
   ]
  },
  {
   "cell_type": "markdown",
   "id": "bdf93f2e",
   "metadata": {},
   "source": [
    "**TODO:** Select parameters to fit the distribution. It does not need to be perfect!"
   ]
  },
  {
   "cell_type": "code",
   "execution_count": null,
   "id": "bf869e5a",
   "metadata": {},
   "outputs": [],
   "source": [
    "out = interact(plot_skewnorm_density_L, a = shape_slider, scale = scale_slider, loc = loc_slider)"
   ]
  }
 ],
 "metadata": {
  "kernelspec": {
   "display_name": "Python 3 (ipykernel)",
   "language": "python",
   "name": "python3"
  },
  "language_info": {
   "codemirror_mode": {
    "name": "ipython",
    "version": 3
   },
   "file_extension": ".py",
   "mimetype": "text/x-python",
   "name": "python",
   "nbconvert_exporter": "python",
   "pygments_lexer": "ipython3",
   "version": "3.12.10"
  },
  "widgets": {
   "application/vnd.jupyter.widget-state+json": {
    "state": {},
    "version_major": 2,
    "version_minor": 0
   }
  }
 },
 "nbformat": 4,
 "nbformat_minor": 5
}
