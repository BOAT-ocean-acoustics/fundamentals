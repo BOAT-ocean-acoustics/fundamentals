{
 "cells": [
  {
   "cell_type": "markdown",
   "metadata": {},
   "source": [
    "## Transmission Detection"
   ]
  },
  {
   "cell_type": "markdown",
   "metadata": {},
   "source": [
    "We want to determine whether a signal contains a transmission sound in new observations. Based on our previous experiment and work, we have built models for the distribution of the transmission and background sounds. We would like to test if we obtain a new sample if it is from one of the two distributions. We can define the null hypothesis to be that the observation is from the background distribution, while the alternative that it is from the transmission distribution."
   ]
  },
  {
   "cell_type": "markdown",
   "metadata": {},
   "source": [
    "$\\mathcal{H_0}: X \\sim background $\n",
    " \n",
    "$\\mathcal{H_1}: X \\sim transmission $"
   ]
  },
  {
   "cell_type": "markdown",
   "metadata": {},
   "source": [
    "We can rewrite this is terms of the parameters of the skew-normal distributions that you have obtained from the fitting exercise."
   ]
  },
  {
   "cell_type": "markdown",
   "metadata": {},
   "source": [
    "\n",
    "$\\mathcal{H_0}: X \\sim skew\\mathcal{N}(\\alpha_{bg}, scale_{bg}, loc_{bg})$\n",
    " \n",
    "$\\mathcal{H_1}: X \\sim skew\\mathcal{N}(\\alpha_{tr}, scale_{tr}, loc_{tr})$\n"
   ]
  },
  {
   "cell_type": "code",
   "execution_count": 1,
   "metadata": {},
   "outputs": [],
   "source": [
    "import numpy as np\n",
    "import matplotlib.pyplot as plt\n",
    "import scipy as sp\n",
    "import pandas as pd\n",
    "from scipy import stats"
   ]
  },
  {
   "cell_type": "markdown",
   "metadata": {},
   "source": [
    "We will read a small sample of 10 observations that we have stored in the files `test**.csv`."
   ]
  },
  {
   "cell_type": "code",
   "execution_count": 2,
   "metadata": {
    "editable": true,
    "slideshow": {
     "slide_type": ""
    },
    "tags": []
   },
   "outputs": [],
   "source": [
    "data_path = \"/home/jovyan/shared-public/WA_Shelf_data/\""
   ]
  },
  {
   "cell_type": "code",
   "execution_count": 3,
   "metadata": {},
   "outputs": [],
   "source": [
    "# reading test dataset: select one of the test files test**.csv\n",
    "df_test = pd.read_csv(data_path+\"test11.csv\")"
   ]
  },
  {
   "cell_type": "code",
   "execution_count": 4,
   "metadata": {},
   "outputs": [
    {
     "data": {
      "text/html": [
       "<div>\n",
       "<style scoped>\n",
       "    .dataframe tbody tr th:only-of-type {\n",
       "        vertical-align: middle;\n",
       "    }\n",
       "\n",
       "    .dataframe tbody tr th {\n",
       "        vertical-align: top;\n",
       "    }\n",
       "\n",
       "    .dataframe thead th {\n",
       "        text-align: right;\n",
       "    }\n",
       "</style>\n",
       "<table border=\"1\" class=\"dataframe\">\n",
       "  <thead>\n",
       "    <tr style=\"text-align: right;\">\n",
       "      <th></th>\n",
       "      <th>220730014532</th>\n",
       "      <th>220730063632</th>\n",
       "      <th>220729221232</th>\n",
       "      <th>220730105431</th>\n",
       "      <th>220730021233</th>\n",
       "      <th>220730054531</th>\n",
       "      <th>220730005433</th>\n",
       "      <th>220729220033</th>\n",
       "      <th>220729232432</th>\n",
       "      <th>220730093931</th>\n",
       "    </tr>\n",
       "  </thead>\n",
       "  <tbody>\n",
       "    <tr>\n",
       "      <th>0</th>\n",
       "      <td>1.424839e+06</td>\n",
       "      <td>5.181788e+06</td>\n",
       "      <td>5.912475e+06</td>\n",
       "      <td>2.368643e+06</td>\n",
       "      <td>2.058101e+06</td>\n",
       "      <td>2.088547e+06</td>\n",
       "      <td>4.901691e+06</td>\n",
       "      <td>4.061401e+06</td>\n",
       "      <td>5.699358e+06</td>\n",
       "      <td>4.822533e+06</td>\n",
       "    </tr>\n",
       "    <tr>\n",
       "      <th>1</th>\n",
       "      <td>1.522264e+06</td>\n",
       "      <td>5.175699e+06</td>\n",
       "      <td>5.924653e+06</td>\n",
       "      <td>2.344287e+06</td>\n",
       "      <td>2.045923e+06</td>\n",
       "      <td>2.052012e+06</td>\n",
       "      <td>4.865157e+06</td>\n",
       "      <td>4.012689e+06</td>\n",
       "      <td>5.620200e+06</td>\n",
       "      <td>4.968671e+06</td>\n",
       "    </tr>\n",
       "    <tr>\n",
       "      <th>2</th>\n",
       "      <td>1.589244e+06</td>\n",
       "      <td>5.187877e+06</td>\n",
       "      <td>5.912475e+06</td>\n",
       "      <td>2.326020e+06</td>\n",
       "      <td>2.058101e+06</td>\n",
       "      <td>2.033745e+06</td>\n",
       "      <td>4.852979e+06</td>\n",
       "      <td>3.970065e+06</td>\n",
       "      <td>5.559309e+06</td>\n",
       "      <td>5.017383e+06</td>\n",
       "    </tr>\n",
       "    <tr>\n",
       "      <th>3</th>\n",
       "      <td>1.637956e+06</td>\n",
       "      <td>5.187877e+06</td>\n",
       "      <td>5.918564e+06</td>\n",
       "      <td>2.265129e+06</td>\n",
       "      <td>1.997211e+06</td>\n",
       "      <td>2.058101e+06</td>\n",
       "      <td>4.846890e+06</td>\n",
       "      <td>3.988333e+06</td>\n",
       "      <td>5.474063e+06</td>\n",
       "      <td>4.919958e+06</td>\n",
       "    </tr>\n",
       "    <tr>\n",
       "      <th>4</th>\n",
       "      <td>1.637956e+06</td>\n",
       "      <td>5.187877e+06</td>\n",
       "      <td>5.930742e+06</td>\n",
       "      <td>2.228595e+06</td>\n",
       "      <td>1.991122e+06</td>\n",
       "      <td>2.045923e+06</td>\n",
       "      <td>4.834712e+06</td>\n",
       "      <td>4.000511e+06</td>\n",
       "      <td>5.388816e+06</td>\n",
       "      <td>4.840801e+06</td>\n",
       "    </tr>\n",
       "    <tr>\n",
       "      <th>...</th>\n",
       "      <td>...</td>\n",
       "      <td>...</td>\n",
       "      <td>...</td>\n",
       "      <td>...</td>\n",
       "      <td>...</td>\n",
       "      <td>...</td>\n",
       "      <td>...</td>\n",
       "      <td>...</td>\n",
       "      <td>...</td>\n",
       "      <td>...</td>\n",
       "    </tr>\n",
       "    <tr>\n",
       "      <th>47995</th>\n",
       "      <td>8.159337e+06</td>\n",
       "      <td>1.534442e+06</td>\n",
       "      <td>3.848284e+06</td>\n",
       "      <td>1.717114e+06</td>\n",
       "      <td>1.887608e+05</td>\n",
       "      <td>3.878730e+06</td>\n",
       "      <td>2.301664e+06</td>\n",
       "      <td>2.033745e+06</td>\n",
       "      <td>2.338198e+06</td>\n",
       "      <td>1.589244e+06</td>\n",
       "    </tr>\n",
       "    <tr>\n",
       "      <th>47996</th>\n",
       "      <td>8.153248e+06</td>\n",
       "      <td>1.540532e+06</td>\n",
       "      <td>3.854373e+06</td>\n",
       "      <td>1.753649e+06</td>\n",
       "      <td>8.524680e+04</td>\n",
       "      <td>3.915264e+06</td>\n",
       "      <td>2.259040e+06</td>\n",
       "      <td>2.033745e+06</td>\n",
       "      <td>2.344287e+06</td>\n",
       "      <td>1.631867e+06</td>\n",
       "    </tr>\n",
       "    <tr>\n",
       "      <th>47997</th>\n",
       "      <td>8.214138e+06</td>\n",
       "      <td>1.522264e+06</td>\n",
       "      <td>3.854373e+06</td>\n",
       "      <td>1.784094e+06</td>\n",
       "      <td>-1.826717e+04</td>\n",
       "      <td>3.921353e+06</td>\n",
       "      <td>2.271218e+06</td>\n",
       "      <td>2.039834e+06</td>\n",
       "      <td>2.356465e+06</td>\n",
       "      <td>1.625778e+06</td>\n",
       "    </tr>\n",
       "    <tr>\n",
       "      <th>47998</th>\n",
       "      <td>8.208049e+06</td>\n",
       "      <td>1.552710e+06</td>\n",
       "      <td>3.860462e+06</td>\n",
       "      <td>1.778005e+06</td>\n",
       "      <td>-1.217811e+05</td>\n",
       "      <td>3.921353e+06</td>\n",
       "      <td>2.277307e+06</td>\n",
       "      <td>2.064190e+06</td>\n",
       "      <td>2.350376e+06</td>\n",
       "      <td>1.570977e+06</td>\n",
       "    </tr>\n",
       "    <tr>\n",
       "      <th>47999</th>\n",
       "      <td>8.226316e+06</td>\n",
       "      <td>1.552710e+06</td>\n",
       "      <td>3.878730e+06</td>\n",
       "      <td>1.851073e+06</td>\n",
       "      <td>-2.496514e+05</td>\n",
       "      <td>3.921353e+06</td>\n",
       "      <td>2.283397e+06</td>\n",
       "      <td>2.064190e+06</td>\n",
       "      <td>2.319931e+06</td>\n",
       "      <td>1.564888e+06</td>\n",
       "    </tr>\n",
       "  </tbody>\n",
       "</table>\n",
       "<p>48000 rows × 10 columns</p>\n",
       "</div>"
      ],
      "text/plain": [
       "       220730014532  220730063632  220729221232  220730105431  220730021233  \\\n",
       "0      1.424839e+06  5.181788e+06  5.912475e+06  2.368643e+06  2.058101e+06   \n",
       "1      1.522264e+06  5.175699e+06  5.924653e+06  2.344287e+06  2.045923e+06   \n",
       "2      1.589244e+06  5.187877e+06  5.912475e+06  2.326020e+06  2.058101e+06   \n",
       "3      1.637956e+06  5.187877e+06  5.918564e+06  2.265129e+06  1.997211e+06   \n",
       "4      1.637956e+06  5.187877e+06  5.930742e+06  2.228595e+06  1.991122e+06   \n",
       "...             ...           ...           ...           ...           ...   \n",
       "47995  8.159337e+06  1.534442e+06  3.848284e+06  1.717114e+06  1.887608e+05   \n",
       "47996  8.153248e+06  1.540532e+06  3.854373e+06  1.753649e+06  8.524680e+04   \n",
       "47997  8.214138e+06  1.522264e+06  3.854373e+06  1.784094e+06 -1.826717e+04   \n",
       "47998  8.208049e+06  1.552710e+06  3.860462e+06  1.778005e+06 -1.217811e+05   \n",
       "47999  8.226316e+06  1.552710e+06  3.878730e+06  1.851073e+06 -2.496514e+05   \n",
       "\n",
       "       220730054531  220730005433  220729220033  220729232432  220730093931  \n",
       "0      2.088547e+06  4.901691e+06  4.061401e+06  5.699358e+06  4.822533e+06  \n",
       "1      2.052012e+06  4.865157e+06  4.012689e+06  5.620200e+06  4.968671e+06  \n",
       "2      2.033745e+06  4.852979e+06  3.970065e+06  5.559309e+06  5.017383e+06  \n",
       "3      2.058101e+06  4.846890e+06  3.988333e+06  5.474063e+06  4.919958e+06  \n",
       "4      2.045923e+06  4.834712e+06  4.000511e+06  5.388816e+06  4.840801e+06  \n",
       "...             ...           ...           ...           ...           ...  \n",
       "47995  3.878730e+06  2.301664e+06  2.033745e+06  2.338198e+06  1.589244e+06  \n",
       "47996  3.915264e+06  2.259040e+06  2.033745e+06  2.344287e+06  1.631867e+06  \n",
       "47997  3.921353e+06  2.271218e+06  2.039834e+06  2.356465e+06  1.625778e+06  \n",
       "47998  3.921353e+06  2.277307e+06  2.064190e+06  2.350376e+06  1.570977e+06  \n",
       "47999  3.921353e+06  2.283397e+06  2.064190e+06  2.319931e+06  1.564888e+06  \n",
       "\n",
       "[48000 rows x 10 columns]"
      ]
     },
     "execution_count": 4,
     "metadata": {},
     "output_type": "execute_result"
    }
   ],
   "source": [
    "df_test"
   ]
  },
  {
   "cell_type": "markdown",
   "metadata": {},
   "source": [
    "**TODO:** Process the test files through the same filtering and RMS conversion steps as we did in the fitting notebook."
   ]
  },
  {
   "cell_type": "code",
   "execution_count": 5,
   "metadata": {},
   "outputs": [],
   "source": [
    "def BandPass(inputSignal, bandLimits, freqSample):\n",
    "    sos = sp.signal.butter(4, bandLimits, 'bandpass', fs = freqSample, output='sos')\n",
    "    outputSignal = sp.signal.sosfilt(sos,inputSignal)\n",
    "    \n",
    "    return outputSignal"
   ]
  },
  {
   "cell_type": "code",
   "execution_count": 6,
   "metadata": {},
   "outputs": [],
   "source": [
    "flimits = [3450, 3550]"
   ]
  },
  {
   "cell_type": "code",
   "execution_count": 7,
   "metadata": {},
   "outputs": [],
   "source": [
    "fs = 48000"
   ]
  },
  {
   "cell_type": "code",
   "execution_count": 8,
   "metadata": {},
   "outputs": [],
   "source": [
    "rms_test = []\n",
    "\n",
    "for col in df_test:\n",
    "\n",
    "    signal_filt = BandPass(df_test[col], flimits, fs)\n",
    "    rms_test.append(20*np.log10(np.sqrt(np.mean(np.square(signal_filt.astype('float'))))))\n"
   ]
  },
  {
   "cell_type": "code",
   "execution_count": 9,
   "metadata": {},
   "outputs": [],
   "source": [
    "Y = rms_test"
   ]
  },
  {
   "cell_type": "markdown",
   "metadata": {},
   "source": [
    "We will follow the following procedure:\n",
    "\n",
    "1. Set a significance level\n",
    "2. Calculate the test statistic\n",
    "3. Determine the critical region based on alpha and the test statistic\n",
    "4. Make decision"
   ]
  },
  {
   "cell_type": "markdown",
   "metadata": {},
   "source": [
    "**1. Significance level $\\alpha = 0.001$**"
   ]
  },
  {
   "cell_type": "code",
   "execution_count": 10,
   "metadata": {},
   "outputs": [],
   "source": [
    "alpha = 0.001"
   ]
  },
  {
   "cell_type": "markdown",
   "metadata": {},
   "source": [
    "**2. Likelihood-ratio test statistic**\n"
   ]
  },
  {
   "cell_type": "markdown",
   "metadata": {},
   "source": []
  },
  {
   "cell_type": "markdown",
   "metadata": {},
   "source": [
    "**TODO:** Set the parameters of the null distribution (background)."
   ]
  },
  {
   "cell_type": "code",
   "execution_count": 11,
   "metadata": {},
   "outputs": [],
   "source": [
    "loc_0 = 66.6\n",
    "scale_0 = 6.3\n",
    "a_0 = 3.7"
   ]
  },
  {
   "cell_type": "markdown",
   "metadata": {},
   "source": [
    "**TODO:** Set the parameters of the null distribution (transmission)."
   ]
  },
  {
   "cell_type": "code",
   "execution_count": 12,
   "metadata": {
    "editable": true,
    "slideshow": {
     "slide_type": ""
    },
    "tags": []
   },
   "outputs": [],
   "source": [
    "loc_1 = 72.4\n",
    "scale_1 = 5.2\n",
    "a_1 = 0"
   ]
  },
  {
   "cell_type": "markdown",
   "metadata": {},
   "source": [
    "**TODO:** Evaluate the test statistic at the observed sample."
   ]
  },
  {
   "cell_type": "markdown",
   "metadata": {},
   "source": [
    "Hint: you can use the `evaluateLogL_ratio` function from the `primers/stats_05_statistical_testing.ipynb` or directly evaluate the log-likelihoods for the two distributions. \n"
   ]
  },
  {
   "cell_type": "code",
   "execution_count": 13,
   "metadata": {},
   "outputs": [],
   "source": [
    "import scipy.stats as stats"
   ]
  },
  {
   "cell_type": "markdown",
   "metadata": {},
   "source": []
  },
  {
   "cell_type": "code",
   "execution_count": 14,
   "metadata": {
    "editable": true,
    "slideshow": {
     "slide_type": ""
    },
    "tags": []
   },
   "outputs": [],
   "source": [
    "null_likelihood = stats.skewnorm.pdf(Y, a=a_0, loc=loc_0, scale=scale_0) \n",
    "alternative_likelihood = stats.skewnorm.pdf(Y, a=a_1, loc=loc_1, scale=scale_1) "
   ]
  },
  {
   "cell_type": "code",
   "execution_count": 15,
   "metadata": {
    "editable": true,
    "slideshow": {
     "slide_type": ""
    },
    "tags": []
   },
   "outputs": [
    {
     "name": "stdout",
     "output_type": "stream",
     "text": [
      "0.25051603578106096\n"
     ]
    }
   ],
   "source": [
    "logL_ratio = np.sum(np.log(null_likelihood)) - np.sum(np.log(alternative_likelihood))\n",
    "print(logL_ratio)"
   ]
  },
  {
   "cell_type": "code",
   "execution_count": 16,
   "metadata": {
    "editable": true,
    "slideshow": {
     "slide_type": ""
    },
    "tags": []
   },
   "outputs": [],
   "source": [
    "# set the value of the test statistic\n",
    "T = logL_ratio"
   ]
  },
  {
   "cell_type": "markdown",
   "metadata": {},
   "source": [
    "**3. Identify critical region**"
   ]
  },
  {
   "cell_type": "markdown",
   "metadata": {},
   "source": [
    "**TODO:** Determine the critical region for which to reject the null hypothesis, i.e. find $c$ for which $P(\\Lambda(X)\\le c) = 0.001$ under the null distribution.\n",
    "\n",
    "1. Generate a large sample of samples of the size of the observed sample, and evaluate for each of them the likelihood ratio. You will obtain the empirical distribution of $\\Lambda (X)$\n",
    "2. Find the $\\alpha\\times 100$ th percentile of that distribution.\n",
    "3. Determine if the test statistic is less than $c$. What is your conclusion?"
   ]
  },
  {
   "cell_type": "code",
   "execution_count": 17,
   "metadata": {},
   "outputs": [],
   "source": [
    "def evaluateLogL_ratio(x):\n",
    "  null_likelihood = stats.skewnorm.pdf(x, a=a_0, loc=loc_0, scale=scale_0)\n",
    "  alternative_likelihood = stats.skewnorm.pdf(x, a=a_1, loc=loc_1, scale=scale_1)\n",
    "  logL_ratio = np.sum(np.log(null_likelihood)) - np.sum(np.log(alternative_likelihood))\n",
    "  return(logL_ratio)\n"
   ]
  },
  {
   "cell_type": "code",
   "execution_count": 18,
   "metadata": {},
   "outputs": [
    {
     "data": {
      "text/plain": [
       "Text(0.5, 1.0, 'observed sample vs sample from the null')"
      ]
     },
     "execution_count": 18,
     "metadata": {},
     "output_type": "execute_result"
    },
    {
     "data": {
      "image/png": "[encoded data removed]",
      "text/plain": [
       "<Figure size 640x480 with 1 Axes>"
      ]
     },
     "metadata": {},
     "output_type": "display_data"
    }
   ],
   "source": [
    "# plot the distribution of the observed sample vs one of the null hypothesis of the same size\n",
    "_ = plt.hist(stats.skewnorm.rvs(loc=loc_0, scale=scale_0, a=a_0, size=len(Y)),bins=50, alpha=0.5, density=True, label=\"null\")\n",
    "_ = plt.hist(Y, bins=50, alpha=0.5, density=True, label=\"observation\")\n",
    "plt.legend()\n",
    "plt.title(\"observed sample vs sample from the null\")"
   ]
  },
  {
   "cell_type": "markdown",
   "metadata": {},
   "source": [
    "**TODO:** create a sample of the log likelohood ratio statistic."
   ]
  },
  {
   "cell_type": "code",
   "execution_count": 19,
   "metadata": {},
   "outputs": [],
   "source": [
    "# generate sample from the null distribution and evaluate the log likelihood ratio at each sample point \n",
    "test_stat_sample_null = [evaluateLogL_ratio(stats.skewnorm.rvs(loc=loc_0, scale=scale_0, a=a_0, size=len(Y))) for i in range(10000)]"
   ]
  },
  {
   "cell_type": "markdown",
   "metadata": {},
   "source": [
    "**TODO:** evaluate the $100%alpha$'th percentile of the distribution."
   ]
  },
  {
   "cell_type": "markdown",
   "metadata": {},
   "source": []
  },
  {
   "cell_type": "code",
   "execution_count": 20,
   "metadata": {},
   "outputs": [
    {
     "name": "stdout",
     "output_type": "stream",
     "text": [
      "-3.7727684588091366\n"
     ]
    }
   ],
   "source": [
    "# evaluate the desired percentile from the sample\n",
    "c = np.percentile(test_stat_sample_null, alpha*100)\n",
    "print(c)"
   ]
  },
  {
   "cell_type": "markdown",
   "metadata": {},
   "source": [
    "**TODO:** Calculate the p-value of the test."
   ]
  },
  {
   "cell_type": "code",
   "execution_count": 21,
   "metadata": {},
   "outputs": [
    {
     "name": "stdout",
     "output_type": "stream",
     "text": [
      "0.2114\n"
     ]
    }
   ],
   "source": [
    "# p-value\n",
    "percentile = stats.percentileofscore(test_stat_sample_null, T, kind='rank')\n",
    "print(percentile/100)"
   ]
  },
  {
   "cell_type": "markdown",
   "metadata": {},
   "source": [
    "**TODO:** Plot the simulate log likelihood ratio sample, and the corresponding values of $T$ and $c$."
   ]
  },
  {
   "cell_type": "code",
   "execution_count": 22,
   "metadata": {},
   "outputs": [
    {
     "data": {
      "text/plain": [
       "<matplotlib.legend.Legend at 0x7ff23cbc4140>"
      ]
     },
     "execution_count": 22,
     "metadata": {},
     "output_type": "execute_result"
    },
    {
     "data": {
      "image/png": "[encoded data removed]",
      "text/plain": [
       "<Figure size 640x480 with 1 Axes>"
      ]
     },
     "metadata": {},
     "output_type": "display_data"
    }
   ],
   "source": [
    "import matplotlib.pyplot as plt\n",
    "\n",
    "# plot the distribution of the test statisticunder null\n",
    "out = plt.hist(test_stat_sample_null, bins=100)\n",
    "plt.axvline(T, color=\"r\", label=\"Test Statistic\")\n",
    "plt.axvline(c, color=\"k\", label=f\"c for alpha= {alpha:.3f}\")\n",
    "(left, right) = plt.xlim()\n",
    "plt.axvspan(left, c, alpha=0.1, color='red')\n",
    "plt.xlim(left, right)\n",
    "plt.legend()"
   ]
  },
  {
   "cell_type": "markdown",
   "metadata": {},
   "source": [
    "**TODO:** What is the decision?"
   ]
  },
  {
   "cell_type": "markdown",
   "metadata": {},
   "source": [
    "* If we pick values at the upper end of the background, there is a higher chance they can be in the lower tail of the transmission distribution. The result is we reject the null hypothesis and we make Type II error mistakes.\n",
    "\n",
    "* If we pick values at the lower end of the transmission, there is a higher chance they can be in the upper tail of the background distribution. The result is we cannot reject the null and we make Type I error mistakes."
   ]
  }
 ],
 "metadata": {
  "kernelspec": {
   "display_name": "Python 3 (ipykernel)",
   "language": "python",
   "name": "python3"
  },
  "language_info": {
   "codemirror_mode": {
    "name": "ipython",
    "version": 3
   },
   "file_extension": ".py",
   "mimetype": "text/x-python",
   "name": "python",
   "nbconvert_exporter": "python",
   "pygments_lexer": "ipython3",
   "version": "3.12.10"
  },
  "widgets": {
   "application/vnd.jupyter.widget-state+json": {
    "state": {},
    "version_major": 2,
    "version_minor": 0
   }
  }
 },
 "nbformat": 4,
 "nbformat_minor": 4
}
