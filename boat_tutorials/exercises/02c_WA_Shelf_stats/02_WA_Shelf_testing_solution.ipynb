{
 "cells": [
  {
   "cell_type": "markdown",
   "metadata": {},
   "source": [
    "## Transmission Detection"
   ]
  },
  {
   "cell_type": "markdown",
   "metadata": {},
   "source": [
    "We want to determine whether a signal contains a transmission sound in new observations. Based on our previous experiment and work, we have built models for the distribution of the transmission and background sounds. We would like to test if we obtain a new sample if it is from one of the two distributions. We can define the null hypothesis to be that the observation is from the background distribution, while the alternative that it is from the transmission distribution."
   ]
  },
  {
   "cell_type": "markdown",
   "metadata": {},
   "source": [
    "$\\mathcal{H_0}: X \\sim background $\n",
    " \n",
    "$\\mathcal{H_1}: X \\sim transmission $"
   ]
  },
  {
   "cell_type": "markdown",
   "metadata": {},
   "source": [
    "We can rewrite this is terms of the parameters of the skew-normal distributions that you have obtained from the fitting exercise."
   ]
  },
  {
   "cell_type": "markdown",
   "metadata": {},
   "source": [
    "\n",
    "$\\mathcal{H_0}: X \\sim skew\\mathcal{N}(\\alpha_{tr}, scale_{tr}, loc_{tr})$\n",
    " \n",
    "$\\mathcal{H_1}: X \\sim skew\\mathcal{N}(\\alpha_{bg}, scale_{bg}, loc_{bg})$\n"
   ]
  },
  {
   "cell_type": "code",
   "execution_count": 49,
   "metadata": {},
   "outputs": [],
   "source": [
    "import numpy as np\n",
    "import matplotlib.pyplot as plt\n",
    "import scipy as sp\n",
    "import pandas as pd\n",
    "from scipy import stats"
   ]
  },
  {
   "cell_type": "markdown",
   "metadata": {},
   "source": []
  },
  {
   "cell_type": "code",
   "execution_count": 50,
   "metadata": {},
   "outputs": [],
   "source": [
    "# reading transmission dataset\n",
    "df_tr = pd.read_csv(\"df_tr_test_sorted.csv\")\n",
    "# reading background dataset\n",
    "df_bg = pd.read_csv(\"df_bg_test_sorted.csv\")"
   ]
  },
  {
   "cell_type": "code",
   "execution_count": 51,
   "metadata": {},
   "outputs": [
    {
     "data": {
      "text/html": [
       "<div>\n",
       "<style scoped>\n",
       "    .dataframe tbody tr th:only-of-type {\n",
       "        vertical-align: middle;\n",
       "    }\n",
       "\n",
       "    .dataframe tbody tr th {\n",
       "        vertical-align: top;\n",
       "    }\n",
       "\n",
       "    .dataframe thead th {\n",
       "        text-align: right;\n",
       "    }\n",
       "</style>\n",
       "<table border=\"1\" class=\"dataframe\">\n",
       "  <thead>\n",
       "    <tr style=\"text-align: right;\">\n",
       "      <th></th>\n",
       "      <th>220730035432</th>\n",
       "      <th>220730105431</th>\n",
       "      <th>220730083931</th>\n",
       "      <th>220730090632</th>\n",
       "      <th>220729195433</th>\n",
       "      <th>220730074532</th>\n",
       "      <th>220730060031</th>\n",
       "      <th>220729205733</th>\n",
       "      <th>220729184515</th>\n",
       "      <th>220729195733</th>\n",
       "      <th>...</th>\n",
       "      <th>220730113331</th>\n",
       "      <th>220730040332</th>\n",
       "      <th>220729193616</th>\n",
       "      <th>220729235732</th>\n",
       "      <th>220730031533</th>\n",
       "      <th>220730101532</th>\n",
       "      <th>220730101831</th>\n",
       "      <th>220730140331</th>\n",
       "      <th>220730084531</th>\n",
       "      <th>220729225518</th>\n",
       "    </tr>\n",
       "  </thead>\n",
       "  <tbody>\n",
       "    <tr>\n",
       "      <th>0</th>\n",
       "      <td>1.394394e+06</td>\n",
       "      <td>1.978944e+06</td>\n",
       "      <td>389699.670892</td>\n",
       "      <td>3.434228e+06</td>\n",
       "      <td>4.237984e+06</td>\n",
       "      <td>864646.144792</td>\n",
       "      <td>3.884819e+06</td>\n",
       "      <td>3.361160e+06</td>\n",
       "      <td>2.368643e+06</td>\n",
       "      <td>-505391.760689</td>\n",
       "      <td>...</td>\n",
       "      <td>4.737287e+06</td>\n",
       "      <td>1.388305e+06</td>\n",
       "      <td>7.221622e+06</td>\n",
       "      <td>5.614111e+06</td>\n",
       "      <td>1.181277e+06</td>\n",
       "      <td>3.373338e+06</td>\n",
       "      <td>5.224411e+06</td>\n",
       "      <td>-1.339593e+06</td>\n",
       "      <td>3.318536e+06</td>\n",
       "      <td>-1.910746e+07</td>\n",
       "    </tr>\n",
       "    <tr>\n",
       "      <th>1</th>\n",
       "      <td>1.412661e+06</td>\n",
       "      <td>1.997211e+06</td>\n",
       "      <td>365343.441462</td>\n",
       "      <td>3.422050e+06</td>\n",
       "      <td>4.171004e+06</td>\n",
       "      <td>876824.259508</td>\n",
       "      <td>3.860462e+06</td>\n",
       "      <td>3.440317e+06</td>\n",
       "      <td>2.405178e+06</td>\n",
       "      <td>-535837.047477</td>\n",
       "      <td>...</td>\n",
       "      <td>4.731198e+06</td>\n",
       "      <td>1.382216e+06</td>\n",
       "      <td>7.209444e+06</td>\n",
       "      <td>5.614111e+06</td>\n",
       "      <td>1.132565e+06</td>\n",
       "      <td>3.324625e+06</td>\n",
       "      <td>5.242678e+06</td>\n",
       "      <td>-1.345682e+06</td>\n",
       "      <td>3.342892e+06</td>\n",
       "      <td>-2.199976e+07</td>\n",
       "    </tr>\n",
       "    <tr>\n",
       "      <th>2</th>\n",
       "      <td>1.412661e+06</td>\n",
       "      <td>2.045923e+06</td>\n",
       "      <td>365343.441462</td>\n",
       "      <td>3.415961e+06</td>\n",
       "      <td>4.158826e+06</td>\n",
       "      <td>870735.202150</td>\n",
       "      <td>3.830017e+06</td>\n",
       "      <td>3.403783e+06</td>\n",
       "      <td>2.399089e+06</td>\n",
       "      <td>-529747.990119</td>\n",
       "      <td>...</td>\n",
       "      <td>4.779910e+06</td>\n",
       "      <td>1.418750e+06</td>\n",
       "      <td>7.203355e+06</td>\n",
       "      <td>5.656734e+06</td>\n",
       "      <td>1.132565e+06</td>\n",
       "      <td>3.257646e+06</td>\n",
       "      <td>5.193966e+06</td>\n",
       "      <td>-1.370038e+06</td>\n",
       "      <td>3.318536e+06</td>\n",
       "      <td>-2.320540e+07</td>\n",
       "    </tr>\n",
       "    <tr>\n",
       "      <th>3</th>\n",
       "      <td>1.394394e+06</td>\n",
       "      <td>2.070280e+06</td>\n",
       "      <td>322720.039958</td>\n",
       "      <td>3.446406e+06</td>\n",
       "      <td>4.152737e+06</td>\n",
       "      <td>870735.202150</td>\n",
       "      <td>3.811750e+06</td>\n",
       "      <td>3.385516e+06</td>\n",
       "      <td>2.356465e+06</td>\n",
       "      <td>-541926.104835</td>\n",
       "      <td>...</td>\n",
       "      <td>4.804266e+06</td>\n",
       "      <td>1.418750e+06</td>\n",
       "      <td>7.227711e+06</td>\n",
       "      <td>5.693269e+06</td>\n",
       "      <td>1.175188e+06</td>\n",
       "      <td>3.288091e+06</td>\n",
       "      <td>5.224411e+06</td>\n",
       "      <td>-1.382216e+06</td>\n",
       "      <td>3.324625e+06</td>\n",
       "      <td>-2.194496e+07</td>\n",
       "    </tr>\n",
       "    <tr>\n",
       "      <th>4</th>\n",
       "      <td>1.382216e+06</td>\n",
       "      <td>2.100725e+06</td>\n",
       "      <td>292274.753169</td>\n",
       "      <td>3.446406e+06</td>\n",
       "      <td>4.104025e+06</td>\n",
       "      <td>889002.374223</td>\n",
       "      <td>3.799572e+06</td>\n",
       "      <td>3.434228e+06</td>\n",
       "      <td>2.368643e+06</td>\n",
       "      <td>-560193.276908</td>\n",
       "      <td>...</td>\n",
       "      <td>4.773821e+06</td>\n",
       "      <td>1.430928e+06</td>\n",
       "      <td>7.245978e+06</td>\n",
       "      <td>5.723714e+06</td>\n",
       "      <td>1.193455e+06</td>\n",
       "      <td>3.355071e+06</td>\n",
       "      <td>5.273124e+06</td>\n",
       "      <td>-1.376127e+06</td>\n",
       "      <td>3.330714e+06</td>\n",
       "      <td>-2.091591e+07</td>\n",
       "    </tr>\n",
       "  </tbody>\n",
       "</table>\n",
       "<p>5 rows × 400 columns</p>\n",
       "</div>"
      ],
      "text/plain": [
       "   220730035432  220730105431   220730083931  220730090632  220729195433  \\\n",
       "0  1.394394e+06  1.978944e+06  389699.670892  3.434228e+06  4.237984e+06   \n",
       "1  1.412661e+06  1.997211e+06  365343.441462  3.422050e+06  4.171004e+06   \n",
       "2  1.412661e+06  2.045923e+06  365343.441462  3.415961e+06  4.158826e+06   \n",
       "3  1.394394e+06  2.070280e+06  322720.039958  3.446406e+06  4.152737e+06   \n",
       "4  1.382216e+06  2.100725e+06  292274.753169  3.446406e+06  4.104025e+06   \n",
       "\n",
       "    220730074532  220730060031  220729205733  220729184515   220729195733  \\\n",
       "0  864646.144792  3.884819e+06  3.361160e+06  2.368643e+06 -505391.760689   \n",
       "1  876824.259508  3.860462e+06  3.440317e+06  2.405178e+06 -535837.047477   \n",
       "2  870735.202150  3.830017e+06  3.403783e+06  2.399089e+06 -529747.990119   \n",
       "3  870735.202150  3.811750e+06  3.385516e+06  2.356465e+06 -541926.104835   \n",
       "4  889002.374223  3.799572e+06  3.434228e+06  2.368643e+06 -560193.276908   \n",
       "\n",
       "   ...  220730113331  220730040332  220729193616  220729235732  220730031533  \\\n",
       "0  ...  4.737287e+06  1.388305e+06  7.221622e+06  5.614111e+06  1.181277e+06   \n",
       "1  ...  4.731198e+06  1.382216e+06  7.209444e+06  5.614111e+06  1.132565e+06   \n",
       "2  ...  4.779910e+06  1.418750e+06  7.203355e+06  5.656734e+06  1.132565e+06   \n",
       "3  ...  4.804266e+06  1.418750e+06  7.227711e+06  5.693269e+06  1.175188e+06   \n",
       "4  ...  4.773821e+06  1.430928e+06  7.245978e+06  5.723714e+06  1.193455e+06   \n",
       "\n",
       "   220730101532  220730101831  220730140331  220730084531  220729225518  \n",
       "0  3.373338e+06  5.224411e+06 -1.339593e+06  3.318536e+06 -1.910746e+07  \n",
       "1  3.324625e+06  5.242678e+06 -1.345682e+06  3.342892e+06 -2.199976e+07  \n",
       "2  3.257646e+06  5.193966e+06 -1.370038e+06  3.318536e+06 -2.320540e+07  \n",
       "3  3.288091e+06  5.224411e+06 -1.382216e+06  3.324625e+06 -2.194496e+07  \n",
       "4  3.355071e+06  5.273124e+06 -1.376127e+06  3.330714e+06 -2.091591e+07  \n",
       "\n",
       "[5 rows x 400 columns]"
      ]
     },
     "execution_count": 51,
     "metadata": {},
     "output_type": "execute_result"
    }
   ],
   "source": [
    "df_tr.head()"
   ]
  },
  {
   "cell_type": "code",
   "execution_count": 52,
   "metadata": {},
   "outputs": [],
   "source": [
    "# Y = df_bg.iloc[:,-10:]"
   ]
  },
  {
   "cell_type": "code",
   "execution_count": 53,
   "metadata": {},
   "outputs": [],
   "source": [
    "def BandPass(inputSignal, bandLimits, freqSample):\n",
    "    sos = sp.signal.butter(4, bandLimits, 'bandpass', fs = freqSample, output='sos')\n",
    "    outputSignal = sp.signal.sosfilt(sos,inputSignal)\n",
    "    \n",
    "    return outputSignal"
   ]
  },
  {
   "cell_type": "code",
   "execution_count": 54,
   "metadata": {},
   "outputs": [],
   "source": [
    "flimits = [3450, 3550]"
   ]
  },
  {
   "cell_type": "code",
   "execution_count": 55,
   "metadata": {},
   "outputs": [],
   "source": [
    "fs = 48000"
   ]
  },
  {
   "cell_type": "code",
   "execution_count": 56,
   "metadata": {},
   "outputs": [],
   "source": [
    "bg_all, tr_all = [], []\n",
    "\n",
    "for col in df_bg:\n",
    "\n",
    "    bg_ch4_filt = BandPass(df_bg[col], flimits, fs)\n",
    "    bg_all.append(20*np.log10(np.sqrt(np.mean(np.square(bg_ch4_filt.astype('float'))))))\n",
    "\n",
    "\n",
    "for col in df_tr:\n",
    "\n",
    "    tr_ch4_filt = BandPass(df_tr[col], flimits, fs)\n",
    "    tr_all.append(20*np.log10(np.sqrt(np.mean(np.square(tr_ch4_filt.astype('float'))))))"
   ]
  },
  {
   "cell_type": "code",
   "execution_count": 57,
   "metadata": {},
   "outputs": [
    {
     "data": {
      "text/plain": [
       "400"
      ]
     },
     "execution_count": 57,
     "metadata": {},
     "output_type": "execute_result"
    }
   ],
   "source": [
    "len(bg_all)"
   ]
  },
  {
   "cell_type": "code",
   "execution_count": 168,
   "metadata": {},
   "outputs": [
    {
     "name": "stdout",
     "output_type": "stream",
     "text": [
      "[np.float64(85.40472163621118), np.float64(85.82512280521672), np.float64(86.49939305454399), np.float64(86.74040471951949), np.float64(86.7620369025837), np.float64(87.52542832359526), np.float64(88.41010762535193), np.float64(88.97417831348366), np.float64(91.75624334498723)]\n"
     ]
    }
   ],
   "source": [
    "Y = bg_all[-10:-1]\n",
    "print(Y)"
   ]
  },
  {
   "cell_type": "markdown",
   "metadata": {},
   "source": [
    "We will follow the following procedure:\n",
    "\n",
    "1. Set a significance level\n",
    "2. Calculate the test statistic\n",
    "3. Determine the critical region based on alpha and the test statistic\n",
    "4. Make decision"
   ]
  },
  {
   "cell_type": "markdown",
   "metadata": {},
   "source": [
    "**1. Significance level $\\alpha = 0.001$**"
   ]
  },
  {
   "cell_type": "code",
   "execution_count": 169,
   "metadata": {},
   "outputs": [],
   "source": [
    "alpha = 0.001"
   ]
  },
  {
   "cell_type": "markdown",
   "metadata": {},
   "source": [
    "**2. Likelihood-ratio test statistic**\n"
   ]
  },
  {
   "cell_type": "markdown",
   "metadata": {},
   "source": [
    "**TODO:** Evaluate the test statistic at the observed sample"
   ]
  },
  {
   "cell_type": "markdown",
   "metadata": {},
   "source": [
    "$$\\Lambda(X) = \\frac{\\mathcal{L(\\theta_0|X)}}{\\mathcal{L(\\theta_1|X)}}$$"
   ]
  },
  {
   "cell_type": "markdown",
   "metadata": {},
   "source": []
  },
  {
   "cell_type": "markdown",
   "metadata": {},
   "source": [
    "Hint: you can use the `evaluateLogL_ratio` function from the `primers/stats_05_statistical_testing.ipynb`\n"
   ]
  },
  {
   "cell_type": "code",
   "execution_count": 170,
   "metadata": {},
   "outputs": [],
   "source": [
    "import scipy.stats as stats"
   ]
  },
  {
   "cell_type": "code",
   "execution_count": 171,
   "metadata": {},
   "outputs": [],
   "source": [
    "# set parameters for null distribution (background)"
   ]
  },
  {
   "cell_type": "code",
   "execution_count": 172,
   "metadata": {},
   "outputs": [],
   "source": [
    "loc_0 = 66.6\n",
    "scale_0 = 6.3\n",
    "a_0 = 3.7"
   ]
  },
  {
   "cell_type": "code",
   "execution_count": 173,
   "metadata": {},
   "outputs": [],
   "source": [
    "# set parameters for alternative distribution (transmission)"
   ]
  },
  {
   "cell_type": "code",
   "execution_count": 174,
   "metadata": {},
   "outputs": [],
   "source": [
    "loc_1 = 72.4\n",
    "scale_1 = 5.2\n",
    "a_1 = 0"
   ]
  },
  {
   "cell_type": "code",
   "execution_count": 175,
   "metadata": {},
   "outputs": [],
   "source": [
    "null_likelihood = stats.skewnorm.pdf(Y, a=a_0, loc=loc_0, scale=scale_0)\n",
    "alternative_likelihood = stats.skewnorm.pdf(Y, a=a_1, loc=loc_1, scale=scale_1)"
   ]
  },
  {
   "cell_type": "code",
   "execution_count": 176,
   "metadata": {},
   "outputs": [
    {
     "name": "stdout",
     "output_type": "stream",
     "text": [
      "-6.876147445474395\n"
     ]
    }
   ],
   "source": [
    "logL_ratio = np.sum(np.log(null_likelihood)) - np.sum(np.log(alternative_likelihood))\n",
    "print(logL_ratio)"
   ]
  },
  {
   "cell_type": "code",
   "execution_count": 177,
   "metadata": {},
   "outputs": [],
   "source": [
    "# set the value of the test statistic\n",
    "T = logL_ratio"
   ]
  },
  {
   "cell_type": "markdown",
   "metadata": {},
   "source": [
    "**3. Identify critical region**"
   ]
  },
  {
   "cell_type": "markdown",
   "metadata": {},
   "source": [
    "**TODO** Determine the critical region for which to reject the null hypothesis, i.e. find $c$ for which $P(\\Lambda(X)\\le c) = 0.001$ under the null distribution.\n",
    "\n",
    "1. Generate a large sample of samples of the size of the observed sample, and evaluate for each of them the likelihood ratio. You will obtain the empirical distribution of $\\Lambda (X)$\n",
    "2. Find the $\\alpha\\times 100$ th percentile of that distribution.\n",
    "3. Determine if the test statistic is less than $c$. What is your conclusion?"
   ]
  },
  {
   "cell_type": "code",
   "execution_count": 178,
   "metadata": {},
   "outputs": [],
   "source": [
    "def evaluateLogL_ratio(x):\n",
    "  null_likelihood = stats.skewnorm.pdf(x, a=a_0, loc=loc_0, scale=scale_0)\n",
    "  alternative_likelihood = stats.skewnorm.pdf(x, a=a_1, loc=loc_1, scale=scale_1)\n",
    "  logL_ratio = np.sum(np.log(null_likelihood)) - np.sum(np.log(alternative_likelihood))\n",
    "  return(logL_ratio)\n"
   ]
  },
  {
   "cell_type": "code",
   "execution_count": 179,
   "metadata": {},
   "outputs": [
    {
     "data": {
      "text/plain": [
       "[np.float64(85.40472163621118),\n",
       " np.float64(85.82512280521672),\n",
       " np.float64(86.49939305454399),\n",
       " np.float64(86.74040471951949),\n",
       " np.float64(86.7620369025837),\n",
       " np.float64(87.52542832359526),\n",
       " np.float64(88.41010762535193),\n",
       " np.float64(88.97417831348366),\n",
       " np.float64(91.75624334498723)]"
      ]
     },
     "execution_count": 179,
     "metadata": {},
     "output_type": "execute_result"
    }
   ],
   "source": [
    "Y"
   ]
  },
  {
   "cell_type": "code",
   "execution_count": 180,
   "metadata": {},
   "outputs": [
    {
     "data": {
      "text/plain": [
       "Text(0.5, 1.0, 'observed sample vs sample from the null')"
      ]
     },
     "execution_count": 180,
     "metadata": {},
     "output_type": "execute_result"
    },
    {
     "data": {
      "image/png": "[encoded data removed]",
      "text/plain": [
       "<Figure size 640x480 with 1 Axes>"
      ]
     },
     "metadata": {},
     "output_type": "display_data"
    }
   ],
   "source": [
    "_ = plt.hist(stats.skewnorm.rvs(loc=loc_0, scale=scale_0, a=a_0, size=len(Y)),bins=50, alpha=0.5, density=True, label=\"null\")\n",
    "_ = plt.hist(Y, bins=50, alpha=0.5, density=True, label=\"observation\")\n",
    "plt.legend()\n",
    "plt.title(\"observed sample vs sample from the null\")"
   ]
  },
  {
   "cell_type": "code",
   "execution_count": 181,
   "metadata": {},
   "outputs": [],
   "source": [
    "# generate sample from the null distribution and evaluate the loglikelihood ratio at each sample point \n",
    "test_stat_sample_null = [evaluateLogL_ratio(stats.skewnorm.rvs(loc=loc_0, scale=scale_0, a=a_0, size=len(Y))) for i in range(10000)]"
   ]
  },
  {
   "cell_type": "markdown",
   "metadata": {},
   "source": []
  },
  {
   "cell_type": "code",
   "execution_count": 182,
   "metadata": {},
   "outputs": [
    {
     "name": "stdout",
     "output_type": "stream",
     "text": [
      "-4.088177526126597\n"
     ]
    }
   ],
   "source": [
    "# evaluate the desired percentile from the sample\n",
    "c = np.percentile(test_stat_sample_null, alpha*100)\n",
    "print(c)"
   ]
  },
  {
   "cell_type": "code",
   "execution_count": 183,
   "metadata": {},
   "outputs": [
    {
     "name": "stdout",
     "output_type": "stream",
     "text": [
      "0.0\n"
     ]
    }
   ],
   "source": [
    "# p-value\n",
    "percentile = stats.percentileofscore(test_stat_sample_null, T, kind='rank')\n",
    "print(percentile/100)"
   ]
  },
  {
   "cell_type": "code",
   "execution_count": 184,
   "metadata": {},
   "outputs": [
    {
     "data": {
      "text/plain": [
       "<matplotlib.legend.Legend at 0x70b9e9817680>"
      ]
     },
     "execution_count": 184,
     "metadata": {},
     "output_type": "execute_result"
    },
    {
     "data": {
      "image/png": "[encoded data removed]",
      "text/plain": [
       "<Figure size 640x480 with 1 Axes>"
      ]
     },
     "metadata": {},
     "output_type": "display_data"
    }
   ],
   "source": [
    "import matplotlib.pyplot as plt\n",
    "\n",
    "# plot the distribution of the test statisticunder null\n",
    "out = plt.hist(test_stat_sample_null, bins=100)\n",
    "plt.axvline(T, color=\"r\", label=\"Test Statistic\")\n",
    "plt.axvline(c, color=\"k\", label=f\"c for alpha= {alpha:.3f}\")\n",
    "(left, right) = plt.xlim()\n",
    "plt.axvspan(left, c, alpha=0.1, color='red')\n",
    "plt.xlim(left, right)\n",
    "plt.legend()"
   ]
  },
  {
   "cell_type": "markdown",
   "metadata": {},
   "source": [
    "What is the conclusion?"
   ]
  },
  {
   "cell_type": "markdown",
   "metadata": {},
   "source": [
    "* If we pick values at the upper end of the background, there is a higher chance they can be in the lower tail of the transmission distribution. The result is we reject the null hypothesis and we make Type II error mistakes.\n",
    "\n",
    "* If we pick values at the lower end of the transmission, there is a higher chance they can be in the upper tail of the background distribution. The result is we cannot reject the null and we make Type I error mistakes."
   ]
  },
  {
   "cell_type": "markdown",
   "metadata": {},
   "source": []
  },
  {
   "cell_type": "markdown",
   "metadata": {},
   "source": []
  },
  {
   "cell_type": "markdown",
   "metadata": {},
   "source": []
  }
 ],
 "metadata": {
  "kernelspec": {
   "display_name": "Python 3",
   "language": "python",
   "name": "python3"
  },
  "language_info": {
   "codemirror_mode": {
    "name": "ipython",
    "version": 3
   },
   "file_extension": ".py",
   "mimetype": "text/x-python",
   "name": "python",
   "nbconvert_exporter": "python",
   "pygments_lexer": "ipython3",
   "version": "3.12.1"
  }
 },
 "nbformat": 4,
 "nbformat_minor": 2
}
