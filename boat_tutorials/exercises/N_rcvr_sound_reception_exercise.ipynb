{
 "cells": [
  {
   "cell_type": "code",
   "execution_count": 1,
   "metadata": {},
   "outputs": [],
   "source": [
    "import numpy as np\n",
    "import matplotlib.pyplot as plt\n",
    "import matplotlib.gridspec as gridspec\n",
    "import ipywidgets as widgets\n",
    "from IPython.display import display"
   ]
  },
  {
   "cell_type": "code",
   "execution_count": 2,
   "metadata": {},
   "outputs": [
    {
     "data": {
      "text/html": [
       "\n",
       "<style>\n",
       "    .widget-label { \n",
       "        font-size: 24px !important;\n",
       "    }\n",
       "    .slider-value { \n",
       "        font-size: 24px !important;\n",
       "    }\n",
       "    .widget-hslider .widget-readout {\n",
       "        font-size: 22px !important;\n",
       "    }\n",
       "</style>\n"
      ],
      "text/plain": [
       "<IPython.core.display.HTML object>"
      ]
     },
     "metadata": {},
     "output_type": "display_data"
    }
   ],
   "source": [
    "from IPython.display import display, HTML\n",
    "\n",
    "display(HTML(\"\"\"\n",
    "<style>\n",
    "    .widget-label { \n",
    "        font-size: 24px !important;\n",
    "    }\n",
    "    .slider-value { \n",
    "        font-size: 24px !important;\n",
    "    }\n",
    "    .widget-hslider .widget-readout {\n",
    "        font-size: 22px !important;\n",
    "    }\n",
    "</style>\n",
    "\"\"\"))"
   ]
  },
  {
   "cell_type": "code",
   "execution_count": null,
   "metadata": {},
   "outputs": [
    {
     "data": {
      "application/vnd.jupyter.widget-view+json": {
       "model_id": "0051afbe5bf74c779f380ac70e86712c",
       "version_major": 2,
       "version_minor": 0
      },
      "text/plain": [
       "interactive(children=(IntSlider(value=0, description='Angle (°)', layout=Layout(width='1000px'), max=90, min=-…"
      ]
     },
     "metadata": {},
     "output_type": "display_data"
    }
   ],
   "source": [
    "grid_size = 2000\n",
    "circle_radius = 400\n",
    "\n",
    "def simulate_N_receivers(angle_deg, frequency, N):\n",
    "    rN_x = np.zeros(N)\n",
    "    if N==1:\n",
    "        rN_y = np.array([0])\n",
    "    else:\n",
    "        rN_y = np.linspace(-circle_radius/10, circle_radius/10, N)\n",
    "\n",
    "    sampling_rate = 16000\n",
    "    t = np.linspace(0, 6, sampling_rate*6)\n",
    "    signal = np.sin(t*2*np.pi*frequency)\n",
    "    start = 3\n",
    "    duration = 2*(10**(-np.floor(np.log10(frequency))))\n",
    "    end = start+duration\n",
    "    speed_of_sound_in_water = 1500\n",
    "\n",
    "    angle_rad = np.radians(angle_deg)\n",
    "    circle_x = circle_radius * np.cos(angle_rad)\n",
    "    circle_y = circle_radius * np.sin(angle_rad)\n",
    "\n",
    "    dist_from_source_to_rN = np.sqrt(((circle_x-rN_x)**2) + ((circle_y-rN_y)**2))\n",
    "    time_to_rN = dist_from_source_to_rN / speed_of_sound_in_water\n",
    "    receive_signalN = signal[:,np.newaxis]/(dist_from_source_to_rN**2)\n",
    "    rN_inds_begin = np.floor((start-time_to_rN)*sampling_rate).astype(int)\n",
    "    rN_inds_end = rN_inds_begin + np.ceil(duration*sampling_rate).astype(int)\n",
    "    trace_offsets = 2e-4 * rN_y / circle_radius\n",
    "    fig = plt.figure(figsize=(15, 5))\n",
    "    gs = gridspec.GridSpec(1, 3, width_ratios=[4, 4, 2], wspace=0.3) \n",
    "    gs_signals = gridspec.GridSpecFromSubplotSpec(2, 1, height_ratios=[2,1], subplot_spec=gs[0, 1], hspace=0.8)\n",
    "    map_ax = plt.subplot(gs[0, 0])\n",
    "    map_ax.scatter(circle_x, circle_y, edgecolors='red', facecolors='none', linewidths=2, s=50, label=f\"Source\")\n",
    "\n",
    "    received_ax = plt.subplot(gs_signals[0])\n",
    "    summed_signal = np.zeros(np.ceil(duration*sampling_rate).astype(int))\n",
    "    for i, rn_ind in enumerate(rN_inds_begin):\n",
    "        chunk_of_received_signal_n_in_window = receive_signalN[rn_ind:np.ceil(rn_ind+(duration*sampling_rate)).astype(int), i]\n",
    "        summed_signal+=chunk_of_received_signal_n_in_window\n",
    "        map_ax.scatter(rN_x[i], rN_y[i], s=10, label=f\"Receiver #{int(i+1)}\")\n",
    "        received_ax.plot((1000*(t+time_to_rN[i]-start)), receive_signalN[:,i]+trace_offsets[i], label=f'rcvr #{int(i+1)}')\n",
    "\n",
    "    vrms_summed_fixed = np.sqrt(np.mean(np.square(summed_signal)))\n",
    "    vrms_summed_fixed_dB = 20*np.log10(vrms_summed_fixed)\n",
    "\n",
    "    received_ax.set_xlabel(\"Time (ms)\")\n",
    "    received_ax.set_ylabel(\"Amplitude\")\n",
    "    received_ax.set_title(\"Received voltage signal\")\n",
    "    received_ax.legend(ncol=3, loc='upper right')\n",
    "    received_ax.grid(which='both')\n",
    "    received_ax.set_xlim(0, 1000*duration)\n",
    "    received_ax.set_ylim(-5e-5, 5e-5)\n",
    "\n",
    "    summed_ax = plt.subplot(gs_signals[1])\n",
    "    summed_ax.plot(1000*(t[rN_inds_begin[N-1]:rN_inds_end[N-1]]+time_to_rN[N-1]-start), summed_signal, 'k')\n",
    "    summed_ax.set_xlabel(\"Time (ms)\")\n",
    "    summed_ax.set_ylabel(\"Amplitude\")\n",
    "    summed_ax.set_title(\"Summed voltage signal\")\n",
    "    summed_ax.grid(which='both')\n",
    "    summed_ax.set_xlim(0, 1000*duration)\n",
    "    summed_ax.set_ylim(-5e-5, 5e-5)\n",
    "\n",
    "    map_ax.set_xlim(-grid_size / 2, grid_size / 2)\n",
    "    map_ax.set_ylim(-grid_size / 2, grid_size / 2)\n",
    "    map_ax.set_xlabel(\"X (meters)\")\n",
    "    map_ax.set_ylabel(\"Y (meters)\")\n",
    "    map_ax.set_title(f\"Sound Reception ({int(N)} receivers; 1 source)\")\n",
    "    map_ax.legend(ncol=2, loc='upper right')\n",
    "\n",
    "    angle_degrees = np.arange(-90, 90)\n",
    "    angle_radians = np.radians(angle_degrees)\n",
    "    circle_x_arr = circle_radius * np.cos(angle_radians)\n",
    "    circle_y_arr = circle_radius * np.sin(angle_radians)\n",
    "\n",
    "    dist_from_source_to_r_n_arr = np.sqrt((circle_x_arr[None, :] - rN_x[:, None]) ** 2 + (circle_y_arr[None, :] - rN_y[:, None]) ** 2)\n",
    "    dist_from_source_to_r_n_arr = np.maximum(dist_from_source_to_r_n_arr, 1.0)\n",
    "\n",
    "    time_to_rn_array = dist_from_source_to_r_n_arr / speed_of_sound_in_water\n",
    "    receive_signaln_for_degrees = signal[:, None, None] / (dist_from_source_to_r_n_arr[None, :, :] ** 2)\n",
    "    rn_indices = ((start - time_to_rn_array) * sampling_rate).astype(int) + np.arange(int(duration * sampling_rate))[:, None, None]\n",
    "    chunk_of_received_signaln_in_window_degrees = np.take_along_axis(receive_signaln_for_degrees, rn_indices, axis=0)\n",
    "    summed_signal_degrees = np.sum(chunk_of_received_signaln_in_window_degrees, axis=1)\n",
    "\n",
    "    vrms_summed = np.sqrt(np.mean(np.square(summed_signal_degrees), axis=0))\n",
    "    vrms_summed_dB = 20*np.log10(vrms_summed)\n",
    "\n",
    "    gs_beam_pattern = gridspec.GridSpecFromSubplotSpec(1, 1, subplot_spec=gs[0, 2], hspace=0.8)\n",
    "    beam_pattern_ax = plt.subplot(gs_beam_pattern[0])\n",
    "    beam_pattern_ax.set_title(f'Beam pattern')\n",
    "    beam_pattern_ax.plot(vrms_summed_dB, angle_degrees, color='k')\n",
    "    beam_pattern_ax.scatter(vrms_summed_fixed_dB, angle_deg, edgecolors='red', facecolors='w', linewidth=2, zorder=2)\n",
    "    beam_pattern_ax.set_xlim(-120, -90)\n",
    "    beam_pattern_ax.grid(which='both')\n",
    "    beam_pattern_ax.set_xlabel(r'dB$V_{rms}$ (dB)')\n",
    "    beam_pattern_ax.set_ylabel('Angle (°)')\n",
    "    \n",
    "    plt.show()\n",
    "\n",
    "\n",
    "angle_slider = widgets.IntSlider(\n",
    "    value=0, min=-90, max=90, step=1, description=\"Angle (°)\", continuous_update=True, style={'description_width': 'initial'}, layout=widgets.Layout(width=\"1000px\")\n",
    ")\n",
    "\n",
    "frequency_slider = widgets.IntSlider(\n",
    "    value=0, min=1, max=1e3, step=1, description=\"Frequency (Hz)\", continuous_update=True, style={'description_width': 'initial'}, layout=widgets.Layout(width=\"1000px\")\n",
    ")\n",
    "\n",
    "N_slider = widgets.IntSlider(\n",
    "    value=0, min=1, max=10, step=1, description=\"# receivers\", continuous_update=True, style={'description_width': 'initial'}, layout=widgets.Layout(width=\"1000px\")\n",
    ")\n",
    "\n",
    "interactive_plot = widgets.interactive(simulate_N_receivers, angle_deg=angle_slider, frequency=frequency_slider, N=N_slider)\n",
    "display(interactive_plot)"
   ]
  }
 ],
 "metadata": {
  "kernelspec": {
   "display_name": "boat_dev",
   "language": "python",
   "name": "python3"
  },
  "language_info": {
   "codemirror_mode": {
    "name": "ipython",
    "version": 3
   },
   "file_extension": ".py",
   "mimetype": "text/x-python",
   "name": "python",
   "nbconvert_exporter": "python",
   "pygments_lexer": "ipython3",
   "version": "3.13.2"
  }
 },
 "nbformat": 4,
 "nbformat_minor": 2
}
