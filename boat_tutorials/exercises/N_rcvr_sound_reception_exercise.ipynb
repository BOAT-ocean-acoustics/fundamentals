{
 "cells": [
  {
   "cell_type": "code",
   "execution_count": 1,
   "metadata": {},
   "outputs": [],
   "source": [
    "import matplotlib\n",
    "matplotlib.use('module://matplotlib_inline.backend_inline')"
   ]
  },
  {
   "cell_type": "code",
   "execution_count": 2,
   "metadata": {},
   "outputs": [],
   "source": [
    "import numpy as np\n",
    "import matplotlib.pyplot as plt\n",
    "import matplotlib.gridspec as gridspec\n",
    "import ipywidgets as widgets\n",
    "from matplotlib.lines import Line2D"
   ]
  },
  {
   "cell_type": "code",
   "execution_count": 3,
   "metadata": {},
   "outputs": [
    {
     "data": {
      "text/html": [
       "\n",
       "<style>\n",
       "    .widget-label { \n",
       "        font-size: 24px !important;\n",
       "    }\n",
       "    .slider-value { \n",
       "        font-size: 24px !important;\n",
       "    }\n",
       "    .widget-hslider .widget-readout {\n",
       "        font-size: 22px !important;\n",
       "    }\n",
       "</style>\n"
      ],
      "text/plain": [
       "<IPython.core.display.HTML object>"
      ]
     },
     "metadata": {},
     "output_type": "display_data"
    }
   ],
   "source": [
    "from IPython.display import display, HTML\n",
    "\n",
    "display(HTML(\"\"\"\n",
    "<style>\n",
    "    .widget-label { \n",
    "        font-size: 24px !important;\n",
    "    }\n",
    "    .slider-value { \n",
    "        font-size: 24px !important;\n",
    "    }\n",
    "    .widget-hslider .widget-readout {\n",
    "        font-size: 22px !important;\n",
    "    }\n",
    "</style>\n",
    "\"\"\"))"
   ]
  },
  {
   "cell_type": "code",
   "execution_count": null,
   "metadata": {},
   "outputs": [
    {
     "data": {
      "application/vnd.jupyter.widget-view+json": {
       "model_id": "a4208085d77846448a615f81ca85d27d",
       "version_major": 2,
       "version_minor": 0
      },
      "text/plain": [
       "interactive(children=(IntSlider(value=0, description='Angle (°)', layout=Layout(width='1000px'), max=90, min=-…"
      ]
     },
     "metadata": {},
     "output_type": "display_data"
    }
   ],
   "source": [
    "GRID_SIZE = 2000\n",
    "CIRCLE_RADIUS = 400\n",
    "\n",
    "def simulate_N_receivers(angle_deg, frequency, N, spacing):\n",
    "    rN_x = np.zeros(N)\n",
    "    rN_y = np.linspace(-spacing * (N - 1) / 2, spacing * (N - 1) / 2, N)\n",
    "    if N==1:\n",
    "        trace_offsets = np.array([0])\n",
    "    else:\n",
    "        trace_offsets = 2.5e-4 * np.linspace(-0.1, 0.1, N)\n",
    "\n",
    "    sampling_rate = min(10000, int(1000*(10**(np.floor(np.log10(frequency))))))\n",
    "    t = np.linspace(0, 4, sampling_rate*4)\n",
    "    signal = np.sin(t*2*np.pi*frequency)\n",
    "    time_received_at_rn = 1\n",
    "    plot_duration = 2*(10**(-np.floor(np.log10(frequency))))\n",
    "    signal_duration = 2.5*(10**(-np.floor(np.log10(frequency))))\n",
    "    speed_of_sound_in_water = 1500\n",
    "\n",
    "    angle_degrees = np.arange(-90, 90)\n",
    "    angle_idx = np.where(np.isclose(angle_degrees, angle_deg, atol=1e-2))[0][0]\n",
    "    angle_radians = np.radians(angle_degrees)\n",
    "    circle_x_arr = CIRCLE_RADIUS * np.cos(angle_radians)\n",
    "    circle_y_arr = CIRCLE_RADIUS * np.sin(angle_radians)\n",
    "    circle_x = circle_x_arr[angle_idx]\n",
    "    circle_y = circle_y_arr[angle_idx]\n",
    "\n",
    "    dist_from_source_to_r_n_arr = np.sqrt((circle_x_arr[None, :] - rN_x[:, None]) ** 2 + (circle_y_arr[None, :] - rN_y[:, None]) ** 2)\n",
    "\n",
    "    time_to_rn_array = dist_from_source_to_r_n_arr / speed_of_sound_in_water\n",
    "    receive_signaln_for_degrees = signal[:, None, None] / (dist_from_source_to_r_n_arr[None, :, :] ** 2)\n",
    "    rn_indices = ((time_received_at_rn - time_to_rn_array) * sampling_rate).astype(int) + np.arange(int(signal_duration * sampling_rate))[:, None, None]\n",
    "    chunk_of_received_signaln_in_window_degrees = np.take_along_axis(receive_signaln_for_degrees, rn_indices, axis=0)\n",
    "\n",
    "    fig = plt.figure(figsize=(15, 5))\n",
    "    gs = gridspec.GridSpec(1, 3, width_ratios=[4, 4, 2], wspace=0.3) \n",
    "    gs_signals = gridspec.GridSpecFromSubplotSpec(2, 1, height_ratios=[2,1], subplot_spec=gs[0, 1], hspace=0.8)\n",
    "    map_ax = plt.subplot(gs[0, 0])\n",
    "    map_ax.scatter(circle_x, circle_y, edgecolors='red', facecolors='none', linewidths=2, s=50, label=f\"Source\")\n",
    "\n",
    "    received_ax = plt.subplot(gs_signals[0])\n",
    "    color_cycle = plt.rcParams['axes.prop_cycle'].by_key()['color']\n",
    "    map_ax.scatter(rN_x, rN_y, s=10, c=color_cycle[:len(rN_x)])\n",
    "    received_ax.plot(1000*((rn_indices[:,:,angle_idx] / sampling_rate) + time_to_rn_array[:,angle_idx] - time_received_at_rn), \n",
    "                    chunk_of_received_signaln_in_window_degrees[:,:,angle_idx]+trace_offsets)\n",
    "\n",
    "    marker_handles = [Line2D([0], [0], marker='o', color='w', label=f'rcvr #{i+1}', markerfacecolor=color_cycle[i], markersize=6) for i in range(len(rN_x))]\n",
    "    line_handles = [Line2D([0], [0], label=f'rcvr #{i+1}', color=color_cycle[i]) for i in range(len(rN_x))]\n",
    "\n",
    "    map_ax.set_xlim(-GRID_SIZE / 2, GRID_SIZE / 2)\n",
    "    map_ax.set_ylim(-GRID_SIZE / 2, GRID_SIZE / 2)\n",
    "    map_ax.set_xlabel(\"X (meters)\")\n",
    "    map_ax.set_ylabel(\"Y (meters)\")\n",
    "    map_ax.set_title(f\"Sound Reception ({int(N)} receivers; 1 source)\")\n",
    "    map_ax.legend(handles=marker_handles, ncol=3, loc='upper right')\n",
    "\n",
    "    received_ax.set_xlabel(\"Time (ms)\")\n",
    "    received_ax.set_ylabel(\"Amplitude\")\n",
    "    received_ax.set_title(\"Received voltage signal\")\n",
    "    received_ax.grid(which='both')\n",
    "    received_ax.set_yticks([], [])\n",
    "    received_ax.set_xlim(0, 1000*(plot_duration))\n",
    "    received_ax.set_ylim(-5e-5, 5e-5)\n",
    "    received_ax.legend(handles=line_handles, ncol=3, loc='upper right')\n",
    "\n",
    "    summed_signal_degrees = np.sum(chunk_of_received_signaln_in_window_degrees, axis=1)\n",
    "    vrms_summed = np.sqrt(np.mean(np.square(summed_signal_degrees), axis=0))\n",
    "    vrms_summed_dB = 20*np.log10(vrms_summed)\n",
    "    vrms_summed_dB_norm = vrms_summed_dB - vrms_summed_dB.max()\n",
    "\n",
    "    summed_signal = summed_signal_degrees[:, angle_idx]\n",
    "    vrms_summed_fixed = vrms_summed[angle_idx]\n",
    "    vrms_summed_fixed_dB = 20*np.log10(vrms_summed_fixed)\n",
    "    vrms_summed_fixed_dB_norm = vrms_summed_fixed_dB - vrms_summed_dB.max()\n",
    "\n",
    "    summed_ax = plt.subplot(gs_signals[1])\n",
    "    summed_ax.plot(1000*((rn_indices[:,N-1,angle_idx] / sampling_rate) + time_to_rn_array[N-1,angle_idx] - time_received_at_rn), summed_signal, 'k')\n",
    "    summed_ax.set_xlabel(\"Time (ms)\")\n",
    "    summed_ax.set_ylabel(\"Amplitude\")\n",
    "    summed_ax.set_title(\"Summed voltage signal\")\n",
    "    summed_ax.grid(which='both')\n",
    "    summed_ax.set_xlim(0, 1000*plot_duration)\n",
    "    summed_ax.set_ylim(-5e-5, 5e-5)\n",
    "\n",
    "    gs_beam_pattern = gridspec.GridSpecFromSubplotSpec(1, 1, subplot_spec=gs[0, 2], hspace=0.8)\n",
    "    beam_pattern_ax = plt.subplot(gs_beam_pattern[0])\n",
    "    beam_pattern_ax.set_title(f'Beam pattern')\n",
    "    beam_pattern_ax.plot(vrms_summed_dB_norm, angle_degrees, color='k')\n",
    "    beam_pattern_ax.scatter(vrms_summed_fixed_dB_norm, angle_deg, edgecolors='red', facecolors='w', linewidth=2, zorder=2)\n",
    "    beam_pattern_ax.set_xlim(-40, 1)\n",
    "    beam_pattern_ax.grid(which='both')\n",
    "    beam_pattern_ax.set_xlabel(r'dB$V_{rms}$ (dB)')\n",
    "    beam_pattern_ax.set_ylabel('Angle (°)')\n",
    "\n",
    "    plt.show()\n",
    "\n",
    "\n",
    "angle_slider = widgets.IntSlider(\n",
    "    value=0, min=-90, max=90, step=1, description=\"Angle (°)\", continuous_update=True, style={'description_width': 'initial'}, layout=widgets.Layout(width=\"1000px\")\n",
    ")\n",
    "\n",
    "frequency_slider = widgets.IntSlider(\n",
    "    value=10, min=1, max=2e2, step=1, description=\"Frequency (Hz)\", continuous_update=True, style={'description_width': 'initial'}, layout=widgets.Layout(width=\"1000px\")\n",
    ")\n",
    "\n",
    "N_slider = widgets.IntSlider(\n",
    "    value=0, min=1, max=5, step=1, description=\"# receivers\", continuous_update=True, style={'description_width': 'initial'}, layout=widgets.Layout(width=\"300px\")\n",
    ")\n",
    "\n",
    "spacing_slider = widgets.IntSlider(\n",
    "    value=40, min=10, max=100, step=1, description=\"Spacing (m)\", continuous_update=True, style={'description_width': 'initial'}, layout=widgets.Layout(width=\"1000px\")\n",
    ")\n",
    "\n",
    "interactive_plot = widgets.interactive(simulate_N_receivers, angle_deg=angle_slider, frequency=frequency_slider, N=N_slider, spacing=spacing_slider)\n",
    "display(interactive_plot)"
   ]
  }
 ],
 "metadata": {
  "kernelspec": {
   "display_name": "boat_dev",
   "language": "python",
   "name": "python3"
  },
  "language_info": {
   "codemirror_mode": {
    "name": "ipython",
    "version": 3
   },
   "file_extension": ".py",
   "mimetype": "text/x-python",
   "name": "python",
   "nbconvert_exporter": "python",
   "pygments_lexer": "ipython3",
   "version": "3.13.2"
  }
 },
 "nbformat": 4,
 "nbformat_minor": 2
}
