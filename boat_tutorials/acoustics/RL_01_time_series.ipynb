{
 "cells": [
  {
   "cell_type": "markdown",
   "metadata": {},
   "source": [
    "(acoustics-receiver_time_series)=\n",
    "## How do acoustic signals looks like?\n",
    "- bring in the concept of a \"time series\" and connect with the single value \"level\" above\n",
    "- show waveforms of impulsive and continuously varying sounds\n",
    "- talk about the concept of gating out a short signal section in analysis\n",
    "    - potentially using multipath to explain\n",
    "- tip: connect to Spectral analysis\n",
    "\n",
    "ADD WIDGET:\n",
    "- VARY: SOUND FREQUENCY\n",
    "- PLOT WAVEFORM CHANGES\n",
    "- GOAL IS TO SHOW THE INVERSE RELATIONSHIP BETWEEN FREQUENCY AND WAVELENGTH\n"
   ]
  },
  {
   "cell_type": "markdown",
   "metadata": {},
   "source": []
  }
 ],
 "metadata": {
  "language_info": {
   "name": "python"
  }
 },
 "nbformat": 4,
 "nbformat_minor": 2
}
