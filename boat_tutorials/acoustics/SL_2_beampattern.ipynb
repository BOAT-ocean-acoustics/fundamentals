{
 "cells": [
  {
   "cell_type": "markdown",
   "metadata": {},
   "source": [
    "(acoustics-SL_piston_far_field)=\n",
    "## Circular, piston transducer\n",
    "\n",
    "The most common man-made sound sources used in underwater acoustics are planer transducers which have flat surfaces which oscillate to produce sound. This is in part due to the fact that a flat transducer is relatively easy to manufacture, but more importantly, the transducer transmits a majority of the sound in the direction perpendicular to the vibrating plane.  This is a useful property in many sonar systems in that thte directionality can help determine the location of an object (fish, bubble, submarine, etc.)\n",
    "\n",
    "Note that we said the transducer directs a \"majority\" of the sound in one direction and not \"all\" of the sound. In fact, the transducer sends different levels of sound in many directions and the directional dependence of the sound is refered to as the transducer's **beam pattern**. To help understand the concept of a beam pattern and it's properties, we will focus initially on one particular, common type of tranducer: the circular piston. This type of transducer is often a cylindrical piece of piezoelectric material to which an electrical signal is applied such that it expands and contracts along the axis of the cylinder. The causes sound to radiate from the circular face of the transducer. The structure of the sound field from this type of transducer can be fairly complicated and there is not a simple, mathematical expression for the direction and strength of the transmitted sound. There are, however, approximate mathematical descriptions that can accurately describe the transmitted sound under certain conditions. One of the most useful of these is to assume that the transducer can be approximated as a baffled circular piston. By \"baffled,\" we mean that the face of the transducer is surrounded by an infinite, rigid surface. This simplifies the mathematics and allows us to calculate the amplitude and direction of the transmitted field.\n",
    "\n",
    "In the following, the face of the transducer will be in the x-y plane and the z-axis is perpendicular to the face. The radius of the tranducer is ***a*** and the field will be described in two ways; either a function of the distance, ***r***, from the center of the face and the angle, ***$\\theta$***, between the direction of ***r*** and the -axis or as a function of distance from the plane of the transducer (range) and the perpendicular direction (cross-range.)\n",
    "\n",
    "![Piston](../images/quick_piston.png)\n",
    "\n",
    " If the sound is measured far away from the face of the transducer, the intensity of the sound will be proportional to $1/r^2$ and the angular-dependence of the field can be expressed in a simple form that does not depend on the distance. When the reciever is sufficiently far away that these two properties are true, then the receiver is said to be in the **far-field** of the transducer. In the widget below, we've removed the $1/r^2$ dependence and normalized the intensity by the value measured on the z-axis or $\\theta = 0^\\circ$. As a result, the normalized intensity is 0 dB (or 1 on a linear scale.) The widget allows you to make the transducer larger or smaller by increasing it's radius and allows you to change the frequency of the sound being transmitted. You can also display the angular dependence of the transmitted sound on different plots and on both a linear and decibel scale."
   ]
  },
  {
   "cell_type": "code",
   "execution_count": 29,
   "metadata": {},
   "outputs": [],
   "source": [
    "# Import packages\n",
    "import multiprocessing as mp\n",
    "from functools import partial\n",
    "\n",
    "import numpy as np\n",
    "import matplotlib.pyplot as plt\n",
    "from scipy.special import j1  # Bessel function of the first kind\n",
    "import ipywidgets as widgets\n",
    "from ipywidgets import interact\n",
    "import pandas as pd"
   ]
  },
  {
   "cell_type": "code",
   "execution_count": 30,
   "metadata": {},
   "outputs": [
    {
     "data": {
      "application/vnd.jupyter.widget-view+json": {
       "model_id": "5d50909a50124d81a6b701715d54b017",
       "version_major": 2,
       "version_minor": 0
      },
      "text/plain": [
       "interactive(children=(IntSlider(value=30, description='Frequency (kHz)', max=200, min=1), FloatSlider(value=0.…"
      ]
     },
     "metadata": {},
     "output_type": "display_data"
    },
    {
     "data": {
      "text/plain": [
       "<function __main__.update_far_field_intensity_cartesian_polar_plot(f, a, plotType, plotScale)>"
      ]
     },
     "execution_count": 30,
     "metadata": {},
     "output_type": "execute_result"
    }
   ],
   "source": [
    "# Constants\n",
    "rho0 = 1\n",
    "c = 1500\n",
    "r = 10\n",
    "\n",
    "# Create sliders for 'f' and 'a'\n",
    "f_slider = widgets.IntSlider(min=1, max=200, step=1, value=30, description='Frequency (kHz)')\n",
    "a_slider = widgets.FloatSlider(min=0.01, max=1, step=0.005, value=0.1,readout=True,\n",
    "    readout_format='.3f', description='Aperture Radius (m)')\n",
    "\n",
    "def far_field_intensity_cartesian_polar_calculation(f, a):\n",
    "    # Calculate angular frequency\n",
    "    omega = 2 * np.pi * f * 1000\n",
    "\n",
    "    # Calculate wavenumber\n",
    "    k = omega / c\n",
    "\n",
    "    # Projection Intensity calculation\n",
    "    theta = np.arange(-90, 90.1, 0.1)\n",
    "    u = k * a * np.sin(theta * np.pi / 180)\n",
    "    projInt = np.abs((rho0 * c * k * a * a / (2 * r)) * \n",
    "                     (2 * j1(u) / u)) ** 2\n",
    "\n",
    "    # Handle division by zero at theta = 0\n",
    "    ind = np.where(theta == 0)[0]\n",
    "    axisInt = np.abs(rho0 * c * k * a * a / (2 * r)) ** 2\n",
    "    projInt[ind] = axisInt\n",
    "\n",
    "    return theta, projInt, axisInt\n",
    "\n",
    "def update_far_field_intensity_cartesian_polar_plot(f, a, plotType, plotScale):\n",
    "    # Calculate far field intensity\n",
    "    theta, projInt, axisInt = far_field_intensity_cartesian_polar_calculation(f, a)\n",
    "\n",
    "    # Close any existing plots\n",
    "    plt.close('all') \n",
    "\n",
    "    # Plot in Cartesian\n",
    "    if plotType == 'Cartesian':\n",
    "        if plotScale == \"Decibels\":\n",
    "            plt.plot(theta, 10 * np.log10(projInt / axisInt), linewidth=2)\n",
    "            plt.ylim([-40, 0])\n",
    "            plt.xlim([-90, 90])\n",
    "            plt.xlabel('Angle (degrees)', fontsize=14)\n",
    "            plt.ylabel('Beam Level (dB)', fontsize=14)\n",
    "            plt.grid(True)\n",
    "        else:\n",
    "            plt.plot(theta, projInt / axisInt, linewidth=2)\n",
    "            plt.ylim(10 ** (np.array([-40, 0]) / 10))\n",
    "            plt.xlim([-90, 90])\n",
    "            plt.xlabel('Angle (degrees)', fontsize=14)\n",
    "            plt.ylabel('Beam Level', fontsize=14)\n",
    "            plt.grid(True)\n",
    "\n",
    "    # Plot in Polar\n",
    "    elif plotType == 'Polar':\n",
    "        if plotScale == \"Decibels\":\n",
    "            plt.polar(theta * np.pi / 180, 10 * np.log10(projInt / axisInt), linewidth=2)\n",
    "            ax = plt.gca()\n",
    "            ax.set_ylim([-40, 0])\n",
    "            ax.set_rticks([-40, -30, -20, -10, 0])\n",
    "            ax.set_thetagrids([-90, -75, -60, -45, -30, -15, 0, 15, 30, 45, 60, 75, 90])\n",
    "            ax.set_theta_zero_location('N')  # 'top'\n",
    "            ax.set_thetalim([np.radians(-90), np.radians(90)])\n",
    "            ax.set_title('Beam Pattern (dB)', fontsize=14)\n",
    "        else:\n",
    "            plt.polar(theta * np.pi / 180, projInt / axisInt, linewidth=2)\n",
    "            ax = plt.gca()\n",
    "            ax.set_ylim(10 ** (np.array([-40, 0]) / 10))\n",
    "            ax.set_theta_zero_location('N')  # 'top'\n",
    "            ax.set_thetalim([np.radians(-90), np.radians(90)])\n",
    "            ax.set_title('Beam Pattern (Linear Scale)', fontsize=14)\n",
    "\n",
    "    # Calculate beam widths\n",
    "    ind3dB = np.where(10 * np.log10(projInt / axisInt) >= -3)[0]\n",
    "    ind6dB = np.where(10 * np.log10(projInt / axisInt) >= -6)[0]\n",
    "    ind10dB = np.where(10 * np.log10(projInt / axisInt) >= -10)[0]\n",
    "    bw3dB = 2 * np.abs(theta[ind3dB[0]])\n",
    "    bw6dB = 2 * np.abs(theta[ind6dB[0]])\n",
    "    bw10dB = 2 * np.abs(theta[ind10dB[0]])\n",
    "\n",
    "    # Define labels and values\n",
    "    bwLabels = ['down 3 dB', 'down 6 dB', 'down 10 dB']\n",
    "    bwValues = [bw3dB, bw6dB, bw10dB]\n",
    "\n",
    "    # Create a DataFrame\n",
    "    df = pd.DataFrame({\n",
    "        'Beam Width (degrees)': bwValues,\n",
    "        'Definition': bwLabels\n",
    "    })\n",
    "\n",
    "    # Print the DataFrame\n",
    "    print(df)\n",
    "\n",
    "# Create widgets for plot type and scale\n",
    "plot_type_widget = widgets.Dropdown(\n",
    "    options=['Cartesian', 'Polar'],\n",
    "    value='Polar',\n",
    "    description='Plot Type:'\n",
    ")\n",
    "\n",
    "plot_scale_widget = widgets.Dropdown(\n",
    "    options=['Decibels', 'Linear'],\n",
    "    value='Decibels',\n",
    "    description='Scale:'\n",
    ")\n",
    "\n",
    "# Use interact to link widgets and plotting function\n",
    "interact(\n",
    "    update_far_field_intensity_cartesian_polar_plot,\n",
    "    f=f_slider,\n",
    "    a=a_slider,\n",
    "    plotType=plot_type_widget,\n",
    "    plotScale=plot_scale_widget,\n",
    ")"
   ]
  },
  {
   "cell_type": "markdown",
   "metadata": {},
   "source": [
    "One of the things you'll notice as you decrease the frequency or decrease the radius, is that the central part of the beam pattern gets wider. This central portion of the beam pattern that includes the maximum at 0 degrees and is enclosed by the first null (points where the level gets very low) is called the **main lobe** or **main beam**. Most of the energy of the transmitted sound lies in this beam. As a result, most applications try to utilize just this beam. A key parameter for the transducer is width of this main beam or the **beam width**. The beam width is defined as the width of the beam when the field drops to a set level below the maximum value. This level is sometimes defined as 3 dB, 6 dB, or 10 dB which on a linear scale corresponds to 1/2, 1/4, or 1/10 of the maximum of the maximum value of the main lobe. For example, [SS510 transducer spec sheet](https://www.teledynemarine.com/en-us/products/SiteAssets/Odom/transducers/SMBB200-9.pdf) states that when operating at 200 kHz, the beam width is 9 degrees @ -3 dB. The table above shows the beamwidth defined relate to the different levels for the plotted beam pattern.\n",
    "\n",
    "```{Note}\n",
    ":class: note\n",
    "For the SS510 transducer, the spec sheet says that at 200 kHz, the beam width is 9 degrees @ -3 dB. Using the widget, can you estimate the radius of the transducer?\n",
    "``` \n",
    "\n",
    "The other beams or lobes are often referred to as **side lobes**. Notice that while the shape of the main lobe and the side lobes change significantly with frequency and transducer radius, the maximum level of the two sidelobes on either side of the main lobe is always at the same level, 17 dB, or 1/50 of the main lobe. This doesn't always hold true for all piston transducers but is a good approximation for the level of the first side lobe and is a useful rule of thumb for the far-field of the transducer. \n",
    "\n",
    "The field of the piston transducer is calculated below as a function of range from the transducer face and cross-range. While the calculation above shows how the field behaves as a function of angle relative to piston's center, this calculation shows how the field varies throughout the water in front of the sound source."
   ]
  },
  {
   "cell_type": "code",
   "execution_count": 31,
   "metadata": {
    "scrolled": false
   },
   "outputs": [
    {
     "data": {
      "application/vnd.jupyter.widget-view+json": {
       "model_id": "e96822e8555d4d0cb492856e6d84fa56",
       "version_major": 2,
       "version_minor": 0
      },
      "text/plain": [
       "interactive(children=(IntSlider(value=30, description='Frequency (kHz)', max=50, min=1), FloatSlider(value=0.1…"
      ]
     },
     "metadata": {},
     "output_type": "display_data"
    },
    {
     "data": {
      "text/plain": [
       "<function __main__.update_far_field_intensity_x_y_plane_plot(f, a, plotScale)>"
      ]
     },
     "execution_count": 31,
     "metadata": {},
     "output_type": "execute_result"
    }
   ],
   "source": [
    "# Constants\n",
    "rho0 = 1\n",
    "c = 1500\n",
    "\n",
    "# Create sliders for 'f' and 'a'\n",
    "f_slider = widgets.IntSlider(min=1, max=50, step=1, value=30, description='Frequency (kHz)')\n",
    "a_slider = widgets.FloatSlider(min=0.1, max=1, step=0.05, value=0.1, description='Aperture Radius (m)')\n",
    "\n",
    "def far_field_intensity_x_y_plane_calculation(f, a, r, cr):\n",
    "    # Calculate angular frequency\n",
    "    omega = 2 * np.pi * f * 1000\n",
    "\n",
    "    # Calculate wavenumber\n",
    "    k = omega / c\n",
    "\n",
    "    # Calculate sound pressure level in linear units\n",
    "    SL_dB = 180\n",
    "    SL_lin = 10**(SL_dB / 20)\n",
    "\n",
    "    # Calculate the particle velocity amplitude\n",
    "    U0 = SL_lin / (rho0 * c * k * a * a / 2)\n",
    "\n",
    "    # Calculate meshgrids\n",
    "    x = np.linspace(-cr, cr, 150)\n",
    "    y = np.linspace(0, r, 100)\n",
    "    X, Y = np.meshgrid(x, y)\n",
    "\n",
    "    # Far field calculation\n",
    "    thetaXY = np.arctan2(X, Y)\n",
    "    rXY = np.sqrt(X**2 + Y**2)\n",
    "    u1 = k * a * np.sin(thetaXY)\n",
    "    u1[u1 == 0] = np.nan  # Avoid division by zero\n",
    "    projIntXY = np.abs((rho0 * c * k * U0 * a * a / (2 * rXY)) *\n",
    "                    (2 * j1(u1) / u1))**2\n",
    "\n",
    "    return x, y, SL_dB, projIntXY\n",
    "\n",
    "def update_far_field_intensity_x_y_plane_plot(f, a, plotScale):\n",
    "    # Calculate far field intensity on x-y plane\n",
    "    x, y, SL_dB, projIntXY = far_field_intensity_x_y_plane_calculation(f, a, r=10, cr=10)\n",
    "\n",
    "    # Close any existing plots\n",
    "    plt.close('all')\n",
    "\n",
    "    # Plotting\n",
    "    plt.figure(1)\n",
    "    if plotScale == 'Decibels':\n",
    "        plt.imshow(10 * np.log10(projIntXY), extent=(x.min(), x.max(), y.min(), y.max()), origin='lower')\n",
    "        plt.colorbar(label='Intensity (dB re 1μPa)')\n",
    "        plt.clim(SL_dB - 90, SL_dB)\n",
    "    else:\n",
    "        plt.imshow(projIntXY / 1e6, extent=(x.min(), x.max(), y.min(), y.max()), origin='lower')\n",
    "        plt.colorbar(label='Intensity (μPa²)')\n",
    "        plt.clim(10**((SL_dB - 90) / 10), SL_dB)\n",
    "        \n",
    "    plt.xlabel('Cross Range (m)')\n",
    "    plt.ylabel('Range (m)')\n",
    "    plt.gca().set_aspect('auto')\n",
    "    plt.show()\n",
    "\n",
    "# Use interact to link widgets and plotting function\n",
    "interact(\n",
    "    update_far_field_intensity_x_y_plane_plot,\n",
    "    f=f_slider,\n",
    "    a=a_slider,\n",
    "    plotScale=plot_scale_widget,\n",
    ")"
   ]
  }
 ],
 "metadata": {
  "kernelspec": {
   "display_name": "Python 3",
   "language": "python",
   "name": "python3"
  },
  "language_info": {
   "codemirror_mode": {
    "name": "ipython",
    "version": 3
   },
   "file_extension": ".py",
   "mimetype": "text/x-python",
   "name": "python",
   "nbconvert_exporter": "python",
   "pygments_lexer": "ipython3",
   "version": "3.8.3"
  }
 },
 "nbformat": 4,
 "nbformat_minor": 2
}
