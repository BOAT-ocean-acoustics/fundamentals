{
 "cells": [
  {
   "cell_type": "markdown",
   "metadata": {},
   "source": [
    "# Scattering from the rough sea surface and seafloor\n",
    "We will shift now from scattering from discrete objects in the water column such as fish to scattering from the ocean sea surface and seafloor. In both cases, we are measuring sound energy that is redirected by the scatterer. In the case of fish as a scatterer, the refdirected sound is treated as coherent and given the same geometry and if the fish are similar to one another, the redirected sound will appear approximately the same for each fish.\n",
    "\n",
    "This isn't the case for the seafloor or the sea surface. As the sea surface changes due to passing waves, the scattered sound can fluctuate significantly. Similarly for the seafloor. Although a large area may have the same statistical description, as the sonar moves over the seafloor, the returned signal will fluctuate.\n",
    "\n",
    "As a result, instead of treating each returned signal in isolation, the goal of characterizing the scattering is to understand how the statistics of those fluctuations depend on the environment."
   ]
  },
  {
   "cell_type": "markdown",
   "metadata": {},
   "source": [
    "## Defining and measuring a rough surface\n",
    "Before we talk about the scattering of sound from the seafloor, we will begin by defining what we mean when we say a rough surface. For the sea surface, while there are occasions when the sea is very calm and the ocean surface is flat, but more often than not, there are waves coming from different directions which creates an undulating surface like the one shown below.\n",
    "\n",
    "```{image} ../images/rough_sea_surface.png\n",
    ":width: 400px\n",
    "```\n",
    "\n",
    "The height of the surface is changing over time and these variations can be treated as random at any point in time or at different locations on the surface. Given this random nature, we use statistics to describe the surface. We can write the height of a random surface as\n",
    "\n",
    "$$z\\left(x,y\\right) = \\left<z\\right> + \\delta z\\left(x,y\\right)$$\n",
    "\n",
    "where $\\left<z\\right>$ is the mean height surface and $\\delta z$ is the displacement of the surface at each point and $<\\delta z> = 0$. We can get a sense of how rough the surface is by looking at the **RMS roughness**:\n",
    "\n",
    "$$ h = \\sqrt{\\left<\\delta z\\right>^2}. $$\n",
    "\n",
    "On the right side of the image below is a map of the seafloor height measured using the laser line scanning system shown in the left of the image. This imaging system measures the height of the seafloor at every 1 mm step in the x and y directions. You can clearly see small undulations that might have been produced by currents and circular, pock marks made by feeding fish. For this surface, the RMS roughness is $h = 0.31$ cm. The sea surface shown above, probably has an rms roughness closer to 10 cm. Rough seas can have RMS roughness on the order of 3-5 m.\n",
    "\n",
    "```{image} ../images/sand_seafloor.png\n",
    ":width: 400px\n",
    "```\n",
    "\n",
    "Another way to characterize the roughness of a surface is to look at the **roughness power spectrum**. While we won't go into a lot of detail here, the power spectrum is related to the fourier transform of the surface and is a way to see how the fluctuation of the heights on the surface vary as a function of length scale. For example there may be large undulating features on the seafloor that vary horizontal over meters, while there might also be smaller bumps and ridges that change on the order of centimeters. In the example above, the fish pock marks are on the order of 2-10 cm while the larger hill-like features are 20-30 cm long. We will dig into this in greater detail in future versions of this page.\n"
   ]
  },
  {
   "cell_type": "markdown",
   "metadata": {},
   "source": [
    "## Scattering strength\n",
    "\n",
    "As we said earlier, sound scattered from a rough surface varies as the rough surface changes in time or if we move to different locations on the surface. As a consequence we are interested in measuring the fluctuations in the scattered field. The total pressure after sound has interacted with the seafloor can be expressed as\n",
    "\n",
    "$$ p = \\left<p\\right> + p_s, $$\n",
    "\n",
    "where $p_s$ is the scattered pressure and $<>$ denotes the mean taken using measurements of the recieved pressure from a bunch of different \"looks\" at the rough surface. This could mean making repeat measurements at the same location on the sea surface as the surface changes due to the passing waves or making measurements at different locations on the seafloor.  From this equation, the mean of the scattered pressure is zero. What is of interest in rough surface scattering is not the mean of the scattered pressure, but rather the _mean square_ of the scattered pressure. The mean square scattered pressure can be related to the rough surface properties through\n",
    "\n",
    "$$<|p_s|^2> = |p_i|^2 A \\sigma \\frac{1}{r^2},$$\n",
    "\n",
    "where $|p_i|^2$ is the mean square of the incident pressure, $A$ is the area of the scattering patch on the seafloor, $r_s$ is the distance of the receiver from the patch, and $\\sigma$ is the **scattering cross section.** This cross section differs from the target scattering cross section in that this cross section is dimensionless since it is now defined for an area. If you wanted to be really specific, you could refer to this as the \"scattering cross section per unit area per unit solid angle,\" but this is a mouthful and tend to use just \"scattering cross section.\" The scattering cross section is a function of the incident and scattered grazing angles as was the case in target scattering. Instead of target strength, though, we define the **scattering strength** as\n",
    "\n",
    "$$ S = 10\\log_{10}\\sigma.$$\n",
    "\n"
   ]
  },
  {
   "cell_type": "markdown",
   "metadata": {},
   "source": [
    "## Backscattering from a rough surface\n",
    "We won't go into details here, but below is a widget that calculates the backscattering strength for a rough seafloor using a statistical description of the seafloor that yields an RMS roughness of 1 cm. The calculation uses a small roughness perturbation theory and is a good approximation when the ratio of the RMS roughness to the wavelength is small. For the 40 kHz signal used in this example, the wavelength is 3.75 cm and the ratio is $h/\\lambda = 0.27$. The main goal of the widget at this stage is to show how the scattering changes with sediment properties while keeping the rough surface the same."
   ]
  },
  {
   "cell_type": "code",
   "execution_count": 2,
   "metadata": {
    "tags": [
     "hide-input"
    ]
   },
   "outputs": [],
   "source": [
    "# Import packages\n",
    "import numpy as np\n",
    "import matplotlib.pyplot as plt\n",
    "import ipywidgets as widgets\n",
    "\n",
    "# Set inline\n",
    "%matplotlib inline"
   ]
  },
  {
   "cell_type": "code",
   "execution_count": 3,
   "metadata": {
    "tags": [
     "hide-input"
    ]
   },
   "outputs": [],
   "source": [
    "def RCoeff(frequency, theta_i_degrees, cw, cp1, rho_ratio, rhow, alphap1):\n",
    "    \"\"\"\n",
    "    Function to compute reflection coefficient.\n",
    "    \"\"\"\n",
    "    # Convert attenuation to loss parameter\n",
    "    deltap1 = alphap1 * cp1 * np.log(10) / (40 * np.pi * frequency)\n",
    "\n",
    "    # Convert from degrees to radians\n",
    "    theta_i = np.deg2rad(theta_i_degrees)\n",
    "\n",
    "    # Complex sound speed\n",
    "    cpp = cp1 / (1 + 1j * deltap1)\n",
    "\n",
    "    # Ratio of sound speeds\n",
    "    ap = cpp / cw\n",
    "\n",
    "    # Impedance for water\n",
    "    zw = rhow * cw / (np.sin(theta_i))\n",
    "\n",
    "    # Impedance of sediment\n",
    "    zp = rho_ratio * rhow * cpp / np.sqrt(1 - (ap * np.cos(theta_i))**2)\n",
    "\n",
    "    # Impedance ratio\n",
    "    zwp = zp / zw\n",
    "\n",
    "    # Reflection coefficient\n",
    "    R1 = (zwp - 1) / (zwp + 1)\n",
    "\n",
    "    return R1"
   ]
  },
  {
   "cell_type": "code",
   "execution_count": 4,
   "metadata": {
    "tags": [
     "hide-input"
    ]
   },
   "outputs": [],
   "source": [
    "def perturb_roughness_scattering(frequency, theta_i_degrees, theta_s_degrees, phi_s, cw, cp1, rho_ratio, rhow, alphap1, w2, gamma2, L2):\n",
    "    \"\"\"\n",
    "    Function to compute the roughness scattering cross section using perturbation theory\"\n",
    "    \"\"\"\n",
    "    # Convert attenuation to loss parameter\n",
    "    deltap1 = alphap1 * cp1 * np.log(10) / (40 * np.pi * frequency)\n",
    "\n",
    "    # Convert from degrees to radians\n",
    "    theta_i = np.deg2rad(theta_i_degrees)\n",
    "    theta_s = np.deg2rad(theta_s_degrees)\n",
    "\n",
    "    # Ratio of sound speeds\n",
    "    ap = cp1 / (cw * (1 + 1j * deltap1))\n",
    "\n",
    "    # Wavenumber\n",
    "    kw = 2 * np.pi * frequency / cw\n",
    "\n",
    "    ## Reflection coefficients for theta_i and theta_s\n",
    "    Vww_i = RCoeff(frequency, theta_i_degrees, cw, cp1, rho_ratio, rhow, alphap1)\n",
    "    Vww_s = RCoeff(frequency, theta_s_degrees, cw, cp1, rho_ratio, rhow, alphap1)\n",
    "\n",
    "    # sin(theta_{pi}) and sin(theta_{ps})\n",
    "    stpi = np.sqrt(1 - (ap * np.cos(theta_i))**2)\n",
    "    stps = np.sqrt(1 - (ap * np.cos(theta_s))**2)\n",
    "\n",
    "    # Coefficients\n",
    "    B = stpi * stps /(np.square(ap) * rho_ratio)\n",
    "\n",
    "    G = (1 - 1 / rho_ratio) * (np.cos(theta_i) * np.cos(theta_s) * np.cos(phi_s) - B) - 1 + (1 / (np.square(ap) * rho_ratio))\n",
    "\n",
    "    Aww = (1 + Vww_i) * (1 + Vww_s) * G / 2\n",
    "\n",
    "    # incident wavenumber\n",
    "    ki_x = kw * np.cos(theta_i)\n",
    "    ki_y = 0;\n",
    "    \n",
    "    # scattered wavenumber\n",
    "    ks_x = kw * np.cos(theta_s) * np.cos(phi_s)\n",
    "    ks_y = kw * np.cos(theta_s) * np.sin(phi_s)\n",
    "\n",
    "    # Bragg wavenumber\n",
    "    dK = np.sqrt((ks_x - ki_x)**2 + (ks_y - ki_y)**2)\n",
    "\n",
    "    # Spectral Level\n",
    "    W_dK = w2 / ((dK**2 + (2 * np.pi / L2)**2)**(gamma2 / 2))\n",
    "\n",
    "    # Backscattering cross section\n",
    "    sigma = (kw**4) * (np.abs(Aww)**2) * W_dK\n",
    "    \n",
    "    return sigma"
   ]
  },
  {
   "cell_type": "code",
   "execution_count": 5,
   "metadata": {
    "tags": [
     "hide-input"
    ]
   },
   "outputs": [
    {
     "data": {
      "application/vnd.jupyter.widget-view+json": {
       "model_id": "ff9a450391f64aefbd7677a1219e768d",
       "version_major": 2,
       "version_minor": 0
      },
      "text/plain": [
       "interactive(children=(FloatSlider(value=1720.0, description='Sediment Speed (m/s)', layout=Layout(height='30px…"
      ]
     },
     "metadata": {},
     "output_type": "display_data"
    },
    {
     "data": {
      "text/plain": [
       "<function __main__.plot_scattering_strength(cp1, rhop1, alphap1)>"
      ]
     },
     "execution_count": 5,
     "metadata": {},
     "output_type": "execute_result"
    }
   ],
   "source": [
    "def plot_scattering_strength(cp1, rhop1, alphap1):\n",
    "    \"\"\"\n",
    "    # Function to plot magnitude and phase of the reflection coefficient and show critical / intromission angles.\n",
    "    \"\"\"\n",
    "\n",
    "    # Frequency\n",
    "    frequency = 40\n",
    "\n",
    "    # Water sound speed (m/s)\n",
    "    cw = 1500\n",
    "\n",
    "    # Water density (kg/m^3)\n",
    "    rhow = 1000\n",
    "\n",
    "    # Density ratio\n",
    "    rho_ratio = rhop1 * 1000 / rhow\n",
    "\n",
    "    # Grazing angles for reflection coefficient\n",
    "    theta = np.arange(0.25, 60, 0.25)\n",
    "\n",
    "    # Set phi_s = pi for backscatter\n",
    "    phi_s = np.pi\n",
    "\n",
    "    # Spectral Strength (m^(4-\\gamma2))\n",
    "    w2 = 0.0021\n",
    "\n",
    "    # Spectral exponent\n",
    "    gamma2 = 4.23\n",
    "\n",
    "    # Cutoff Length (m)\n",
    "    L2 = 1\n",
    "\n",
    "    # \n",
    "    sigma = perturb_roughness_scattering(frequency * 1000, theta, theta, phi_s, cw, cp1, rho_ratio, rhow, alphap1, w2, gamma2, L2)\n",
    "\n",
    "    # Close any existing plots\n",
    "    plt.close('all')\n",
    "\n",
    "    # Plotting\n",
    "    plt.figure(1)\n",
    "    plt.plot(theta, 10 * np.log10(sigma), linewidth=2)\n",
    "    plt.xlabel('Grazing Angle (degrees)')\n",
    "    plt.ylabel('Scattering Strength (dB)')\n",
    "    plt.grid(True)\n",
    "    \n",
    "    plt.show\n",
    "\n",
    "\n",
    "\n",
    "# Create interactive widgets\n",
    "layout = widgets.Layout(width=\"500px\", height=\"30px\")\n",
    "widgets.interact(\n",
    "    plot_scattering_strength,\n",
    "    cp1=widgets.FloatSlider(\n",
    "        min=1300,\n",
    "        max=1750,\n",
    "        step=1,\n",
    "        value=1720,\n",
    "        description=\"Sediment Speed (m/s)\", \n",
    "        style={\"description_width\": \"initial\"}, \n",
    "        layout=layout,\n",
    "    ),\n",
    "    rhop1=widgets.FloatSlider(\n",
    "        min=1.2,\n",
    "        max=2.5,\n",
    "        step=0.1,\n",
    "        value=2.1, \n",
    "        description=\"Sediment Density (g/cm^3)\", \n",
    "        style={\"description_width\": \"initial\"}, \n",
    "        layout=layout,\n",
    "    ),\n",
    "    alphap1=widgets.FloatSlider(\n",
    "        min=20,\n",
    "        max=650,\n",
    "        step=10,\n",
    "        value=20, \n",
    "        description=\"Attenuation (dB/m)\", \n",
    "        style={\"description_width\": \"initial\"}, \n",
    "        layout=layout,\n",
    "    ),\n",
    ")"
   ]
  },
  {
   "cell_type": "markdown",
   "metadata": {},
   "source": [
    "A couple of things are worth mentioning here:\n",
    "1. The scattering strength decreases with decreasing grazing angle.\n",
    "2. The reflection coefficient plays an important role. When there is a critical angle, $c_s > c_w$, where $c_w = 1500$ m/s in this case, there is a pronounced \"bump\" in the scattering strength at the critical angle. As the sound speed is decreased below the water sound speed, the scattering strength drops appreciably.\n",
    "3. While we don't see it in this calculation, as the frequency gets lower, the scattering strength decreases. Another way of thinking about this is that as the wavelength of the sound increases, the surface appears smooth to the incoming wave."
   ]
  }
 ],
 "metadata": {
  "celltoolbar": "Tags",
  "kernelspec": {
   "display_name": "Python 3",
   "language": "python",
   "name": "python3"
  },
  "language_info": {
   "codemirror_mode": {
    "name": "ipython",
    "version": 3
   },
   "file_extension": ".py",
   "mimetype": "text/x-python",
   "name": "python",
   "nbconvert_exporter": "python",
   "pygments_lexer": "ipython3",
   "version": "3.8.3"
  },
  "widgets": {
   "application/vnd.jupyter.widget-state+json": {
    "state": {
     "1d417dd363cc497aa9ec56ec56ea8f7f": {
      "model_module": "@jupyter-widgets/controls",
      "model_module_version": "1.5.0",
      "model_name": "SliderStyleModel",
      "state": {
       "description_width": "initial"
      }
     },
     "43050f4c89a24f69bee117f946a12ab3": {
      "model_module": "@jupyter-widgets/controls",
      "model_module_version": "1.5.0",
      "model_name": "FloatSliderModel",
      "state": {
       "description": "Sediment Density (g/cm^3)",
       "layout": "IPY_MODEL_d75ef47e875f4479b9ec1621ee4649e3",
       "max": 2.5,
       "min": 1.2,
       "step": 0.1,
       "style": "IPY_MODEL_4b5ca785ee2840069126998274febfc0",
       "value": 2.1
      }
     },
     "4b5ca785ee2840069126998274febfc0": {
      "model_module": "@jupyter-widgets/controls",
      "model_module_version": "1.5.0",
      "model_name": "SliderStyleModel",
      "state": {
       "description_width": "initial"
      }
     },
     "9774850b72fc4f90ae5a7ba1f1b79b8e": {
      "model_module": "@jupyter-widgets/base",
      "model_module_version": "1.2.0",
      "model_name": "LayoutModel",
      "state": {}
     },
     "c25d731abeef405d9840319807d1a820": {
      "model_module": "@jupyter-widgets/controls",
      "model_module_version": "1.5.0",
      "model_name": "FloatSliderModel",
      "state": {
       "description": "Sediment Speed (m/s)",
       "layout": "IPY_MODEL_d75ef47e875f4479b9ec1621ee4649e3",
       "max": 1750,
       "min": 1300,
       "style": "IPY_MODEL_1d417dd363cc497aa9ec56ec56ea8f7f",
       "value": 1720
      }
     },
     "c6ae2711fd2b4f2791d2b206712b2a10": {
      "model_module": "@jupyter-widgets/controls",
      "model_module_version": "1.5.0",
      "model_name": "FloatSliderModel",
      "state": {
       "description": "Attenuation (dB/m)",
       "layout": "IPY_MODEL_d75ef47e875f4479b9ec1621ee4649e3",
       "max": 650,
       "min": 20,
       "step": 10,
       "style": "IPY_MODEL_cda11bf95cc9406e9fa2df79e155c137",
       "value": 20
      }
     },
     "cda11bf95cc9406e9fa2df79e155c137": {
      "model_module": "@jupyter-widgets/controls",
      "model_module_version": "1.5.0",
      "model_name": "SliderStyleModel",
      "state": {
       "description_width": "initial"
      }
     },
     "d75ef47e875f4479b9ec1621ee4649e3": {
      "model_module": "@jupyter-widgets/base",
      "model_module_version": "1.2.0",
      "model_name": "LayoutModel",
      "state": {
       "height": "30px",
       "width": "500px"
      }
     },
     "e79b44d9610f4be587adfbbf57334427": {
      "model_module": "@jupyter-widgets/base",
      "model_module_version": "1.2.0",
      "model_name": "LayoutModel",
      "state": {}
     },
     "fba2165cd6844177a2aee42278b5218b": {
      "model_module": "@jupyter-widgets/output",
      "model_module_version": "1.0.0",
      "model_name": "OutputModel",
      "state": {
       "layout": "IPY_MODEL_9774850b72fc4f90ae5a7ba1f1b79b8e",
       "outputs": [
        {
         "data": {
          "image/png": "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\n",
          "text/plain": "<Figure size 432x288 with 1 Axes>"
         },
         "metadata": {
          "needs_background": "light"
         },
         "output_type": "display_data"
        }
       ]
      }
     },
     "ff9a450391f64aefbd7677a1219e768d": {
      "model_module": "@jupyter-widgets/controls",
      "model_module_version": "1.5.0",
      "model_name": "VBoxModel",
      "state": {
       "_dom_classes": [
        "widget-interact"
       ],
       "children": [
        "IPY_MODEL_c25d731abeef405d9840319807d1a820",
        "IPY_MODEL_43050f4c89a24f69bee117f946a12ab3",
        "IPY_MODEL_c6ae2711fd2b4f2791d2b206712b2a10",
        "IPY_MODEL_fba2165cd6844177a2aee42278b5218b"
       ],
       "layout": "IPY_MODEL_e79b44d9610f4be587adfbbf57334427"
      }
     }
    },
    "version_major": 2,
    "version_minor": 0
   }
  }
 },
 "nbformat": 4,
 "nbformat_minor": 2
}
