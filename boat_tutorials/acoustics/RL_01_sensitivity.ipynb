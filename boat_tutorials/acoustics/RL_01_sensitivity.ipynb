{
 "cells": [
  {
   "cell_type": "markdown",
   "metadata": {
    "editable": true,
    "slideshow": {
     "slide_type": ""
    },
    "tags": []
   },
   "source": [
    "(acoustics-receiver_hydrophone_sensitivity)=\n",
    "# Hydrophone and receiving sensitivity "
   ]
  },
  {
   "cell_type": "markdown",
   "metadata": {
    "editable": true,
    "slideshow": {
     "slide_type": ""
    },
    "tags": []
   },
   "source": [
    "(acoustics-receiver_hydrophone)=\n",
    "## Hydrophone\n",
    "The simplest instrument we can use to capture sound in the ocean is a hydrophone. Hydrophone is a \"transducer\" that can convert sound pressure into voltage, which can then be recorded into a computer or a recorder. \n",
    "\n",
    ":::Note}\n",
    "Transducers can also convert voltage into pressure and are used as acoustic sources (transmitters), which are discussed in the [Sound sources](acoustics-source) tutorial.\n",
    ":::\n",
    "\n",
    "<!-- HERE WE CAN BRING IN AN IN-DEPTH PAGE TALKING ABOUT PIEZOELECTRIC MATERIALS -->"
   ]
  },
  {
   "cell_type": "markdown",
   "metadata": {
    "editable": true,
    "slideshow": {
     "slide_type": ""
    },
    "tags": []
   },
   "source": [
    "Hydrophones come in all sizes and shapes, but the commonest ones all look like a blob connected with a cable, like those shown below:\n",
    "\n",
    "```{image} ../images/reson_TC4037.jpeg\n",
    ":width: 200px\n",
    "```\n",
    "```{image} ../images/reson_TC4013.jpeg\n",
    ":width: 200px\n",
    "```\n",
    "```{image} ../images/reson_TC4032.jpeg\n",
    ":width: 200px\n",
    "```\n",
    "\n",
    "The \"blob\" usually is where the transudcer element is located, sometimes with supporting electronics, all encapsulated in polyurethane to protect these elements from the environment."
   ]
  },
  {
   "cell_type": "markdown",
   "metadata": {
    "editable": true,
    "slideshow": {
     "slide_type": ""
    },
    "tags": []
   },
   "source": [
    "(acoustics-receiver_sensitivity)=\n",
    "## Receiving sensitivity\n",
    "\n",
    "When measuring sound underwater, an important consideration is the _receiving sensitivity_, which characterizes how well the hydrophone can convert sound at different frequencies into voltage signals. Therefore, usually the receiving sensitivty (often denoted by $M$) is expressed in values and units like **-180 dB re 1V/µPa**, which means that this hydrophone will produce a voltage of -180 dB re 1V, or $10^{-9}$ V in response to a sound pressure of 1 micropascal (µPa). The negative value here just means that the conversion factor is a small number. The receiving sensitivity is what we are after when trying to _calibrate_ a hydrophone.\n",
    "\n",
    "$$\n",
    "M = 20 \\log_{10} \\frac{m}{ V_{ref} / p_{ref} }\n",
    "$$\n",
    "\n",
    "where $m$ is the sensitvity in absolute values (unit: $[\\frac{V}{Pa}]$) in the linear domain, $V_{ref}$ is the reference voltage, and $p_{ref}$ is the reference pressure."
   ]
  },
  {
   "cell_type": "markdown",
   "metadata": {
    "editable": true,
    "slideshow": {
     "slide_type": ""
    },
    "tags": []
   },
   "source": [
    ":::{caution}\n",
    "In water, the reference pressure is typically 1 µPa; whereas in air, the reference pressure is typically 20 µPa.\n",
    ":::"
   ]
  },
  {
   "cell_type": "markdown",
   "metadata": {
    "editable": true,
    "slideshow": {
     "slide_type": ""
    },
    "tags": []
   },
   "source": [
    "(acoustics-receiver_gain)=\n",
    "## Gain\n",
    "\n",
    "Many systems come with a fix or adjustable **gain** that can be used to amplify or attenuate the hydrophone signal, so that the voltage range of the signal would \"fit\" the range of the recorder. The gain (often denoted by $G$) is usually specified as a ratio of the output signal to the input signal in decibel\n",
    "\n",
    "$$\n",
    "G = \\frac{V_{out}}{V_{in}}\n",
    "$$\n",
    "\n",
    "Some hydrophones have what is typically referred to as built in **preamplifiers** that provides a gain to boost up the signal right when it is received."
   ]
  },
  {
   "cell_type": "markdown",
   "metadata": {
    "editable": true,
    "slideshow": {
     "slide_type": ""
    },
    "tags": []
   },
   "source": [
    ":::{tip}\n",
    "If you are not already familiar with what decibel (dB) means, check out [this primer](primer-decibel)!\n",
    ":::"
   ]
  },
  {
   "cell_type": "markdown",
   "metadata": {
    "editable": true,
    "slideshow": {
     "slide_type": ""
    },
    "tags": []
   },
   "source": [
    "## Sound pressure level (SPL)\n",
    "\n",
    "Once sound signals are captured by hydrophones, how do we quantify what's in the received sound?\n",
    "\n",
    "One of the commonest measure is **sound pressure level (SPL)**, which characterizes how loud the sound is and is usually written as:\n",
    "\n",
    "$$\n",
    "\\textrm{SPL} = 20 \\log_{10} \\frac{p}{p_{ref}}\n",
    "$$\n",
    "\n",
    "where $p$ is the sound pressure, and $p_{ref}$ is the reference pressure. This is why the unit of SPL is typically in the form of **dB re 1 µPa**, as it is a logarithmic measure of the ratio between the sound pressure and a reference pressure.\n",
    "\n",
    "```{Note}\n",
    ":class: note\n",
    "The reference pressure is usually 1 µPa in water and 20 µPa in air, which makes a big difference in the resulting SPL values!\n",
    "```"
   ]
  },
  {
   "cell_type": "markdown",
   "metadata": {
    "editable": true,
    "slideshow": {
     "slide_type": ""
    },
    "tags": []
   },
   "source": [
    "In practice, to calculate SPL from hydrophone measurement, we often use:\n",
    "\n",
    "$$\n",
    "\\textrm{SPL} = 20 \\log_{10} \\frac{V}{V_{ref}} - M\n",
    "$$\n",
    "\n",
    "where $V$ is the measured voltage and $M$ is the receiving sensitivity. "
   ]
  },
  {
   "cell_type": "markdown",
   "metadata": {
    "editable": true,
    "slideshow": {
     "slide_type": ""
    },
    "tags": []
   },
   "source": [
    "To see how this formula comes about, let's start with the linear domain quantities:\n",
    "\n",
    "$$\n",
    "V = p \\times m\n",
    "$$\n",
    "\n",
    "where $m$ is the linear receiving sensitivty (i.e. $M=20 \\log_{10} m$). Dividing both sides by $V_{ref}$ and multiply the right hand side by $\\frac{p_{ref}}{p_{ref}}$, we get\n",
    "\n",
    "$$\n",
    "\\frac{V}{V_{ref}} = \\frac{p}{p_{ref}} \\times \\frac{p_{ref}}{V_{ref}} \\times m\n",
    "$$\n",
    "\n",
    "Taking the equation to the log domain:\n",
    "\n",
    "$$\n",
    "20 \\log{ \\frac{V}{V_{ref}} } = 20 \\log{ \\frac{p}{p_{ref}} } + 20 \\log{ \\frac{m}{ V_{ref} / p_{ref}} }\n",
    "$$\n",
    "\n",
    "which gives\n",
    "\n",
    "$$\n",
    "20 \\log{ \\frac{V}{V_{ref}} } = \\textrm{SPL} + M\n",
    "$$\n",
    "\n",
    "and hence the above formula.\n",
    "\n",
    "When there is a gain factor $G$ applied to the voltage signal by electronics associated with the hydrophone, we have\n",
    "\n",
    "$$\n",
    "\\textrm{SPL} = 20 \\log{ \\frac{V}{V_{ref}} } - M - G\n",
    "$$\n",
    "\n",
    "Here there is a minus sign before $G$, since to return to the original measured quantity, we need _remove_ the influence of the gain."
   ]
  },
  {
   "cell_type": "markdown",
   "metadata": {
    "editable": true,
    "slideshow": {
     "slide_type": ""
    },
    "tags": []
   },
   "source": [
    ":::{admonition} Exercise\n",
    "Using the widget below, can you find a sensitivty and gain combination that gives you a voltage output at 0.001 V for a sound at 200 dB SPL re 1 μPa?\n",
    ":::"
   ]
  },
  {
   "cell_type": "code",
   "execution_count": 1,
   "metadata": {
    "editable": true,
    "slideshow": {
     "slide_type": ""
    },
    "tags": [
     "hide-input"
    ]
   },
   "outputs": [
    {
     "data": {
      "application/vnd.jupyter.widget-view+json": {
       "model_id": "90634ec43133488f805293c621e5ce6e",
       "version_major": 2,
       "version_minor": 0
      },
      "text/plain": [
       "interactive(children=(FloatSlider(value=200.0, description='SPL (dB re 1 μPa)', layout=Layout(width='400px'), …"
      ]
     },
     "metadata": {},
     "output_type": "display_data"
    }
   ],
   "source": [
    "import numpy as np\n",
    "import ipywidgets as widgets\n",
    "\n",
    "def display_voltage(SPL_dB, sens_dB, gain_dB):\n",
    "    V_linear = 10 ** ((SPL_dB + sens_dB + gain_dB)/20) * 1e-6\n",
    "    print(f\"SPL: {SPL_dB} dB re 1 μPa → Voltage: {V_linear:.7f} V\")\n",
    "\n",
    "_ = widgets.interact(\n",
    "    display_voltage,\n",
    "    SPL_dB=widgets.FloatSlider(\n",
    "        value=200, min=180, max=220, step=0.5,\n",
    "        layout=widgets.Layout(width=\"400px\"),\n",
    "        style={'description_width': 'initial'},\n",
    "        description=\"SPL (dB re 1 μPa)\"\n",
    "    ),\n",
    "    sens_dB=widgets.FloatSlider(\n",
    "        value=-176, min=-200, max=-160, step=0.5,\n",
    "        layout=widgets.Layout(width=\"400px\"),\n",
    "        style={'description_width': 'initial'},\n",
    "        description=\"Sensitivity (dB 1 V/μPa)\"\n",
    "    ),\n",
    "    gain_dB=widgets.IntSlider(\n",
    "        value=0, min=0, max=60, step=10,\n",
    "        layout=widgets.Layout(width=\"400px\"),\n",
    "        style={'description_width': 'initial'},\n",
    "        description=\"Gain (dB)\"\n",
    "    ),\n",
    ")"
   ]
  },
  {
   "cell_type": "code",
   "execution_count": null,
   "metadata": {
    "editable": true,
    "slideshow": {
     "slide_type": ""
    },
    "tags": []
   },
   "outputs": [],
   "source": []
  }
 ],
 "metadata": {
  "kernelspec": {
   "display_name": "Python 3 (ipykernel)",
   "language": "python",
   "name": "python3"
  },
  "language_info": {
   "codemirror_mode": {
    "name": "ipython",
    "version": 3
   },
   "file_extension": ".py",
   "mimetype": "text/x-python",
   "name": "python",
   "nbconvert_exporter": "python",
   "pygments_lexer": "ipython3",
   "version": "3.12.9"
  },
  "widgets": {
   "application/vnd.jupyter.widget-state+json": {
    "state": {
     "040fe1b1ddf247cc8c29b96af59b2067": {
      "model_module": "@jupyter-widgets/base",
      "model_module_version": "2.0.0",
      "model_name": "LayoutModel",
      "state": {
       "width": "400px"
      }
     },
     "31afa3a3a0d646f78c5c341e104eea2e": {
      "model_module": "@jupyter-widgets/base",
      "model_module_version": "2.0.0",
      "model_name": "LayoutModel",
      "state": {
       "width": "400px"
      }
     },
     "43a21f0447dc49cf850cd92cbfe90610": {
      "model_module": "@jupyter-widgets/controls",
      "model_module_version": "2.0.0",
      "model_name": "IntSliderModel",
      "state": {
       "behavior": "drag-tap",
       "description": "Gain (dB)",
       "layout": "IPY_MODEL_040fe1b1ddf247cc8c29b96af59b2067",
       "max": 60,
       "step": 10,
       "style": "IPY_MODEL_f6a4d394e7a14a96b3e45ebf3450297f"
      }
     },
     "491d25f9066a4d7caa904530e8f4edd3": {
      "model_module": "@jupyter-widgets/controls",
      "model_module_version": "2.0.0",
      "model_name": "SliderStyleModel",
      "state": {
       "description_width": "initial"
      }
     },
     "545b8aed4f7d4c39bca4a49b11996dba": {
      "model_module": "@jupyter-widgets/base",
      "model_module_version": "2.0.0",
      "model_name": "LayoutModel",
      "state": {}
     },
     "81682cce64024304be5398390bac84ab": {
      "model_module": "@jupyter-widgets/output",
      "model_module_version": "1.0.0",
      "model_name": "OutputModel",
      "state": {
       "layout": "IPY_MODEL_ee8726a70c7b42d6bbaa5075f1fdffaf",
       "outputs": [
        {
         "name": "stdout",
         "output_type": "stream",
         "text": "SPL: 200.0 dB re 1 μPa → Voltage: 0.0000158 V\n"
        }
       ]
      }
     },
     "90224f1fb70a483dbd22e2edb0fb055e": {
      "model_module": "@jupyter-widgets/controls",
      "model_module_version": "2.0.0",
      "model_name": "FloatSliderModel",
      "state": {
       "behavior": "drag-tap",
       "description": "SPL (dB re 1 μPa)",
       "layout": "IPY_MODEL_31afa3a3a0d646f78c5c341e104eea2e",
       "max": 220,
       "min": 180,
       "step": 0.5,
       "style": "IPY_MODEL_a25e60f482ba4d06b0f3d0df1b3a4a6e",
       "value": 200
      }
     },
     "90634ec43133488f805293c621e5ce6e": {
      "model_module": "@jupyter-widgets/controls",
      "model_module_version": "2.0.0",
      "model_name": "VBoxModel",
      "state": {
       "_dom_classes": [
        "widget-interact"
       ],
       "children": [
        "IPY_MODEL_90224f1fb70a483dbd22e2edb0fb055e",
        "IPY_MODEL_bdf0d7fb98bc4c24a852cec9dd61ade6",
        "IPY_MODEL_43a21f0447dc49cf850cd92cbfe90610",
        "IPY_MODEL_81682cce64024304be5398390bac84ab"
       ],
       "layout": "IPY_MODEL_545b8aed4f7d4c39bca4a49b11996dba"
      }
     },
     "a25e60f482ba4d06b0f3d0df1b3a4a6e": {
      "model_module": "@jupyter-widgets/controls",
      "model_module_version": "2.0.0",
      "model_name": "SliderStyleModel",
      "state": {
       "description_width": "initial"
      }
     },
     "bdf0d7fb98bc4c24a852cec9dd61ade6": {
      "model_module": "@jupyter-widgets/controls",
      "model_module_version": "2.0.0",
      "model_name": "FloatSliderModel",
      "state": {
       "behavior": "drag-tap",
       "description": "Sensitivity (dB 1 V/μPa)",
       "layout": "IPY_MODEL_ca06d3211d254411991a56af0465e544",
       "max": -160,
       "min": -200,
       "step": 0.5,
       "style": "IPY_MODEL_491d25f9066a4d7caa904530e8f4edd3",
       "value": -176
      }
     },
     "ca06d3211d254411991a56af0465e544": {
      "model_module": "@jupyter-widgets/base",
      "model_module_version": "2.0.0",
      "model_name": "LayoutModel",
      "state": {
       "width": "400px"
      }
     },
     "ee8726a70c7b42d6bbaa5075f1fdffaf": {
      "model_module": "@jupyter-widgets/base",
      "model_module_version": "2.0.0",
      "model_name": "LayoutModel",
      "state": {}
     },
     "f6a4d394e7a14a96b3e45ebf3450297f": {
      "model_module": "@jupyter-widgets/controls",
      "model_module_version": "2.0.0",
      "model_name": "SliderStyleModel",
      "state": {
       "description_width": "initial"
      }
     }
    },
    "version_major": 2,
    "version_minor": 0
   }
  }
 },
 "nbformat": 4,
 "nbformat_minor": 4
}
