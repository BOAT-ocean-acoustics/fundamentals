{
 "cells": [
  {
   "cell_type": "markdown",
   "metadata": {},
   "source": [
    "(acoustics-receiver_hydrophone_sensitivity)=\n",
    "## Hydrophone and receiving sensitivity "
   ]
  },
  {
   "cell_type": "markdown",
   "metadata": {},
   "source": [
    "(acoustics-receiver_hydrophone)=\n",
    "### Hydrophone\n",
    "The simplest instrument we can use to capture sound in the ocean is a hydrophone. Hydrophone is a \"transducer\" that can convert sound pressure into voltage, which can then be recorded into a computer or a recorder. \n",
    "\n",
    "```{Note}\n",
    ":class: note\n",
    "Transducers can also convert voltage into pressure and are used as acoustic sources (transmitters), which are discussed in the [Acoustic sources](acoustics-source) tutorial.\n",
    "```"
   ]
  },
  {
   "cell_type": "code",
   "execution_count": 1,
   "metadata": {},
   "outputs": [],
   "source": [
    "# HERE WE CAN BRING IN AN IN-DEPTH PAGE TALKING ABOUT PIEZOELECTRIC MATERIALS"
   ]
  },
  {
   "cell_type": "markdown",
   "metadata": {},
   "source": [
    "Hydrophones come in all sizes and shapes, but the commonest ones all look like a blob connected with a cable, like those shown below:\n",
    "\n",
    "ADD HYDROPHONE PICTURES\n",
    "\n",
    "The \"blob\" usually is where the transudcer element is located, sometimes with supporting electronics, all encapsulated in polyurethane to protect these elements from the environment."
   ]
  },
  {
   "cell_type": "markdown",
   "metadata": {},
   "source": [
    "(acoustics-receiver_sensitivity)=\n",
    "### Receiving sensitivity\n",
    "\n",
    "When measuring sound underwater, an important consideration is the _receiving sensitivity_, which characterizes how well the hydrophone can convert sound at different frequencies into voltage signals. Therefore, usually the receiving sensitivty is expressed in values and units like **-180 dB re 1V/µPa**, which means that this hydrophone will produce a voltage of -180 dB re 1V, or $10^{-9}$ V (see [what decibel (dB) means here](primer-decibel)) in response to a sound pressure of 1 micropascal (µPa). The negative value here just means that the conversion factor is a small number. The receiving sensitivity is what we are after when trying to _calibrate_ a hydrophone."
   ]
  },
  {
   "cell_type": "code",
   "execution_count": null,
   "metadata": {},
   "outputs": [],
   "source": [
    "# ADD WIDGET:\n",
    "# - ALLOW CHANGING SENSITIVTY AND INPUT VOLTAGE\n",
    "# - GOAL IS TO DEVELOP THE INTUITION THAT INCREASING SENSITIVITY (MAKING IT LESS NEGATIVE) WOULD PRODUCE A LARGER VOLTAGE SIGNAL"
   ]
  },
  {
   "cell_type": "code",
   "execution_count": 2,
   "metadata": {},
   "outputs": [
    {
     "data": {
      "application/vnd.jupyter.widget-view+json": {
       "model_id": "1a9bdcad79384f4db34100c5cb933ca0",
       "version_major": 2,
       "version_minor": 0
      },
      "text/plain": [
       "interactive(children=(FloatSlider(value=100.0, description='SPL (dB)', layout=Layout(width='1000px'), max=180.…"
      ]
     },
     "metadata": {},
     "output_type": "display_data"
    },
    {
     "data": {
      "text/plain": [
       "<function __main__.display_voltage(SPL_dB, sens_dB_M, mic_gain_dB_at_f, preamp_gain)>"
      ]
     },
     "execution_count": 2,
     "metadata": {},
     "output_type": "execute_result"
    }
   ],
   "source": [
    "import numpy as np\n",
    "import ipywidgets as widgets\n",
    "\n",
    "def convertSPLtoV(dBSPL_re_20uPa, sens_dB_M=-38, mic_gain_dB_at_f=12, preamp_gain=200, reference_pressure=20e-6):\n",
    "    SPL_reference_level = 20*np.log10(1/reference_pressure)\n",
    "    preamp_gain_dB = 20*np.log10(preamp_gain)\n",
    "    system_gain_dB_G = mic_gain_dB_at_f +  preamp_gain_dB\n",
    "    measured_voltage_dB = dBSPL_re_20uPa + system_gain_dB_G + sens_dB_M - SPL_reference_level\n",
    "    return measured_voltage_dB\n",
    "\n",
    "def display_voltage(SPL_dB, sens_dB_M, mic_gain_dB_at_f, preamp_gain):\n",
    "    v_dB = convertSPLtoV(SPL_dB, sens_dB_M=sens_dB_M, mic_gain_dB_at_f=mic_gain_dB_at_f, preamp_gain=preamp_gain)\n",
    "    v_linear = 10 ** (v_dB / 20)\n",
    "    print(f\"SPL: {SPL_dB} dB → Voltage: {v_linear:.6f} V\")\n",
    "\n",
    "widgets.interact(\n",
    "    display_voltage,\n",
    "    SPL_dB=widgets.FloatSlider(value=100, min=80, max=180, step=0.5, layout=widgets.Layout(width=\"1000px\"), style={'description_width': 'initial'}, description=\"SPL (dB)\"),\n",
    "    sens_dB_M=widgets.FloatSlider(value=-36, min=-60, max=-20, step=0.5, layout=widgets.Layout(width=\"1000px\"), style={'description_width': 'initial'}, description=\"Sensitivity (dBV/Pa)\"),\n",
    "    mic_gain_dB_at_f=widgets.FloatSlider(value=0, min=0, max=40, step=1, layout=widgets.Layout(width=\"1000px\"), style={'description_width': 'initial'}, description=\"Mic Gain (dB)\"),\n",
    "    preamp_gain=widgets.FloatSlider(value=1, min=1, max=1000, step=1, layout=widgets.Layout(width=\"1000px\"), style={'description_width': 'initial'}, description=\"Preamp Gain\")\n",
    ")"
   ]
  },
  {
   "cell_type": "code",
   "execution_count": null,
   "metadata": {},
   "outputs": [],
   "source": []
  }
 ],
 "metadata": {
  "kernelspec": {
   "display_name": "boat_dev",
   "language": "python",
   "name": "python3"
  },
  "language_info": {
   "codemirror_mode": {
    "name": "ipython",
    "version": 3
   },
   "file_extension": ".py",
   "mimetype": "text/x-python",
   "name": "python",
   "nbconvert_exporter": "python",
   "pygments_lexer": "ipython3",
   "version": "3.13.2"
  }
 },
 "nbformat": 4,
 "nbformat_minor": 2
}
