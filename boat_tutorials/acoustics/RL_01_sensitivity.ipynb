{
 "cells": [
  {
   "cell_type": "markdown",
   "metadata": {},
   "source": [
    "(acoustics-receiver_hydrophone_sensitivity)=\n",
    "## Hydrophone and receiving sensitivity "
   ]
  },
  {
   "cell_type": "markdown",
   "metadata": {},
   "source": [
    "(acoustics-receiver_hydrophone)=\n",
    "### Hydrophone\n",
    "The simplest instrument we can use to capture sound in the ocean is a hydrophone. Hydrophone is a \"transducer\" that can convert sound pressure into voltage, which can then be recorded into a computer or a recorder. \n",
    "\n",
    "```{Note}\n",
    ":class: note\n",
    "Transducers can also convert voltage into pressure and are used as acoustic sources (transmitters), which are discussed in the [Sound sources](acoustics-source) tutorial.\n",
    "```\n",
    "\n",
    "<!-- HERE WE CAN BRING IN AN IN-DEPTH PAGE TALKING ABOUT PIEZOELECTRIC MATERIALS -->"
   ]
  },
  {
   "cell_type": "markdown",
   "metadata": {},
   "source": [
    "Hydrophones come in all sizes and shapes, but the commonest ones all look like a blob connected with a cable, like those shown below:\n",
    "\n",
    "```{image} ../images/reson_TC4037.jpeg\n",
    ":width: 200px\n",
    "```\n",
    "```{image} ../images/reson_TC4013.jpeg\n",
    ":width: 200px\n",
    "```\n",
    "```{image} ../images/reson_TC4032.jpeg\n",
    ":width: 200px\n",
    "```\n",
    "\n",
    "The \"blob\" usually is where the transudcer element is located, sometimes with supporting electronics, all encapsulated in polyurethane to protect these elements from the environment."
   ]
  },
  {
   "cell_type": "markdown",
   "metadata": {},
   "source": [
    "(acoustics-receiver_sensitivity)=\n",
    "### Receiving sensitivity\n",
    "\n",
    "When measuring sound underwater, an important consideration is the _receiving sensitivity_, which characterizes how well the hydrophone can convert sound at different frequencies into voltage signals. Therefore, usually the receiving sensitivty is expressed in values and units like **-180 dB re 1V/µPa**, which means that this hydrophone will produce a voltage of -180 dB re 1V, or $10^{-9}$ V (see [what decibel (dB) means here](primer-decibel)) in response to a sound pressure of 1 micropascal (µPa). The negative value here just means that the conversion factor is a small number. The receiving sensitivity is what we are after when trying to _calibrate_ a hydrophone."
   ]
  },
  {
   "cell_type": "code",
   "execution_count": 1,
   "metadata": {
    "editable": true,
    "slideshow": {
     "slide_type": ""
    },
    "tags": [
     "hide-input"
    ]
   },
   "outputs": [
    {
     "data": {
      "application/vnd.jupyter.widget-view+json": {
       "model_id": "8eda4ff0854842c693680e8433c3af6a",
       "version_major": 2,
       "version_minor": 0
      },
      "text/plain": [
       "interactive(children=(FloatSlider(value=100.0, description='SPL (dB)', layout=Layout(width='400px'), max=180.0…"
      ]
     },
     "metadata": {},
     "output_type": "display_data"
    }
   ],
   "source": [
    "import numpy as np\n",
    "import ipywidgets as widgets\n",
    "\n",
    "def convertSPLtoV(dBSPL_re_20uPa, sens_dB_M=-38, mic_gain_dB_at_f=12, preamp_gain=200, reference_pressure=20e-6):\n",
    "    SPL_reference_level = 20*np.log10(1/reference_pressure)\n",
    "    preamp_gain_dB = 20*np.log10(preamp_gain)\n",
    "    system_gain_dB_G = mic_gain_dB_at_f +  preamp_gain_dB\n",
    "    measured_voltage_dB = dBSPL_re_20uPa + system_gain_dB_G + sens_dB_M - SPL_reference_level\n",
    "    return measured_voltage_dB\n",
    "\n",
    "def display_voltage(SPL_dB, sens_dB_M, mic_gain_dB_at_f, preamp_gain):\n",
    "    v_dB = convertSPLtoV(SPL_dB, sens_dB_M=sens_dB_M, mic_gain_dB_at_f=mic_gain_dB_at_f, preamp_gain=preamp_gain)\n",
    "    v_linear = 10 ** (v_dB / 20)\n",
    "    print(f\"SPL: {SPL_dB} dB → Voltage: {v_linear:.3f} V\")\n",
    "\n",
    "_ = widgets.interact(\n",
    "    display_voltage,\n",
    "    SPL_dB=widgets.FloatSlider(value=100, min=80, max=180, step=0.5, layout=widgets.Layout(width=\"400px\"), style={'description_width': 'initial'}, description=\"SPL (dB)\"),\n",
    "    sens_dB_M=widgets.FloatSlider(value=-36, min=-60, max=-20, step=0.5, layout=widgets.Layout(width=\"400px\"), style={'description_width': 'initial'}, description=\"Sensitivity (dBV/Pa)\"),\n",
    "    mic_gain_dB_at_f=widgets.FloatSlider(value=0, min=0, max=40, step=1, layout=widgets.Layout(width=\"400px\"), style={'description_width': 'initial'}, description=\"Mic Gain (dB)\"),\n",
    "    preamp_gain=widgets.FloatSlider(value=1, min=1, max=1000, step=1, layout=widgets.Layout(width=\"400px\"), style={'description_width': 'initial'}, description=\"Preamp Gain\")\n",
    ")"
   ]
  },
  {
   "cell_type": "code",
   "execution_count": null,
   "metadata": {},
   "outputs": [],
   "source": []
  }
 ],
 "metadata": {
  "kernelspec": {
   "display_name": "Python 3 (ipykernel)",
   "language": "python",
   "name": "python3"
  },
  "language_info": {
   "codemirror_mode": {
    "name": "ipython",
    "version": 3
   },
   "file_extension": ".py",
   "mimetype": "text/x-python",
   "name": "python",
   "nbconvert_exporter": "python",
   "pygments_lexer": "ipython3",
   "version": "3.12.9"
  },
  "widgets": {
   "application/vnd.jupyter.widget-state+json": {
    "state": {
     "06f813bb243c41cdb6aee6601316f6f8": {
      "model_module": "@jupyter-widgets/base",
      "model_module_version": "2.0.0",
      "model_name": "LayoutModel",
      "state": {}
     },
     "1c11e2eca375433abc2cf9f5724d0e28": {
      "model_module": "@jupyter-widgets/base",
      "model_module_version": "2.0.0",
      "model_name": "LayoutModel",
      "state": {
       "width": "400px"
      }
     },
     "25a35925d03249e9b01af9ae334ad8f2": {
      "model_module": "@jupyter-widgets/controls",
      "model_module_version": "2.0.0",
      "model_name": "SliderStyleModel",
      "state": {
       "description_width": "initial"
      }
     },
     "2e3c0c3530cb40e4aad7acac0c5c2a9b": {
      "model_module": "@jupyter-widgets/output",
      "model_module_version": "1.0.0",
      "model_name": "OutputModel",
      "state": {
       "layout": "IPY_MODEL_4758af7721c445c1a031472be9e7eef0",
       "outputs": [
        {
         "name": "stdout",
         "output_type": "stream",
         "text": "SPL: 100.0 dB → Voltage: 0.032 V\n"
        }
       ]
      }
     },
     "4758af7721c445c1a031472be9e7eef0": {
      "model_module": "@jupyter-widgets/base",
      "model_module_version": "2.0.0",
      "model_name": "LayoutModel",
      "state": {}
     },
     "4f76ee4826aa41a5a1547dcd9afe55c8": {
      "model_module": "@jupyter-widgets/base",
      "model_module_version": "2.0.0",
      "model_name": "LayoutModel",
      "state": {
       "width": "400px"
      }
     },
     "5c0ef361afa1402e85cf242b2f119235": {
      "model_module": "@jupyter-widgets/controls",
      "model_module_version": "2.0.0",
      "model_name": "SliderStyleModel",
      "state": {
       "description_width": "initial"
      }
     },
     "769a00c950224e5283eba36aa3970cfa": {
      "model_module": "@jupyter-widgets/controls",
      "model_module_version": "2.0.0",
      "model_name": "FloatSliderModel",
      "state": {
       "behavior": "drag-tap",
       "description": "Preamp Gain",
       "layout": "IPY_MODEL_d77e96fab1854fe795775889734b546a",
       "max": 1000,
       "min": 1,
       "style": "IPY_MODEL_ffcf73d2c5f24d92aaf04ef64e64b39c",
       "value": 1
      }
     },
     "8eda4ff0854842c693680e8433c3af6a": {
      "model_module": "@jupyter-widgets/controls",
      "model_module_version": "2.0.0",
      "model_name": "VBoxModel",
      "state": {
       "_dom_classes": [
        "widget-interact"
       ],
       "children": [
        "IPY_MODEL_f793642facb74b86a410ad42b1902543",
        "IPY_MODEL_f07118a3a5004c8ead0c6fdb2b64a47b",
        "IPY_MODEL_d59a5cc728f7422dace95e47716d3d7b",
        "IPY_MODEL_769a00c950224e5283eba36aa3970cfa",
        "IPY_MODEL_2e3c0c3530cb40e4aad7acac0c5c2a9b"
       ],
       "layout": "IPY_MODEL_06f813bb243c41cdb6aee6601316f6f8"
      }
     },
     "a69917440d304dae90da610724420877": {
      "model_module": "@jupyter-widgets/controls",
      "model_module_version": "2.0.0",
      "model_name": "SliderStyleModel",
      "state": {
       "description_width": "initial"
      }
     },
     "d59a5cc728f7422dace95e47716d3d7b": {
      "model_module": "@jupyter-widgets/controls",
      "model_module_version": "2.0.0",
      "model_name": "FloatSliderModel",
      "state": {
       "behavior": "drag-tap",
       "description": "Mic Gain (dB)",
       "layout": "IPY_MODEL_dad05a5b75664ec8b701931346826926",
       "max": 40,
       "style": "IPY_MODEL_5c0ef361afa1402e85cf242b2f119235"
      }
     },
     "d77e96fab1854fe795775889734b546a": {
      "model_module": "@jupyter-widgets/base",
      "model_module_version": "2.0.0",
      "model_name": "LayoutModel",
      "state": {
       "width": "400px"
      }
     },
     "dad05a5b75664ec8b701931346826926": {
      "model_module": "@jupyter-widgets/base",
      "model_module_version": "2.0.0",
      "model_name": "LayoutModel",
      "state": {
       "width": "400px"
      }
     },
     "f07118a3a5004c8ead0c6fdb2b64a47b": {
      "model_module": "@jupyter-widgets/controls",
      "model_module_version": "2.0.0",
      "model_name": "FloatSliderModel",
      "state": {
       "behavior": "drag-tap",
       "description": "Sensitivity (dBV/Pa)",
       "layout": "IPY_MODEL_4f76ee4826aa41a5a1547dcd9afe55c8",
       "max": -20,
       "min": -60,
       "step": 0.5,
       "style": "IPY_MODEL_a69917440d304dae90da610724420877",
       "value": -36
      }
     },
     "f793642facb74b86a410ad42b1902543": {
      "model_module": "@jupyter-widgets/controls",
      "model_module_version": "2.0.0",
      "model_name": "FloatSliderModel",
      "state": {
       "behavior": "drag-tap",
       "description": "SPL (dB)",
       "layout": "IPY_MODEL_1c11e2eca375433abc2cf9f5724d0e28",
       "max": 180,
       "min": 80,
       "step": 0.5,
       "style": "IPY_MODEL_25a35925d03249e9b01af9ae334ad8f2",
       "value": 100
      }
     },
     "ffcf73d2c5f24d92aaf04ef64e64b39c": {
      "model_module": "@jupyter-widgets/controls",
      "model_module_version": "2.0.0",
      "model_name": "SliderStyleModel",
      "state": {
       "description_width": "initial"
      }
     }
    },
    "version_major": 2,
    "version_minor": 0
   }
  }
 },
 "nbformat": 4,
 "nbformat_minor": 4
}
