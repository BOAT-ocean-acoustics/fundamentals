{
 "cells": [
  {
   "cell_type": "markdown",
   "metadata": {
    "editable": true,
    "slideshow": {
     "slide_type": ""
    },
    "tags": []
   },
   "source": [
    "(acoustics-receiver_hydrophone_sensitivity)=\n",
    "## Hydrophone and receiving sensitivity "
   ]
  },
  {
   "cell_type": "markdown",
   "metadata": {},
   "source": [
    "(acoustics-receiver_hydrophone)=\n",
    "### Hydrophone\n",
    "The simplest instrument we can use to capture sound in the ocean is a hydrophone. Hydrophone is a \"transducer\" that can convert sound pressure into voltage, which can then be recorded into a computer or a recorder. \n",
    "\n",
    "```{Note}\n",
    ":class: note\n",
    "Transducers can also convert voltage into pressure and are used as acoustic sources (transmitters), which are discussed in the [Sound sources](acoustics-source) tutorial.\n",
    "```\n",
    "\n",
    "<!-- HERE WE CAN BRING IN AN IN-DEPTH PAGE TALKING ABOUT PIEZOELECTRIC MATERIALS -->"
   ]
  },
  {
   "cell_type": "markdown",
   "metadata": {},
   "source": [
    "Hydrophones come in all sizes and shapes, but the commonest ones all look like a blob connected with a cable, like those shown below:\n",
    "\n",
    "```{image} ../images/reson_TC4037.jpeg\n",
    ":width: 200px\n",
    "```\n",
    "```{image} ../images/reson_TC4013.jpeg\n",
    ":width: 200px\n",
    "```\n",
    "```{image} ../images/reson_TC4032.jpeg\n",
    ":width: 200px\n",
    "```\n",
    "\n",
    "The \"blob\" usually is where the transudcer element is located, sometimes with supporting electronics, all encapsulated in polyurethane to protect these elements from the environment."
   ]
  },
  {
   "cell_type": "markdown",
   "metadata": {},
   "source": [
    "(acoustics-receiver_sensitivity)=\n",
    "### Receiving sensitivity\n",
    "\n",
    "When measuring sound underwater, an important consideration is the _receiving sensitivity_, which characterizes how well the hydrophone can convert sound at different frequencies into voltage signals. Therefore, usually the receiving sensitivty is expressed in values and units like **-180 dB re 1V/µPa**, which means that this hydrophone will produce a voltage of -180 dB re 1V, or $10^{-9}$ V (see [what decibel (dB) means here](primer-decibel)) in response to a sound pressure of 1 micropascal (µPa). The negative value here just means that the conversion factor is a small number. The receiving sensitivity is what we are after when trying to _calibrate_ a hydrophone."
   ]
  },
  {
   "cell_type": "code",
   "execution_count": 1,
   "metadata": {
    "editable": true,
    "slideshow": {
     "slide_type": ""
    },
    "tags": [
     "hide-input"
    ]
   },
   "outputs": [
    {
     "data": {
      "application/vnd.jupyter.widget-view+json": {
       "model_id": "065c0b961c2a4a308e5199b40726cbb2",
       "version_major": 2,
       "version_minor": 0
      },
      "text/plain": [
       "interactive(children=(FloatSlider(value=200.0, description='SPL (dB) re 1 μPa', layout=Layout(width='400px'), …"
      ]
     },
     "metadata": {},
     "output_type": "display_data"
    }
   ],
   "source": [
    "import numpy as np\n",
    "import ipywidgets as widgets\n",
    "\n",
    "def convertSPLtoV(dBSPL_re_1uPa, sens_dB_M=-38, system_gain_dB_G=12, reference_pressure=1e-6):\n",
    "    reference_level = 20*np.log10(1/reference_pressure)\n",
    "    return dBSPL_re_1uPa + system_gain_dB_G + sens_dB_M - reference_level\n",
    "\n",
    "def display_voltage(SPL_dB, sens_dB_M, system_gain_dB_G):\n",
    "    v_dB = convertSPLtoV(SPL_dB, sens_dB_M=sens_dB_M, system_gain_dB_G=system_gain_dB_G)\n",
    "    v_linear = 10 ** (v_dB / 20)\n",
    "    print(f\"SPL: {SPL_dB} dB re 1 μPa → Voltage: {v_linear:.7f} V\")\n",
    "\n",
    "_ = widgets.interact(\n",
    "    display_voltage,\n",
    "    SPL_dB=widgets.FloatSlider(\n",
    "        value=200, min=180, max=220, step=0.5,\n",
    "        layout=widgets.Layout(width=\"400px\"),\n",
    "        style={'description_width': 'initial'},\n",
    "        description=\"SPL (dB) re 1 μPa\"\n",
    "    ),\n",
    "    sens_dB_M=widgets.FloatSlider(\n",
    "        value=-180, min=-200, max=-160, step=0.5,\n",
    "        layout=widgets.Layout(width=\"400px\"),\n",
    "        style={'description_width': 'initial'},\n",
    "        description=\"Sensitivity (dBV/Pa)\"\n",
    "    ),\n",
    "    system_gain_dB_G=widgets.FloatSlider(\n",
    "        value=0, min=0, max=60, step=1,\n",
    "        layout=widgets.Layout(width=\"400px\"),\n",
    "        style={'description_width': 'initial'},\n",
    "        description=\"Mic Gain (dB)\"\n",
    "    ),\n",
    ")"
   ]
  },
  {
   "cell_type": "code",
   "execution_count": null,
   "metadata": {},
   "outputs": [],
   "source": []
  },
  {
   "cell_type": "code",
   "execution_count": null,
   "metadata": {},
   "outputs": [],
   "source": []
  }
 ],
 "metadata": {
  "kernelspec": {
   "display_name": "Python 3 (ipykernel)",
   "language": "python",
   "name": "python3"
  },
  "language_info": {
   "codemirror_mode": {
    "name": "ipython",
    "version": 3
   },
   "file_extension": ".py",
   "mimetype": "text/x-python",
   "name": "python",
   "nbconvert_exporter": "python",
   "pygments_lexer": "ipython3",
   "version": "3.12.9"
  },
  "widgets": {
   "application/vnd.jupyter.widget-state+json": {
    "state": {
     "065c0b961c2a4a308e5199b40726cbb2": {
      "model_module": "@jupyter-widgets/controls",
      "model_module_version": "2.0.0",
      "model_name": "VBoxModel",
      "state": {
       "_dom_classes": [
        "widget-interact"
       ],
       "children": [
        "IPY_MODEL_a1502936462a43f99c5ae25538e827c5",
        "IPY_MODEL_233eea7d88884e3190d87bb2fb391452",
        "IPY_MODEL_d3b1a5a9bd04439ea6160c836aa8b641",
        "IPY_MODEL_52f044b550d04d75a06a0e81e9f5268d"
       ],
       "layout": "IPY_MODEL_8d915c588844473fb65c65eefc6f365f"
      }
     },
     "09baa51345544676b14fa358acf3419c": {
      "model_module": "@jupyter-widgets/base",
      "model_module_version": "2.0.0",
      "model_name": "LayoutModel",
      "state": {
       "width": "400px"
      }
     },
     "233eea7d88884e3190d87bb2fb391452": {
      "model_module": "@jupyter-widgets/controls",
      "model_module_version": "2.0.0",
      "model_name": "FloatSliderModel",
      "state": {
       "behavior": "drag-tap",
       "description": "Sensitivity (dBV/Pa)",
       "layout": "IPY_MODEL_6e4748d055ae4e088e6088ae7c951a79",
       "max": -160,
       "min": -200,
       "step": 0.5,
       "style": "IPY_MODEL_7c813d5bdc0240d89dbf1d1b630c695b",
       "value": -180
      }
     },
     "271cf8fba7234d66a7c8044be9961e13": {
      "model_module": "@jupyter-widgets/controls",
      "model_module_version": "2.0.0",
      "model_name": "SliderStyleModel",
      "state": {
       "description_width": "initial"
      }
     },
     "375501326a6b4399aa7fcbc427364731": {
      "model_module": "@jupyter-widgets/base",
      "model_module_version": "2.0.0",
      "model_name": "LayoutModel",
      "state": {}
     },
     "52f044b550d04d75a06a0e81e9f5268d": {
      "model_module": "@jupyter-widgets/output",
      "model_module_version": "1.0.0",
      "model_name": "OutputModel",
      "state": {
       "layout": "IPY_MODEL_375501326a6b4399aa7fcbc427364731",
       "outputs": [
        {
         "name": "stdout",
         "output_type": "stream",
         "text": "SPL: 200.0 dB re 1 μPa → Voltage: 0.0000100 V\n"
        }
       ]
      }
     },
     "6a066badb9c040ed89d032d9d07361da": {
      "model_module": "@jupyter-widgets/base",
      "model_module_version": "2.0.0",
      "model_name": "LayoutModel",
      "state": {
       "width": "400px"
      }
     },
     "6e4748d055ae4e088e6088ae7c951a79": {
      "model_module": "@jupyter-widgets/base",
      "model_module_version": "2.0.0",
      "model_name": "LayoutModel",
      "state": {
       "width": "400px"
      }
     },
     "7c813d5bdc0240d89dbf1d1b630c695b": {
      "model_module": "@jupyter-widgets/controls",
      "model_module_version": "2.0.0",
      "model_name": "SliderStyleModel",
      "state": {
       "description_width": "initial"
      }
     },
     "894e2629a55943039f15802690db3aec": {
      "model_module": "@jupyter-widgets/controls",
      "model_module_version": "2.0.0",
      "model_name": "SliderStyleModel",
      "state": {
       "description_width": "initial"
      }
     },
     "8d915c588844473fb65c65eefc6f365f": {
      "model_module": "@jupyter-widgets/base",
      "model_module_version": "2.0.0",
      "model_name": "LayoutModel",
      "state": {}
     },
     "a1502936462a43f99c5ae25538e827c5": {
      "model_module": "@jupyter-widgets/controls",
      "model_module_version": "2.0.0",
      "model_name": "FloatSliderModel",
      "state": {
       "behavior": "drag-tap",
       "description": "SPL (dB) re 1 μPa",
       "layout": "IPY_MODEL_09baa51345544676b14fa358acf3419c",
       "max": 220,
       "min": 180,
       "step": 0.5,
       "style": "IPY_MODEL_894e2629a55943039f15802690db3aec",
       "value": 200
      }
     },
     "d3b1a5a9bd04439ea6160c836aa8b641": {
      "model_module": "@jupyter-widgets/controls",
      "model_module_version": "2.0.0",
      "model_name": "FloatSliderModel",
      "state": {
       "behavior": "drag-tap",
       "description": "Mic Gain (dB)",
       "layout": "IPY_MODEL_6a066badb9c040ed89d032d9d07361da",
       "max": 60,
       "style": "IPY_MODEL_271cf8fba7234d66a7c8044be9961e13"
      }
     }
    },
    "version_major": 2,
    "version_minor": 0
   }
  }
 },
 "nbformat": 4,
 "nbformat_minor": 4
}
