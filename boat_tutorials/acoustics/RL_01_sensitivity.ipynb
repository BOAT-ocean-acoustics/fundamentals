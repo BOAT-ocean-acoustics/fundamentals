{
 "cells": [
  {
   "cell_type": "markdown",
   "metadata": {
    "editable": true,
    "slideshow": {
     "slide_type": ""
    },
    "tags": []
   },
   "source": [
    "(acoustics-receiver_hydrophone_sensitivity)=\n",
    "# Hydrophone and receiving sensitivity "
   ]
  },
  {
   "cell_type": "markdown",
   "metadata": {
    "editable": true,
    "slideshow": {
     "slide_type": ""
    },
    "tags": []
   },
   "source": [
    "(acoustics-receiver_hydrophone)=\n",
    "## Hydrophone\n",
    "The simplest instrument we can use to capture sound in the ocean is a hydrophone. Hydrophone is a \"transducer\" that can convert sound pressure into voltage, which can then be recorded into a computer or a recorder. \n",
    "\n",
    "```{Note}\n",
    ":class: note\n",
    "Transducers can also convert voltage into pressure and are used as acoustic sources (transmitters), which are discussed in the [Sound sources](acoustics-source) tutorial.\n",
    "```\n",
    "\n",
    "<!-- HERE WE CAN BRING IN AN IN-DEPTH PAGE TALKING ABOUT PIEZOELECTRIC MATERIALS -->"
   ]
  },
  {
   "cell_type": "markdown",
   "metadata": {
    "editable": true,
    "slideshow": {
     "slide_type": ""
    },
    "tags": []
   },
   "source": [
    "Hydrophones come in all sizes and shapes, but the commonest ones all look like a blob connected with a cable, like those shown below:\n",
    "\n",
    "```{image} ../images/reson_TC4037.jpeg\n",
    ":width: 200px\n",
    "```\n",
    "```{image} ../images/reson_TC4013.jpeg\n",
    ":width: 200px\n",
    "```\n",
    "```{image} ../images/reson_TC4032.jpeg\n",
    ":width: 200px\n",
    "```\n",
    "\n",
    "The \"blob\" usually is where the transudcer element is located, sometimes with supporting electronics, all encapsulated in polyurethane to protect these elements from the environment."
   ]
  },
  {
   "cell_type": "markdown",
   "metadata": {
    "editable": true,
    "slideshow": {
     "slide_type": ""
    },
    "tags": []
   },
   "source": [
    "(acoustics-receiver_sensitivity)=\n",
    "## Receiving sensitivity\n",
    "\n",
    "When measuring sound underwater, an important consideration is the _receiving sensitivity_, which characterizes how well the hydrophone can convert sound at different frequencies into voltage signals. Therefore, usually the receiving sensitivty (often denoted by $M$) is expressed in values and units like **-180 dB re 1V/µPa**, which means that this hydrophone will produce a voltage of -180 dB re 1V, or $10^{-9}$ V in response to a sound pressure of 1 micropascal (µPa). The negative value here just means that the conversion factor is a small number. The receiving sensitivity is what we are after when trying to _calibrate_ a hydrophone.\n",
    "\n",
    "$$\n",
    "M = 20 \\log_{10} \\frac{m}{ V_{ref} / p_{ref} }\n",
    "$$\n",
    "\n",
    "where $m$ is the sensitvity in absolute values (unit: $[\\frac{V}{Pa}]$) in the linear domain, $V_{ref}$ is the reference voltage, and $p_{ref}$ is the reference pressure."
   ]
  },
  {
   "cell_type": "markdown",
   "metadata": {
    "editable": true,
    "slideshow": {
     "slide_type": ""
    },
    "tags": []
   },
   "source": [
    ":::{caution}\n",
    "In water, the reference pressure is typically 1 µPa; whereas in air, the reference pressure is typically 20 µPa.\n",
    ":::"
   ]
  },
  {
   "cell_type": "markdown",
   "metadata": {
    "editable": true,
    "slideshow": {
     "slide_type": ""
    },
    "tags": []
   },
   "source": [
    "(acoustics-receiver_gain)=\n",
    "## Gain\n",
    "\n",
    "Many systems come with a fix or adjustable **gain** that can be used to amplify or attenuate the hydrophone signal, so that the voltage range of the signal would \"fit\" the range of the recorder. The gain (often denoted by $G$) is usually specified as a ratio of the output signal to the input signal in decibel\n",
    "\n",
    "$$\n",
    "G = \\frac{V_{out}}{V_{in}}\n",
    "$$\n",
    "\n",
    "Some hydrophones have what is typically referred to as built in **preamplifiers** that provides a gain to boost up the signal right when it is received."
   ]
  },
  {
   "cell_type": "markdown",
   "metadata": {
    "editable": true,
    "slideshow": {
     "slide_type": ""
    },
    "tags": []
   },
   "source": [
    ":::{tip}\n",
    "If you are not already familiar with what decibel (dB) means, check out [this primer](primer-decibel)!\n",
    ":::"
   ]
  },
  {
   "cell_type": "markdown",
   "metadata": {
    "editable": true,
    "slideshow": {
     "slide_type": ""
    },
    "tags": []
   },
   "source": [
    "## Sound pressure level (SPL)\n",
    "\n",
    "Once sound signals are captured by hydrophones, how do we quantify what's in the received sound?\n",
    "\n",
    "One of the commonest measure is **sound pressure level (SPL)**, which characterizes how loud the sound is and is usually written as:\n",
    "\n",
    "$$\n",
    "\\textrm{SPL} = 20 \\log_{10} \\frac{p}{p_{ref}}\n",
    "$$\n",
    "\n",
    "where $p$ is the sound pressure, and $p_{ref}$ is the reference pressure. This is why the unit of SPL is typically in the form of **dB re 1 µPa**, as it is a logarithmic measure of the ratio between the sound pressure and a reference pressure.\n",
    "\n",
    "```{Note}\n",
    ":class: note\n",
    "The reference pressure is usually 1 µPa in water and 20 µPa in air, which makes a big difference in the resulting SPL values!\n",
    "```"
   ]
  },
  {
   "cell_type": "markdown",
   "metadata": {
    "editable": true,
    "slideshow": {
     "slide_type": ""
    },
    "tags": []
   },
   "source": [
    "In practice, to calculate SPL from hydrophone measurement, we often use:\n",
    "\n",
    "$$\n",
    "\\textrm{SPL} = 20 \\log_{10} \\frac{V}{V_{ref}} - M\n",
    "$$\n",
    "\n",
    "where $V$ is the measured voltage and $M$ is the receiving sensitivity. "
   ]
  },
  {
   "cell_type": "markdown",
   "metadata": {
    "editable": true,
    "slideshow": {
     "slide_type": ""
    },
    "tags": []
   },
   "source": [
    "```{How does this formula come about?}\n",
    ":class: toggle\n",
    "\n",
    "To see how this formula comes about, let's start with the linear domain quantities:\n",
    "\n",
    "$$\n",
    "V = p \\times m\n",
    "$$\n",
    "\n",
    "where $m$ is the linear receiving sensitivty (i.e. $M=20 \\log_{10} m$). Dividing both sides by $V_{ref}$ and multiply the right hand side by $\\frac{p_{ref}}{p_{ref}}$, we get\n",
    "\n",
    "$$\n",
    "\\frac{V}{V_{ref}} = \\frac{p}{p_{ref}} \\times \\frac{p_{ref}}{V_{ref}} \\times m\n",
    "$$\n",
    "\n",
    "Taking the equation to the log domain:\n",
    "\n",
    "$$\n",
    "20 \\log{ \\frac{V}{V_{ref}} } = 20 \\log{ \\frac{p}{p_{ref}} } + 20 \\log{ \\frac{m}{ V_{ref} / p_{ref}} }\n",
    "$$\n",
    "\n",
    "which gives\n",
    "\n",
    "$$\n",
    "20 \\log{ \\frac{V}{V_{ref}} } = \\textrm{SPL} + M\n",
    "$$\n",
    "\n",
    "and hence the above formula.\n",
    "\n",
    "When there is a gain factor $G$ applied to the voltage signal by electronics associated with the hydrophone, we have\n",
    "\n",
    "$$\n",
    "\\textrm{SPL} = 20 \\log{ \\frac{V}{V_{ref}} } - M - G\n",
    "$$\n",
    "\n",
    "Here there is a minus sign before $G$, since to return to the original measured quantity, we need _remove_ the influence of the gain.\n",
    "\n",
    "```"
   ]
  },
  {
   "cell_type": "markdown",
   "metadata": {
    "editable": true,
    "slideshow": {
     "slide_type": ""
    },
    "tags": []
   },
   "source": [
    "## Exercise\n",
    "Using the widget below, can you find a sensitivty and gain combination that gives you a voltage output at 0.001 V for a sound at 200 dB SPL re 1 μPa?"
   ]
  },
  {
   "cell_type": "code",
   "execution_count": 9,
   "metadata": {
    "editable": true,
    "slideshow": {
     "slide_type": ""
    },
    "tags": [
     "hide-input"
    ]
   },
   "outputs": [
    {
     "data": {
      "application/vnd.jupyter.widget-view+json": {
       "model_id": "21d925b06c8648d9a7e474be48b20710",
       "version_major": 2,
       "version_minor": 0
      },
      "text/plain": [
       "interactive(children=(FloatSlider(value=200.0, description='SPL (dB re 1 μPa)', layout=Layout(width='400px'), …"
      ]
     },
     "metadata": {},
     "output_type": "display_data"
    }
   ],
   "source": [
    "import numpy as np\n",
    "import ipywidgets as widgets\n",
    "\n",
    "def display_voltage(SPL_dB, sens_dB, gain_dB):\n",
    "    V_linear = 10 ** ((SPL_dB + sens_dB + gain_dB)/20) * 1e-6\n",
    "    print(f\"SPL: {SPL_dB} dB re 1 μPa → Voltage: {V_linear:.7f} V\")\n",
    "\n",
    "_ = widgets.interact(\n",
    "    display_voltage,\n",
    "    SPL_dB=widgets.FloatSlider(\n",
    "        value=200, min=180, max=220, step=0.5,\n",
    "        layout=widgets.Layout(width=\"400px\"),\n",
    "        style={'description_width': 'initial'},\n",
    "        description=\"SPL (dB re 1 μPa)\"\n",
    "    ),\n",
    "    sens_dB=widgets.FloatSlider(\n",
    "        value=-176, min=-200, max=-160, step=0.5,\n",
    "        layout=widgets.Layout(width=\"400px\"),\n",
    "        style={'description_width': 'initial'},\n",
    "        description=\"Sensitivity (dB 1 V/μPa)\"\n",
    "    ),\n",
    "    gain_dB=widgets.IntSlider(\n",
    "        value=0, min=0, max=60, step=10,\n",
    "        layout=widgets.Layout(width=\"400px\"),\n",
    "        style={'description_width': 'initial'},\n",
    "        description=\"Gain (dB)\"\n",
    "    ),\n",
    ")"
   ]
  },
  {
   "cell_type": "code",
   "execution_count": null,
   "metadata": {
    "editable": true,
    "slideshow": {
     "slide_type": ""
    },
    "tags": []
   },
   "outputs": [],
   "source": []
  }
 ],
 "metadata": {
  "kernelspec": {
   "display_name": "Python 3 (ipykernel)",
   "language": "python",
   "name": "python3"
  },
  "language_info": {
   "codemirror_mode": {
    "name": "ipython",
    "version": 3
   },
   "file_extension": ".py",
   "mimetype": "text/x-python",
   "name": "python",
   "nbconvert_exporter": "python",
   "pygments_lexer": "ipython3",
   "version": "3.12.9"
  },
  "widgets": {
   "application/vnd.jupyter.widget-state+json": {
    "state": {
     "0274baecb8c94dd49a48e580cda56d5a": {
      "model_module": "@jupyter-widgets/controls",
      "model_module_version": "2.0.0",
      "model_name": "IntSliderModel",
      "state": {
       "behavior": "drag-tap",
       "description": "Gain (dB)",
       "layout": "IPY_MODEL_0ef3c336cdb64f79839fc215e1383a4e",
       "max": 60,
       "step": 10,
       "style": "IPY_MODEL_51222c289a244f51950b84df597b3f06"
      }
     },
     "031199ac23354e079f5c3d847af14c39": {
      "model_module": "@jupyter-widgets/controls",
      "model_module_version": "2.0.0",
      "model_name": "FloatSliderModel",
      "state": {
       "behavior": "drag-tap",
       "description": "Gain (dB)",
       "layout": "IPY_MODEL_1cb715937bcd44ebbf55711494252bce",
       "max": 60,
       "style": "IPY_MODEL_a352b9d3b5e94e8da07bf6142bb0d04c"
      }
     },
     "066a118111b04429884eb262d2b87935": {
      "model_module": "@jupyter-widgets/controls",
      "model_module_version": "2.0.0",
      "model_name": "FloatSliderModel",
      "state": {
       "behavior": "drag-tap",
       "description": "SPL (dB re 1 μPa)",
       "layout": "IPY_MODEL_a09dc47fb2af415bb7f985e69219a66c",
       "max": 220,
       "min": 180,
       "step": 0.5,
       "style": "IPY_MODEL_ba3febf342d345eab50c939fc4c3eb87",
       "value": 200
      }
     },
     "0870834456bf4628a3821811aeda92c6": {
      "model_module": "@jupyter-widgets/controls",
      "model_module_version": "2.0.0",
      "model_name": "FloatSliderModel",
      "state": {
       "behavior": "drag-tap",
       "description": "Sensitivity (dB 1 V/μPa)",
       "layout": "IPY_MODEL_19d1fc12a3fe41d3b176bc9a03f39bd6",
       "max": -160,
       "min": -200,
       "step": 0.5,
       "style": "IPY_MODEL_f058736e482640528490bd5dd27fbaad",
       "value": -176
      }
     },
     "0e95929a63cc4945b42551238ec1e093": {
      "model_module": "@jupyter-widgets/controls",
      "model_module_version": "2.0.0",
      "model_name": "SliderStyleModel",
      "state": {
       "description_width": "initial"
      }
     },
     "0ef3c336cdb64f79839fc215e1383a4e": {
      "model_module": "@jupyter-widgets/base",
      "model_module_version": "2.0.0",
      "model_name": "LayoutModel",
      "state": {
       "width": "400px"
      }
     },
     "0f7b6c722b644bc489d9d82a114df4e9": {
      "model_module": "@jupyter-widgets/controls",
      "model_module_version": "2.0.0",
      "model_name": "SliderStyleModel",
      "state": {
       "description_width": "initial"
      }
     },
     "12b479adde4e493c93a49e40efcaa788": {
      "model_module": "@jupyter-widgets/base",
      "model_module_version": "2.0.0",
      "model_name": "LayoutModel",
      "state": {}
     },
     "13341ff3a35f42068a49f9af4393e265": {
      "model_module": "@jupyter-widgets/base",
      "model_module_version": "2.0.0",
      "model_name": "LayoutModel",
      "state": {
       "width": "400px"
      }
     },
     "14183ceb6c2f4e7191cd56f8f4d75267": {
      "model_module": "@jupyter-widgets/base",
      "model_module_version": "2.0.0",
      "model_name": "LayoutModel",
      "state": {}
     },
     "1605aa7271324ce5b0db6990d692255b": {
      "model_module": "@jupyter-widgets/controls",
      "model_module_version": "2.0.0",
      "model_name": "SliderStyleModel",
      "state": {
       "description_width": "initial"
      }
     },
     "18748308ec524d76940bc7cf65d76446": {
      "model_module": "@jupyter-widgets/controls",
      "model_module_version": "2.0.0",
      "model_name": "SliderStyleModel",
      "state": {
       "description_width": "initial"
      }
     },
     "19d1fc12a3fe41d3b176bc9a03f39bd6": {
      "model_module": "@jupyter-widgets/base",
      "model_module_version": "2.0.0",
      "model_name": "LayoutModel",
      "state": {
       "width": "400px"
      }
     },
     "1cb715937bcd44ebbf55711494252bce": {
      "model_module": "@jupyter-widgets/base",
      "model_module_version": "2.0.0",
      "model_name": "LayoutModel",
      "state": {
       "width": "400px"
      }
     },
     "21d925b06c8648d9a7e474be48b20710": {
      "model_module": "@jupyter-widgets/controls",
      "model_module_version": "2.0.0",
      "model_name": "VBoxModel",
      "state": {
       "_dom_classes": [
        "widget-interact"
       ],
       "children": [
        "IPY_MODEL_d4f4355ab4d5426ca6208d1e4635a153",
        "IPY_MODEL_0870834456bf4628a3821811aeda92c6",
        "IPY_MODEL_a9b292fe8da54ad6800710c1281d85e3",
        "IPY_MODEL_ce0a8e6e6c7f4dffb54d17396bbfaa30"
       ],
       "layout": "IPY_MODEL_c9bea45729e0411d92c19df5b8a7699c"
      }
     },
     "264478363235401f993cacfe9fe998ef": {
      "model_module": "@jupyter-widgets/controls",
      "model_module_version": "2.0.0",
      "model_name": "SliderStyleModel",
      "state": {
       "description_width": "initial"
      }
     },
     "28b7122f7dc14d70ba7160ad7cc9695d": {
      "model_module": "@jupyter-widgets/controls",
      "model_module_version": "2.0.0",
      "model_name": "SliderStyleModel",
      "state": {
       "description_width": "initial"
      }
     },
     "2fb7e082a8e84309a5724dce1a6e9804": {
      "model_module": "@jupyter-widgets/controls",
      "model_module_version": "2.0.0",
      "model_name": "SliderStyleModel",
      "state": {
       "description_width": "initial"
      }
     },
     "374e56581c764274885a15a2fefdde51": {
      "model_module": "@jupyter-widgets/controls",
      "model_module_version": "2.0.0",
      "model_name": "FloatSliderModel",
      "state": {
       "behavior": "drag-tap",
       "description": "Sensitivity (dB 1 V/μPa)",
       "layout": "IPY_MODEL_714b675a7db94041b4dc7614abc7d4c0",
       "max": -160,
       "min": -200,
       "step": 0.5,
       "style": "IPY_MODEL_3ce68f728efb430d97b28079f9014482",
       "value": -180
      }
     },
     "3c389d9c3a2c46b192cd495efed87ca4": {
      "model_module": "@jupyter-widgets/controls",
      "model_module_version": "2.0.0",
      "model_name": "FloatSliderModel",
      "state": {
       "behavior": "drag-tap",
       "description": "SPL (dB re 1 μPa)",
       "layout": "IPY_MODEL_7d2c20e4596c4eacab0f83fe270435fa",
       "max": 220,
       "min": 180,
       "step": 0.5,
       "style": "IPY_MODEL_18748308ec524d76940bc7cf65d76446",
       "value": 200
      }
     },
     "3ce68f728efb430d97b28079f9014482": {
      "model_module": "@jupyter-widgets/controls",
      "model_module_version": "2.0.0",
      "model_name": "SliderStyleModel",
      "state": {
       "description_width": "initial"
      }
     },
     "3fef9030f11a44779e7bbe523f6fa85c": {
      "model_module": "@jupyter-widgets/controls",
      "model_module_version": "2.0.0",
      "model_name": "FloatSliderModel",
      "state": {
       "behavior": "drag-tap",
       "description": "Gain (dB)",
       "layout": "IPY_MODEL_c191dc88986448849cd5cbc6bb2a47f7",
       "max": 60,
       "style": "IPY_MODEL_b7e43f069d68488e92dd569b2b2ee742"
      }
     },
     "4111c03d3ee346488bea8b4c8b58cd00": {
      "model_module": "@jupyter-widgets/output",
      "model_module_version": "1.0.0",
      "model_name": "OutputModel",
      "state": {
       "layout": "IPY_MODEL_997138d9d1da473096a510e15bff8b76",
       "outputs": [
        {
         "name": "stdout",
         "output_type": "stream",
         "text": "SPL: 200.0 dB re 1 μPa → Voltage: 0.0000100 V\n"
        }
       ]
      }
     },
     "416abe4c7e7e4a00a6e6af12faa9a2c5": {
      "model_module": "@jupyter-widgets/controls",
      "model_module_version": "2.0.0",
      "model_name": "FloatSliderModel",
      "state": {
       "behavior": "drag-tap",
       "description": "SPL (dB re 1 μPa)",
       "layout": "IPY_MODEL_970809c20127473a89cfbea722d682be",
       "max": 220,
       "min": 180,
       "step": 0.5,
       "style": "IPY_MODEL_2fb7e082a8e84309a5724dce1a6e9804",
       "value": 200
      }
     },
     "48ccd9728e7f403696c147f45246f508": {
      "model_module": "@jupyter-widgets/output",
      "model_module_version": "1.0.0",
      "model_name": "OutputModel",
      "state": {
       "layout": "IPY_MODEL_b2c8d0324cb744bf92cdf7142a695936",
       "outputs": [
        {
         "name": "stdout",
         "output_type": "stream",
         "text": "SPL: 200.0 dB re 1 μPa → Voltage: 5000000000000000000.0000000 V\n"
        }
       ]
      }
     },
     "4ac7a29d0dde47d2b4c93336b5066d27": {
      "model_module": "@jupyter-widgets/controls",
      "model_module_version": "2.0.0",
      "model_name": "SliderStyleModel",
      "state": {
       "description_width": "initial"
      }
     },
     "4e4f86b28eb94656b2886c7b8d875c76": {
      "model_module": "@jupyter-widgets/controls",
      "model_module_version": "2.0.0",
      "model_name": "SliderStyleModel",
      "state": {
       "description_width": "initial"
      }
     },
     "4e67659ac808400e8f975dc3ec95dfea": {
      "model_module": "@jupyter-widgets/controls",
      "model_module_version": "2.0.0",
      "model_name": "SliderStyleModel",
      "state": {
       "description_width": "initial"
      }
     },
     "4f2bb7c915604510a119b0b006fc23c0": {
      "model_module": "@jupyter-widgets/base",
      "model_module_version": "2.0.0",
      "model_name": "LayoutModel",
      "state": {}
     },
     "500d5d0350704f31bbe8970e7eba1cc8": {
      "model_module": "@jupyter-widgets/controls",
      "model_module_version": "2.0.0",
      "model_name": "FloatSliderModel",
      "state": {
       "behavior": "drag-tap",
       "description": "Sensitivity (dB 1 V/μPa)",
       "layout": "IPY_MODEL_8b0bd55e92de4afe922aabf6e4b94899",
       "max": -160,
       "min": -200,
       "step": 0.5,
       "style": "IPY_MODEL_63a142b894594030a47c6583fb28efd5",
       "value": -170
      }
     },
     "51222c289a244f51950b84df597b3f06": {
      "model_module": "@jupyter-widgets/controls",
      "model_module_version": "2.0.0",
      "model_name": "SliderStyleModel",
      "state": {
       "description_width": "initial"
      }
     },
     "51bd395a4f2541a49507d4a7ca6afa7e": {
      "model_module": "@jupyter-widgets/base",
      "model_module_version": "2.0.0",
      "model_name": "LayoutModel",
      "state": {
       "width": "400px"
      }
     },
     "5663abfbd5ce403fa6ecf70c6ddc03ac": {
      "model_module": "@jupyter-widgets/base",
      "model_module_version": "2.0.0",
      "model_name": "LayoutModel",
      "state": {}
     },
     "5b6c6c3b171c474e9f78707e2e0e47b9": {
      "model_module": "@jupyter-widgets/controls",
      "model_module_version": "2.0.0",
      "model_name": "VBoxModel",
      "state": {
       "_dom_classes": [
        "widget-interact"
       ],
       "children": [
        "IPY_MODEL_416abe4c7e7e4a00a6e6af12faa9a2c5",
        "IPY_MODEL_b90ffc8ae524409e89c3d31135032705",
        "IPY_MODEL_935f447e0ef948adbc7bf35354971431",
        "IPY_MODEL_48ccd9728e7f403696c147f45246f508"
       ],
       "layout": "IPY_MODEL_5663abfbd5ce403fa6ecf70c6ddc03ac"
      }
     },
     "5ffde7b376ed450ca2cdf308c7701eb0": {
      "model_module": "@jupyter-widgets/base",
      "model_module_version": "2.0.0",
      "model_name": "LayoutModel",
      "state": {}
     },
     "611e5ef1a73147fcb925ce2b59786ba6": {
      "model_module": "@jupyter-widgets/base",
      "model_module_version": "2.0.0",
      "model_name": "LayoutModel",
      "state": {
       "width": "400px"
      }
     },
     "63a142b894594030a47c6583fb28efd5": {
      "model_module": "@jupyter-widgets/controls",
      "model_module_version": "2.0.0",
      "model_name": "SliderStyleModel",
      "state": {
       "description_width": "initial"
      }
     },
     "65a8ea40e91f44829cfd850ce2095807": {
      "model_module": "@jupyter-widgets/base",
      "model_module_version": "2.0.0",
      "model_name": "LayoutModel",
      "state": {
       "width": "400px"
      }
     },
     "67bdecc77ca94afdaa8ae70bc3387069": {
      "model_module": "@jupyter-widgets/controls",
      "model_module_version": "2.0.0",
      "model_name": "FloatSliderModel",
      "state": {
       "behavior": "drag-tap",
       "description": "Sensitivity (dB 1 V/μPa)",
       "layout": "IPY_MODEL_e9942128dc474e17b9802082ac3aec38",
       "max": -160,
       "min": -200,
       "step": 0.5,
       "style": "IPY_MODEL_b8e937e51e7746a6959488e164928229",
       "value": -180
      }
     },
     "6822c7c17c744b5dadbe0784c8835755": {
      "model_module": "@jupyter-widgets/controls",
      "model_module_version": "2.0.0",
      "model_name": "VBoxModel",
      "state": {
       "_dom_classes": [
        "widget-interact"
       ],
       "children": [
        "IPY_MODEL_b10b27a8db904f6d8cc1f930a2db17a0",
        "IPY_MODEL_67bdecc77ca94afdaa8ae70bc3387069",
        "IPY_MODEL_031199ac23354e079f5c3d847af14c39",
        "IPY_MODEL_8a6a30c9d5f54308b39784890434f515"
       ],
       "layout": "IPY_MODEL_a729faa5eb8f4d6c8b14f81d12199400"
      }
     },
     "68622c9b4af04a8eb0193874295e3c2b": {
      "model_module": "@jupyter-widgets/base",
      "model_module_version": "2.0.0",
      "model_name": "LayoutModel",
      "state": {}
     },
     "6a0d4d75980b42de9c5c2775e1d6b671": {
      "model_module": "@jupyter-widgets/output",
      "model_module_version": "1.0.0",
      "model_name": "OutputModel",
      "state": {
       "layout": "IPY_MODEL_df1f700e61e94c9c9717b0f5f6ad0c6f",
       "outputs": [
        {
         "name": "stdout",
         "output_type": "stream",
         "text": "SPL: 200.0 dB re 1 μPa → Voltage: 0.0000100 V\n"
        }
       ]
      }
     },
     "6f415443d85c4d39b2833ec6a4424cd0": {
      "model_module": "@jupyter-widgets/controls",
      "model_module_version": "2.0.0",
      "model_name": "IntSliderModel",
      "state": {
       "behavior": "drag-tap",
       "description": "Gain (dB)",
       "layout": "IPY_MODEL_ea18e4257a2c421999a28171233985ba",
       "max": 60,
       "step": 10,
       "style": "IPY_MODEL_4ac7a29d0dde47d2b4c93336b5066d27",
       "value": 30
      }
     },
     "714b675a7db94041b4dc7614abc7d4c0": {
      "model_module": "@jupyter-widgets/base",
      "model_module_version": "2.0.0",
      "model_name": "LayoutModel",
      "state": {
       "width": "400px"
      }
     },
     "736595daefbc4fb8ae04c598b9edcd0b": {
      "model_module": "@jupyter-widgets/output",
      "model_module_version": "1.0.0",
      "model_name": "OutputModel",
      "state": {
       "layout": "IPY_MODEL_dac3480a980b4bdd8af2b03c6ec3ffc9",
       "outputs": [
        {
         "name": "stdout",
         "output_type": "stream",
         "text": "SPL: 200.0 dB re 1 μPa → Voltage: 0.0010000 V\n"
        }
       ]
      }
     },
     "73d974c5a7de4689b731c0c209b62d77": {
      "model_module": "@jupyter-widgets/base",
      "model_module_version": "2.0.0",
      "model_name": "LayoutModel",
      "state": {
       "width": "400px"
      }
     },
     "743ae38421e54c10897c6c0b6dc93ada": {
      "model_module": "@jupyter-widgets/base",
      "model_module_version": "2.0.0",
      "model_name": "LayoutModel",
      "state": {
       "width": "400px"
      }
     },
     "75b6d00c582142249883e2b7aa72ed25": {
      "model_module": "@jupyter-widgets/controls",
      "model_module_version": "2.0.0",
      "model_name": "FloatSliderModel",
      "state": {
       "behavior": "drag-tap",
       "description": "Sensitivity (dB 1 V/μPa)",
       "layout": "IPY_MODEL_98295fd4823846ecaaab1dc259ffd5ef",
       "max": -160,
       "min": -200,
       "step": 0.5,
       "style": "IPY_MODEL_d5b79a2afab540869c8e54ae8dd18f42",
       "value": -180
      }
     },
     "798b3b4bd96b4d5ebfd8ccc2882bc136": {
      "model_module": "@jupyter-widgets/controls",
      "model_module_version": "2.0.0",
      "model_name": "FloatSliderModel",
      "state": {
       "behavior": "drag-tap",
       "description": "SPL (dB) re 1 μPa",
       "layout": "IPY_MODEL_f30e3cc20c264e7e90b383456077126b",
       "max": 220,
       "min": 180,
       "step": 0.5,
       "style": "IPY_MODEL_1605aa7271324ce5b0db6990d692255b",
       "value": 200
      }
     },
     "7d2c20e4596c4eacab0f83fe270435fa": {
      "model_module": "@jupyter-widgets/base",
      "model_module_version": "2.0.0",
      "model_name": "LayoutModel",
      "state": {
       "width": "400px"
      }
     },
     "7ecc3b0f48084dc6a71393511471c2f7": {
      "model_module": "@jupyter-widgets/base",
      "model_module_version": "2.0.0",
      "model_name": "LayoutModel",
      "state": {}
     },
     "88868404c2464febb64378d90f21c4f0": {
      "model_module": "@jupyter-widgets/controls",
      "model_module_version": "2.0.0",
      "model_name": "FloatSliderModel",
      "state": {
       "behavior": "drag-tap",
       "description": "Sensitivity (dB 1 V/μPa)",
       "layout": "IPY_MODEL_a176c85a9d6a460aa68ca9a59798b749",
       "max": -160,
       "min": -200,
       "step": 0.5,
       "style": "IPY_MODEL_f6fcecd7bb974a62aba8e782b9bdba75",
       "value": -180
      }
     },
     "8a6a30c9d5f54308b39784890434f515": {
      "model_module": "@jupyter-widgets/output",
      "model_module_version": "1.0.0",
      "model_name": "OutputModel",
      "state": {
       "layout": "IPY_MODEL_12b479adde4e493c93a49e40efcaa788",
       "outputs": [
        {
         "name": "stdout",
         "output_type": "stream",
         "text": "SPL: 200.0 dB re 1 μPa → Voltage: 10.0000000 V\n"
        }
       ]
      }
     },
     "8b0bd55e92de4afe922aabf6e4b94899": {
      "model_module": "@jupyter-widgets/base",
      "model_module_version": "2.0.0",
      "model_name": "LayoutModel",
      "state": {
       "width": "400px"
      }
     },
     "8c89e6870cea43b998b6489ae54b3c3f": {
      "model_module": "@jupyter-widgets/controls",
      "model_module_version": "2.0.0",
      "model_name": "FloatSliderModel",
      "state": {
       "behavior": "drag-tap",
       "description": "SPL (dB re 1 μPa)",
       "layout": "IPY_MODEL_d0120078637e4a9abfad05d29b8b9db7",
       "max": 220,
       "min": 180,
       "step": 0.5,
       "style": "IPY_MODEL_a5b1f25590654c2c9316b9b8ef35ab72",
       "value": 200
      }
     },
     "935f447e0ef948adbc7bf35354971431": {
      "model_module": "@jupyter-widgets/controls",
      "model_module_version": "2.0.0",
      "model_name": "FloatSliderModel",
      "state": {
       "behavior": "drag-tap",
       "description": "Gain (dB)",
       "layout": "IPY_MODEL_de773c8826d54ee58e2507afe24c6b01",
       "max": 60,
       "style": "IPY_MODEL_4e67659ac808400e8f975dc3ec95dfea"
      }
     },
     "970809c20127473a89cfbea722d682be": {
      "model_module": "@jupyter-widgets/base",
      "model_module_version": "2.0.0",
      "model_name": "LayoutModel",
      "state": {
       "width": "400px"
      }
     },
     "98295fd4823846ecaaab1dc259ffd5ef": {
      "model_module": "@jupyter-widgets/base",
      "model_module_version": "2.0.0",
      "model_name": "LayoutModel",
      "state": {
       "width": "400px"
      }
     },
     "98c83c088f9649399a92afe23bc7cc20": {
      "model_module": "@jupyter-widgets/base",
      "model_module_version": "2.0.0",
      "model_name": "LayoutModel",
      "state": {
       "width": "400px"
      }
     },
     "997138d9d1da473096a510e15bff8b76": {
      "model_module": "@jupyter-widgets/base",
      "model_module_version": "2.0.0",
      "model_name": "LayoutModel",
      "state": {}
     },
     "9ceca9b9e9104207ab52d1fa2374fb2d": {
      "model_module": "@jupyter-widgets/base",
      "model_module_version": "2.0.0",
      "model_name": "LayoutModel",
      "state": {}
     },
     "a09dc47fb2af415bb7f985e69219a66c": {
      "model_module": "@jupyter-widgets/base",
      "model_module_version": "2.0.0",
      "model_name": "LayoutModel",
      "state": {
       "width": "400px"
      }
     },
     "a176c85a9d6a460aa68ca9a59798b749": {
      "model_module": "@jupyter-widgets/base",
      "model_module_version": "2.0.0",
      "model_name": "LayoutModel",
      "state": {
       "width": "400px"
      }
     },
     "a352b9d3b5e94e8da07bf6142bb0d04c": {
      "model_module": "@jupyter-widgets/controls",
      "model_module_version": "2.0.0",
      "model_name": "SliderStyleModel",
      "state": {
       "description_width": "initial"
      }
     },
     "a46931fe584140d39da29c79fbd8893f": {
      "model_module": "@jupyter-widgets/output",
      "model_module_version": "1.0.0",
      "model_name": "OutputModel",
      "state": {
       "layout": "IPY_MODEL_7ecc3b0f48084dc6a71393511471c2f7",
       "outputs": [
        {
         "name": "stdout",
         "output_type": "stream",
         "text": "SPL: 200.0 dB re 1 μPa → Voltage: 0.0000100 V\n"
        }
       ]
      }
     },
     "a5b1f25590654c2c9316b9b8ef35ab72": {
      "model_module": "@jupyter-widgets/controls",
      "model_module_version": "2.0.0",
      "model_name": "SliderStyleModel",
      "state": {
       "description_width": "initial"
      }
     },
     "a729faa5eb8f4d6c8b14f81d12199400": {
      "model_module": "@jupyter-widgets/base",
      "model_module_version": "2.0.0",
      "model_name": "LayoutModel",
      "state": {}
     },
     "a78ecd3d01fc4d4c96d7c8207db2a923": {
      "model_module": "@jupyter-widgets/controls",
      "model_module_version": "2.0.0",
      "model_name": "FloatSliderModel",
      "state": {
       "behavior": "drag-tap",
       "description": "Sensitivity (dB 1 V/μPa)",
       "layout": "IPY_MODEL_743ae38421e54c10897c6c0b6dc93ada",
       "max": -160,
       "min": -200,
       "step": 0.5,
       "style": "IPY_MODEL_28b7122f7dc14d70ba7160ad7cc9695d",
       "value": -180
      }
     },
     "a9b292fe8da54ad6800710c1281d85e3": {
      "model_module": "@jupyter-widgets/controls",
      "model_module_version": "2.0.0",
      "model_name": "IntSliderModel",
      "state": {
       "behavior": "drag-tap",
       "description": "Gain (dB)",
       "layout": "IPY_MODEL_e6c6ef72896e4a968681c524e2a02150",
       "max": 60,
       "step": 10,
       "style": "IPY_MODEL_264478363235401f993cacfe9fe998ef"
      }
     },
     "a9e64f77409244ab8086f5d6d90e13b3": {
      "model_module": "@jupyter-widgets/controls",
      "model_module_version": "2.0.0",
      "model_name": "FloatSliderModel",
      "state": {
       "behavior": "drag-tap",
       "description": "SPL (dB re 1 μPa)",
       "layout": "IPY_MODEL_98c83c088f9649399a92afe23bc7cc20",
       "max": 220,
       "min": 180,
       "step": 0.5,
       "style": "IPY_MODEL_f3bfd9f13de947c7800be98d0885f0f6",
       "value": 200
      }
     },
     "b10b27a8db904f6d8cc1f930a2db17a0": {
      "model_module": "@jupyter-widgets/controls",
      "model_module_version": "2.0.0",
      "model_name": "FloatSliderModel",
      "state": {
       "behavior": "drag-tap",
       "description": "SPL (dB re 1 μPa)",
       "layout": "IPY_MODEL_13341ff3a35f42068a49f9af4393e265",
       "max": 220,
       "min": 180,
       "step": 0.5,
       "style": "IPY_MODEL_0e95929a63cc4945b42551238ec1e093",
       "value": 200
      }
     },
     "b2c8d0324cb744bf92cdf7142a695936": {
      "model_module": "@jupyter-widgets/base",
      "model_module_version": "2.0.0",
      "model_name": "LayoutModel",
      "state": {}
     },
     "b7e43f069d68488e92dd569b2b2ee742": {
      "model_module": "@jupyter-widgets/controls",
      "model_module_version": "2.0.0",
      "model_name": "SliderStyleModel",
      "state": {
       "description_width": "initial"
      }
     },
     "b8e937e51e7746a6959488e164928229": {
      "model_module": "@jupyter-widgets/controls",
      "model_module_version": "2.0.0",
      "model_name": "SliderStyleModel",
      "state": {
       "description_width": "initial"
      }
     },
     "b90ffc8ae524409e89c3d31135032705": {
      "model_module": "@jupyter-widgets/controls",
      "model_module_version": "2.0.0",
      "model_name": "FloatSliderModel",
      "state": {
       "behavior": "drag-tap",
       "description": "Sensitivity (dB 1 V/μPa)",
       "layout": "IPY_MODEL_51bd395a4f2541a49507d4a7ca6afa7e",
       "max": -160,
       "min": -200,
       "step": 0.5,
       "style": "IPY_MODEL_bfdf2f994f1c49e7b85aed3f0430b65e",
       "value": -180
      }
     },
     "b9241f2fd49b4edf825e96f15bfffc3f": {
      "model_module": "@jupyter-widgets/controls",
      "model_module_version": "2.0.0",
      "model_name": "VBoxModel",
      "state": {
       "_dom_classes": [
        "widget-interact"
       ],
       "children": [
        "IPY_MODEL_3c389d9c3a2c46b192cd495efed87ca4",
        "IPY_MODEL_374e56581c764274885a15a2fefdde51",
        "IPY_MODEL_d8f5ae6d75584fb68b23b8ea8d36ae19",
        "IPY_MODEL_a46931fe584140d39da29c79fbd8893f"
       ],
       "layout": "IPY_MODEL_68622c9b4af04a8eb0193874295e3c2b"
      }
     },
     "ba3febf342d345eab50c939fc4c3eb87": {
      "model_module": "@jupyter-widgets/controls",
      "model_module_version": "2.0.0",
      "model_name": "SliderStyleModel",
      "state": {
       "description_width": "initial"
      }
     },
     "bacc55ba0d2943ee829550d666ed245c": {
      "model_module": "@jupyter-widgets/base",
      "model_module_version": "2.0.0",
      "model_name": "LayoutModel",
      "state": {}
     },
     "bfdf2f994f1c49e7b85aed3f0430b65e": {
      "model_module": "@jupyter-widgets/controls",
      "model_module_version": "2.0.0",
      "model_name": "SliderStyleModel",
      "state": {
       "description_width": "initial"
      }
     },
     "c0dfc0f9ddca484285a6516b67f2b9f6": {
      "model_module": "@jupyter-widgets/output",
      "model_module_version": "1.0.0",
      "model_name": "OutputModel",
      "state": {
       "layout": "IPY_MODEL_5ffde7b376ed450ca2cdf308c7701eb0",
       "outputs": [
        {
         "name": "stdout",
         "output_type": "stream",
         "text": "SPL: 200.0 dB re 1 μPa → Voltage: 0.0000100 V\n"
        }
       ]
      }
     },
     "c191dc88986448849cd5cbc6bb2a47f7": {
      "model_module": "@jupyter-widgets/base",
      "model_module_version": "2.0.0",
      "model_name": "LayoutModel",
      "state": {
       "width": "400px"
      }
     },
     "c383df527ff34bafa18081b2c1a5015e": {
      "model_module": "@jupyter-widgets/controls",
      "model_module_version": "2.0.0",
      "model_name": "VBoxModel",
      "state": {
       "_dom_classes": [
        "widget-interact"
       ],
       "children": [
        "IPY_MODEL_066a118111b04429884eb262d2b87935",
        "IPY_MODEL_88868404c2464febb64378d90f21c4f0",
        "IPY_MODEL_0274baecb8c94dd49a48e580cda56d5a",
        "IPY_MODEL_c0dfc0f9ddca484285a6516b67f2b9f6"
       ],
       "layout": "IPY_MODEL_9ceca9b9e9104207ab52d1fa2374fb2d"
      }
     },
     "c9bea45729e0411d92c19df5b8a7699c": {
      "model_module": "@jupyter-widgets/base",
      "model_module_version": "2.0.0",
      "model_name": "LayoutModel",
      "state": {}
     },
     "ce0a8e6e6c7f4dffb54d17396bbfaa30": {
      "model_module": "@jupyter-widgets/output",
      "model_module_version": "1.0.0",
      "model_name": "OutputModel",
      "state": {
       "layout": "IPY_MODEL_14183ceb6c2f4e7191cd56f8f4d75267",
       "outputs": [
        {
         "name": "stdout",
         "output_type": "stream",
         "text": "SPL: 200.0 dB re 1 μPa → Voltage: 0.0000158 V\n"
        }
       ]
      }
     },
     "d0120078637e4a9abfad05d29b8b9db7": {
      "model_module": "@jupyter-widgets/base",
      "model_module_version": "2.0.0",
      "model_name": "LayoutModel",
      "state": {
       "width": "400px"
      }
     },
     "d4f4355ab4d5426ca6208d1e4635a153": {
      "model_module": "@jupyter-widgets/controls",
      "model_module_version": "2.0.0",
      "model_name": "FloatSliderModel",
      "state": {
       "behavior": "drag-tap",
       "description": "SPL (dB re 1 μPa)",
       "layout": "IPY_MODEL_73d974c5a7de4689b731c0c209b62d77",
       "max": 220,
       "min": 180,
       "step": 0.5,
       "style": "IPY_MODEL_4e4f86b28eb94656b2886c7b8d875c76",
       "value": 200
      }
     },
     "d556e164f5a6426ea9829b0a1b54c0c4": {
      "model_module": "@jupyter-widgets/base",
      "model_module_version": "2.0.0",
      "model_name": "LayoutModel",
      "state": {}
     },
     "d5b79a2afab540869c8e54ae8dd18f42": {
      "model_module": "@jupyter-widgets/controls",
      "model_module_version": "2.0.0",
      "model_name": "SliderStyleModel",
      "state": {
       "description_width": "initial"
      }
     },
     "d5cca63197154de289e589be52f02ea0": {
      "model_module": "@jupyter-widgets/controls",
      "model_module_version": "2.0.0",
      "model_name": "VBoxModel",
      "state": {
       "_dom_classes": [
        "widget-interact"
       ],
       "children": [
        "IPY_MODEL_8c89e6870cea43b998b6489ae54b3c3f",
        "IPY_MODEL_a78ecd3d01fc4d4c96d7c8207db2a923",
        "IPY_MODEL_e3164afd13b04a8daff450b6a15a9fff",
        "IPY_MODEL_4111c03d3ee346488bea8b4c8b58cd00"
       ],
       "layout": "IPY_MODEL_d556e164f5a6426ea9829b0a1b54c0c4"
      }
     },
     "d8f5ae6d75584fb68b23b8ea8d36ae19": {
      "model_module": "@jupyter-widgets/controls",
      "model_module_version": "2.0.0",
      "model_name": "FloatSliderModel",
      "state": {
       "behavior": "drag-tap",
       "description": "Gain (dB)",
       "layout": "IPY_MODEL_611e5ef1a73147fcb925ce2b59786ba6",
       "max": 60,
       "style": "IPY_MODEL_ff5b7a811a9747d88eca841e24da16e9"
      }
     },
     "dac3480a980b4bdd8af2b03c6ec3ffc9": {
      "model_module": "@jupyter-widgets/base",
      "model_module_version": "2.0.0",
      "model_name": "LayoutModel",
      "state": {}
     },
     "db4884db466e4cce90c747eacdf75ee6": {
      "model_module": "@jupyter-widgets/controls",
      "model_module_version": "2.0.0",
      "model_name": "VBoxModel",
      "state": {
       "_dom_classes": [
        "widget-interact"
       ],
       "children": [
        "IPY_MODEL_a9e64f77409244ab8086f5d6d90e13b3",
        "IPY_MODEL_500d5d0350704f31bbe8970e7eba1cc8",
        "IPY_MODEL_6f415443d85c4d39b2833ec6a4424cd0",
        "IPY_MODEL_736595daefbc4fb8ae04c598b9edcd0b"
       ],
       "layout": "IPY_MODEL_4f2bb7c915604510a119b0b006fc23c0"
      }
     },
     "de773c8826d54ee58e2507afe24c6b01": {
      "model_module": "@jupyter-widgets/base",
      "model_module_version": "2.0.0",
      "model_name": "LayoutModel",
      "state": {
       "width": "400px"
      }
     },
     "df1f700e61e94c9c9717b0f5f6ad0c6f": {
      "model_module": "@jupyter-widgets/base",
      "model_module_version": "2.0.0",
      "model_name": "LayoutModel",
      "state": {}
     },
     "e3164afd13b04a8daff450b6a15a9fff": {
      "model_module": "@jupyter-widgets/controls",
      "model_module_version": "2.0.0",
      "model_name": "FloatSliderModel",
      "state": {
       "behavior": "drag-tap",
       "description": "Gain (dB)",
       "layout": "IPY_MODEL_65a8ea40e91f44829cfd850ce2095807",
       "max": 60,
       "style": "IPY_MODEL_0f7b6c722b644bc489d9d82a114df4e9"
      }
     },
     "e6b63a7e8df449d0a5f30968b1d66359": {
      "model_module": "@jupyter-widgets/controls",
      "model_module_version": "2.0.0",
      "model_name": "VBoxModel",
      "state": {
       "_dom_classes": [
        "widget-interact"
       ],
       "children": [
        "IPY_MODEL_798b3b4bd96b4d5ebfd8ccc2882bc136",
        "IPY_MODEL_75b6d00c582142249883e2b7aa72ed25",
        "IPY_MODEL_3fef9030f11a44779e7bbe523f6fa85c",
        "IPY_MODEL_6a0d4d75980b42de9c5c2775e1d6b671"
       ],
       "layout": "IPY_MODEL_bacc55ba0d2943ee829550d666ed245c"
      }
     },
     "e6c6ef72896e4a968681c524e2a02150": {
      "model_module": "@jupyter-widgets/base",
      "model_module_version": "2.0.0",
      "model_name": "LayoutModel",
      "state": {
       "width": "400px"
      }
     },
     "e9942128dc474e17b9802082ac3aec38": {
      "model_module": "@jupyter-widgets/base",
      "model_module_version": "2.0.0",
      "model_name": "LayoutModel",
      "state": {
       "width": "400px"
      }
     },
     "ea18e4257a2c421999a28171233985ba": {
      "model_module": "@jupyter-widgets/base",
      "model_module_version": "2.0.0",
      "model_name": "LayoutModel",
      "state": {
       "width": "400px"
      }
     },
     "f058736e482640528490bd5dd27fbaad": {
      "model_module": "@jupyter-widgets/controls",
      "model_module_version": "2.0.0",
      "model_name": "SliderStyleModel",
      "state": {
       "description_width": "initial"
      }
     },
     "f30e3cc20c264e7e90b383456077126b": {
      "model_module": "@jupyter-widgets/base",
      "model_module_version": "2.0.0",
      "model_name": "LayoutModel",
      "state": {
       "width": "400px"
      }
     },
     "f3bfd9f13de947c7800be98d0885f0f6": {
      "model_module": "@jupyter-widgets/controls",
      "model_module_version": "2.0.0",
      "model_name": "SliderStyleModel",
      "state": {
       "description_width": "initial"
      }
     },
     "f6fcecd7bb974a62aba8e782b9bdba75": {
      "model_module": "@jupyter-widgets/controls",
      "model_module_version": "2.0.0",
      "model_name": "SliderStyleModel",
      "state": {
       "description_width": "initial"
      }
     },
     "ff5b7a811a9747d88eca841e24da16e9": {
      "model_module": "@jupyter-widgets/controls",
      "model_module_version": "2.0.0",
      "model_name": "SliderStyleModel",
      "state": {
       "description_width": "initial"
      }
     }
    },
    "version_major": 2,
    "version_minor": 0
   }
  }
 },
 "nbformat": 4,
 "nbformat_minor": 4
}
