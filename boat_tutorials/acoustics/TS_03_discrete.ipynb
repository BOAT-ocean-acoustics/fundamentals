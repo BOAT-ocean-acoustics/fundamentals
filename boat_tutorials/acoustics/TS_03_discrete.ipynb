{
 "cells": [
  {
   "cell_type": "markdown",
   "metadata": {
    "editable": true,
    "slideshow": {
     "slide_type": ""
    },
    "tags": []
   },
   "source": [
    "(acoustics-scattering_discrete)=\n",
    "# Discrete scatterers"
   ]
  },
  {
   "cell_type": "markdown",
   "metadata": {},
   "source": [
    "(acoustics-scattering_discrete_why)=\n",
    "## What are discrete scatterers and why they matter\n",
    "\n",
    "We call something a **discrete scatterer** when we consider their scattering response by itself. Discrete scatterers are extremely useful, because not only can we model individual _things_ in the ocean—a bubble, oil droplet, sand, fish, krill, whale, or even a submarine—as discrete scatterers, we can also model the combined scattering from a group of these things as a _collection_ of discrete scatterers. This allows us to build up models for more complex scenarios, like a patch of seafloor or sea surface, a cloud of bubbles or a school of fish."
   ]
  },
  {
   "cell_type": "markdown",
   "metadata": {},
   "source": [
    "(acoustics-scattering_discrete_point)=\n",
    "### Point scatterer\n",
    "\n",
    "The simplest discrete scatterer is a **point scatterer**, which is very small and can be thought of as _a new sound source_ that radiates sound after it is excited by the incident waves. This is nice, because we can immdiately apply many concepts we have learned about the [acoustic sources](acoustics-source) here.\n",
    "\n",
    "A point scatterer to be **omnidirectional**, meaning that it scatters echoes equally in all directions. Regardless of the directions of the incident sound and the receiver, the echo would always be the same.\n",
    "\n",
    "A point scatterer can also be **directional**, meaning that it scatter sounds differently depending on the direcitons of the incident sound and the receiver. Most objects in the natural world are directional scatterers. We will explore the scatterer directionality more in the [](acoustics-scattering_discrete_orientation) section below."
   ]
  },
  {
   "cell_type": "markdown",
   "metadata": {},
   "source": [
    "(acoustics-scattering_discrete_size)=\n",
    "## Size dependency"
   ]
  },
  {
   "cell_type": "markdown",
   "metadata": {
    "jp-MarkdownHeadingCollapsed": true
   },
   "source": [
    "(acoustics-scattering_discrete_ka)=\n",
    "### The mighty $ka$\n",
    "\n",
    "When we talk about the size of a scatterer, we are really taking about the **relative** size of a scatterer with respect to the acoustic wavelength. We often use a _dimensionless_ number, $ka$, to quantify the relative size. Here, \n",
    "- $k=2\\pi/\\lambda$ is the **acoustic wavenumber**, which is represents the [phase](acoustics-receiver_phase) within a wavelength, and \n",
    "- $a$ is the **characteristic dimension** of a scatterer, such as the radius of a sphere or the length of a cylinder.\n",
    "\n",
    "$ka$ is dimensionless, because both $\\lambda$ and $a$ are length measures with units of $\\textrm{m}$. This allows us to easily compare the echo reponse of a large scatterer at low frquency and a small scatterer at high frequency, not based on the absolute size of the scatterer, but based on the ratio between wavelength and scatterer size."
   ]
  },
  {
   "cell_type": "markdown",
   "metadata": {},
   "source": [
    "(acoustics-scattering_discrete_regime)=\n",
    "### scattering regimes\n",
    "\n",
    "The scattering response of a given scatterer can be generally described based on the scattering regimes across frequency:\n",
    "\n",
    "In the **Rayleigh** regime, the acoustic wavelength is very large compared to the scatterer ($ka\\ll1$), and the scattering is dominated by diffraction. Here, the exact shape of the scatterer is often not as critical in determining the scattering response, and the scattering cross section scales with frequency with a steep slope proportional to $(ka)^4$.\n",
    "\n",
    "In the **geometric** regime, the acoustic wavelength is small compared to the scatterer ($ka\\gg1$), and the scattering is dominated by reflection. Here, the scattering cross section typically oscillates around a high-frequency limit, with deep spectral nulls due to interference from surface waves or other reflections within the target depending on its material properties."
   ]
  },
  {
   "cell_type": "markdown",
   "metadata": {},
   "source": [
    "The figures below show the target strength of a solid tungsten carbide sphere plotted in both linear and log scale on the x-axis. Such spheres are commonly used for calibrating high-frequency sonar systems, since its scattering response can be accurately modeled. On log-scale plot (left), we can easily see the $(ka)^4$ dependency of the Rayleigh regime; on the linear-scale plot (right), we can find frequency sections where the TS does not vary rapidly, which are useful for calibration."
   ]
  },
  {
   "cell_type": "markdown",
   "metadata": {},
   "source": [
    "```{image} ../images/wc381_TS_xlog.png\n",
    ":width: 600px\n",
    "```\n",
    "\n",
    "```{image} ../images/wc381_TS_xlin.png\n",
    ":width: 600px\n",
    "```"
   ]
  },
  {
   "cell_type": "markdown",
   "metadata": {},
   "source": [
    ":::{admonition} Exercise\n",
    "Look at the linear-scale plot, can you guess why it is usually not recommended to calibrate a system with transmit frequencies near one of the TS spectral nulls?\n",
    ":::"
   ]
  },
  {
   "cell_type": "markdown",
   "metadata": {},
   "source": [
    "(acoustics-scattering_discrete_size_material)=\n",
    "## Influence of material properties\n",
    "\n",
    "Scattering phenomena can depend strongly on the material properties of the scatterers. The figure below shows the TS of spheres of the same size but different material properties:\n",
    "- Bubbles, or any scatterers that include a compressible air cavity, can **resonate** in the $ka\\ll1$ region, producing scattering signals much stronger than similarly sized objects without air.\n",
    "- Scatterer is made of materials very similar to the surrounding water medium (\"fluid-like\") allows sound to easily transmit and reflect through, causing regular interference patterns seen on the spectrum.\n",
    "- Scatterers made of dense materials, such as steel or tungsten carbide we saw above, support complex surface waves that cause interference and result in complex patterns on the spectrum."
   ]
  },
  {
   "cell_type": "markdown",
   "metadata": {},
   "source": [
    "```{image} ../images/scatterer_3type_xlog.png\n",
    ":width: 600px\n",
    "```\n",
    "\n",
    "```{image} ../images/scatterer_3type_xlin.png\n",
    ":width: 600px\n",
    "```"
   ]
  },
  {
   "cell_type": "markdown",
   "metadata": {},
   "source": [
    "### Exercise\n",
    "\n",
    "To get an intuitive feel of how the echoes change depending on the scatterer, use the widget below to answer the following questions:\n",
    "\n",
    "For the gas bubble:\n",
    "- How does the resonance frequency change as a function of bubble size?\n",
    "- What is the approximate size of a bubble that gives a resonance around 10 Hz?\n",
    "\n",
    "For the fluid sphere:\n",
    "- How does the spectral interference pattern change as a function of sphere size?\n",
    "- Know that the response of a fluid sphere is composed primarily of echoes from its front and back interface, can you guess why the spectral pattern vary that way?"
   ]
  },
  {
   "cell_type": "code",
   "execution_count": 3,
   "metadata": {
    "editable": true,
    "slideshow": {
     "slide_type": ""
    },
    "tags": [
     "hide-input"
    ]
   },
   "outputs": [],
   "source": [
    "import numpy as np\n",
    "import matplotlib.pyplot as plt\n",
    "from scipy.special import spherical_jn, spherical_yn\n",
    "\n",
    "import matplotlib\n",
    "matplotlib.use('module://matplotlib_inline.backend_inline')\n",
    "\n",
    "import ipywidgets as widgets\n",
    "\n",
    "from IPython.display import display, HTML"
   ]
  },
  {
   "cell_type": "code",
   "execution_count": 9,
   "metadata": {
    "editable": true,
    "slideshow": {
     "slide_type": ""
    },
    "tags": [
     "hide-input"
    ]
   },
   "outputs": [],
   "source": [
    "def Pn(n: int, x: np.array):\n",
    "    if np.max(np.abs(x)) > 1:\n",
    "        raise ValueError(\"|x| must be smaller than 1!\")\n",
    "\n",
    "    pn = np.zeros((x.size, n + 1))\n",
    "    pn[:, 0] = 1\n",
    "    if n >= 1:\n",
    "        pn[:, 1] = x\n",
    "\n",
    "    for nn in range(1, n):\n",
    "        pn[:, nn + 1] = ((2 * nn + 1) * x * pn[:, nn] - nn * pn[:, nn - 1]) / (nn + 1)\n",
    "\n",
    "    return pn[:, n]\n",
    "    \n",
    "def fluid_fs(scale, out_flag, para):\n",
    "    DEG2RAD = np.pi / 180\n",
    "    ns, x0, xe, g, h = para[:5]\n",
    "    \n",
    "    # Create ka array\n",
    "    if scale == 1:\n",
    "        ka1 = np.linspace(x0, xe, ns)\n",
    "    else:\n",
    "        ka1 = np.logspace(np.log10(x0), np.log10(xe), ns)\n",
    "\n",
    "    # Determine max mode\n",
    "    if len(para) < 7:\n",
    "        Nmax = round(np.max(ka1)) + 10\n",
    "    else:\n",
    "        Nmax = para[6]\n",
    "\n",
    "    ka2 = ka1 / h\n",
    "    m = len(ka1)\n",
    "    theta = para[5] * DEG2RAD\n",
    "    x = np.cos(theta)\n",
    "\n",
    "    n = np.arange(Nmax)\n",
    "    nl = 2 * n + 1\n",
    "\n",
    "    # Compute Legendre polynomials Pn(x)\n",
    "    pn1 = np.array([Pn(ni, x) for ni in n]).squeeze()\n",
    "\n",
    "    # Bessel functions and derivatives\n",
    "    jn1 = np.array([spherical_jn(ni, ka1) for ni in n])  # shape (Nmax, m)\n",
    "    yn1 = np.array([spherical_yn(ni, ka1) for ni in n])\n",
    "    djn1 = np.array([spherical_jn(ni, ka1, derivative=True) for ni in n])\n",
    "    dyn1 = np.array([spherical_yn(ni, ka1, derivative=True) for ni in n])\n",
    "\n",
    "    jn2 = np.array([spherical_jn(ni, ka2) for ni in n])\n",
    "    djn2 = np.array([spherical_jn(ni, ka2, derivative=True) for ni in n])\n",
    "\n",
    "    # Avoid division warnings\n",
    "    with np.errstate(divide='ignore', invalid='ignore'):\n",
    "        term1 = djn2 * yn1 / (jn2 * djn1) - g * h * dyn1 / djn1\n",
    "        term2 = djn2 * jn1 / (jn2 * djn1) - g * h\n",
    "        cn = term1 / term2\n",
    "        bn = -1 / (1 + 1j * cn)\n",
    "\n",
    "    # Form function f and amplitude S\n",
    "    f = np.zeros(m, dtype=complex)\n",
    "    # S = np.zeros((m, Nmax), dtype=complex)\n",
    "    for mm in range(m):\n",
    "        s = nl * pn1 * bn[:, mm]\n",
    "        f[mm] = np.sum(s)\n",
    "        # S[mm, :] = s / ka1[mm]\n",
    "\n",
    "    outx = ka1\n",
    "    # Choose output based on out_flag\n",
    "    if out_flag == 1:\n",
    "        outy = np.abs(2 * f / ka1)  # Modulus of form function\n",
    "    elif out_flag == 2:\n",
    "        outy = -1j * 2 * f / ka1  # Complex form function\n",
    "    elif out_flag == 3:\n",
    "        outy = np.abs(f) / (np.sqrt(np.pi) * ka1)  # Modulus of normalized scattering amplitude\n",
    "    elif out_flag == 4:\n",
    "        outy = -1j * f / (np.sqrt(np.pi) * ka1)  # Complex normalized scattering amplitude\n",
    "    else:\n",
    "        raise ValueError(\"Invalid out_flag value.\")\n",
    "\n",
    "    return outx, outy"
   ]
  },
  {
   "cell_type": "code",
   "execution_count": 11,
   "metadata": {
    "editable": true,
    "slideshow": {
     "slide_type": ""
    },
    "tags": [
     "hide-input"
    ]
   },
   "outputs": [
    {
     "data": {
      "application/vnd.jupyter.widget-view+json": {
       "model_id": "ae4f8f4487a247ce8051af78462d51c7",
       "version_major": 2,
       "version_minor": 0
      },
      "text/plain": [
       "interactive(children=(FloatSlider(value=0.5, description='Bubble radius (m)', layout=Layout(width='400px'), ma…"
      ]
     },
     "metadata": {},
     "output_type": "display_data"
    }
   ],
   "source": [
    "para_bubble = [1000, 0.001, 25, 0.0012, 0.22, 180]  # bubble at surface\n",
    "para_fluid = [1000, 0.001, 25, 1.026, 1.017, 180]  # fluid sphere\n",
    "scale = 2\n",
    "out_flag = 2  # complex form function\n",
    "\n",
    "\n",
    "def plot_TS(radius_bubble, radius_fluid, xscale_type):\n",
    "    freq_bubble = ka_bubble * c / (radius_bubble * 2 * np.pi)\n",
    "    freq_fluid = ka_fluid * c / (radius_fluid * 2 * np.pi)\n",
    "    TS_bubble = 20 * np.log10(np.abs(fm_bubble) * radius_bubble/2)\n",
    "    TS_fluid = 20 * np.log10(np.abs(fm_fluid) * radius_fluid/2)\n",
    "\n",
    "    plt.figure(figsize=(6, 4))\n",
    "    plt.plot(freq_bubble, TS_bubble, lw=1.5, label=\"Gas bubble\")\n",
    "    plt.plot(freq_fluid, TS_fluid, lw=1.5, label=\"Fluid sphere\")\n",
    "    if xscale_type == \"log\":\n",
    "        plt.xlim(np.log10(23), 6e3)\n",
    "        plt.xscale(\"log\")\n",
    "    else:\n",
    "        plt.xlim(0, 6e3)\n",
    "    plt.ylim(-100, 40)\n",
    "    plt.xlabel(\"Frequency (Hz)\")\n",
    "    plt.ylabel(\"TS (dB)\")\n",
    "    plt.legend(loc=\"upper right\")\n",
    "    plt.title(\"Scattering from a gas bubble and a fluid sphere\")\n",
    "    plt.show()\n",
    "\n",
    "\n",
    "radius_bubble_slider = widgets.FloatSlider(\n",
    "    min=0.2,\n",
    "    max=1,\n",
    "    step=0.01,\n",
    "    value=0.5,  # default value\n",
    "    description=\"Bubble radius (m)\",\n",
    "    style={'description_width': 'initial'},\n",
    "    layout=widgets.Layout(width=\"400px\"),\n",
    "    continuous_update=True\n",
    ")\n",
    "\n",
    "radius_fluid_slider = widgets.FloatSlider(\n",
    "    min=0.2,\n",
    "    max=1,\n",
    "    step=0.01,\n",
    "    value=0.5,  # default value\n",
    "    description=\"Fluid sphere radius (m)\",\n",
    "    style={'description_width': 'initial'},\n",
    "    layout=widgets.Layout(width=\"400px\"),\n",
    "    continuous_update=True\n",
    ")\n",
    "\n",
    "xscale_radio = widgets.RadioButtons(\n",
    "    options=[\"linear\", \"log\"],\n",
    "    value=\"log\",  # default selected\n",
    "    description=\"X-axis scale\",\n",
    "    disabled=False,\n",
    "    style={'description_width': 'initial'},\n",
    ")\n",
    "\n",
    "\n",
    "ka_bubble, fm_bubble = fluid_fs(scale, out_flag, para_bubble)\n",
    "ka_fluid, fm_fluid = fluid_fs(scale, out_flag, para_fluid)\n",
    "\n",
    "c = 1500  # medium sound speed [m/s]\n",
    "\n",
    "\n",
    "interactive_plot = widgets.interactive(\n",
    "    plot_TS, \n",
    "    radius_bubble=radius_bubble_slider, \n",
    "    radius_fluid=radius_fluid_slider,\n",
    "    xscale_type=xscale_radio)\n",
    "display(interactive_plot)"
   ]
  },
  {
   "cell_type": "code",
   "execution_count": null,
   "metadata": {},
   "outputs": [],
   "source": []
  },
  {
   "cell_type": "code",
   "execution_count": null,
   "metadata": {},
   "outputs": [],
   "source": []
  },
  {
   "cell_type": "markdown",
   "metadata": {
    "editable": true,
    "slideshow": {
     "slide_type": ""
    },
    "tags": []
   },
   "source": [
    "In practice, how do we apply these concepts to interpret echo data? Even though simple geometrical shapes like spheres or spheroids are rare in nature, they are often pretty good approximations to many discrete scatterers in the ocean. For example, we can model the fish swimbladder as an air-filled sphere or spheroid, and model a krill as an fluid spheroid or cylinder. By observing how the echo spectrum changes across frequency, we can make inference about the type of animals that produced the echoes."
   ]
  },
  {
   "cell_type": "markdown",
   "metadata": {},
   "source": [
    "```{Tip}\n",
    ":class: tip\n",
    "Check out the [](acoustics-scattering_inference) section to try interpreting an [\"echogram!\"](acoustics-scattering_echogram)\n",
    "```"
   ]
  },
  {
   "cell_type": "markdown",
   "metadata": {
    "editable": true,
    "slideshow": {
     "slide_type": ""
    },
    "tags": []
   },
   "source": [
    "(acoustics-scattering_discrete_orientation)=\n",
    "### Orientation dependence\n",
    "\n",
    "What if we actually consider the non-spherical nature of most objects in nature? In that case, the echoes would indeed vary depending on the direction sound impinges on the scatterer. This is especailly when $ka$ is high and the wavelength is relatively short compared to the scatterer size, such that sound scattered from different part of the scatterer would induce stronger constructive and destructive interference patterns in different directions. This is the same concept as discussed in the [acoustic sources](acoustics-source) section, where higher $ka$ means a more directional beampattern.\n",
    "\n",
    "To get an idea of how this directionality may look like, try the widget below and see how the TS magnitude and spectral features of a fluid spheroid change depending on the incident sound direction."
   ]
  },
  {
   "cell_type": "markdown",
   "metadata": {},
   "source": [
    ":::{admonition} Exercise\n",
    "Thinking back on what you learned about [phase difference and interference between waves](acoustics-receiver_directionality_interference), can you infer why given the same wavelength, a smaller scatterer is less directional in its echo response compared to a larger scatterer?\n",
    ":::"
   ]
  },
  {
   "cell_type": "code",
   "execution_count": 7,
   "metadata": {
    "editable": true,
    "slideshow": {
     "slide_type": ""
    },
    "tags": [
     "hide-input"
    ]
   },
   "outputs": [],
   "source": [
    "def dwba_prolate_spheroid(L, a, g, h, ka, phi):\n",
    "    \"\"\"\n",
    "    DWBA solution for a fluid prolate spheroid.\n",
    "    \n",
    "    Parameters:\n",
    "        L   : Length of spheroid (long axis)\n",
    "        a   : Radius of spheroid (short axis)\n",
    "        g   : rho2/rho1\n",
    "        h   : c2/c1\n",
    "        ka  : dimensionless wavenumber * radius (can be array)\n",
    "        phi : incident angle in radians\n",
    "\n",
    "    Returns:\n",
    "        fbs      : complex backscattering amplitude\n",
    "        sigmabs  : backscattering cross-section (abs squared)\n",
    "        TS       : target strength in dB\n",
    "    \"\"\"\n",
    "\n",
    "    Cb = 1 / (g * h**2) + 1 / g - 2  # gamma_kappa - gamma_rho\n",
    "\n",
    "    beta = phi + np.pi / 2\n",
    "    ka = np.atleast_1d(ka)  # ensure ka is array\n",
    "\n",
    "    # Argument inside spherical Bessel function\n",
    "    sin2 = np.sin(beta)**2\n",
    "    cos2 = np.cos(beta)**2\n",
    "    ellip_term = np.sqrt(sin2 + ((L / (2 * a))**2) * cos2)\n",
    "    arg = 2 * ka / h * ellip_term\n",
    "\n",
    "    j1 = spherical_jn(1, arg)\n",
    "\n",
    "    fbs = (ka**2) * L * Cb / 2 * j1 / arg\n",
    "\n",
    "    return fbs"
   ]
  },
  {
   "cell_type": "code",
   "execution_count": 8,
   "metadata": {
    "editable": true,
    "slideshow": {
     "slide_type": ""
    },
    "tags": [
     "hide-input"
    ]
   },
   "outputs": [
    {
     "data": {
      "application/vnd.jupyter.widget-view+json": {
       "model_id": "f97573f57dda4973a455ad8828454ceb",
       "version_major": 2,
       "version_minor": 0
      },
      "text/plain": [
       "interactive(children=(SelectionSlider(description='Incident angle (deg)', options=(np.int64(0), np.int64(1), n…"
      ]
     },
     "metadata": {},
     "output_type": "display_data"
    }
   ],
   "source": [
    "a = 0.015\n",
    "L = a * 6\n",
    "g = 1.043\n",
    "h = 1.053\n",
    "c = 1500\n",
    "\n",
    "freq = np.arange(100, 100e3, 10)\n",
    "ka = 2*np.pi*freq / c * a\n",
    "\n",
    "def update_dwba(angle, xscale_type):\n",
    "\n",
    "    phi = np.deg2rad(angle)  # incident angle in radians (e.g., backscatter)\n",
    "    fbs = dwba_prolate_spheroid(L, a, g, h, ka, phi)\n",
    "    TS = 20*np.log10(np.abs(fbs))\n",
    "\n",
    "    plt.figure(figsize=(5,3.5))\n",
    "    plt.plot(freq/1e3, TS)\n",
    "    if xscale_type == \"log\":\n",
    "        plt.xscale(\"log\")\n",
    "    plt.xlim(500/1e3, 100e3/1e3)\n",
    "    plt.ylim(-120, -50)\n",
    "    plt.xlabel(\"Frequency (kHz)\")\n",
    "    plt.ylabel(\"TS (dB)\")\n",
    "    plt.title(\"Scattering from a fluid prolate spheroid\")\n",
    "    plt.show\n",
    "\n",
    "\n",
    "# rr = np.hstack(((np.arange(5, 10, 1)/100), np.arange(1, 10, 1)/10))\n",
    "aa = np.arange(0, 91, 1)\n",
    "angle_slider = widgets.SelectionSlider(\n",
    "    options=aa,\n",
    "    value=0,  # default value\n",
    "    description=\"Incident angle (deg)\",\n",
    "    style={'description_width': 'initial'},\n",
    "    continuous_update=True\n",
    ")\n",
    "\n",
    "xscale_radio = widgets.RadioButtons(\n",
    "    options=[\"linear\", \"log\"],\n",
    "    value=\"linear\",  # default selected\n",
    "    description=\"X-axis type\",\n",
    "    disabled=False,\n",
    "    style={'description_width': 'initial'}\n",
    ")\n",
    "\n",
    "interactive_plot = widgets.interactive(\n",
    "    update_dwba, angle=angle_slider, xscale_type=xscale_radio)\n",
    "display(interactive_plot)"
   ]
  },
  {
   "cell_type": "markdown",
   "metadata": {
    "editable": true,
    "slideshow": {
     "slide_type": ""
    },
    "tags": []
   },
   "source": [
    "## Inferring scatterer identity"
   ]
  },
  {
   "cell_type": "markdown",
   "metadata": {},
   "source": [
    "\n",
    "<!-- which we will explore in the [surface](acoustics-scattering_surface) and [volume](acoustics-scattering_volume) scattering sections.\n",
    " -->\n",
    " \n",
    "Once we know how different types of objects scatterer sound, we can also use that knowledge to interpret the echo signals we receive and infer the potential scattering sources. In cases when we already know or are very confident of what the scatterers are, we can even go one step further, to estimate things like the size, shape, or material composition of the scatterers based on the spectral, temporal, or statistical features of the echoes.\n",
    "\n",
    "As an introduction, here we will focus on discussing echoes in the backscattering direction in the [monostatic](acoustics-scattering_monostatic_bistatic) scenario."
   ]
  },
  {
   "cell_type": "markdown",
   "metadata": {},
   "source": [
    "Seeing how the TS spectrum can change with both material properties, shape, and incident angle even for simple scatterers such as spheres and spheroid, it is natural to imagine that we can use these features to infer the dominant scattering mechanisms and scatterer identity. \"Acoustic color\"—the strength of echo as a function of angle and frequency as shown in the fig below—is one such feature that has been used widely to distinguish different types of scatterer underwater."
   ]
  },
  {
   "cell_type": "markdown",
   "metadata": {},
   "source": [
    "```{image} ../images/acoustic_color.gif\n",
    ":width: 600px\n",
    "```"
   ]
  },
  {
   "cell_type": "code",
   "execution_count": null,
   "metadata": {},
   "outputs": [],
   "source": []
  }
 ],
 "metadata": {
  "kernelspec": {
   "display_name": "Python 3 (ipykernel)",
   "language": "python",
   "name": "python3"
  },
  "language_info": {
   "codemirror_mode": {
    "name": "ipython",
    "version": 3
   },
   "file_extension": ".py",
   "mimetype": "text/x-python",
   "name": "python",
   "nbconvert_exporter": "python",
   "pygments_lexer": "ipython3",
   "version": "3.12.9"
  },
  "widgets": {
   "application/vnd.jupyter.widget-state+json": {
    "state": {
     "0718a9e492a4429c9db3cc59afb623e9": {
      "model_module": "@jupyter-widgets/base",
      "model_module_version": "2.0.0",
      "model_name": "LayoutModel",
      "state": {}
     },
     "09afb66fae14427ca9c7c4705fd45ac4": {
      "model_module": "@jupyter-widgets/base",
      "model_module_version": "2.0.0",
      "model_name": "LayoutModel",
      "state": {}
     },
     "0bd94de3c2714ab2a488cd5607d03c63": {
      "model_module": "@jupyter-widgets/controls",
      "model_module_version": "2.0.0",
      "model_name": "VBoxModel",
      "state": {
       "_dom_classes": [
        "widget-interact"
       ],
       "children": [
        "IPY_MODEL_740c21b83ddd4aeab4a450945912ee44",
        "IPY_MODEL_cb45e0fdfbba46bea971b9a79f655dd0",
        "IPY_MODEL_7336f6fa7eee4e7f99cd0e849219a58e",
        "IPY_MODEL_0f6a314c345d4dbd96615f154778bbc1"
       ],
       "layout": "IPY_MODEL_98a0ade26d00436c963747d48b20dffa"
      }
     },
     "0f6a314c345d4dbd96615f154778bbc1": {
      "model_module": "@jupyter-widgets/output",
      "model_module_version": "1.0.0",
      "model_name": "OutputModel",
      "state": {
       "layout": "IPY_MODEL_f33a8eeccf674f2c8c8f9c23837966b8",
       "outputs": [
        {
         "data": {
          "image/png": "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",
          "text/plain": "<Figure size 600x400 with 1 Axes>"
         },
         "metadata": {},
         "output_type": "display_data"
        }
       ]
      }
     },
     "0f7f40bfe555484eb33dd00a3b3b769f": {
      "model_module": "@jupyter-widgets/controls",
      "model_module_version": "2.0.0",
      "model_name": "RadioButtonsModel",
      "state": {
       "_options_labels": [
        "linear",
        "log"
       ],
       "description": "X-axis scale",
       "index": 1,
       "layout": "IPY_MODEL_eeb137797ded46f28adc1e20872c8ea5",
       "style": "IPY_MODEL_9e333c99501b4b9ea050a09d56b8b6c6"
      }
     },
     "17d712a7f10b4fcc947c78971c8a8aa6": {
      "model_module": "@jupyter-widgets/controls",
      "model_module_version": "2.0.0",
      "model_name": "FloatSliderModel",
      "state": {
       "behavior": "drag-tap",
       "description": "Fluid sphere radius (m)",
       "layout": "IPY_MODEL_a558ee5de0d743c898b0832e606740c5",
       "max": 1,
       "min": 0.2,
       "step": 0.01,
       "style": "IPY_MODEL_6c6e3beccb924a8d925e35795e47e892",
       "value": 0.5
      }
     },
     "1baa894b56f24bc498413fb9264daa4c": {
      "model_module": "@jupyter-widgets/base",
      "model_module_version": "2.0.0",
      "model_name": "LayoutModel",
      "state": {}
     },
     "1bb3e4b5215142f3a9009ccb1f5e30e3": {
      "model_module": "@jupyter-widgets/controls",
      "model_module_version": "2.0.0",
      "model_name": "RadioButtonsModel",
      "state": {
       "_options_labels": [
        "linear",
        "log"
       ],
       "description": "X-axis scale",
       "index": 0,
       "layout": "IPY_MODEL_9c7f3f0d72534d4f8c8072ed54e1232c",
       "style": "IPY_MODEL_719e35f33b68421484535355187e43db"
      }
     },
     "1d3ffbd152ae41fe90f681693c5741a4": {
      "model_module": "@jupyter-widgets/controls",
      "model_module_version": "2.0.0",
      "model_name": "SliderStyleModel",
      "state": {
       "description_width": "initial"
      }
     },
     "1f8d58542aab4e3f89b2d2794e2ea5f3": {
      "model_module": "@jupyter-widgets/controls",
      "model_module_version": "2.0.0",
      "model_name": "SliderStyleModel",
      "state": {
       "description_width": "initial"
      }
     },
     "26f477a550a7448390d180af4276493f": {
      "model_module": "@jupyter-widgets/output",
      "model_module_version": "1.0.0",
      "model_name": "OutputModel",
      "state": {
       "layout": "IPY_MODEL_f74bee726d924fe8a790c16cd66784f5",
       "outputs": [
        {
         "data": {
          "image/png": "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",
          "text/plain": "<Figure size 600x400 with 1 Axes>"
         },
         "metadata": {},
         "output_type": "display_data"
        }
       ]
      }
     },
     "2baed2263c9b4deaa3e6d0a578d4f402": {
      "model_module": "@jupyter-widgets/controls",
      "model_module_version": "2.0.0",
      "model_name": "SliderStyleModel",
      "state": {
       "description_width": "initial"
      }
     },
     "384fa51429a849e6bf0eb158943940ce": {
      "model_module": "@jupyter-widgets/base",
      "model_module_version": "2.0.0",
      "model_name": "LayoutModel",
      "state": {}
     },
     "39ff115171664040a150ec653326bd98": {
      "model_module": "@jupyter-widgets/base",
      "model_module_version": "2.0.0",
      "model_name": "LayoutModel",
      "state": {
       "width": "400px"
      }
     },
     "3b6c3a5beecf4195a81d774e3e71dff7": {
      "model_module": "@jupyter-widgets/controls",
      "model_module_version": "2.0.0",
      "model_name": "FloatSliderModel",
      "state": {
       "behavior": "drag-tap",
       "description": "Bubble radius (m)",
       "layout": "IPY_MODEL_df276b5e88c74d6aad878d6f21df33c0",
       "max": 1,
       "min": 0.2,
       "step": 0.01,
       "style": "IPY_MODEL_1d3ffbd152ae41fe90f681693c5741a4",
       "value": 0.27
      }
     },
     "460ac158e7054b1db0ef5f5e7dc33fdf": {
      "model_module": "@jupyter-widgets/base",
      "model_module_version": "2.0.0",
      "model_name": "LayoutModel",
      "state": {}
     },
     "49997f923d3b4c5080e53a8392d25e0c": {
      "model_module": "@jupyter-widgets/controls",
      "model_module_version": "2.0.0",
      "model_name": "FloatSliderModel",
      "state": {
       "behavior": "drag-tap",
       "description": "Fluid sphere radius (m)",
       "layout": "IPY_MODEL_779bc72abb194c13b96b8ae6686e0f3b",
       "max": 1,
       "min": 0.2,
       "step": 0.01,
       "style": "IPY_MODEL_9ee45b95893c4e978e52475a721bea8f",
       "value": 0.66
      }
     },
     "4b283dda803247908c2a55f679bff556": {
      "model_module": "@jupyter-widgets/controls",
      "model_module_version": "2.0.0",
      "model_name": "VBoxModel",
      "state": {
       "_dom_classes": [
        "widget-interact"
       ],
       "children": [
        "IPY_MODEL_e045f3da002a47158a2c45944a21f213",
        "IPY_MODEL_17d712a7f10b4fcc947c78971c8a8aa6",
        "IPY_MODEL_0f7f40bfe555484eb33dd00a3b3b769f",
        "IPY_MODEL_26f477a550a7448390d180af4276493f"
       ],
       "layout": "IPY_MODEL_460ac158e7054b1db0ef5f5e7dc33fdf"
      }
     },
     "6c6e3beccb924a8d925e35795e47e892": {
      "model_module": "@jupyter-widgets/controls",
      "model_module_version": "2.0.0",
      "model_name": "SliderStyleModel",
      "state": {
       "description_width": "initial"
      }
     },
     "719e35f33b68421484535355187e43db": {
      "model_module": "@jupyter-widgets/controls",
      "model_module_version": "2.0.0",
      "model_name": "DescriptionStyleModel",
      "state": {
       "description_width": "initial"
      }
     },
     "7336f6fa7eee4e7f99cd0e849219a58e": {
      "model_module": "@jupyter-widgets/controls",
      "model_module_version": "2.0.0",
      "model_name": "RadioButtonsModel",
      "state": {
       "_options_labels": [
        "linear",
        "log"
       ],
       "description": "X-axis scale",
       "index": 1,
       "layout": "IPY_MODEL_cbe2af2790834eaaaa0cea385f38ec99",
       "style": "IPY_MODEL_fbdfe17693014b98b464f60da6a917f8"
      }
     },
     "740c21b83ddd4aeab4a450945912ee44": {
      "model_module": "@jupyter-widgets/controls",
      "model_module_version": "2.0.0",
      "model_name": "FloatSliderModel",
      "state": {
       "behavior": "drag-tap",
       "description": "Bubble radius (m)",
       "layout": "IPY_MODEL_39ff115171664040a150ec653326bd98",
       "max": 1,
       "min": 0.2,
       "step": 0.01,
       "style": "IPY_MODEL_ce2c7fa0bc3a41aea2fbec1db1a42808",
       "value": 0.34
      }
     },
     "762c9e5e43e64c72a1b369ba93396e75": {
      "model_module": "@jupyter-widgets/base",
      "model_module_version": "2.0.0",
      "model_name": "LayoutModel",
      "state": {
       "width": "400px"
      }
     },
     "779bc72abb194c13b96b8ae6686e0f3b": {
      "model_module": "@jupyter-widgets/base",
      "model_module_version": "2.0.0",
      "model_name": "LayoutModel",
      "state": {
       "width": "400px"
      }
     },
     "869129144f52421a9561cdc73054499e": {
      "model_module": "@jupyter-widgets/controls",
      "model_module_version": "2.0.0",
      "model_name": "DescriptionStyleModel",
      "state": {
       "description_width": "initial"
      }
     },
     "885d77c07e9a4429861e0d8834a31c3b": {
      "model_module": "@jupyter-widgets/output",
      "model_module_version": "1.0.0",
      "model_name": "OutputModel",
      "state": {
       "layout": "IPY_MODEL_e6f153a68ab54dd2b777e63c114f584b",
       "outputs": [
        {
         "data": {
          "image/png": "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",
          "text/plain": "<Figure size 600x400 with 1 Axes>"
         },
         "metadata": {},
         "output_type": "display_data"
        }
       ]
      }
     },
     "98a0ade26d00436c963747d48b20dffa": {
      "model_module": "@jupyter-widgets/base",
      "model_module_version": "2.0.0",
      "model_name": "LayoutModel",
      "state": {}
     },
     "9c7f3f0d72534d4f8c8072ed54e1232c": {
      "model_module": "@jupyter-widgets/base",
      "model_module_version": "2.0.0",
      "model_name": "LayoutModel",
      "state": {}
     },
     "9e333c99501b4b9ea050a09d56b8b6c6": {
      "model_module": "@jupyter-widgets/controls",
      "model_module_version": "2.0.0",
      "model_name": "DescriptionStyleModel",
      "state": {
       "description_width": "initial"
      }
     },
     "9ee45b95893c4e978e52475a721bea8f": {
      "model_module": "@jupyter-widgets/controls",
      "model_module_version": "2.0.0",
      "model_name": "SliderStyleModel",
      "state": {
       "description_width": "initial"
      }
     },
     "a558ee5de0d743c898b0832e606740c5": {
      "model_module": "@jupyter-widgets/base",
      "model_module_version": "2.0.0",
      "model_name": "LayoutModel",
      "state": {
       "width": "400px"
      }
     },
     "ae4f8f4487a247ce8051af78462d51c7": {
      "model_module": "@jupyter-widgets/controls",
      "model_module_version": "2.0.0",
      "model_name": "VBoxModel",
      "state": {
       "_dom_classes": [
        "widget-interact"
       ],
       "children": [
        "IPY_MODEL_3b6c3a5beecf4195a81d774e3e71dff7",
        "IPY_MODEL_49997f923d3b4c5080e53a8392d25e0c",
        "IPY_MODEL_1bb3e4b5215142f3a9009ccb1f5e30e3",
        "IPY_MODEL_885d77c07e9a4429861e0d8834a31c3b"
       ],
       "layout": "IPY_MODEL_0718a9e492a4429c9db3cc59afb623e9"
      }
     },
     "b797048d82f24d81a8da4c51263ee66a": {
      "model_module": "@jupyter-widgets/controls",
      "model_module_version": "2.0.0",
      "model_name": "RadioButtonsModel",
      "state": {
       "_options_labels": [
        "linear",
        "log"
       ],
       "description": "X-axis type",
       "index": 0,
       "layout": "IPY_MODEL_09afb66fae14427ca9c7c4705fd45ac4",
       "style": "IPY_MODEL_869129144f52421a9561cdc73054499e"
      }
     },
     "bfaca4c3cfa84358a27f1ba4d5331c7b": {
      "model_module": "@jupyter-widgets/base",
      "model_module_version": "2.0.0",
      "model_name": "LayoutModel",
      "state": {
       "width": "400px"
      }
     },
     "c483df76f99c48978c4d27898868ae4f": {
      "model_module": "@jupyter-widgets/controls",
      "model_module_version": "2.0.0",
      "model_name": "SliderStyleModel",
      "state": {
       "description_width": "initial"
      }
     },
     "cb45e0fdfbba46bea971b9a79f655dd0": {
      "model_module": "@jupyter-widgets/controls",
      "model_module_version": "2.0.0",
      "model_name": "FloatSliderModel",
      "state": {
       "behavior": "drag-tap",
       "description": "Fluid sphere radius (m)",
       "layout": "IPY_MODEL_bfaca4c3cfa84358a27f1ba4d5331c7b",
       "max": 1,
       "min": 0.2,
       "step": 0.01,
       "style": "IPY_MODEL_2baed2263c9b4deaa3e6d0a578d4f402",
       "value": 0.5
      }
     },
     "cbe2af2790834eaaaa0cea385f38ec99": {
      "model_module": "@jupyter-widgets/base",
      "model_module_version": "2.0.0",
      "model_name": "LayoutModel",
      "state": {}
     },
     "cd0238fddbae435cb2fb61b755334d10": {
      "model_module": "@jupyter-widgets/controls",
      "model_module_version": "2.0.0",
      "model_name": "SelectionSliderModel",
      "state": {
       "_options_labels": [
        "0",
        "1",
        "2",
        "3",
        "4",
        "5",
        "6",
        "7",
        "8",
        "9",
        "10",
        "11",
        "12",
        "13",
        "14",
        "15",
        "16",
        "17",
        "18",
        "19",
        "20",
        "21",
        "22",
        "23",
        "24",
        "25",
        "26",
        "27",
        "28",
        "29",
        "30",
        "31",
        "32",
        "33",
        "34",
        "35",
        "36",
        "37",
        "38",
        "39",
        "40",
        "41",
        "42",
        "43",
        "44",
        "45",
        "46",
        "47",
        "48",
        "49",
        "50",
        "51",
        "52",
        "53",
        "54",
        "55",
        "56",
        "57",
        "58",
        "59",
        "60",
        "61",
        "62",
        "63",
        "64",
        "65",
        "66",
        "67",
        "68",
        "69",
        "70",
        "71",
        "72",
        "73",
        "74",
        "75",
        "76",
        "77",
        "78",
        "79",
        "80",
        "81",
        "82",
        "83",
        "84",
        "85",
        "86",
        "87",
        "88",
        "89",
        "90"
       ],
       "behavior": "drag-tap",
       "description": "Incident angle (deg)",
       "index": 57,
       "layout": "IPY_MODEL_384fa51429a849e6bf0eb158943940ce",
       "style": "IPY_MODEL_1f8d58542aab4e3f89b2d2794e2ea5f3"
      }
     },
     "ce2c7fa0bc3a41aea2fbec1db1a42808": {
      "model_module": "@jupyter-widgets/controls",
      "model_module_version": "2.0.0",
      "model_name": "SliderStyleModel",
      "state": {
       "description_width": "initial"
      }
     },
     "df276b5e88c74d6aad878d6f21df33c0": {
      "model_module": "@jupyter-widgets/base",
      "model_module_version": "2.0.0",
      "model_name": "LayoutModel",
      "state": {
       "width": "400px"
      }
     },
     "e045f3da002a47158a2c45944a21f213": {
      "model_module": "@jupyter-widgets/controls",
      "model_module_version": "2.0.0",
      "model_name": "FloatSliderModel",
      "state": {
       "behavior": "drag-tap",
       "description": "Bubble radius (m)",
       "layout": "IPY_MODEL_762c9e5e43e64c72a1b369ba93396e75",
       "max": 1,
       "min": 0.2,
       "step": 0.01,
       "style": "IPY_MODEL_c483df76f99c48978c4d27898868ae4f",
       "value": 0.5
      }
     },
     "e6f153a68ab54dd2b777e63c114f584b": {
      "model_module": "@jupyter-widgets/base",
      "model_module_version": "2.0.0",
      "model_name": "LayoutModel",
      "state": {}
     },
     "ee1db4593a074eb29146191b5efcbafb": {
      "model_module": "@jupyter-widgets/output",
      "model_module_version": "1.0.0",
      "model_name": "OutputModel",
      "state": {
       "layout": "IPY_MODEL_1baa894b56f24bc498413fb9264daa4c",
       "outputs": [
        {
         "data": {
          "image/png": "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",
          "text/plain": "<Figure size 500x350 with 1 Axes>"
         },
         "metadata": {},
         "output_type": "display_data"
        }
       ]
      }
     },
     "eeb137797ded46f28adc1e20872c8ea5": {
      "model_module": "@jupyter-widgets/base",
      "model_module_version": "2.0.0",
      "model_name": "LayoutModel",
      "state": {}
     },
     "f33a8eeccf674f2c8c8f9c23837966b8": {
      "model_module": "@jupyter-widgets/base",
      "model_module_version": "2.0.0",
      "model_name": "LayoutModel",
      "state": {}
     },
     "f74bee726d924fe8a790c16cd66784f5": {
      "model_module": "@jupyter-widgets/base",
      "model_module_version": "2.0.0",
      "model_name": "LayoutModel",
      "state": {}
     },
     "f97573f57dda4973a455ad8828454ceb": {
      "model_module": "@jupyter-widgets/controls",
      "model_module_version": "2.0.0",
      "model_name": "VBoxModel",
      "state": {
       "_dom_classes": [
        "widget-interact"
       ],
       "children": [
        "IPY_MODEL_cd0238fddbae435cb2fb61b755334d10",
        "IPY_MODEL_b797048d82f24d81a8da4c51263ee66a",
        "IPY_MODEL_ee1db4593a074eb29146191b5efcbafb"
       ],
       "layout": "IPY_MODEL_fe1ab9e604784605a8a243459f4c2feb"
      }
     },
     "fbdfe17693014b98b464f60da6a917f8": {
      "model_module": "@jupyter-widgets/controls",
      "model_module_version": "2.0.0",
      "model_name": "DescriptionStyleModel",
      "state": {
       "description_width": "initial"
      }
     },
     "fe1ab9e604784605a8a243459f4c2feb": {
      "model_module": "@jupyter-widgets/base",
      "model_module_version": "2.0.0",
      "model_name": "LayoutModel",
      "state": {}
     }
    },
    "version_major": 2,
    "version_minor": 0
   }
  }
 },
 "nbformat": 4,
 "nbformat_minor": 4
}
