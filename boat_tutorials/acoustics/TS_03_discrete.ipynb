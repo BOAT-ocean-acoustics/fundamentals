{
 "cells": [
  {
   "cell_type": "markdown",
   "metadata": {
    "editable": true,
    "slideshow": {
     "slide_type": ""
    },
    "tags": []
   },
   "source": [
    "(acoustics-scattering_discrete)=\n",
    "# Discrete scatterers"
   ]
  },
  {
   "cell_type": "markdown",
   "metadata": {},
   "source": [
    "(acoustics-scattering_discrete_why)=\n",
    "## What are discrete scatterers and why they matter\n",
    "\n",
    "We call something a **discrete scatterer** when we consider its scattering response on its own, without other scattering sources nearby. Discrete scatterers are extremely useful, because not only can we model individual _things_ in the ocean—a bubble, oil droplet, sand, fish, krill, whale, or even a submarine—as discrete scatterers, we can also model the combined scattering from a group of these things as a _collection_ of discrete scatterers. This allows us to build up models for more complex scenarios, like a patch of seafloor or sea surface, a cloud of bubbles or a school of fish.\n",
    "\n",
    "When working with discrete scatterers, we often approximate them as **point scatterers** that can be isolated from the rest of the \"system\" as discussed in the introduction of the [](acoustics-scattering) section. This way, we can think of a scatterer as a _new sound source_ that radiates sound after it is excited by the incident waves, and can immdiately apply the many concepts we have learned in the [](acoustics-source) section here, such directionality.\n",
    "\n",
    "\n",
    "<!-- DECIDED TO NOT REMOVE BELOW FOR BETTER FLOW AND TO REDUCE CONFUSION -->\n",
    "<!-- A point scatterer to be **omnidirectional**, meaning that it scatters echoes equally in all directions. Regardless of the directions of the incident sound and the receiver, the echo would always be the same.\n",
    "\n",
    "A point scatterer can also be **directional**, meaning that it scatter sounds differently depending on the direcitons of the incident sound and the receiver. Most objects in the natural world are directional scatterers. We will explore the scatterer directionality more in the [](acoustics-scattering_discrete_orientation) section below. -->"
   ]
  },
  {
   "cell_type": "markdown",
   "metadata": {},
   "source": [
    "## Modeling real-world scatterers\n",
    "\n",
    "When trying to interpret [echograms](acoustics-scattering_echogram), we usually rely on a set of expectations based on the environment and physics to help us understand what we are seeing. Specifically, we consider:\n",
    "1) the environmental context (e.g., depth, distance to shelf break, etc.) that influences the types of objects that are likely to occur, and\n",
    "2) how different types of objects scatter sound (i.e. acoustic scattering models).\n",
    "\n",
    "For example, near an estuary, we may expect to see strong scattering from suspended sediments that have been stirred up by the water flows; near a fishing ground, we may expect to see strong scattering from fish schools."
   ]
  },
  {
   "cell_type": "markdown",
   "metadata": {},
   "source": [
    "### Archetypes\n",
    "\n",
    "There are so many different types of objects and animals in the ocean. How do we model them? It turns out that the rules of physics have helped us construct a few **archetypes** that are really useful in thinking about how something scatterers sound. These are:\n",
    "- Scatterers with compressible air cavities, such as bubbles and fish with swimbladder.\n",
    "- \"Fluid-like\" scatterers that have material properties similar to the surrounding water, such as squid, jellyfish, krill, oil droplets, etc.\n",
    "- Scatterers containing \"elastic\" materials that supports both compressional and shear waves, such as shells and dense mineral particles.\n",
    "\n",
    "On top of these, we consider the sizes and shapes of scatterers, and importantly, **make approximation when we can** to simplify the problem. For example, fish swimbladders are seldom spherical, but at low frequencies, approximating it as a bubble gives pretty good results; krill or shrimps have elongated bodies and many thin legs, but approximating them as fluid-like spheroids also gives pretty good results.\n",
    "\n",
    "We will explore these properties below."
   ]
  },
  {
   "cell_type": "markdown",
   "metadata": {},
   "source": [
    "(acoustics-scattering_discrete_size)=\n",
    "## Size dependency"
   ]
  },
  {
   "cell_type": "markdown",
   "metadata": {
    "jp-MarkdownHeadingCollapsed": true
   },
   "source": [
    "(acoustics-scattering_discrete_ka)=\n",
    "### The mighty $ka$\n",
    "\n",
    "When we talk about the size of a scatterer, we are really taking about the **relative** size of a scatterer with respect to the acoustic wavelength. We often use a _dimensionless_ number, $ka$, to quantify the relative size. Here, \n",
    "- $k=2\\pi/\\lambda$ is the **acoustic wavenumber**, which is represents the [phase](acoustics-receiver_phase) within a wavelength, and \n",
    "- $a$ is the **characteristic dimension** of a scatterer, such as the radius of a sphere or the length of a cylinder.\n",
    "\n",
    "$ka$ is dimensionless, because both $\\lambda$ and $a$ are length measures with units of $\\textrm{m}$. This allows us to easily compare the echo reponse of a large scatterer at low frquency and a small scatterer at high frequency — not based on the absolute size of the scatterer, but based on the ratio between wavelength and scatterer size."
   ]
  },
  {
   "cell_type": "markdown",
   "metadata": {},
   "source": [
    "(acoustics-scattering_discrete_ka)=\n",
    "### scattering regimes\n",
    "\n",
    "The scattering response of a given scatterer can be generally described based on the scattering regimes across frequency:\n",
    "\n",
    "In the **Rayleigh** regime, the acoustic wavelength is very large compared to the scatterer ($ka\\ll1$), and the scattering is dominated by diffraction. Here, the exact shape of the scatterer is often not as critical in determining the scattering response, and the scattering cross section scales with frequency with a steep slope proportional to $(ka)^4$.\n",
    "\n",
    "In the **geometric** regime, the acoustic wavelength is small compared to the scatterer ($ka\\gg1$), and the scattering is dominated by reflection. Here, the scattering cross section typically oscillates around a high-frequency limit, with deep spectral nulls due to interference from surface waves or other reflections within the target depending on its material properties."
   ]
  },
  {
   "cell_type": "markdown",
   "metadata": {},
   "source": [
    "The figures below show the target strength of a solid tungsten carbide sphere plotted in both linear and log scale along the x-axis. Such spheres are commonly used for calibrating high-frequency sonar systems, since its scattering response can be accurately modeled. \n",
    "- On log-scale plot (left), we can easily see the $(ka)^4$ dependency of the Rayleigh regime.\n",
    "- On the linear-scale plot (right), we can find frequency sections where the TS does not vary rapidly, which are useful for calibration."
   ]
  },
  {
   "cell_type": "markdown",
   "metadata": {},
   "source": [
    "```{image} ../images/wc381_TS_xlog.png\n",
    ":width: 600px\n",
    "```\n",
    "\n",
    "```{image} ../images/wc381_TS_xlin.png\n",
    ":width: 600px\n",
    "```"
   ]
  },
  {
   "cell_type": "markdown",
   "metadata": {},
   "source": [
    ":::{admonition} Exercise\n",
    "Look at the linear-scale plot, can you guess why it is usually not recommended to calibrate a system with transmit frequencies near one of the TS spectral nulls?\n",
    ":::"
   ]
  },
  {
   "cell_type": "markdown",
   "metadata": {},
   "source": [
    "(acoustics-scattering_discrete_size_material)=\n",
    "## Influence of material properties\n",
    "\n",
    "Scattering phenomena can depend strongly on the material properties of the scatterers. The figure below shows the TS of spheres of the same size but different material properties:\n",
    "- Bubbles, or any scatterers that include a compressible air cavity, can **resonate** in the $ka\\ll1$ region, producing scattering signals much stronger than similarly sized objects without air.\n",
    "- Scatterer is made of materials very similar to the surrounding water medium (\"fluid-like\") allows sound to easily transmit and reflect through, causing regular interference patterns seen on the spectrum.\n",
    "- Scatterers made of dense materials, such as steel or tungsten carbide we saw above, support complex surface waves that cause interference and result in complex patterns on the spectrum."
   ]
  },
  {
   "cell_type": "markdown",
   "metadata": {},
   "source": [
    "```{image} ../images/scatterer_3type_xlog.png\n",
    ":width: 600px\n",
    "```\n",
    "\n",
    "```{image} ../images/scatterer_3type_xlin.png\n",
    ":width: 600px\n",
    "```"
   ]
  },
  {
   "cell_type": "markdown",
   "metadata": {},
   "source": [
    ":::{admonitions} Exercise\n",
    "\n",
    "To get an intuitive feel of how the echoes change depending on the scatterer, use the widget below to answer the following questions:\n",
    "\n",
    "For the gas bubble:\n",
    "- How does the resonance frequency change as a function of bubble size?\n",
    "- What is the approximate size of a bubble that gives a resonance around 10 Hz?\n",
    "\n",
    "For the fluid sphere:\n",
    "- How does the spectral interference pattern change as a function of sphere size?\n",
    "- Knowing that the scattering response of a fluid sphere is dominated by the echoes from its front and back interface with the water medium, can you guess why the spectral pattern vary that way?\n",
    ":::"
   ]
  },
  {
   "cell_type": "code",
   "execution_count": 1,
   "metadata": {
    "editable": true,
    "slideshow": {
     "slide_type": ""
    },
    "tags": [
     "hide-input"
    ]
   },
   "outputs": [],
   "source": [
    "import numpy as np\n",
    "import matplotlib.pyplot as plt\n",
    "from scipy.special import spherical_jn, spherical_yn\n",
    "\n",
    "import matplotlib\n",
    "matplotlib.use('module://matplotlib_inline.backend_inline')\n",
    "\n",
    "import ipywidgets as widgets\n",
    "\n",
    "from IPython.display import display, HTML"
   ]
  },
  {
   "cell_type": "code",
   "execution_count": 2,
   "metadata": {
    "editable": true,
    "slideshow": {
     "slide_type": ""
    },
    "tags": [
     "hide-input"
    ]
   },
   "outputs": [],
   "source": [
    "def Pn(n: int, x: np.array):\n",
    "    if np.max(np.abs(x)) > 1:\n",
    "        raise ValueError(\"|x| must be smaller than 1!\")\n",
    "\n",
    "    pn = np.zeros((x.size, n + 1))\n",
    "    pn[:, 0] = 1\n",
    "    if n >= 1:\n",
    "        pn[:, 1] = x\n",
    "\n",
    "    for nn in range(1, n):\n",
    "        pn[:, nn + 1] = ((2 * nn + 1) * x * pn[:, nn] - nn * pn[:, nn - 1]) / (nn + 1)\n",
    "\n",
    "    return pn[:, n]\n",
    "    \n",
    "def fluid_fs(scale, out_flag, para):\n",
    "    DEG2RAD = np.pi / 180\n",
    "    ns, x0, xe, g, h = para[:5]\n",
    "    \n",
    "    # Create ka array\n",
    "    if scale == 1:\n",
    "        ka1 = np.linspace(x0, xe, ns)\n",
    "    else:\n",
    "        ka1 = np.logspace(np.log10(x0), np.log10(xe), ns)\n",
    "\n",
    "    # Determine max mode\n",
    "    if len(para) < 7:\n",
    "        Nmax = round(np.max(ka1)) + 10\n",
    "    else:\n",
    "        Nmax = para[6]\n",
    "\n",
    "    ka2 = ka1 / h\n",
    "    m = len(ka1)\n",
    "    theta = para[5] * DEG2RAD\n",
    "    x = np.cos(theta)\n",
    "\n",
    "    n = np.arange(Nmax)\n",
    "    nl = 2 * n + 1\n",
    "\n",
    "    # Compute Legendre polynomials Pn(x)\n",
    "    pn1 = np.array([Pn(ni, x) for ni in n]).squeeze()\n",
    "\n",
    "    # Bessel functions and derivatives\n",
    "    jn1 = np.array([spherical_jn(ni, ka1) for ni in n])  # shape (Nmax, m)\n",
    "    yn1 = np.array([spherical_yn(ni, ka1) for ni in n])\n",
    "    djn1 = np.array([spherical_jn(ni, ka1, derivative=True) for ni in n])\n",
    "    dyn1 = np.array([spherical_yn(ni, ka1, derivative=True) for ni in n])\n",
    "\n",
    "    jn2 = np.array([spherical_jn(ni, ka2) for ni in n])\n",
    "    djn2 = np.array([spherical_jn(ni, ka2, derivative=True) for ni in n])\n",
    "\n",
    "    # Avoid division warnings\n",
    "    with np.errstate(divide='ignore', invalid='ignore'):\n",
    "        term1 = djn2 * yn1 / (jn2 * djn1) - g * h * dyn1 / djn1\n",
    "        term2 = djn2 * jn1 / (jn2 * djn1) - g * h\n",
    "        cn = term1 / term2\n",
    "        bn = -1 / (1 + 1j * cn)\n",
    "\n",
    "    # Form function f and amplitude S\n",
    "    f = np.zeros(m, dtype=complex)\n",
    "    # S = np.zeros((m, Nmax), dtype=complex)\n",
    "    for mm in range(m):\n",
    "        s = nl * pn1 * bn[:, mm]\n",
    "        f[mm] = np.sum(s)\n",
    "        # S[mm, :] = s / ka1[mm]\n",
    "\n",
    "    outx = ka1\n",
    "    # Choose output based on out_flag\n",
    "    if out_flag == 1:\n",
    "        outy = np.abs(2 * f / ka1)  # Modulus of form function\n",
    "    elif out_flag == 2:\n",
    "        outy = -1j * 2 * f / ka1  # Complex form function\n",
    "    elif out_flag == 3:\n",
    "        outy = np.abs(f) / (np.sqrt(np.pi) * ka1)  # Modulus of normalized scattering amplitude\n",
    "    elif out_flag == 4:\n",
    "        outy = -1j * f / (np.sqrt(np.pi) * ka1)  # Complex normalized scattering amplitude\n",
    "    else:\n",
    "        raise ValueError(\"Invalid out_flag value.\")\n",
    "\n",
    "    return outx, outy"
   ]
  },
  {
   "cell_type": "code",
   "execution_count": 3,
   "metadata": {
    "editable": true,
    "slideshow": {
     "slide_type": ""
    },
    "tags": [
     "hide-input"
    ]
   },
   "outputs": [
    {
     "data": {
      "application/vnd.jupyter.widget-view+json": {
       "model_id": "a813d811f4964720af428d6e58751def",
       "version_major": 2,
       "version_minor": 0
      },
      "text/plain": [
       "interactive(children=(FloatSlider(value=0.5, description='Bubble radius (m)', layout=Layout(width='400px'), ma…"
      ]
     },
     "metadata": {},
     "output_type": "display_data"
    }
   ],
   "source": [
    "para_bubble = [1000, 0.001, 25, 0.0012, 0.22, 180]  # bubble at surface\n",
    "para_fluid = [1000, 0.001, 25, 1.026, 1.017, 180]  # fluid sphere\n",
    "scale = 2\n",
    "out_flag = 2  # complex form function\n",
    "\n",
    "\n",
    "def plot_TS(radius_bubble, radius_fluid, xscale_type):\n",
    "    freq_bubble = ka_bubble * c / (radius_bubble * 2 * np.pi)\n",
    "    freq_fluid = ka_fluid * c / (radius_fluid * 2 * np.pi)\n",
    "    TS_bubble = 20 * np.log10(np.abs(fm_bubble) * radius_bubble/2)\n",
    "    TS_fluid = 20 * np.log10(np.abs(fm_fluid) * radius_fluid/2)\n",
    "\n",
    "    plt.figure(figsize=(6, 4))\n",
    "    plt.plot(freq_bubble, TS_bubble, lw=1.5, label=\"Gas bubble\")\n",
    "    plt.plot(freq_fluid, TS_fluid, lw=1.5, label=\"Fluid sphere\")\n",
    "    if xscale_type == \"log\":\n",
    "        plt.xlim(np.log10(23), 6e3)\n",
    "        plt.xscale(\"log\")\n",
    "    else:\n",
    "        plt.xlim(0, 6e3)\n",
    "    plt.ylim(-100, 40)\n",
    "    plt.xlabel(\"Frequency (Hz)\")\n",
    "    plt.ylabel(\"TS (dB)\")\n",
    "    plt.legend(loc=\"upper right\")\n",
    "    plt.title(\"Scattering from a gas bubble and a fluid sphere\")\n",
    "    plt.show()\n",
    "\n",
    "\n",
    "radius_bubble_slider = widgets.FloatSlider(\n",
    "    min=0.2,\n",
    "    max=1,\n",
    "    step=0.01,\n",
    "    value=0.5,  # default value\n",
    "    description=\"Bubble radius (m)\",\n",
    "    style={'description_width': 'initial'},\n",
    "    layout=widgets.Layout(width=\"400px\"),\n",
    "    continuous_update=True\n",
    ")\n",
    "\n",
    "radius_fluid_slider = widgets.FloatSlider(\n",
    "    min=0.2,\n",
    "    max=1,\n",
    "    step=0.01,\n",
    "    value=0.5,  # default value\n",
    "    description=\"Fluid sphere radius (m)\",\n",
    "    style={'description_width': 'initial'},\n",
    "    layout=widgets.Layout(width=\"400px\"),\n",
    "    continuous_update=True\n",
    ")\n",
    "\n",
    "xscale_radio = widgets.RadioButtons(\n",
    "    options=[\"linear\", \"log\"],\n",
    "    value=\"log\",  # default selected\n",
    "    description=\"X-axis scale\",\n",
    "    disabled=False,\n",
    "    style={'description_width': 'initial'},\n",
    ")\n",
    "\n",
    "\n",
    "ka_bubble, fm_bubble = fluid_fs(scale, out_flag, para_bubble)\n",
    "ka_fluid, fm_fluid = fluid_fs(scale, out_flag, para_fluid)\n",
    "\n",
    "c = 1500  # medium sound speed [m/s]\n",
    "\n",
    "\n",
    "interactive_plot = widgets.interactive(\n",
    "    plot_TS, \n",
    "    radius_bubble=radius_bubble_slider, \n",
    "    radius_fluid=radius_fluid_slider,\n",
    "    xscale_type=xscale_radio)\n",
    "display(interactive_plot)"
   ]
  },
  {
   "cell_type": "markdown",
   "metadata": {
    "editable": true,
    "slideshow": {
     "slide_type": ""
    },
    "tags": []
   },
   "source": [
    "(acoustics-scattering_discrete_orientation)=\n",
    "## Orientation dependence\n",
    "\n",
    "In the above we only discussed the scattering of spheres. However, most scatterers in nature are not spherical. What does a non-spherical shape do to the scattering response?\n",
    "\n",
    "As you may have expected intuitively, echoes from non-spherical scatterers would very depending on the incident angle. This is especially true when $ka$ is high, meaning that the wavelength is small compared to the size of the scatterer. "
   ]
  },
  {
   "cell_type": "markdown",
   "metadata": {},
   "source": [
    ":::{admonition} Exercise\n",
    "To get an idea of how scattering directionality looks like, try the widget below to see how TS changes as a function of frequency and incident angle.\n",
    "- How does directionality change (stronger or weaker) with increasing frequency?\n",
    "- How does the TS spectrum change with increasing angles?\n",
    "- Knowing that the scattering response of a fluid prolate spheroid is similarly dominated by echoes from its front and back interface with the water medium, just like the fluid sphere, can you guess why the TS spectral pattern vary that way?\n",
    ":::"
   ]
  },
  {
   "cell_type": "code",
   "execution_count": 4,
   "metadata": {
    "editable": true,
    "slideshow": {
     "slide_type": ""
    },
    "tags": [
     "hide-input"
    ]
   },
   "outputs": [],
   "source": [
    "def dwba_prolate_spheroid(L, a, g, h, ka, phi):\n",
    "    \"\"\"\n",
    "    DWBA solution for a fluid prolate spheroid.\n",
    "    \n",
    "    Parameters:\n",
    "        L   : Length of spheroid (long axis)\n",
    "        a   : Radius of spheroid (short axis)\n",
    "        g   : rho2/rho1\n",
    "        h   : c2/c1\n",
    "        ka  : dimensionless wavenumber * radius (can be array)\n",
    "        phi : incident angle in radians\n",
    "\n",
    "    Returns:\n",
    "        fbs      : complex backscattering amplitude\n",
    "        sigmabs  : backscattering cross-section (abs squared)\n",
    "        TS       : target strength in dB\n",
    "    \"\"\"\n",
    "\n",
    "    Cb = 1 / (g * h**2) + 1 / g - 2  # gamma_kappa - gamma_rho\n",
    "\n",
    "    beta = phi + np.pi / 2\n",
    "    ka = np.atleast_1d(ka)  # ensure ka is array\n",
    "\n",
    "    # Argument inside spherical Bessel function\n",
    "    sin2 = np.sin(beta)**2\n",
    "    cos2 = np.cos(beta)**2\n",
    "    ellip_term = np.sqrt(sin2 + ((L / (2 * a))**2) * cos2)\n",
    "    arg = 2 * ka / h * ellip_term\n",
    "\n",
    "    j1 = spherical_jn(1, arg)\n",
    "\n",
    "    fbs = (ka**2) * L * Cb / 2 * j1 / arg\n",
    "\n",
    "    return fbs"
   ]
  },
  {
   "cell_type": "code",
   "execution_count": 5,
   "metadata": {
    "editable": true,
    "slideshow": {
     "slide_type": ""
    },
    "tags": [
     "hide-input"
    ]
   },
   "outputs": [
    {
     "data": {
      "application/vnd.jupyter.widget-view+json": {
       "model_id": "027543475ca045ff92a2fee88c1d1fde",
       "version_major": 2,
       "version_minor": 0
      },
      "text/plain": [
       "interactive(children=(SelectionSlider(description='Incident angle (deg)', options=(np.int64(0), np.int64(1), n…"
      ]
     },
     "metadata": {},
     "output_type": "display_data"
    }
   ],
   "source": [
    "a = 0.015\n",
    "L = a * 6\n",
    "g = 1.043\n",
    "h = 1.053\n",
    "c = 1500\n",
    "\n",
    "freq = np.arange(100, 100e3, 10)\n",
    "ka = 2*np.pi*freq / c * a\n",
    "\n",
    "def update_dwba(angle, xscale_type):\n",
    "\n",
    "    phi = np.deg2rad(angle)  # incident angle in radians (e.g., backscatter)\n",
    "    fbs = dwba_prolate_spheroid(L, a, g, h, ka, phi)\n",
    "    TS = 20*np.log10(np.abs(fbs))\n",
    "\n",
    "    plt.figure(figsize=(5,3.5))\n",
    "    plt.plot(freq/1e3, TS)\n",
    "    if xscale_type == \"log\":\n",
    "        plt.xscale(\"log\")\n",
    "    plt.xlim(500/1e3, 100e3/1e3)\n",
    "    plt.ylim(-120, -50)\n",
    "    plt.xlabel(\"Frequency (kHz)\")\n",
    "    plt.ylabel(\"TS (dB)\")\n",
    "    plt.title(\"Scattering from a fluid prolate spheroid\")\n",
    "    plt.show\n",
    "\n",
    "\n",
    "# rr = np.hstack(((np.arange(5, 10, 1)/100), np.arange(1, 10, 1)/10))\n",
    "aa = np.arange(0, 91, 1)\n",
    "angle_slider = widgets.SelectionSlider(\n",
    "    options=aa,\n",
    "    value=0,  # default value\n",
    "    description=\"Incident angle (deg)\",\n",
    "    style={'description_width': 'initial'},\n",
    "    continuous_update=True\n",
    ")\n",
    "\n",
    "xscale_radio = widgets.RadioButtons(\n",
    "    options=[\"linear\", \"log\"],\n",
    "    value=\"linear\",  # default selected\n",
    "    description=\"X-axis type\",\n",
    "    disabled=False,\n",
    "    style={'description_width': 'initial'}\n",
    ")\n",
    "\n",
    "interactive_plot = widgets.interactive(\n",
    "    update_dwba, angle=angle_slider, xscale_type=xscale_radio)\n",
    "display(interactive_plot)"
   ]
  },
  {
   "cell_type": "markdown",
   "metadata": {},
   "source": [
    ":::{admonition} Exercise\n",
    "The size and the aspect ratio of the fluid prolate spheroid also strongly affect its directionality. Use the widget below to answer the following questions:\n",
    "- How does the directionality at the same frequency change as a function of scatterer size?\n",
    "- Thinking back on what you learned about [phase difference and interference between waves](acoustics-receiver_directionality_interference), can you guess why?\n",
    ":::"
   ]
  },
  {
   "cell_type": "markdown",
   "metadata": {},
   "source": [
    "<mark>[ADD WIDGET SHOWING 2D ACOUSTIC COLOR CHANGE WITH DIFFERENT SIZE AND ASPECT RATIO]</mark>"
   ]
  },
  {
   "cell_type": "markdown",
   "metadata": {
    "editable": true,
    "slideshow": {
     "slide_type": ""
    },
    "tags": []
   },
   "source": [
    "## Inferring scatterer identity"
   ]
  },
  {
   "cell_type": "markdown",
   "metadata": {},
   "source": [
    "\n",
    "<!-- which we will explore in the [surface](acoustics-scattering_surface) and [volume](acoustics-scattering_volume) scattering sections.\n",
    " -->\n",
    " \n",
    "Once we know how different types of objects scatterer sound, we can also use that knowledge to interpret the echo signals we receive and infer the potential scattering sources. In cases when we already know or are very confident of what the scatterers are, we can even go one step further, to estimate things like the size, shape, or material composition of the scatterers based on the spectral, temporal, or statistical features of the echoes.\n",
    "\n",
    "As an introduction, here we will focus on discussing echoes in the backscattering direction in the [monostatic](acoustics-scattering_monostatic_bistatic) scenario."
   ]
  },
  {
   "cell_type": "markdown",
   "metadata": {},
   "source": [
    "Seeing how the TS spectrum can change with both material properties, shape, and incident angle even for simple scatterers such as spheres and spheroid, it is natural to imagine that we can use these features to infer the dominant scattering mechanisms and scatterer identity. \"Acoustic color\"—the strength of echo as a function of angle and frequency as shown in the fig below—is one such feature that has been used widely to distinguish different types of scatterer underwater."
   ]
  },
  {
   "cell_type": "markdown",
   "metadata": {},
   "source": [
    "```{image} ../images/acoustic_color.gif\n",
    ":width: 600px\n",
    "```"
   ]
  },
  {
   "cell_type": "code",
   "execution_count": null,
   "metadata": {},
   "outputs": [],
   "source": []
  }
 ],
 "metadata": {
  "kernelspec": {
   "display_name": "Python 3 (ipykernel)",
   "language": "python",
   "name": "python3"
  },
  "language_info": {
   "codemirror_mode": {
    "name": "ipython",
    "version": 3
   },
   "file_extension": ".py",
   "mimetype": "text/x-python",
   "name": "python",
   "nbconvert_exporter": "python",
   "pygments_lexer": "ipython3",
   "version": "3.12.9"
  },
  "widgets": {
   "application/vnd.jupyter.widget-state+json": {
    "state": {
     "027543475ca045ff92a2fee88c1d1fde": {
      "model_module": "@jupyter-widgets/controls",
      "model_module_version": "2.0.0",
      "model_name": "VBoxModel",
      "state": {
       "_dom_classes": [
        "widget-interact"
       ],
       "children": [
        "IPY_MODEL_59ffb9f9cb7c442cb6dc6b6540f67170",
        "IPY_MODEL_e8f43a43dcce493d8fc1b6a88af4cef3",
        "IPY_MODEL_15ad849c43324df5bcd5bcfc57a158c0"
       ],
       "layout": "IPY_MODEL_462bade416b746e293386fdc2296213a"
      }
     },
     "15ad849c43324df5bcd5bcfc57a158c0": {
      "model_module": "@jupyter-widgets/output",
      "model_module_version": "1.0.0",
      "model_name": "OutputModel",
      "state": {
       "layout": "IPY_MODEL_7bb3977e83bd487ab456fb95a781871a",
       "outputs": [
        {
         "data": {
          "image/png": "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",
          "text/plain": "<Figure size 500x350 with 1 Axes>"
         },
         "metadata": {},
         "output_type": "display_data"
        }
       ]
      }
     },
     "168d8f0ebaf344ba835d43f60d135be7": {
      "model_module": "@jupyter-widgets/controls",
      "model_module_version": "2.0.0",
      "model_name": "DescriptionStyleModel",
      "state": {
       "description_width": "initial"
      }
     },
     "22f33659a8d1458f8526b6b272e3fd56": {
      "model_module": "@jupyter-widgets/base",
      "model_module_version": "2.0.0",
      "model_name": "LayoutModel",
      "state": {}
     },
     "24eec4f88d9e4d629a53fa5a6ec7d33b": {
      "model_module": "@jupyter-widgets/base",
      "model_module_version": "2.0.0",
      "model_name": "LayoutModel",
      "state": {
       "width": "400px"
      }
     },
     "346a85bf308a4e6aa477d7bd23f67ccf": {
      "model_module": "@jupyter-widgets/controls",
      "model_module_version": "2.0.0",
      "model_name": "SliderStyleModel",
      "state": {
       "description_width": "initial"
      }
     },
     "462bade416b746e293386fdc2296213a": {
      "model_module": "@jupyter-widgets/base",
      "model_module_version": "2.0.0",
      "model_name": "LayoutModel",
      "state": {}
     },
     "4de029007e7e4778a8ae8f1ae8c0738e": {
      "model_module": "@jupyter-widgets/controls",
      "model_module_version": "2.0.0",
      "model_name": "SliderStyleModel",
      "state": {
       "description_width": "initial"
      }
     },
     "4f9fc5f266ea444b80bb03f99a178b9d": {
      "model_module": "@jupyter-widgets/controls",
      "model_module_version": "2.0.0",
      "model_name": "FloatSliderModel",
      "state": {
       "behavior": "drag-tap",
       "description": "Fluid sphere radius (m)",
       "layout": "IPY_MODEL_961a35ce4030451db2d0dbc862d86b8b",
       "max": 1,
       "min": 0.2,
       "step": 0.01,
       "style": "IPY_MODEL_4de029007e7e4778a8ae8f1ae8c0738e",
       "value": 0.5
      }
     },
     "5134054c4a0b4f1cabaa0008f108b7be": {
      "model_module": "@jupyter-widgets/output",
      "model_module_version": "1.0.0",
      "model_name": "OutputModel",
      "state": {
       "layout": "IPY_MODEL_b55584c9b0f44406a5cf8303b43b7e56",
       "outputs": [
        {
         "data": {
          "image/png": "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",
          "text/plain": "<Figure size 600x400 with 1 Axes>"
         },
         "metadata": {},
         "output_type": "display_data"
        }
       ]
      }
     },
     "56f12a0653a64ecbbfee0a478b96d685": {
      "model_module": "@jupyter-widgets/controls",
      "model_module_version": "2.0.0",
      "model_name": "DescriptionStyleModel",
      "state": {
       "description_width": "initial"
      }
     },
     "59ffb9f9cb7c442cb6dc6b6540f67170": {
      "model_module": "@jupyter-widgets/controls",
      "model_module_version": "2.0.0",
      "model_name": "SelectionSliderModel",
      "state": {
       "_options_labels": [
        "0",
        "1",
        "2",
        "3",
        "4",
        "5",
        "6",
        "7",
        "8",
        "9",
        "10",
        "11",
        "12",
        "13",
        "14",
        "15",
        "16",
        "17",
        "18",
        "19",
        "20",
        "21",
        "22",
        "23",
        "24",
        "25",
        "26",
        "27",
        "28",
        "29",
        "30",
        "31",
        "32",
        "33",
        "34",
        "35",
        "36",
        "37",
        "38",
        "39",
        "40",
        "41",
        "42",
        "43",
        "44",
        "45",
        "46",
        "47",
        "48",
        "49",
        "50",
        "51",
        "52",
        "53",
        "54",
        "55",
        "56",
        "57",
        "58",
        "59",
        "60",
        "61",
        "62",
        "63",
        "64",
        "65",
        "66",
        "67",
        "68",
        "69",
        "70",
        "71",
        "72",
        "73",
        "74",
        "75",
        "76",
        "77",
        "78",
        "79",
        "80",
        "81",
        "82",
        "83",
        "84",
        "85",
        "86",
        "87",
        "88",
        "89",
        "90"
       ],
       "behavior": "drag-tap",
       "description": "Incident angle (deg)",
       "index": 0,
       "layout": "IPY_MODEL_22f33659a8d1458f8526b6b272e3fd56",
       "style": "IPY_MODEL_9fd21b53c27f42bebb74b97031873efe"
      }
     },
     "7bb3977e83bd487ab456fb95a781871a": {
      "model_module": "@jupyter-widgets/base",
      "model_module_version": "2.0.0",
      "model_name": "LayoutModel",
      "state": {}
     },
     "7d3bb228ae5c4c69b16a38505cae93e3": {
      "model_module": "@jupyter-widgets/base",
      "model_module_version": "2.0.0",
      "model_name": "LayoutModel",
      "state": {}
     },
     "7ddf07186ebf481c98b98626c47a2803": {
      "model_module": "@jupyter-widgets/controls",
      "model_module_version": "2.0.0",
      "model_name": "FloatSliderModel",
      "state": {
       "behavior": "drag-tap",
       "description": "Bubble radius (m)",
       "layout": "IPY_MODEL_24eec4f88d9e4d629a53fa5a6ec7d33b",
       "max": 1,
       "min": 0.2,
       "step": 0.01,
       "style": "IPY_MODEL_346a85bf308a4e6aa477d7bd23f67ccf",
       "value": 0.5
      }
     },
     "961a35ce4030451db2d0dbc862d86b8b": {
      "model_module": "@jupyter-widgets/base",
      "model_module_version": "2.0.0",
      "model_name": "LayoutModel",
      "state": {
       "width": "400px"
      }
     },
     "9fd21b53c27f42bebb74b97031873efe": {
      "model_module": "@jupyter-widgets/controls",
      "model_module_version": "2.0.0",
      "model_name": "SliderStyleModel",
      "state": {
       "description_width": "initial"
      }
     },
     "a70d1a09152a417e9c9ffce2de71f913": {
      "model_module": "@jupyter-widgets/base",
      "model_module_version": "2.0.0",
      "model_name": "LayoutModel",
      "state": {}
     },
     "a813d811f4964720af428d6e58751def": {
      "model_module": "@jupyter-widgets/controls",
      "model_module_version": "2.0.0",
      "model_name": "VBoxModel",
      "state": {
       "_dom_classes": [
        "widget-interact"
       ],
       "children": [
        "IPY_MODEL_7ddf07186ebf481c98b98626c47a2803",
        "IPY_MODEL_4f9fc5f266ea444b80bb03f99a178b9d",
        "IPY_MODEL_f34a8d0fa5d541a498ccd04f01497269",
        "IPY_MODEL_5134054c4a0b4f1cabaa0008f108b7be"
       ],
       "layout": "IPY_MODEL_d3c4b1b16d2d4bd8bcf4ff72b1f920f4"
      }
     },
     "b55584c9b0f44406a5cf8303b43b7e56": {
      "model_module": "@jupyter-widgets/base",
      "model_module_version": "2.0.0",
      "model_name": "LayoutModel",
      "state": {}
     },
     "d3c4b1b16d2d4bd8bcf4ff72b1f920f4": {
      "model_module": "@jupyter-widgets/base",
      "model_module_version": "2.0.0",
      "model_name": "LayoutModel",
      "state": {}
     },
     "e8f43a43dcce493d8fc1b6a88af4cef3": {
      "model_module": "@jupyter-widgets/controls",
      "model_module_version": "2.0.0",
      "model_name": "RadioButtonsModel",
      "state": {
       "_options_labels": [
        "linear",
        "log"
       ],
       "description": "X-axis type",
       "index": 0,
       "layout": "IPY_MODEL_7d3bb228ae5c4c69b16a38505cae93e3",
       "style": "IPY_MODEL_56f12a0653a64ecbbfee0a478b96d685"
      }
     },
     "f34a8d0fa5d541a498ccd04f01497269": {
      "model_module": "@jupyter-widgets/controls",
      "model_module_version": "2.0.0",
      "model_name": "RadioButtonsModel",
      "state": {
       "_options_labels": [
        "linear",
        "log"
       ],
       "description": "X-axis scale",
       "index": 1,
       "layout": "IPY_MODEL_a70d1a09152a417e9c9ffce2de71f913",
       "style": "IPY_MODEL_168d8f0ebaf344ba835d43f60d135be7"
      }
     }
    },
    "version_major": 2,
    "version_minor": 0
   }
  }
 },
 "nbformat": 4,
 "nbformat_minor": 4
}
