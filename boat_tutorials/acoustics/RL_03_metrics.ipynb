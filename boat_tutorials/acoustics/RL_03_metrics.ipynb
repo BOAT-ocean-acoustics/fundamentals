{
 "cells": [
  {
   "cell_type": "markdown",
   "metadata": {},
   "source": [
    "(acoustics-receiver_metrics)=\n",
    "## Quantifying received sound\n",
    "\n",
    "Once sound signals are captured by hydrophones, how do we quantify what's in the received sound?"
   ]
  },
  {
   "cell_type": "markdown",
   "metadata": {},
   "source": [
    "### Sound pressure level (SPL)\n",
    "One of the commonest measure is **sound pressure level (SPL)**, which characterizes how loud the sound is and is usually written as:\n",
    "\n",
    "$$\n",
    "\\textrm{SPL} = 20 \\log_{10} \\frac{P}{P_{ref}}\n",
    "$$\n",
    "\n",
    "where $P$ is the sound pressure, and $P_{ref}$ is the reference pressure. This is why the unit of SPL is typically in the form of **dB re 1 µPa**, as it is a logarithmic measure of the ratio between the sound pressure and a reference pressure.\n",
    "\n",
    "```{Note}\n",
    ":class: note\n",
    "The reference pressure is usually 1 µPa in water and 20 µPa in air, which makes a big difference in the resulting SPL values!\n",
    "```"
   ]
  },
  {
   "cell_type": "markdown",
   "metadata": {},
   "source": [
    "In practice, to calculate SPL from hydrophone measurement, we often use:\n",
    "\n",
    "$$\n",
    "\\textrm{SPL} = 20 \\log_{10} \\frac{V}{V_{ref}} - M\n",
    "$$\n",
    "\n",
    "where $V$ is the measured voltage and $M$ is the receiving sensitivity. To see how this formula comes about, let's start with the linear domain quantities:\n",
    "\n",
    "$$\n",
    "V = P \\times m\n",
    "$$\n",
    "\n",
    "where $m$ is the linear receiving sensitivty (i.e. $M=20 \\log{m}$). Dividing both sides by $V_{ref}$ and multiply the right hand side by $\\frac{P_{ref}}{P_{ref}}$, we get\n",
    "\n",
    "$$\n",
    "\\frac{V}{V_{ref}} = \\frac{P}{P_{ref}} \\times \\frac{P_{ref}}{V_{ref}} \\times m\n",
    "$$\n",
    "\n",
    "Taking the equation to the log domain:\n",
    "\n",
    "$$\n",
    "20 \\log{ \\frac{V}{V_{ref}} } = 20 \\log{ \\frac{P}{P_{ref}} } + 20 \\log{ \\frac{m}{ V_{ref} / P_{ref}} }\n",
    "$$\n",
    "\n",
    "which gives\n",
    "\n",
    "$$\n",
    "20 \\log{ \\frac{V}{V_{ref}} } = \\textrm{SPL} + M\n",
    "$$\n",
    "\n",
    "and hence the above formula.\n",
    "\n",
    "When there is a gain factor $G$ applied to the voltage signal by electronics associated with the hydrophone, we have\n",
    "\n",
    "$$\n",
    "\\textrm{SPL} = 20 \\log{ \\frac{V}{V_{ref}} } - M - G\n",
    "$$\n",
    "\n",
    "Here there is a minus sign before $G$, since to return to the original measured quantity, we need _remove_ the influence of the gain.\n"
   ]
  },
  {
   "cell_type": "markdown",
   "metadata": {},
   "source": [
    "### Sound pressure metrics\n",
    "\n",
    "However, most sound recordings consist of a series of voltage measurements. How do we choose a point to calculate the SPL, and is that even the right way to do it?\n",
    "\n",
    "Indeed usually we do not report a single point on a voltage time series, but use a metric or a descriptor. Most metrics are based either directly on sound pressure, or on sound intensity $I$, which is proportional to the square of sound pressure ($I = \\frac{P^2}{\\rho c}$). Precisely because the goal is to quantify sound received in a time series, you will notice the time period under consideration ($T$) in all of the common metrics below:\n",
    "\n",
    "- Root mean square (RMS) pressure [unit: Pa]: \n",
    "\n",
    "  $$\n",
    "  P_\\textrm{RMS} = \\sqrt{ \\frac{\\int_T P(t)^2 dt}{T} }\n",
    "  $$\n",
    "\n",
    "- Peak-to-peak (p2p) pressure [unit: Pa]:\n",
    "\n",
    "  $$\n",
    "  P_\\textrm{p2p} = P_\\textrm{max} - P_\\textrm{min}\n",
    "  $$\n",
    "  where $P_\\textrm{max}$ and $P_\\textrm{min}$ are the maximum and minimum pressure during the time period under consideration\n",
    "\n",
    "- Energy flux density (EFD) [unit: W/m<sup>2</sup>]:\n",
    "  \n",
    "  $$\n",
    "  E = \\int_T I(t) dt\n",
    "  $$\n",
    "\n",
    "  Different from RMS and p2p pressure, EFD is a cumulative measure and is often used to quantify sound energy exposure for marine animals.\n",
    "\n",
    "\n",
    "\n",
    "```{Tip}\n",
    ":class: tip\n",
    "You may already know each signal has a specific frequency content, or \"spectrum.\" The signal spectrum is very important in distinguishing different types of signals and many other applications. Learn more in the [Spectral analysis](acoustics-spectral) tutorial.\n",
    "```"
   ]
  },
  {
   "cell_type": "code",
   "execution_count": 1,
   "metadata": {},
   "outputs": [],
   "source": [
    "# ADD WIDGET:\n",
    "# - SIGNAL TYPES: IMPULSE, TAPERED SINE WAVE (NO TAPER TO FULLY TAPERED)\n",
    "# - ALLOW CHANGING SINE WAVE LENGTH, AMPLITUDE, TAPERING\n",
    "# - ALLOW CHANGING IMPULSE AMPLITUDE\n",
    "# - PLOT RMS, P2P LEVEL ON THE FIGURE\n",
    "# - SHOW EFD, RMS, P2P NUMBERS AS OUTPUTS\n",
    "\n",
    "\n",
    "# NOTE: LEAVING ANYTHING IN THE FREQ DOMAIN TO SPECTRAL ANALYSIS TUTORIAL\n"
   ]
  },
  {
   "cell_type": "code",
   "execution_count": null,
   "metadata": {},
   "outputs": [],
   "source": []
  }
 ],
 "metadata": {
  "kernelspec": {
   "display_name": "boat_20250320",
   "language": "python",
   "name": "python3"
  },
  "language_info": {
   "codemirror_mode": {
    "name": "ipython",
    "version": 3
   },
   "file_extension": ".py",
   "mimetype": "text/x-python",
   "name": "python",
   "nbconvert_exporter": "python",
   "pygments_lexer": "ipython3",
   "version": "3.12.9"
  }
 },
 "nbformat": 4,
 "nbformat_minor": 2
}
