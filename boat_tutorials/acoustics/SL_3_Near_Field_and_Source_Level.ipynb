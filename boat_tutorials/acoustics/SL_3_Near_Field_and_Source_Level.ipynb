{
 "cells": [
  {
   "cell_type": "markdown",
   "metadata": {},
   "source": [
    "(acoustics-near_field)=\n",
    "## The Near-field of a Transducer\n",
    "\n",
    "One important property of the far-field of a transducer is that the sound in this region all appears to coming from a single point on the transducer. This is what leads to the  $1/r^2$ decrease in the intensity with range. This is no longer true near the face of the transducer. There is a region where the sound from one part of the transducer is interfering with sound from other parts of the transducer and there are no clear beams. This region is refered to as the **near-field** of the transducer. There is no simple mathematical expression for the sound field in this region, but we can numerically determine the full field for the baffled piston and the result for $f = 12 kHz$ and $a = 0.5 m$ is shown in the plot on the right below. The plot on the left shows the far-field approximation using the same set of paramters. In the far-field calculation plot, regardless of how close you get to the transducer face, the field will always appear to come from a point at the center of the transducer. In the full-field calculation, this is no longer true. There is sound coming from the entire face of the transducer, which spans -0.5 m to 0.5 m, and there is a complicated interference pattern out to about 2 m in range. Beyond this point, the tow fields (far-field and full-field) start to become similar.\n",
    "\n",
    "```{image} ../images/FarField_NearField_example.png\n",
    ":width: 400px\n",
    "```\n",
    "\n",
    "This transition between the near-field and the far-field of the transducer can be seen more clearly if we look just at the intensity along the center of the main beam. The intensity of the full-field along this axis has an analytic expression. The widget below shows both the full-field intensity (red line) and the far-field approximation (blue line). Notice that as you go further out in range, the two curves begin to converge which indicates when the transition from the near-field to the far-field has occured. There are a number of ways to estimate when this transition between near-field and far-field occurs. One useful estimate is that the range from the transducer needs to satisfy $r \\gg 2a$ and $r \\gg \\pi a^2/\\lambda$. In these calculations, the speed of sound is $c = 1500$ m/s and using the relationship between frequency and wavelength, $c = f\\lambda$ , you can verify that these conditions hold as you change the frequency and radius of the transducer. "
   ]
  },
  {
   "cell_type": "code",
   "execution_count": 1,
   "metadata": {
    "tags": [
     "hide-input"
    ]
   },
   "outputs": [],
   "source": [
    "# Import packages\n",
    "import multiprocessing as mp\n",
    "from functools import partial\n",
    "\n",
    "import numpy as np\n",
    "import matplotlib.pyplot as plt\n",
    "from scipy.special import j1  # Bessel function of the first kind\n",
    "import ipywidgets as widgets\n",
    "from ipywidgets import interact\n",
    "import pandas as pd"
   ]
  },
  {
   "cell_type": "code",
   "execution_count": 2,
   "metadata": {
    "tags": [
     "hide-input"
    ]
   },
   "outputs": [
    {
     "data": {
      "application/vnd.jupyter.widget-view+json": {
       "model_id": "ac20d2a17dbc4002add3ab5fd9a57122",
       "version_major": 2,
       "version_minor": 0
      },
      "text/plain": [
       "interactive(children=(IntSlider(value=12, description='Frequency (kHz)', max=200, min=1), FloatSlider(value=0.…"
      ]
     },
     "metadata": {},
     "output_type": "display_data"
    },
    {
     "data": {
      "text/plain": [
       "<function __main__.update_far_and_full_field_intensity_on_axis(f, a, SL)>"
      ]
     },
     "execution_count": 2,
     "metadata": {},
     "output_type": "execute_result"
    }
   ],
   "source": [
    "# Constants\n",
    "rho0 = 1\n",
    "c = 1500\n",
    "\n",
    "# Create sliders for 'SL', 'a', 'f'\n",
    "f_slider = widgets.IntSlider(min=1, max=200, step=1, value=12, description='Frequency (kHz)')\n",
    "a_slider = widgets.FloatSlider(min=0.01, max=1, step=0.01, value=0.5, description='Piston Radius (m)')\n",
    "SL_slider = widgets.IntSlider(min=100, max=220, step=1, value=180, description='Source Level (dB)')\n",
    "\n",
    "def far_and_full_field_intensity_on_axis(f, a, SL):\n",
    "    # Calculate angular frequency\n",
    "    omega = 2 * np.pi * f * 1000\n",
    "\n",
    "    # Calculate wavenumber\n",
    "    k = omega / c\n",
    "\n",
    "    # Calculate sound pressure level in linear units\n",
    "    SL_lin = 10**(SL / 20)\n",
    "\n",
    "    # Calculate the particle velocity amplitude\n",
    "    U0 = SL_lin / (rho0 * c * k * a * a / 2)\n",
    "\n",
    "    # Generate x-axis points\n",
    "    x_axis = np.linspace(0.01, 5, 200)\n",
    "\n",
    "    ## Far field calculation\n",
    "    P_far_axis = 0.5 * c * U0 * k * a * a / x_axis\n",
    "    I_far_axis = 10 * np.log10(np.square(P_far_axis))\n",
    "\n",
    "    ## Full field calculation\n",
    "    P_full_axis = rho0 * c * U0 * (np.exp(-1j * k * x_axis) - np.exp(-1j * k * np.sqrt(np.square(x_axis) + np.square(a))))\n",
    "    I_full_axis = 10 * np.log10(np.abs(P_full_axis)**2)\n",
    "\n",
    "    return x_axis, I_far_axis, I_full_axis\n",
    "\n",
    "def update_far_and_full_field_intensity_on_axis(f, a, SL):\n",
    "    x_axis, I_far_axis, I_full_axis = far_and_full_field_intensity_on_axis(f, a, SL)\n",
    "    \n",
    "    # Close any existing plots\n",
    "    plt.close('all')\n",
    "\n",
    "    # Plotting\n",
    "    plt.figure(1)\n",
    "    plt.plot(x_axis, I_far_axis, label='Far-field intensity along main beam axis', linewidth=2, color=\"b\")\n",
    "    plt.plot(x_axis, I_full_axis, label='Full-field intensity along main beam axis', linewidth=2, color=\"r\")\n",
    "    plt.xlabel('Range (m)')\n",
    "    plt.ylabel('Intensity (dB re 1μPa)')\n",
    "    # plt.yaxis.set_label_position('right')\n",
    "    # plt.yaxis.label.set_rotation(270)\n",
    "    # plt.yaxis.labelpad = 13\n",
    "    # plt.yaxis.tick_right()\n",
    "    # plt.set_aspect('auto')\n",
    "    plt.grid(True)\n",
    "    \n",
    "    plt.show\n",
    "\n",
    "\n",
    "# Use interact to link widgets and plotting function\n",
    "interact(\n",
    "    update_far_and_full_field_intensity_on_axis,\n",
    "    f=f_slider,\n",
    "    a=a_slider,\n",
    "    SL=SL_slider,\n",
    ")\n"
   ]
  },
  {
   "cell_type": "markdown",
   "metadata": {},
   "source": [
    "```{Note}\n",
    ":class: note\n",
    "For the SS510 transducer, we found that at 200 kHz, the radius of the transducer was about 23 mm by using the [beampattern widget](acoustics-SL_piston_far_field). For this frequency and radius, where is the near-field to far-field transition?\n",
    "```"
   ]
  },
  {
   "cell_type": "markdown",
   "metadata": {},
   "source": [
    "(acoustics-source_level)=\n",
    "# Source Level\n",
    "\n",
    "Since we are looking at the intensity along the axis of the main beam, this is a good time to define the **source level (SL)**. To determine the source level, the pressure in the far-field along the axis of the main beam is extrapolated back to a range of 1 m from the transducer. The mean square of the pressure, $p_{RMS}^2$, where $p_{RMS}$ is the root mean square of the pressure, is then taken and referenced to an pressure of $p_{ref} = 1 \\mu\\text{PA}$. In decibels, the source level is expressed as \n",
    "\n",
    "$$ SL = 20\\log_{10}\\frac{p_{RMS}\\left(r_{ref}\\right)}{p_{ref}},$$\n",
    "\n",
    "where $r_{ref} =$ 1 m. In the calculation above, you can change the source level. Notice that regardless of what the full-field expression is doing or where the near-to-far-field transition is located, the far-field value at 1 m is always at the source just as we defined it.\n",
    "\n",
    "# Source Directivity\n",
    "\n",
    "How do we account for the beam pattern in the sonar equation? The source level is defined in terms of the intensity along the main beam of the transducer. If we are interested in the intensity away from this axis, we can incorporate the **source directivity (D)** into the sonar equation. The source directivity is defined as the ratio of the intensity measured at a given range and at an angle relative to the main beam axis to the intensity at the same range but along the main beam axis,\n",
    "\n",
    "$$ D = 10\\log_{10}\\frac{I\\left(r,\\theta,\\phi\\right)}{I_{ax}\\left(r\\right)} $$\n",
    "\n",
    "where $I_{ax}$ is the intensity along the main beam axis where $\\theta = 0$ and $\\phi = 0$. This is what we plotted in the [beampattern widget](acoustics-SL_piston_far_field).\n",
    "\n",
    "For our orca example, if Ola turns is trying find a fish but is facing the wrong direction, the sonar equation becomes\n",
    "\n",
    "$$ RL = SL + D - 2*TL + TS.$$\n",
    "\n",
    "Although the source directivity is added to the source level, it is typically (but not always) a negative number as you rotate away from the main beam. Thus if Ola is facing the wrong direction, the return from the fish will be weaker."
   ]
  }
 ],
 "metadata": {
  "celltoolbar": "Tags",
  "kernelspec": {
   "display_name": "Python 3",
   "language": "python",
   "name": "python3"
  },
  "language_info": {
   "codemirror_mode": {
    "name": "ipython",
    "version": 3
   },
   "file_extension": ".py",
   "mimetype": "text/x-python",
   "name": "python",
   "nbconvert_exporter": "python",
   "pygments_lexer": "ipython3",
   "version": "3.8.3"
  },
  "widgets": {
   "application/vnd.jupyter.widget-state+json": {
    "state": {
     "041431f304694dc2b2cff7d736321e90": {
      "model_module": "@jupyter-widgets/controls",
      "model_module_version": "1.5.0",
      "model_name": "IntSliderModel",
      "state": {
       "description": "Source Level (dB)",
       "layout": "IPY_MODEL_d5ccdc838ac64161a36c0e488d291e91",
       "max": 220,
       "min": 100,
       "style": "IPY_MODEL_29626889cc90470faf8e321e17840d25",
       "value": 180
      }
     },
     "292d3284c0444eab95316bb5b413fdf5": {
      "model_module": "@jupyter-widgets/controls",
      "model_module_version": "1.5.0",
      "model_name": "FloatSliderModel",
      "state": {
       "description": "Piston Radius (m)",
       "layout": "IPY_MODEL_63cd80bbeaea42e78aded6c2c099180c",
       "max": 1,
       "min": 0.01,
       "step": 0.01,
       "style": "IPY_MODEL_c7a333a65eda4503bfd4b580d874702d",
       "value": 0.5
      }
     },
     "29626889cc90470faf8e321e17840d25": {
      "model_module": "@jupyter-widgets/controls",
      "model_module_version": "1.5.0",
      "model_name": "SliderStyleModel",
      "state": {
       "description_width": ""
      }
     },
     "30f051828a4a4a6483902c6f096ad9ce": {
      "model_module": "@jupyter-widgets/base",
      "model_module_version": "1.2.0",
      "model_name": "LayoutModel",
      "state": {}
     },
     "63cd80bbeaea42e78aded6c2c099180c": {
      "model_module": "@jupyter-widgets/base",
      "model_module_version": "1.2.0",
      "model_name": "LayoutModel",
      "state": {}
     },
     "969ae24f870b4fc9ad2ccc87dd79b5ca": {
      "model_module": "@jupyter-widgets/base",
      "model_module_version": "1.2.0",
      "model_name": "LayoutModel",
      "state": {}
     },
     "ac20d2a17dbc4002add3ab5fd9a57122": {
      "model_module": "@jupyter-widgets/controls",
      "model_module_version": "1.5.0",
      "model_name": "VBoxModel",
      "state": {
       "_dom_classes": [
        "widget-interact"
       ],
       "children": [
        "IPY_MODEL_d2bf4ed4b21a40d4a50b4f11bb7afab0",
        "IPY_MODEL_292d3284c0444eab95316bb5b413fdf5",
        "IPY_MODEL_041431f304694dc2b2cff7d736321e90",
        "IPY_MODEL_baa1da84c3bf42f0b74877a3376d55ee"
       ],
       "layout": "IPY_MODEL_30f051828a4a4a6483902c6f096ad9ce"
      }
     },
     "baa1da84c3bf42f0b74877a3376d55ee": {
      "model_module": "@jupyter-widgets/output",
      "model_module_version": "1.0.0",
      "model_name": "OutputModel",
      "state": {
       "layout": "IPY_MODEL_d435bf2a5b264c75ac04711875dbed17",
       "outputs": [
        {
         "data": {
          "image/png": "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\n",
          "text/plain": "<Figure size 432x288 with 1 Axes>"
         },
         "metadata": {
          "needs_background": "light"
         },
         "output_type": "display_data"
        }
       ]
      }
     },
     "c7a333a65eda4503bfd4b580d874702d": {
      "model_module": "@jupyter-widgets/controls",
      "model_module_version": "1.5.0",
      "model_name": "SliderStyleModel",
      "state": {
       "description_width": ""
      }
     },
     "d2bf4ed4b21a40d4a50b4f11bb7afab0": {
      "model_module": "@jupyter-widgets/controls",
      "model_module_version": "1.5.0",
      "model_name": "IntSliderModel",
      "state": {
       "description": "Frequency (kHz)",
       "layout": "IPY_MODEL_969ae24f870b4fc9ad2ccc87dd79b5ca",
       "max": 200,
       "min": 1,
       "style": "IPY_MODEL_ee8cf88729ea43cf854b2208e37e2e9b",
       "value": 12
      }
     },
     "d435bf2a5b264c75ac04711875dbed17": {
      "model_module": "@jupyter-widgets/base",
      "model_module_version": "1.2.0",
      "model_name": "LayoutModel",
      "state": {}
     },
     "d5ccdc838ac64161a36c0e488d291e91": {
      "model_module": "@jupyter-widgets/base",
      "model_module_version": "1.2.0",
      "model_name": "LayoutModel",
      "state": {}
     },
     "ee8cf88729ea43cf854b2208e37e2e9b": {
      "model_module": "@jupyter-widgets/controls",
      "model_module_version": "1.5.0",
      "model_name": "SliderStyleModel",
      "state": {
       "description_width": ""
      }
     }
    },
    "version_major": 2,
    "version_minor": 0
   }
  }
 },
 "nbformat": 4,
 "nbformat_minor": 2
}
