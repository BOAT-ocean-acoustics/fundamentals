{
 "cells": [
  {
   "cell_type": "markdown",
   "metadata": {},
   "source": [
    "## The Near-field of a Transducer\n",
    "\n",
    "One important property of the far-field of a transducer is that the sound in this region all appears to coming from a single point on the transducer. This is what leads to the  $1/r^2$ decrease in the intensity with range. Near the face of the transducer, this is no longer true and there is a region where the sound from one part of the transducer is interfering with sound from other parts of the transducer and there are no clear beams. This region is refered to as the **near-field** of the transducer. There is no simple mathematical expression for the sound field in this region, but we can numerically determine the full field for the baffled piston and the result for $f = 12 kHz$ and $a = 0.5 m$ is shown in the plot on the right below. The plot on the left shows the far-field approximation using the same set of paramters. In this plot, regardless of how close you get to the transducer face, the field will always appear to come from a point at the center of the transducer. In the full-field calculation, this is no longer true. There is sound coming from the entire face of the transducer, which spans -0.5 m to 0.5 m, and there is a complicated interference pattern out to about 2 m in range. Beyond this point, the fields start to become similar.\n",
    "\n",
    "![Comparison of far field approximation to full field result](../images/FarField_NearField_example.png)\n",
    "\n",
    "This transition between the near-field and the far-field of the transducer can be seen more clearly if we look just at the intensity along the center of the main beam, which has an analytic expression. The widget below shows both the near-field intensity (red line) and the far-field approximation (blue line). Notice that as you go further out in range, the two curves begin to converge which indicates when the transition from the near-field to the far-field has occured. There are a number of ways to estimate when this transition between near-field and far-field occurs. One useful estimate is that the range from the transducer needs to satisfy $r \\gg 2a$ and $r \\gg \\pi a^2/\\lambda$. In these calculations, the speed of sound is $c = 1500$ m/s and using the relationship between frequency and wavelength, $c = f\\lambda$ , you can varify that this conditions hold as you change the frequency and radius of the transducer. "
   ]
  },
  {
   "cell_type": "code",
   "execution_count": 2,
   "metadata": {},
   "outputs": [],
   "source": [
    "# Import packages\n",
    "import multiprocessing as mp\n",
    "from functools import partial\n",
    "\n",
    "import numpy as np\n",
    "import matplotlib.pyplot as plt\n",
    "from scipy.special import j1  # Bessel function of the first kind\n",
    "import ipywidgets as widgets\n",
    "from ipywidgets import interact\n",
    "import pandas as pd"
   ]
  },
  {
   "cell_type": "code",
   "execution_count": 3,
   "metadata": {},
   "outputs": [
    {
     "data": {
      "application/vnd.jupyter.widget-view+json": {
       "model_id": "9438a13f5a1745aab7b090970593bac3",
       "version_major": 2,
       "version_minor": 0
      },
      "text/plain": [
       "interactive(children=(IntSlider(value=12, description='Frequency (kHz)', max=50, min=1), FloatSlider(value=0.5…"
      ]
     },
     "metadata": {},
     "output_type": "display_data"
    },
    {
     "data": {
      "text/plain": [
       "<function __main__.update_far_and_full_field_intensity_on_axis(f, a, SL)>"
      ]
     },
     "execution_count": 3,
     "metadata": {},
     "output_type": "execute_result"
    }
   ],
   "source": [
    "# Constants\n",
    "rho0 = 1\n",
    "c = 1500\n",
    "\n",
    "# Create sliders for 'SL', 'a', 'f'\n",
    "f_slider = widgets.IntSlider(min=1, max=50, step=1, value=12, description='Frequency (kHz)')\n",
    "a_slider = widgets.FloatSlider(min=0.1, max=1, step=0.1, value=0.5, description='Piston Radius (m)')\n",
    "SL_slider = widgets.IntSlider(min=100, max=220, step=1, value=180, description='Source Level (dB)')\n",
    "\n",
    "def far_and_full_field_intensity_on_axis(f, a, SL):\n",
    "    # Calculate angular frequency\n",
    "    omega = 2 * np.pi * f * 1000\n",
    "\n",
    "    # Calculate wavenumber\n",
    "    k = omega / c\n",
    "\n",
    "    # Calculate sound pressure level in linear units\n",
    "    SL_lin = 10**(SL / 20)\n",
    "\n",
    "    # Calculate the particle velocity amplitude\n",
    "    U0 = SL_lin / (rho0 * c * k * a * a / 2)\n",
    "\n",
    "    # Generate x-axis points\n",
    "    x_axis = np.linspace(0.1, 5, 200)\n",
    "\n",
    "    ## Far field calculation\n",
    "    P_far_axis = 0.5 * c * U0 * k * a * a / x_axis\n",
    "    I_far_axis = 10 * np.log10(np.square(P_far_axis))\n",
    "\n",
    "    ## Full field calculation\n",
    "    P_full_axis = rho0 * c * U0 * (np.exp(-1j * k * x_axis) - np.exp(-1j * k * np.sqrt(np.square(x_axis) + np.square(a))))\n",
    "    I_full_axis = 10 * np.log10(np.abs(P_full_axis)**2)\n",
    "\n",
    "    return x_axis, I_far_axis, I_full_axis\n",
    "\n",
    "def update_far_and_full_field_intensity_on_axis(f, a, SL):\n",
    "    x_axis, I_far_axis, I_full_axis = far_and_full_field_intensity_on_axis(f, a, SL)\n",
    "    \n",
    "    # Close any existing plots\n",
    "    plt.close('all')\n",
    "\n",
    "    # Plotting\n",
    "    plt.figure(1)\n",
    "    plt.plot(x_axis, I_far_axis, label='Far-field intensity along main beam axis', linewidth=2, color=\"b\")\n",
    "    plt.plot(x_axis, I_full_axis, label='Full-field intensity along main beam axis', linewidth=2, color=\"r\")\n",
    "    plt.xlabel('Range (m)')\n",
    "    plt.ylabel('Intensity (dB re 1μPa)')\n",
    "    # plt.yaxis.set_label_position('right')\n",
    "    # plt.yaxis.label.set_rotation(270)\n",
    "    # plt.yaxis.labelpad = 13\n",
    "    # plt.yaxis.tick_right()\n",
    "    # plt.set_aspect('auto')\n",
    "    plt.grid(True)\n",
    "    \n",
    "    plt.show\n",
    "\n",
    "\n",
    "# Use interact to link widgets and plotting function\n",
    "interact(\n",
    "    update_far_and_full_field_intensity_on_axis,\n",
    "    f=f_slider,\n",
    "    a=a_slider,\n",
    "    SL=SL_slider,\n",
    ")\n"
   ]
  },
  {
   "cell_type": "markdown",
   "metadata": {},
   "source": [
    "# Source Level\n",
    "\n",
    "Since we are looking at the intensity along the axis of the main beam, this is a good time to define the **source level (SL)**. To determine the source level, the pressure in the far-field is extrapolated back to a range of 1 m from the transducer. The mean square of the pressure, $p_{RMS}^2$, where $p_{RMS}$ is the root mean square of the pressure, is then taken and referenced to an pressure of $p_{ref} = 1 \\mu\\text{PA}$. In decibels, the source level is expressed as \n",
    "\n",
    "$$ SL = 20\\log_{10}\\frac{p_{RMS}\\left(r_{ref}\\right)}{p_{ref}},$$\n",
    "\n",
    "where $r_{ref} =$ 1 m. In the calculation above, you can change the source level. Notice that regardless of what the full-field expression is doing or where the near-to-far-field transition is located, the far-field value at 1 m is always at the source just as we defined it."
   ]
  },
  {
   "cell_type": "markdown",
   "metadata": {},
   "source": [
    "# Other types of transducers\n",
    "\n",
    "Another common transducer design is a transducer with a rectangular face. For the circular piston, we saw that as we increased the diameter of the piston face, the main beam became narrower in all directions. For the rectangular piston, as one of the axes of the rectangle is lengthened, the beam in the plane parallel to that axis will also become narrower while the beam perpendicular to that axis remains largely unchanged. This can be really useful in situations where you want a narrow beam in one direction and a wide beam in the other direction. Side scan sonars use a rectangular transducer to make it possible to image using a beam projected from the side of towed sonar that is wide in the vertical direction but very narrow in the direction of the towed. "
   ]
  }
 ],
 "metadata": {
  "kernelspec": {
   "display_name": "Python 3 (ipykernel)",
   "language": "python",
   "name": "python3"
  },
  "language_info": {
   "codemirror_mode": {
    "name": "ipython",
    "version": 3
   },
   "file_extension": ".py",
   "mimetype": "text/x-python",
   "name": "python",
   "nbconvert_exporter": "python",
   "pygments_lexer": "ipython3",
   "version": "3.9.7"
  }
 },
 "nbformat": 4,
 "nbformat_minor": 2
}
