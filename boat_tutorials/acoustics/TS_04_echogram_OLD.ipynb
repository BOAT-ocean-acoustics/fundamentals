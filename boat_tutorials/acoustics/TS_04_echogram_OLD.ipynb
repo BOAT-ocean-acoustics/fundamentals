{
 "cells": [
  {
   "cell_type": "markdown",
   "metadata": {
    "editable": true,
    "slideshow": {
     "slide_type": ""
    },
    "tags": [],
    "vscode": {
     "languageId": "plaintext"
    }
   },
   "source": [
    "(acoustics-scattering_interpretation)=\n",
    "## Interpreting echoes"
   ]
  },
  {
   "cell_type": "markdown",
   "metadata": {},
   "source": [
    "(acoustics-scattering_echogram_old)=\n",
    "### Echograms\n",
    "\n",
    "We have discussed quite a bit about how different things scatter sound, and how we can use these understandings to interpret echoes. But how do we visualize echoes in a way that the echoes look like? Since the delay it takes for an echo from a certain object to be received by a transducer depends on the distance between the transducer and the object (the \"range\"), we typically align the echoes—each one a time series of its own—by the time of transmission (the \"ping\")\n",
    "\n",
    "<!-- , like below: -->\n",
    "\n",
    "<!-- ADD FIGURE OF ECHO TIME SERIES IN WATERFALL PLOT -->"
   ]
  },
  {
   "cell_type": "markdown",
   "metadata": {},
   "source": [
    "This is an interesting plot, because both the vertical and horizontal axis are in the unit of time: the vertical axis are the _global_ time of each ping, and the horizontal axis are the _local_ time measured from the start of each ping. If we know the sound speed, we can easily transform the horizontal axis to be based on distance, based on the understanding that the sound would have traveled a roundtrip from the transducer to the scatterer and back to the transducer, i.e.\n",
    "\n",
    "$$d = ct/2$$\n",
    "\n",
    "where $d$ is the distance traveled, $c$ is the sound speed,and $t$ is the time elapsed since transmission."
   ]
  },
  {
   "cell_type": "markdown",
   "metadata": {
    "editable": true,
    "slideshow": {
     "slide_type": ""
    },
    "tags": [],
    "vscode": {
     "languageId": "plaintext"
    }
   },
   "source": [
    "\"Echograms\" a essentially color-coded version of the above time series plot, often plotted with the echo magnitude or intensity. Depending whether the sonar is aiming sideways (typical for long-range sonar at lower frequencies) or downward (typical for high-frequency \"echosounders\"), the echograms may be rotated to align with our intuitive understand of the space we are trying to probe. For example, below is a series of echograms from an horizontal-looking sonar centered around the source-receiver pair in a bird's-eye view, which is very different from the echograms from downward-looking echosounders we will see below.\n",
    "\n",
    "```{image} ../images/trex_fish_frames.jpeg\n",
    ":width: 700px\n",
    ":align: center\n",
    "```"
   ]
  },
  {
   "cell_type": "markdown",
   "metadata": {
    "editable": true,
    "slideshow": {
     "slide_type": ""
    },
    "tags": []
   },
   "source": [
    "(acoustics-scattering_inference)=\n",
    "### Inferring scatterer identity through echo spectrum\n",
    "\n",
    "From previous sections, we know that echo spectrum is one of the key features we can use to infer the identity or material composition of scatterers. How does this look like in practice? Below we use an echogram from a typical fisheries echosounder as an example.\n",
    "\n",
    "Many fisheries echosounders use narrowband sound with small bandwidth (\"narrowband\") spaced out across a large frequency range to try to observe animals from krill to whales that vary dramaticaly in size and anatomical compositions.\n",
    "\n",
    "In the widget below, you are seeing the same vertical slice of the ocean through give different transducer channels, each centered at the frequency shown on the panel. Based on experience, we know that there are likely both fish and zooplankton in this patch of the ocean. Using what we have learned about how scatterers of different sizes and material properties scatter sound (see [here](acoustics-scattering_discrete_size_materials_widget) for a review), can you guess which part of the echogram is dominated by swimbladder-bearing fish, and which part of the echogram is dominated by zooplankton that are numerous but small?\n",
    "\n",
    "```{Tip}\n",
    ":class: tip\n",
    "Hint: swimbladder has air in it, and the body of many zooplankton animals are made of materials very close to seawater.\n",
    "```"
   ]
  },
  {
   "cell_type": "code",
   "execution_count": 1,
   "metadata": {
    "editable": true,
    "slideshow": {
     "slide_type": ""
    },
    "tags": [
     "hide-input"
    ]
   },
   "outputs": [],
   "source": [
    "import numpy as np\n",
    "import matplotlib.pyplot as plt\n",
    "import matplotlib.patches as patches\n",
    "\n",
    "import matplotlib\n",
    "matplotlib.use('module://matplotlib_inline.backend_inline')\n",
    "\n",
    "import ipywidgets as widgets\n",
    "\n",
    "from IPython.display import display"
   ]
  },
  {
   "cell_type": "code",
   "execution_count": 2,
   "metadata": {
    "editable": true,
    "slideshow": {
     "slide_type": ""
    },
    "tags": [
     "hide-input"
    ]
   },
   "outputs": [],
   "source": [
    "mtx = np.load(\"../resources/x0052_0_wt_20170726_011534_f0009.npy\")\n",
    "\n",
    "a_min = -70\n",
    "a_max = -50\n",
    "with np.errstate(divide='ignore', invalid='ignore'):\n",
    "    mtx_clip = (\n",
    "        ((np.clip(mtx, a_min=a_min, a_max=a_max) - a_min)\n",
    "         / (a_max - a_min) * 255).astype(int)\n",
    "    )"
   ]
  },
  {
   "cell_type": "code",
   "execution_count": 3,
   "metadata": {
    "editable": true,
    "slideshow": {
     "slide_type": ""
    },
    "tags": [
     "hide-input"
    ]
   },
   "outputs": [
    {
     "data": {
      "application/vnd.jupyter.widget-view+json": {
       "model_id": "34301134ba044c1b8ca5aae00dc147b2",
       "version_major": 2,
       "version_minor": 0
      },
      "text/plain": [
       "interactive(children=(IntSlider(value=250, continuous_update=False, description='x index', max=390, style=Slid…"
      ]
     },
     "execution_count": 3,
     "metadata": {},
     "output_type": "execute_result"
    }
   ],
   "source": [
    "x_box_len = 50\n",
    "y_box_len = 200\n",
    "\n",
    "def get_echo_hist(x_idx,y_idx):\n",
    "    fig, ax = plt.subplots(1,3,figsize=(8, 3), sharey=True)\n",
    "    fig.subplots_adjust(wspace=0.05)\n",
    "    for ch, freq in zip(range(3), [18, 38, 120]):\n",
    "        im = ax[ch].imshow(mtx[ch,:,:].T, aspect=\"auto\", vmin=-80, vmax=-40)#, extent=[0, mtx.shape[1], 379, 0])\n",
    "        ax[ch].set_title(f\"{freq} kHz\")\n",
    "        rect = patches.Rectangle((x_idx, y_idx), x_box_len, y_box_len,\n",
    "                                linewidth=1, edgecolor=\"w\", facecolor=\"none\")\n",
    "        ax[ch].add_patch(rect)\n",
    "        ax[ch].set_xlabel(\"Ping number\")\n",
    "    ax_pos = ax[ch].get_position()\n",
    "    cax = fig.add_axes([ax_pos.x0+ax_pos.width+0.015, ax_pos.y0, 0.02, ax_pos.height])  # [left, bottom, width, height]\n",
    "    plt.colorbar(im, cax=cax)\n",
    "    cax.set_ylabel(\"Sv (dB)\")\n",
    "    ax[0].set_ylabel(\"Bin along range\")\n",
    "\n",
    "    plt.show()\n",
    "\n",
    "    sample = []\n",
    "    for ch in range(3):\n",
    "        sample.append(\n",
    "            mtx[ch, x_idx+np.arange(x_box_len), :][:, y_idx+np.arange(y_box_len)].reshape(-1,1)\n",
    "        )\n",
    "\n",
    "    fig = plt.figure(figsize=(6, 2.7), layout='constrained')\n",
    "    for ch, freq, color in zip(range(3), [18, 38, 120], [\"b\", \"g\", \"r\"]):\n",
    "        plt.hist(sample[ch], density=True,\n",
    "                 bins=np.arange(-100, -39, 1), alpha=0.3, facecolor=color,\n",
    "                 label=f\"{freq} kHz\")\n",
    "    plt.xlim(-100, -40)\n",
    "    plt.legend(bbox_to_anchor=(1.3, 0.8), loc=\"upper right\")\n",
    "    plt.xlabel(\"Sv (dB)\")\n",
    "    plt.ylabel(\"Distribution\")\n",
    "    plt.show()\n",
    "\n",
    "    plt.figure(figsize=(5.5, 3.5))\n",
    "    plt.imshow(np.moveaxis(mtx_clip, (0,1,2), (2,1,0))[:, :, ::-1],\n",
    "               aspect=\"auto\")#, extent=[0, mtx.shape[1], 379, 0])\n",
    "    rect = patches.Rectangle((x_idx, y_idx), x_box_len, y_box_len,\n",
    "                            linewidth=1, edgecolor=\"w\", facecolor=\"none\")\n",
    "    plt.gca().add_patch(rect)\n",
    "    plt.xlabel(\"Ping number\")\n",
    "    plt.ylabel(\"Bin along range\")\n",
    "    plt.title(\"Tricolor representation\")\n",
    "    plt.show()\n",
    "    \n",
    "x_slider = widgets.IntSlider(\n",
    "    value=250,\n",
    "    min=0,\n",
    "    max=390,\n",
    "    step=1,\n",
    "    description=\"x index\",\n",
    "    continuous_update=False,\n",
    "    style={'description_width': 'initial'} \n",
    ")\n",
    "\n",
    "y_slider = widgets.IntSlider(\n",
    "    value=1250,\n",
    "    min=0,\n",
    "    max=1801,\n",
    "    step=1,\n",
    "    description=\"y index\",\n",
    "    continuous_update=False,\n",
    "    style={'description_width': 'initial'} \n",
    ")\n",
    "\n",
    "widgets.interactive(get_echo_hist, x_idx=x_slider, y_idx=y_slider)"
   ]
  },
  {
   "cell_type": "markdown",
   "metadata": {
    "editable": true,
    "slideshow": {
     "slide_type": ""
    },
    "tags": []
   },
   "source": [
    "In the last panel above, we mapped the echo strengths at the three frequencies into the RGB bands to assemble the \"tricolor\" representation, which conveniently summarizes the spectral information and very useful for initial interpretation of echograms."
   ]
  },
  {
   "cell_type": "markdown",
   "metadata": {
    "editable": true,
    "slideshow": {
     "slide_type": ""
    },
    "tags": []
   },
   "source": [
    "We also would like to share this one example below that we found really beautiful!\n",
    "\n",
    "\n",
    "```{image} ../images/tricolor_long.png\n",
    ":width: 750px\n",
    ":align: center\n",
    "```"
   ]
  },
  {
   "cell_type": "code",
   "execution_count": null,
   "metadata": {
    "editable": true,
    "slideshow": {
     "slide_type": ""
    },
    "tags": []
   },
   "outputs": [],
   "source": []
  }
 ],
 "metadata": {
  "kernelspec": {
   "display_name": "Python 3 (ipykernel)",
   "language": "python",
   "name": "python3"
  },
  "language_info": {
   "codemirror_mode": {
    "name": "ipython",
    "version": 3
   },
   "file_extension": ".py",
   "mimetype": "text/x-python",
   "name": "python",
   "nbconvert_exporter": "python",
   "pygments_lexer": "ipython3",
   "version": "3.12.9"
  },
  "widgets": {
   "application/vnd.jupyter.widget-state+json": {
    "state": {},
    "version_major": 2,
    "version_minor": 0
   }
  }
 },
 "nbformat": 4,
 "nbformat_minor": 4
}
