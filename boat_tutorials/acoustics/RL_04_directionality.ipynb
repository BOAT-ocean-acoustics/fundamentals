{
 "cells": [
  {
   "cell_type": "markdown",
   "metadata": {},
   "source": [
    "## Receiving directionality"
   ]
  },
  {
   "cell_type": "markdown",
   "metadata": {},
   "source": [
    "(acoustics-receiver_plane_wave_approx)=\n",
    "### Plane wave approximation\n",
    "\n",
    "DISCUSSION PLANE WAVE APPROXIMATION!\n"
   ]
  },
  {
   "cell_type": "markdown",
   "metadata": {},
   "source": [
    "### Directionality"
   ]
  },
  {
   "cell_type": "markdown",
   "metadata": {},
   "source": [
    "While we often refer to hydrophones as points in the ocean, they all have a physical shape and size. This means that sound is not captured at a single point, but rather across a collection of sound-transducing elements on the hydrophone. As a result, every hydrophone has a certain _directionality_, or _beampattern_, which describes how the received sound level varies depending on the direction of incoming sound relative to the hydrophone. Depending on the application, sometimes we want an \"omnidirectional\" hydrophone that receives sound equally from all directions; at other times, we may want hydrophones that have a strong directionality, such that we can capture sound from a specific direction more clearly. \n",
    "\n",
    "Directionality arises because sound waves arriving at different parts of a receiver capture slightly different versions of the same sound. When these signals are combined, they create constructive and destructive interference depending on the sound direction.\n",
    "\n",
    "We can see this clearly using widget below, showing signals received by each of the two elements of a receiver _array_ and their combined output. Depending where the direction of incoming sound and its frequency, the differences between the two signals can significantly affect the amplitude of their sum, giving rise to the directionality."
   ]
  },
  {
   "cell_type": "code",
   "execution_count": 2,
   "metadata": {},
   "outputs": [],
   "source": [
    "# ADD WIDGET\n",
    "# - FIX 2 ELEMENTS\n",
    "# - VARY: SOUND FREQUENCY\n",
    "# - VARY: SOUND SOURCE DIRECTION: PLOT ON THE RIGHT AS AN ARROW\n",
    "# - PLOT 2 RECEIVED SIGNALS ON THE LEFT OF ELEMENT\n",
    "# - PLOT THE SUM OF THE SIGNALS BELOW THE INDIVIDUAL SIGNAL\n",
    "# - PLOT A VERTICAL GRAPH ON THE RIGHT SHOWING RMS OR PEAK AMPLITUDE VS ANGLE, WITH A POINT INDICATING THE CURRENT SOURCE DIRECTION\n"
   ]
  },
  {
   "cell_type": "code",
   "execution_count": 1,
   "metadata": {},
   "outputs": [],
   "source": [
    "import matplotlib\n",
    "matplotlib.use('module://matplotlib_inline.backend_inline')\n",
    "\n",
    "import numpy as np\n",
    "import matplotlib.pyplot as plt\n",
    "import matplotlib.gridspec as gridspec\n",
    "import ipywidgets as widgets\n",
    "\n",
    "from IPython.display import display"
   ]
  },
  {
   "cell_type": "code",
   "execution_count": 59,
   "metadata": {},
   "outputs": [],
   "source": [
    "r = 1  # viz source circle radius\n",
    "d = 0.5  # element spacing\n",
    "c = 1500  # sound speed\n",
    "freq = 1000\n",
    "t = np.linspace(0, 0.01, 1000)\n",
    "angle_rad_all = np.deg2rad(np.arange(-90, 91, 1))\n",
    "phase_shift_all = d * np.sin(angle_rad_all) / (c/freq) * 2 * np.pi\n",
    "y = np.sin(2 * np.pi * freq * t)\n",
    "y1_all = np.sin(np.tile(2 * np.pi * freq * t, (phase_shift_all.size,1))\n",
    "                - np.tile(phase_shift_all, (t.size, 1)).T)\n",
    "y_sum_all = (y + y1_all).max(axis=1)"
   ]
  },
  {
   "cell_type": "code",
   "execution_count": 61,
   "metadata": {},
   "outputs": [
    {
     "data": {
      "text/plain": [
       "[<matplotlib.lines.Line2D at 0x17cfa7950>]"
      ]
     },
     "execution_count": 61,
     "metadata": {},
     "output_type": "execute_result"
    },
    {
     "data": {
      "image/png": "[encoded data removed]",
      "text/plain": [
       "<Figure size 640x480 with 1 Axes>"
      ]
     },
     "metadata": {},
     "output_type": "display_data"
    }
   ],
   "source": [
    "plt.plot(angle_rad_all, y_sum_all)"
   ]
  },
  {
   "cell_type": "code",
   "execution_count": null,
   "metadata": {},
   "outputs": [],
   "source": []
  },
  {
   "cell_type": "code",
   "execution_count": null,
   "metadata": {},
   "outputs": [],
   "source": []
  },
  {
   "cell_type": "code",
   "execution_count": 75,
   "metadata": {},
   "outputs": [
    {
     "data": {
      "application/vnd.jupyter.widget-view+json": {
       "model_id": "281d9bf8e3e140ab95c235632500d8e0",
       "version_major": 2,
       "version_minor": 0
      },
      "text/plain": [
       "interactive(children=(IntSlider(value=0, description='Angle (°)', layout=Layout(width='600px'), max=90, min=-9…"
      ]
     },
     "metadata": {},
     "output_type": "display_data"
    }
   ],
   "source": [
    "COLOR = [\"C0\", \"C1\"]\n",
    "\n",
    "def update_2_rcvr(angle, freq):\n",
    "    \n",
    "    angle_rad = np.deg2rad(angle)\n",
    "    r = 1  # viz source circle radius\n",
    "    d = 0.5  # element spacing\n",
    "    c = 1500  # sound speed\n",
    "    t = np.linspace(0, 0.01, 1000)\n",
    "    y = np.sin(2 * np.pi * freq * t)\n",
    "    phase_shift = d * np.sin(angle_rad) / (c/freq) * 2 * np.pi\n",
    "    y1 = np.sin(2 * np.pi * freq * t - phase_shift)\n",
    "\n",
    "    # beampattern across angle\n",
    "    angle_all = np.arange(-90, 91, 1)\n",
    "    angle_rad_all = np.deg2rad(angle_all)\n",
    "    phase_shift_all = d * np.sin(angle_rad_all) / (c/freq) * 2 * np.pi\n",
    "    y = np.sin(2 * np.pi * freq * t)\n",
    "    y1_all = np.sin(np.tile(2 * np.pi * freq * t, (phase_shift_all.size,1))\n",
    "                    - np.tile(phase_shift_all, (t.size, 1)).T)\n",
    "    y_sum_all = (y + y1_all).max(axis=1)\n",
    "\n",
    "    # PLOTS\n",
    "    fig = plt.figure(figsize=(10, 3))\n",
    "    gs = gridspec.GridSpec(1, 3, width_ratios=[4, 4, 2], wspace=0.2) \n",
    "    gs_signals = gridspec.GridSpecFromSubplotSpec(\n",
    "        2, 1, height_ratios=[2,1], subplot_spec=gs[0, 1], hspace=0.8)\n",
    "\n",
    "    # elements and source angle\n",
    "    map_ax = plt.subplot(gs[0, 0])\n",
    "    map_ax.plot(r*np.cos(angle_rad), r*np.sin(angle_rad), \"ro\",\n",
    "                markerfacecolor=\"none\", label=\"Source\")\n",
    "    map_ax.plot(0, d/10, f\"{COLOR[0]}o\", markersize=3)\n",
    "    map_ax.plot(0, -d/10, f\"{COLOR[1]}o\", markersize=3)\n",
    "    map_ax.set_xlim(-1.2, 1.2)\n",
    "    map_ax.set_ylim(-1.2, 1.2)\n",
    "    map_ax.axis(\"off\")\n",
    "    # map_ax.axis(\"equal\")\n",
    "\n",
    "    # individual received signal\n",
    "    indiv_ax = plt.subplot(gs_signals[0])\n",
    "    indiv_ax.plot(t*1e3, y, COLOR[0])\n",
    "    indiv_ax.plot(t*1e3, y1 + 1, COLOR[1])\n",
    "    indiv_ax.set_xlim(0, 10)\n",
    "\n",
    "    # summed received signal\n",
    "    sum_ax = plt.subplot(gs_signals[1])\n",
    "    sum_ax.plot(t*1e3, y+y1, \"k\")\n",
    "    sum_ax.set_xlim(0, 10)\n",
    "    sum_ax.set_ylim(-2.1, 2.1)\n",
    "\n",
    "    # beampattern\n",
    "    gs_beam_pattern = gridspec.GridSpecFromSubplotSpec(\n",
    "        1, 1, subplot_spec=gs[0, 2], hspace=0.8)\n",
    "    bp_ax = plt.subplot(gs_beam_pattern[0])\n",
    "    bp_ax.plot(y_sum_all, angle_all, \"k\")\n",
    "    bp_ax.plot((y+y1).max(), angle, \"ro\", markerfacecolor=\"w\")\n",
    "    bp_ax.set_xlim(0, 2.1)\n",
    "    bp_ax.set_ylim(-90, 90)\n",
    "    bp_ax.set_yticks(np.arange(-90, 91, 30))\n",
    "\n",
    "    plt.show()\n",
    "\n",
    "\n",
    "angle_slider = widgets.IntSlider(\n",
    "    value=0, min=-90, max=90, step=1,\n",
    "    description=\"Angle (°)\",\n",
    "    continuous_update=True,\n",
    "    style={'description_width': 'initial'},\n",
    "    layout=widgets.Layout(width=\"600px\")\n",
    ")\n",
    "\n",
    "freq_slider = widgets.IntSlider(\n",
    "    value=1000, min=100, max=2000, step=1, \n",
    "    description=\"Frequency (Hz)\", \n",
    "    continuous_update=True, \n",
    "    style={'description_width': 'initial'}, \n",
    "    layout=widgets.Layout(width=\"600px\")\n",
    ")\n",
    "\n",
    "interactive_plot = widgets.interactive(\n",
    "    update_2_rcvr, angle=angle_slider, freq=freq_slider)\n",
    "display(interactive_plot)"
   ]
  },
  {
   "cell_type": "code",
   "execution_count": null,
   "metadata": {},
   "outputs": [],
   "source": []
  },
  {
   "cell_type": "code",
   "execution_count": null,
   "metadata": {},
   "outputs": [],
   "source": []
  },
  {
   "cell_type": "code",
   "execution_count": null,
   "metadata": {},
   "outputs": [],
   "source": []
  },
  {
   "cell_type": "code",
   "execution_count": 2,
   "metadata": {},
   "outputs": [
    {
     "data": {
      "application/vnd.jupyter.widget-view+json": {
       "model_id": "32de3f6284694317adb0c7a5caaefe78",
       "version_major": 2,
       "version_minor": 0
      },
      "text/plain": [
       "interactive(children=(IntSlider(value=0, description='Angle (°)', layout=Layout(width='1000px'), max=90, min=-…"
      ]
     },
     "metadata": {},
     "output_type": "display_data"
    }
   ],
   "source": [
    "import matplotlib\n",
    "matplotlib.use('module://matplotlib_inline.backend_inline')\n",
    "\n",
    "import numpy as np\n",
    "import matplotlib.pyplot as plt\n",
    "import matplotlib.gridspec as gridspec\n",
    "import ipywidgets as widgets\n",
    "from matplotlib.lines import Line2D\n",
    "\n",
    "from IPython.display import display\n",
    "\n",
    "GRID_SIZE = 2000\n",
    "CIRCLE_RADIUS = 400\n",
    "SOUND_SPEED_WATER = 1500\n",
    "TIME_RECEIVED_AT_RN = 1\n",
    "COLOR_CYCLE = plt.rcParams['axes.prop_cycle'].by_key()['color']\n",
    "N = 2\n",
    "\n",
    "def simulate_N_receivers(angle_deg, frequency, spacing):\n",
    "    rN_x = np.zeros(N)\n",
    "    rN_y = np.linspace(-spacing * (N - 1) / 2, spacing * (N - 1) / 2, N)\n",
    "    if N==1:\n",
    "        trace_offsets = np.array([0])\n",
    "    else:\n",
    "        trace_offsets = 2.5e-4 * np.linspace(-0.1, 0.1, N)\n",
    "\n",
    "    sampling_rate = min(10000, int(1000*(10**(np.floor(np.log10(frequency))))))\n",
    "    t = np.linspace(0, 4, sampling_rate*4)\n",
    "    signal = np.sin(t*2*np.pi*frequency)\n",
    "    plot_duration = 2*(10**(-np.floor(np.log10(frequency))))\n",
    "    signal_duration = 2.5*(10**(-np.floor(np.log10(frequency))))\n",
    "\n",
    "    angle_degrees = np.arange(-90, 90)\n",
    "    angle_idx = np.where(np.isclose(angle_degrees, angle_deg, atol=1e-2))[0][0]\n",
    "    angle_radians = np.radians(angle_degrees)\n",
    "    circle_x_arr = CIRCLE_RADIUS * np.cos(angle_radians)\n",
    "    circle_y_arr = CIRCLE_RADIUS * np.sin(angle_radians)\n",
    "    circle_x = circle_x_arr[angle_idx]\n",
    "    circle_y = circle_y_arr[angle_idx]\n",
    "\n",
    "    dist_from_source_to_r_n_arr = np.sqrt((circle_x_arr[None, :] - rN_x[:, None]) ** 2 + (circle_y_arr[None, :] - rN_y[:, None]) ** 2)\n",
    "\n",
    "    time_to_rn_array = dist_from_source_to_r_n_arr / SOUND_SPEED_WATER\n",
    "    receive_signaln_for_degrees = signal[:, None, None] / (dist_from_source_to_r_n_arr[None, :, :] ** 2)\n",
    "    signal_duration_samples = np.arange(int(signal_duration * sampling_rate))\n",
    "    rn_indices = ((TIME_RECEIVED_AT_RN - time_to_rn_array) * sampling_rate).astype(int) + signal_duration_samples[:, None, None]\n",
    "    chunk_of_received_signaln_in_window_degrees = np.take_along_axis(receive_signaln_for_degrees, rn_indices, axis=0)\n",
    "\n",
    "    fig = plt.figure(figsize=(15, 5))\n",
    "    gs = gridspec.GridSpec(1, 3, width_ratios=[4, 4, 2], wspace=0.3) \n",
    "    gs_signals = gridspec.GridSpecFromSubplotSpec(2, 1, height_ratios=[2,1], subplot_spec=gs[0, 1], hspace=0.8)\n",
    "    map_ax = plt.subplot(gs[0, 0])\n",
    "    map_ax.scatter(circle_x, circle_y, edgecolors='red', facecolors='none', linewidths=2, s=50, label=f\"Source\")\n",
    "\n",
    "    received_ax = plt.subplot(gs_signals[0])\n",
    "    map_ax.scatter(rN_x, rN_y, s=10, c=COLOR_CYCLE[:N])\n",
    "    received_ax.plot(1000*(np.tile(signal_duration_samples / sampling_rate, (N, 1)).T), chunk_of_received_signaln_in_window_degrees[:,:,angle_idx]+trace_offsets)\n",
    "    marker_handles = [Line2D([0], [0], marker='o', color='w', label=f'rcvr #{i+1}', markerfacecolor=COLOR_CYCLE[i], markersize=6) for i in range(N)]\n",
    "    line_handles = [Line2D([0], [0], label=f'rcvr #{i+1}', color=COLOR_CYCLE[i]) for i in range(N)]\n",
    "\n",
    "    map_ax.set_xlim(-GRID_SIZE / 2, GRID_SIZE / 2)\n",
    "    map_ax.set_ylim(-GRID_SIZE / 2, GRID_SIZE / 2)\n",
    "    map_ax.set_xlabel(\"X (meters)\")\n",
    "    map_ax.set_ylabel(\"Y (meters)\")\n",
    "    map_ax.set_title(f\"Sound Reception ({int(N)} receivers; 1 source)\")\n",
    "    map_ax.legend(handles=marker_handles, ncol=3, loc='upper right')\n",
    "\n",
    "    received_ax.set_xlabel(\"Time (ms)\")\n",
    "    received_ax.set_ylabel(\"Amplitude\")\n",
    "    received_ax.set_title(\"Received voltage signals\")\n",
    "    received_ax.grid(which='both')\n",
    "    received_ax.set_yticks([], [])\n",
    "    received_ax.set_xlim(0, 1000*(plot_duration))\n",
    "    received_ax.set_ylim(-1e-4, 1e-4)\n",
    "    received_ax.legend(handles=line_handles, ncol=3, loc='upper right')\n",
    "\n",
    "    summed_signal_degrees = np.sum(chunk_of_received_signaln_in_window_degrees, axis=1)\n",
    "    vrms_summed = np.sqrt(np.mean(np.square(summed_signal_degrees), axis=0))\n",
    "    vrms_summed_dB = 20*np.log10(vrms_summed)\n",
    "    vrms_summed_dB_norm = vrms_summed_dB - vrms_summed_dB.max()\n",
    "\n",
    "    summed_signal = summed_signal_degrees[:, angle_idx]\n",
    "    vrms_summed_fixed = vrms_summed[angle_idx]\n",
    "    vrms_summed_fixed_dB = 20*np.log10(vrms_summed_fixed)\n",
    "    vrms_summed_fixed_dB_norm = vrms_summed_fixed_dB - vrms_summed_dB.max()\n",
    "\n",
    "    summed_ax = plt.subplot(gs_signals[1])\n",
    "    summed_ax.plot(1000*(signal_duration_samples / sampling_rate), summed_signal, 'k')\n",
    "    summed_ax.set_xlabel(\"Time (ms)\")\n",
    "    summed_ax.set_ylabel(\"Amplitude\")\n",
    "    summed_ax.set_title(\"Summed voltage signal\")\n",
    "    summed_ax.set_yticks([], [])\n",
    "    summed_ax.grid(which='both')\n",
    "    summed_ax.set_xlim(0, 1000*plot_duration)\n",
    "    summed_ax.set_ylim(-5e-5, 5e-5)\n",
    "\n",
    "    gs_beam_pattern = gridspec.GridSpecFromSubplotSpec(1, 1, subplot_spec=gs[0, 2], hspace=0.8)\n",
    "    beam_pattern_ax = plt.subplot(gs_beam_pattern[0])\n",
    "    beam_pattern_ax.set_title(f'Beam pattern')\n",
    "    beam_pattern_ax.plot(vrms_summed_dB_norm, angle_degrees, color='k')\n",
    "    beam_pattern_ax.scatter(vrms_summed_fixed_dB_norm, angle_deg, edgecolors='red', facecolors='w', linewidth=2, zorder=2)\n",
    "    beam_pattern_ax.set_xlim(-40, 1)\n",
    "    beam_pattern_ax.grid(which='both')\n",
    "    beam_pattern_ax.set_xlabel(r'dB$V_{rms}$ (dB)')\n",
    "    beam_pattern_ax.set_ylabel('Angle (°)')\n",
    "\n",
    "    plt.show()\n",
    "\n",
    "\n",
    "angle_slider = widgets.IntSlider(\n",
    "    value=0, min=-90, max=90, step=1, description=\"Angle (°)\", continuous_update=True, style={'description_width': 'initial'}, layout=widgets.Layout(width=\"1000px\")\n",
    ")\n",
    "\n",
    "freq_slider = widgets.IntSlider(\n",
    "    value=10, min=1, max=2e2, step=1, description=\"Frequency (Hz)\", continuous_update=True, style={'description_width': 'initial'}, layout=widgets.Layout(width=\"1000px\")\n",
    ")\n",
    "\n",
    "spacing_slider = widgets.IntSlider(\n",
    "    value=40, min=10, max=100, step=1, description=\"Spacing (m)\", continuous_update=True, style={'description_width': 'initial'}, layout=widgets.Layout(width=\"1000px\")\n",
    ")\n",
    "\n",
    "interactive_plot = widgets.interactive(simulate_N_receivers, angle_deg=angle_slider, frequency=freq_slider, spacing=spacing_slider)\n",
    "display(interactive_plot)"
   ]
  },
  {
   "cell_type": "markdown",
   "metadata": {},
   "source": [
    "The directionality also changes depending on the number of elements in the compounded receiver:\n"
   ]
  },
  {
   "cell_type": "code",
   "execution_count": 3,
   "metadata": {},
   "outputs": [],
   "source": [
    "# ADD WIDGET\n",
    "# - N ELEMENTS (VARIABLE)\n",
    "# - VARY: ELEMENT SPACING\n",
    "# - VARY: FREQUENCY\n",
    "# - PLOT SOUND SOURCE DIRECTION ON THE RIGHT AS AN ARROW\n",
    "# - PLOT THE SUM OF THE SIGNALS BELOW THE INDIVIDUAL SIGNAL\n",
    "# - PLOT A VERTICAL GRAPH ON THE RIGHT SHOWING RMS OR PEAK AMPLITUDE VS ANGLE, WITH A POINT INDICATING THE CURRENT SOURCE DIRECTION\n"
   ]
  },
  {
   "cell_type": "code",
   "execution_count": null,
   "metadata": {},
   "outputs": [
    {
     "data": {
      "application/vnd.jupyter.widget-view+json": {
       "model_id": "89e8e1fbf47449c6b4169a40876caf16",
       "version_major": 2,
       "version_minor": 0
      },
      "text/plain": [
       "interactive(children=(IntSlider(value=0, description='Angle (°)', layout=Layout(width='1000px'), max=90, min=-…"
      ]
     },
     "metadata": {},
     "output_type": "display_data"
    }
   ],
   "source": [
    "GRID_SIZE = 2000\n",
    "CIRCLE_RADIUS = 400\n",
    "SOUND_SPEED_WATER = 1500\n",
    "TIME_RECEIVED_AT_RN = 1\n",
    "COLOR_CYCLE = plt.rcParams['axes.prop_cycle'].by_key()['color']\n",
    "\n",
    "def simulate_N_receivers(angle_deg, frequency, N, spacing):\n",
    "    rN_x = np.zeros(N)\n",
    "    rN_y = np.linspace(-spacing * (N - 1) / 2, spacing * (N - 1) / 2, N)\n",
    "    if N==1:\n",
    "        trace_offsets = np.array([0])\n",
    "    else:\n",
    "        trace_offsets = 2.5e-4 * np.linspace(-0.1, 0.1, N)\n",
    "\n",
    "    sampling_rate = min(10000, int(1000*(10**(np.floor(np.log10(frequency))))))\n",
    "    t = np.linspace(0, 4, sampling_rate*4)\n",
    "    signal = np.sin(t*2*np.pi*frequency)\n",
    "    plot_duration = 2*(10**(-np.floor(np.log10(frequency))))\n",
    "    signal_duration = 2.5*(10**(-np.floor(np.log10(frequency))))\n",
    "\n",
    "    angle_degrees = np.arange(-90, 90)\n",
    "    angle_idx = np.where(np.isclose(angle_degrees, angle_deg, atol=1e-2))[0][0]\n",
    "    angle_radians = np.radians(angle_degrees)\n",
    "    circle_x_arr = CIRCLE_RADIUS * np.cos(angle_radians)\n",
    "    circle_y_arr = CIRCLE_RADIUS * np.sin(angle_radians)\n",
    "    circle_x = circle_x_arr[angle_idx]\n",
    "    circle_y = circle_y_arr[angle_idx]\n",
    "\n",
    "    dist_from_source_to_r_n_arr = np.sqrt((circle_x_arr[None, :] - rN_x[:, None]) ** 2 + (circle_y_arr[None, :] - rN_y[:, None]) ** 2)\n",
    "\n",
    "    time_to_rn_array = dist_from_source_to_r_n_arr / SOUND_SPEED_WATER\n",
    "    receive_signaln_for_degrees = signal[:, None, None] / (dist_from_source_to_r_n_arr[None, :, :] ** 2)\n",
    "    signal_duration_samples = np.arange(int(signal_duration * sampling_rate))\n",
    "    rn_indices = ((TIME_RECEIVED_AT_RN - time_to_rn_array) * sampling_rate).astype(int) + signal_duration_samples[:, None, None]\n",
    "    chunk_of_received_signaln_in_window_degrees = np.take_along_axis(receive_signaln_for_degrees, rn_indices, axis=0)\n",
    "\n",
    "    fig = plt.figure(figsize=(15, 5))\n",
    "    gs = gridspec.GridSpec(1, 3, width_ratios=[4, 4, 2], wspace=0.3) \n",
    "    gs_signals = gridspec.GridSpecFromSubplotSpec(2, 1, height_ratios=[2,1], subplot_spec=gs[0, 1], hspace=0.8)\n",
    "    map_ax = plt.subplot(gs[0, 0])\n",
    "    map_ax.scatter(circle_x, circle_y, edgecolors='red', facecolors='none', linewidths=2, s=50, label=f\"Source\")\n",
    "\n",
    "    received_ax = plt.subplot(gs_signals[0])\n",
    "    map_ax.scatter(rN_x, rN_y, s=10, c=COLOR_CYCLE[:N])\n",
    "    received_ax.plot(1000*(np.tile(signal_duration_samples / sampling_rate, (N, 1)).T), chunk_of_received_signaln_in_window_degrees[:,:,angle_idx]+trace_offsets)\n",
    "    marker_handles = [Line2D([0], [0], marker='o', color='w', label=f'rcvr #{i+1}', markerfacecolor=COLOR_CYCLE[i], markersize=6) for i in range(N)]\n",
    "    line_handles = [Line2D([0], [0], label=f'rcvr #{i+1}', color=COLOR_CYCLE[i]) for i in range(N)]\n",
    "\n",
    "    map_ax.set_xlim(-GRID_SIZE / 2, GRID_SIZE / 2)\n",
    "    map_ax.set_ylim(-GRID_SIZE / 2, GRID_SIZE / 2)\n",
    "    map_ax.set_xlabel(\"X (meters)\")\n",
    "    map_ax.set_ylabel(\"Y (meters)\")\n",
    "    map_ax.set_title(f\"Sound Reception ({int(N)} receivers; 1 source)\")\n",
    "    map_ax.legend(handles=marker_handles, ncol=3, loc='upper right')\n",
    "\n",
    "    received_ax.set_xlabel(\"Time (ms)\")\n",
    "    received_ax.set_ylabel(\"Amplitude\")\n",
    "    received_ax.set_title(\"Received voltage signals\")\n",
    "    received_ax.grid(which='both')\n",
    "    received_ax.set_yticks([], [])\n",
    "    received_ax.set_xlim(0, 1000*(plot_duration))\n",
    "    received_ax.set_ylim(-1e-4, 1e-4)\n",
    "    received_ax.legend(handles=line_handles, ncol=3, loc='upper right')\n",
    "\n",
    "    summed_signal_degrees = np.sum(chunk_of_received_signaln_in_window_degrees, axis=1)\n",
    "    vrms_summed = np.sqrt(np.mean(np.square(summed_signal_degrees), axis=0))\n",
    "    vrms_summed_dB = 20*np.log10(vrms_summed)\n",
    "    vrms_summed_dB_norm = vrms_summed_dB - vrms_summed_dB.max()\n",
    "\n",
    "    summed_signal = summed_signal_degrees[:, angle_idx]\n",
    "    vrms_summed_fixed = vrms_summed[angle_idx]\n",
    "    vrms_summed_fixed_dB = 20*np.log10(vrms_summed_fixed)\n",
    "    vrms_summed_fixed_dB_norm = vrms_summed_fixed_dB - vrms_summed_dB.max()\n",
    "\n",
    "    summed_ax = plt.subplot(gs_signals[1])\n",
    "    summed_ax.plot(1000*(signal_duration_samples / sampling_rate), summed_signal, 'k')\n",
    "    summed_ax.set_xlabel(\"Time (ms)\")\n",
    "    summed_ax.set_ylabel(\"Amplitude\")\n",
    "    summed_ax.set_title(\"Summed voltage signal\")\n",
    "    summed_ax.set_yticks([], [])\n",
    "    summed_ax.grid(which='both')\n",
    "    summed_ax.set_xlim(0, 1000*plot_duration)\n",
    "    summed_ax.set_ylim(-5e-5, 5e-5)\n",
    "\n",
    "    gs_beam_pattern = gridspec.GridSpecFromSubplotSpec(1, 1, subplot_spec=gs[0, 2], hspace=0.8)\n",
    "    beam_pattern_ax = plt.subplot(gs_beam_pattern[0])\n",
    "    beam_pattern_ax.set_title(f'Beam pattern')\n",
    "    beam_pattern_ax.plot(vrms_summed_dB_norm, angle_degrees, color='k')\n",
    "    beam_pattern_ax.scatter(vrms_summed_fixed_dB_norm, angle_deg, edgecolors='red', facecolors='w', linewidth=2, zorder=2)\n",
    "    beam_pattern_ax.set_xlim(-40, 1)\n",
    "    beam_pattern_ax.grid(which='both')\n",
    "    beam_pattern_ax.set_xlabel(r'dB$V_{rms}$ (dB)')\n",
    "    beam_pattern_ax.set_ylabel('Angle (°)')\n",
    "\n",
    "    plt.show()\n",
    "\n",
    "\n",
    "angle_slider = widgets.IntSlider(\n",
    "    value=0, min=-90, max=90, step=1, description=\"Angle (°)\", continuous_update=True, style={'description_width': 'initial'}, layout=widgets.Layout(width=\"1000px\")\n",
    ")\n",
    "\n",
    "freq_slider = widgets.IntSlider(\n",
    "    value=10, min=1, max=2e2, step=1, description=\"Frequency (Hz)\", continuous_update=True, style={'description_width': 'initial'}, layout=widgets.Layout(width=\"1000px\")\n",
    ")\n",
    "\n",
    "N_slider = widgets.IntSlider(\n",
    "    value=2, min=2, max=10, step=1, description=\"# receivers\", continuous_update=True, style={'description_width': 'initial'}, layout=widgets.Layout(width=\"300px\")\n",
    ")\n",
    "\n",
    "spacing_slider = widgets.IntSlider(\n",
    "    value=40, min=10, max=100, step=1, description=\"Spacing (m)\", continuous_update=True, style={'description_width': 'initial'}, layout=widgets.Layout(width=\"1000px\")\n",
    ")\n",
    "\n",
    "interactive_plot = widgets.interactive(simulate_N_receivers, angle_deg=angle_slider, frequency=freq_slider, N=N_slider, spacing=spacing_slider)\n",
    "display(interactive_plot)"
   ]
  },
  {
   "cell_type": "code",
   "execution_count": 4,
   "metadata": {},
   "outputs": [],
   "source": [
    "# HERE WE CAN EASILY LINK TO IN-DEPTH MATERIALS TO EXPLAIN MORE USING EQUATIONS"
   ]
  },
  {
   "cell_type": "markdown",
   "metadata": {},
   "source": [
    "```{Tip}\n",
    ":class: tip\n",
    "Now you have the intuition of where receiving directionality comes about and what happens when the number of receiving elements changes. You will soon see how the same concept applies on [acoustic sources](acoustics-source)!\n",
    "```"
   ]
  },
  {
   "cell_type": "markdown",
   "metadata": {},
   "source": []
  }
 ],
 "metadata": {
  "kernelspec": {
   "display_name": "boat_20250320",
   "language": "python",
   "name": "python3"
  },
  "language_info": {
   "codemirror_mode": {
    "name": "ipython",
    "version": 3
   },
   "file_extension": ".py",
   "mimetype": "text/x-python",
   "name": "python",
   "nbconvert_exporter": "python",
   "pygments_lexer": "ipython3",
   "version": "3.12.9"
  }
 },
 "nbformat": 4,
 "nbformat_minor": 2
}
