{
 "cells": [
  {
   "cell_type": "markdown",
   "metadata": {
    "editable": true,
    "slideshow": {
     "slide_type": ""
    },
    "tags": []
   },
   "source": [
    "(acoustics-receiver_directionality)=\n",
    "# Receiving directionality"
   ]
  },
  {
   "cell_type": "markdown",
   "metadata": {
    "editable": true,
    "slideshow": {
     "slide_type": ""
    },
    "tags": []
   },
   "source": [
    "While we often refer to hydrophones as points in the ocean, they all have a physical shape and size. This means that sound is not captured at a single point, but rather across a collection of sound-transducing elements on the hydrophone. As a result, every transducer has a certain **directionality**, or **beampattern**, which describes how the received sound level varies depending on the direction of incoming sound relative to the hydrophone _axis_. Depending on the application, sometimes we want an \"omnidirectional\" hydrophone that receives sound equally from all directions; at other times, we may want hydrophones that have a strong directionality, such that we can capture only (primarily) sound from a specific direction. "
   ]
  },
  {
   "cell_type": "markdown",
   "metadata": {
    "editable": true,
    "slideshow": {
     "slide_type": ""
    },
    "tags": []
   },
   "source": [
    "(acoustics-receiver_directionality_interference)=\n",
    "## Where does directionality come from?\n",
    "\n",
    "Directionality arises because different parts of a receiver capture slightly different versions of the same sound with small time delays, due to the non-zero size of the receiver. Due to the **phase difference** between the waves, when these signals are combined, they create constructive and destructive **interference** depending on the direction of the incoming sound, giving rise to receiving directionality."
   ]
  },
  {
   "cell_type": "markdown",
   "metadata": {},
   "source": [
    "(acoustics-receiver_directionality_frequency)=\n",
    "## Frequency dependency\n",
    "We can see this clearly using the widget below, which shows signals received by each of the two elements of a receiver _array_ and their combined output. Depending where the direction of incoming sound and its frequency, the differences between the two signals can significantly affect the amplitude of their sum, giving rise to directionality."
   ]
  },
  {
   "cell_type": "code",
   "execution_count": 1,
   "metadata": {
    "editable": true,
    "slideshow": {
     "slide_type": ""
    },
    "tags": [
     "hide-input"
    ]
   },
   "outputs": [],
   "source": [
    "import matplotlib\n",
    "matplotlib.use('module://matplotlib_inline.backend_inline')\n",
    "\n",
    "import numpy as np\n",
    "import matplotlib.pyplot as plt\n",
    "import matplotlib.gridspec as gridspec\n",
    "import ipywidgets as widgets\n",
    "\n",
    "from IPython.display import display"
   ]
  },
  {
   "cell_type": "code",
   "execution_count": 2,
   "metadata": {
    "editable": true,
    "slideshow": {
     "slide_type": ""
    },
    "tags": [
     "hide-input"
    ]
   },
   "outputs": [
    {
     "data": {
      "application/vnd.jupyter.widget-view+json": {
       "model_id": "5183eb7e61234d979c4b6bce34b68ac1",
       "version_major": 2,
       "version_minor": 0
      },
      "text/plain": [
       "interactive(children=(IntSlider(value=30, description='Angle (°)', layout=Layout(width='400px'), max=180, min=…"
      ]
     },
     "metadata": {},
     "output_type": "display_data"
    }
   ],
   "source": [
    "def update_2_rcvr(angle, freq):\n",
    "    \n",
    "    angle_rad = np.deg2rad(angle)\n",
    "    r = 1  # viz source circle radius\n",
    "    d = 0.5  # element spacing\n",
    "    c = 1500  # sound speed\n",
    "    t = np.linspace(0, 0.01, 1000)\n",
    "    y = np.sin(2 * np.pi * freq * t)\n",
    "    phase_shift = d * np.sin(angle_rad) / (c/freq) * 2 * np.pi\n",
    "    y1 = np.sin(2 * np.pi * freq * t - phase_shift)\n",
    "\n",
    "    # beampattern across angle\n",
    "    angle_all = np.arange(-180, 181, 1)\n",
    "    angle_rad_all = np.deg2rad(angle_all)\n",
    "    phase_shift_all = d * np.sin(angle_rad_all) / (c/freq) * 2 * np.pi\n",
    "    y = np.sin(2 * np.pi * freq * t)\n",
    "    y1_all = np.sin(np.tile(2 * np.pi * freq * t, (phase_shift_all.size,1))\n",
    "                    - np.tile(phase_shift_all, (t.size, 1)).T)\n",
    "    y_sum_all = (y + y1_all).max(axis=1)\n",
    "\n",
    "    # PLOTS\n",
    "    fig = plt.figure(figsize=(12, 3.5))\n",
    "    gs = gridspec.GridSpec(1, 3, width_ratios=[4, 4, 2], wspace=0.3) \n",
    "    gs_signals = gridspec.GridSpecFromSubplotSpec(\n",
    "        2, 1, height_ratios=[2,1], subplot_spec=gs[0, 1], hspace=0.3)\n",
    "\n",
    "    # elements and source angle\n",
    "    map_ax = plt.subplot(gs[0, 0])\n",
    "    map_ax.plot(r*np.cos(angle_rad), r*np.sin(angle_rad), \"ro\",\n",
    "                markerfacecolor=\"w\", label=\"Source\", zorder=2)\n",
    "    map_ax.plot(np.cos(angle_rad_all), np.sin(angle_rad_all), color='grey', linewidth=1, zorder=1)\n",
    "    map_ax.plot(1.2*np.cos(angle_rad_all), 1.2*np.sin(angle_rad_all), color='none')\n",
    "    map_ax.plot(0, d/10, \"C0o\", markersize=3)\n",
    "    map_ax.plot(0, -d/10, \"C1o\", markersize=3)\n",
    "    map_ax.axis(\"off\")\n",
    "    map_ax.axis(\"equal\")\n",
    "\n",
    "    # individual received signal\n",
    "    indiv_ax = plt.subplot(gs_signals[0])\n",
    "    indiv_ax.plot(t*1e3, y-0.5, \"C0\", label=\"#1\")\n",
    "    indiv_ax.plot(t*1e3, y1+0.5, \"C1\", label=\"#2\")\n",
    "    indiv_ax.set_xlim(0, 10)\n",
    "    indiv_ax.set_ylim(-2, 2.8)\n",
    "    indiv_ax.set_xticklabels(\"\")\n",
    "    indiv_ax.legend(ncol=2, fontsize=9)\n",
    "    indiv_ax.set_yticks([])\n",
    "    indiv_ax.set_ylabel(\"Voltage\")\n",
    "    indiv_ax.set_title(\"Individual signal\")\n",
    "\n",
    "    # summed received signal\n",
    "    sum_ax = plt.subplot(gs_signals[1])\n",
    "    sum_ax.plot(t*1e3, y+y1, \"k\")\n",
    "    sum_ax.set_xlim(0, 10)\n",
    "    sum_ax.set_ylim(-2.2, 2.2)\n",
    "    sum_ax.set_yticks([])\n",
    "    sum_ax.set_ylabel(\"Voltage\")\n",
    "    sum_ax.set_title(\"Summed signal\")\n",
    "\n",
    "    # beampattern\n",
    "    gs_beam_pattern = gridspec.GridSpecFromSubplotSpec(\n",
    "        1, 1, subplot_spec=gs[0, 2], hspace=0.8)\n",
    "    bp_ax = plt.subplot(gs_beam_pattern[0])\n",
    "    bp_ax.plot(y_sum_all, angle_all, \"k\")\n",
    "    bp_ax.plot((y+y1).max(), angle, \"ro\", markerfacecolor=\"w\")\n",
    "    bp_ax.set_xlim(0, 2.1)\n",
    "    bp_ax.set_ylim(-180, 180)\n",
    "    bp_ax.set_yticks(np.arange(-180, 181, 60))\n",
    "    bp_ax.set_ylabel(\"Angle (°)\")\n",
    "    bp_ax.set_title(\"Amplitude of sum\")\n",
    "\n",
    "    plt.show()\n",
    "\n",
    "\n",
    "angle_slider = widgets.IntSlider(\n",
    "    value=30, min=-180, max=180, step=1,\n",
    "    description=\"Angle (°)\",\n",
    "    continuous_update=True,\n",
    "    style={'description_width': 'initial'},\n",
    "    layout=widgets.Layout(width=\"400px\")\n",
    ")\n",
    "\n",
    "freq_slider = widgets.IntSlider(\n",
    "    value=1000, min=100, max=2000, step=1, \n",
    "    description=\"Frequency (Hz)\", \n",
    "    continuous_update=True, \n",
    "    style={'description_width': 'initial'}, \n",
    "    layout=widgets.Layout(width=\"400px\")\n",
    ")\n",
    "\n",
    "interactive_plot = widgets.interactive(\n",
    "    update_2_rcvr, angle=angle_slider, freq=freq_slider)\n",
    "display(interactive_plot)"
   ]
  },
  {
   "cell_type": "markdown",
   "metadata": {
    "editable": true,
    "slideshow": {
     "slide_type": ""
    },
    "tags": []
   },
   "source": [
    ":::{admonition} Exercise\n",
    ":class: admonition\n",
    "\n",
    "Observe how the combined signal amplitude varies across frequency and angle:\n",
    "- How does directionality change (stronger or weaker) with increasing frequency?\n",
    "- Can you deduce why this is the case based on what we discussed about [](acoustics-receiver_phase_frequency)?\n",
    ":::"
   ]
  },
  {
   "cell_type": "markdown",
   "metadata": {
    "editable": true,
    "slideshow": {
     "slide_type": ""
    },
    "tags": []
   },
   "source": [
    "(acoustics-receiver_directionality_size)=\n",
    "## Size dependency\n",
    "\n",
    "The directionality also changes depending on the number of elements and their spacing in the array:\n"
   ]
  },
  {
   "cell_type": "code",
   "execution_count": 3,
   "metadata": {
    "editable": true,
    "slideshow": {
     "slide_type": ""
    },
    "tags": [
     "hide-input"
    ]
   },
   "outputs": [
    {
     "data": {
      "application/vnd.jupyter.widget-view+json": {
       "model_id": "80d9acd2946c4295918d0e9de82d4631",
       "version_major": 2,
       "version_minor": 0
      },
      "text/plain": [
       "interactive(children=(IntSlider(value=30, description='Angle (°)', layout=Layout(width='400px'), max=180, min=…"
      ]
     },
     "metadata": {},
     "output_type": "display_data"
    }
   ],
   "source": [
    "def update_N_rcvr(angle, freq, N, d):\n",
    "    \n",
    "    angle_rad = np.deg2rad(angle)\n",
    "    r = 1  # viz source circle radius\n",
    "    c = 1500  # sound speed\n",
    "    t = np.linspace(0, 0.01, 1000)\n",
    "    y = np.sin(2 * np.pi * freq * t)\n",
    "    y1 = np.zeros((t.size, N))\n",
    "    for nn in np.arange(1, N, 1):\n",
    "        phase_shift = nn * d * np.sin(angle_rad) / (c/freq) * 2 * np.pi\n",
    "        y1[:, nn] = np.sin(2 * np.pi * freq * t - phase_shift)\n",
    "    y1[:, 0] = y\n",
    "\n",
    "    # beampattern across angle\n",
    "    angle_all = np.arange(-180, 181, 1)\n",
    "    angle_rad_all = np.deg2rad(angle_all)\n",
    "    y = np.sin(2 * np.pi * freq * t)\n",
    "    y1_all = np.zeros((angle_all.size, t.size, N))\n",
    "    for nn in np.arange(1, N, 1):\n",
    "        phase_shift_all = nn * d * np.sin(angle_rad_all) / (c/freq) * 2 * np.pi\n",
    "        y1_all[:, :, nn] = np.sin(np.tile(2 * np.pi * freq * t, (phase_shift_all.size,1))\n",
    "                        - np.tile(phase_shift_all, (t.size, 1)).T)\n",
    "    y1_all[:, :, 0] = y\n",
    "    y_sum_all = y1_all.sum(axis=-1).max(axis=1)\n",
    "\n",
    "    # PLOTS\n",
    "    fig = plt.figure(figsize=(12, 3.5))\n",
    "    gs = gridspec.GridSpec(1, 3, width_ratios=[4, 4, 2], wspace=0.3) \n",
    "    gs_signals = gridspec.GridSpecFromSubplotSpec(\n",
    "        2, 1, height_ratios=[2,1], subplot_spec=gs[0, 1], hspace=0.3)\n",
    "\n",
    "    # elements and source angle\n",
    "    map_ax = plt.subplot(gs[0, 0])\n",
    "    map_ax.plot(r*np.cos(angle_rad), r*np.sin(angle_rad), \"ro\",\n",
    "                markerfacecolor=\"w\", label=\"Source\", zorder=2)\n",
    "    map_ax.plot(np.cos(angle_rad_all), np.sin(angle_rad_all), color='grey', linewidth=1, zorder=1)\n",
    "    map_ax.plot(1.2*np.cos(angle_rad_all), 1.2*np.sin(angle_rad_all), color='none')\n",
    "    [map_ax.plot(0, d/10*nn - N/2*d/10, f\"C{nn}o\", markersize=3) for nn in np.arange(N)]\n",
    "    map_ax.axis(\"off\")\n",
    "    map_ax.axis(\"equal\")\n",
    "\n",
    "    # individual received signal\n",
    "    indiv_ax = plt.subplot(gs_signals[0])\n",
    "    [indiv_ax.plot(t*1e3, y1[:, nn]+0.5*nn, f\"C{nn}\", label=f\"#{nn}\") for nn in np.arange(N)]\n",
    "    indiv_ax.set_xlim(0, 10)\n",
    "    # indiv_ax.set_ylim(-2, 2.8)\n",
    "    indiv_ax.set_xticklabels(\"\")\n",
    "    indiv_ax.legend(ncol=4, fontsize=8, loc=\"upper right\")\n",
    "    indiv_ax.set_yticks([])\n",
    "    indiv_ax.set_ylabel(\"Voltage\")\n",
    "    indiv_ax.set_title(\"Individual signal\")\n",
    "\n",
    "    # summed received signal\n",
    "    sum_ax = plt.subplot(gs_signals[1])\n",
    "    sum_ax.plot(t*1e3, y1.sum(axis=1), \"k\")\n",
    "    sum_ax.set_xlim(0, 10)\n",
    "    sum_ax.set_ylim(-N-0.2, N+0.2)\n",
    "    sum_ax.set_yticks([])\n",
    "    sum_ax.set_ylabel(\"Voltage\")\n",
    "    sum_ax.set_title(\"Summed signal\")\n",
    "\n",
    "    # beampattern\n",
    "    gs_beam_pattern = gridspec.GridSpecFromSubplotSpec(\n",
    "        1, 1, subplot_spec=gs[0, 2], hspace=0.8)\n",
    "    bp_ax = plt.subplot(gs_beam_pattern[0])\n",
    "    bp_ax.plot(y_sum_all, angle_all, \"k\")\n",
    "    bp_ax.plot(y1.sum(axis=1).max(), angle, \"ro\", markerfacecolor=\"w\")\n",
    "    bp_ax.set_xlim(0, N+0.1)\n",
    "    bp_ax.set_ylim(-180, 180)\n",
    "    bp_ax.set_yticks(np.arange(-180, 181, 60))\n",
    "    bp_ax.set_ylabel(\"Angle (°)\")\n",
    "    bp_ax.set_title(\"Amplitude of sum\")\n",
    "\n",
    "    plt.show()\n",
    "\n",
    "\n",
    "angle_slider = widgets.IntSlider(\n",
    "    value=30, min=-180, max=180, step=1,\n",
    "    description=\"Angle (°)\",\n",
    "    continuous_update=True,\n",
    "    style={'description_width': 'initial'},\n",
    "    layout=widgets.Layout(width=\"400px\")\n",
    ")\n",
    "\n",
    "freq_slider = widgets.IntSlider(\n",
    "    value=1000, min=100, max=2000, step=1, \n",
    "    description=\"Frequency (Hz)\", \n",
    "    continuous_update=True, \n",
    "    style={'description_width': 'initial'}, \n",
    "    layout=widgets.Layout(width=\"400px\")\n",
    ")\n",
    "\n",
    "N_slider = widgets.IntSlider(\n",
    "    value=3, min=2, max=10, step=1, \n",
    "    description=\"# receivers\", \n",
    "    continuous_update=True, \n",
    "    style={'description_width': 'initial'}, \n",
    "    layout=widgets.Layout(width=\"400px\")\n",
    ")\n",
    "\n",
    "spacing_slider = widgets.FloatSlider(\n",
    "    value=0.5, min=0.1, max=1, step=0.05, \n",
    "    description=\"Spacing (m)\", continuous_update=True, \n",
    "    style={'description_width': 'initial'},\n",
    "    layout=widgets.Layout(width=\"400px\")\n",
    ")\n",
    "\n",
    "\n",
    "interactive_plot = widgets.interactive(\n",
    "    update_N_rcvr, \n",
    "    angle=angle_slider, freq=freq_slider, \n",
    "    N=N_slider, d=spacing_slider)\n",
    "display(interactive_plot)"
   ]
  },
  {
   "cell_type": "markdown",
   "metadata": {
    "editable": true,
    "slideshow": {
     "slide_type": ""
    },
    "tags": []
   },
   "source": [
    ":::{admonition} Exercise\n",
    "Observe how the combined signal amplitude varies depending on the number of array elements and their spacing:\n",
    "- Keeping the element spacing the same, how does directionality change with increasing number of array elements? Why?\n",
    "- Keeping the number of array elements the same, how does directionality change with increasing element spacing? Why?\n",
    "- What are the angles that the array has the strongest response? Why? (**Hint**: Study the relative positions of the individual signals.)\n",
    ":::"
   ]
  },
  {
   "cell_type": "markdown",
   "metadata": {
    "editable": true,
    "slideshow": {
     "slide_type": ""
    },
    "tags": []
   },
   "source": [
    ":::{Tip}\n",
    "Now you have the intuition of where receiving directionality comes about and how the directionality changes with various parameters of the array, you will soon see how the same concept applies to understanding the transmit directionality of [acoustic sources](acoustics-source)! In fact, this very concept is also applicable in understanding [how scatterers of different sizes return echoes](acoustics-scattering_discrete_orientation).\n",
    ":::"
   ]
  },
  {
   "cell_type": "code",
   "execution_count": null,
   "metadata": {
    "editable": true,
    "slideshow": {
     "slide_type": ""
    },
    "tags": []
   },
   "outputs": [],
   "source": []
  }
 ],
 "metadata": {
  "kernelspec": {
   "display_name": "Python 3 (ipykernel)",
   "language": "python",
   "name": "python3"
  },
  "language_info": {
   "codemirror_mode": {
    "name": "ipython",
    "version": 3
   },
   "file_extension": ".py",
   "mimetype": "text/x-python",
   "name": "python",
   "nbconvert_exporter": "python",
   "pygments_lexer": "ipython3",
   "version": "3.12.9"
  },
  "widgets": {
   "application/vnd.jupyter.widget-state+json": {
    "state": {},
    "version_major": 2,
    "version_minor": 0
   }
  }
 },
 "nbformat": 4,
 "nbformat_minor": 4
}
