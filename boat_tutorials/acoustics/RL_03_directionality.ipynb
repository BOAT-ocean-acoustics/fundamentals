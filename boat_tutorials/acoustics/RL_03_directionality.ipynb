{
 "cells": [
  {
   "cell_type": "markdown",
   "metadata": {},
   "source": [
    "(acoustics-receiver_plane_wave_approx)=\n",
    "## Plane wave approximation\n",
    "\n",
    "DISCUSSION PLANE WAVE APPROXIMATION!\n"
   ]
  },
  {
   "cell_type": "code",
   "execution_count": null,
   "metadata": {},
   "outputs": [],
   "source": []
  },
  {
   "cell_type": "code",
   "execution_count": null,
   "metadata": {},
   "outputs": [],
   "source": []
  },
  {
   "cell_type": "markdown",
   "metadata": {},
   "source": [
    "## Receiving directionality"
   ]
  },
  {
   "cell_type": "code",
   "execution_count": 1,
   "metadata": {},
   "outputs": [],
   "source": [
    "# THIS IS NOT QUITE RIGHT BECAUSE THE PINNAES DO NOT HAVE SENSORS ON THEM!\n",
    "\n",
    "# Cats or dogs can turn their ears to capture sound originating from different directions. While most humans cannot move our ears that effectively, our pinnae (outer ears) still provide a similar advantage, such that we typically hear better when facing toward the sound source.\n",
    "\n",
    "# ADD PICTURE OF CAT / DOG / HUMAN EARS\n"
   ]
  },
  {
   "cell_type": "markdown",
   "metadata": {},
   "source": [
    "INSTEAD OF EARS, TALK ABOUT MOST RECEIVERS IN THE PHYSICAL WORLD HAS A SHAPE, SO NOT THE IDEAL RECEIVER WE DISCUSSED BEFORE.\n",
    "WITH A SHAPE AND DIMENSION THERE COMES DIRECTIONALITY\n",
    "\n",
    "\n",
    "This phenomenon is known as _directionality_—the ability for a receiver to isolate sound from different directions in order to hear more clearly. Directionality arises because sound waves arriving at different parts of a receiver capture slightly different versions of the same sound. When these signals are combined, they create constructive and destructive interference depending on the sound direction.\n",
    "\n",
    "We can see this clearly in the scenario (widget) below. Depending where the sound comes from and the sound frequency, the signals captured by the 2 receiving elements can differ significantly and impact the amplitude of the summed signals, which is what we would measure from this compounded receiver.\n"
   ]
  },
  {
   "cell_type": "code",
   "execution_count": 2,
   "metadata": {},
   "outputs": [],
   "source": [
    "# ADD WIDGET\n",
    "# - FIX 2 ELEMENTS\n",
    "# - VARY: SOUND FREQUENCY\n",
    "# - VARY: SOUND SOURCE DIRECTION: PLOT ON THE RIGHT AS AN ARROW\n",
    "# - PLOT 2 RECEIVED SIGNALS ON THE LEFT OF ELEMENT\n",
    "# - PLOT THE SUM OF THE SIGNALS BELOW THE INDIVIDUAL SIGNAL\n",
    "# - PLOT A VERTICAL GRAPH ON THE RIGHT SHOWING RMS OR PEAK AMPLITUDE VS ANGLE, WITH A POINT INDICATING THE CURRENT SOURCE DIRECTION\n"
   ]
  },
  {
   "cell_type": "markdown",
   "metadata": {},
   "source": [
    "The directionality also changes depending on the number of elements in the compounded receiver:\n"
   ]
  },
  {
   "cell_type": "code",
   "execution_count": 3,
   "metadata": {},
   "outputs": [],
   "source": [
    "# ADD WIDGET\n",
    "# - N ELEMENTS (VARIABLE)\n",
    "# - VARY: ELEMENT SPACING\n",
    "# - VARY: FREQUENCY\n",
    "# - PLOT SOUND SOURCE DIRECTION ON THE RIGHT AS AN ARROW\n",
    "# - PLOT THE SUM OF THE SIGNALS BELOW THE INDIVIDUAL SIGNAL\n",
    "# - PLOT A VERTICAL GRAPH ON THE RIGHT SHOWING RMS OR PEAK AMPLITUDE VS ANGLE, WITH A POINT INDICATING THE CURRENT SOURCE DIRECTION\n"
   ]
  },
  {
   "cell_type": "code",
   "execution_count": 4,
   "metadata": {},
   "outputs": [],
   "source": [
    "# HERE WE CAN EASILY LINK TO IN-DEPTH MATERIALS TO EXPLAIN MORE USING EQUATIONS"
   ]
  },
  {
   "cell_type": "markdown",
   "metadata": {},
   "source": [
    "```{Tip}\n",
    ":class: tip\n",
    "Now you have the intuition of where receiving directionality comes about and what happens when the number of receiving elements changes. You will soon see how the same concept applies on [acoustic sources](acoustics-source)!\n",
    "```"
   ]
  },
  {
   "cell_type": "markdown",
   "metadata": {},
   "source": []
  }
 ],
 "metadata": {
  "kernelspec": {
   "display_name": "boat_20250320",
   "language": "python",
   "name": "python3"
  },
  "language_info": {
   "codemirror_mode": {
    "name": "ipython",
    "version": 3
   },
   "file_extension": ".py",
   "mimetype": "text/x-python",
   "name": "python",
   "nbconvert_exporter": "python",
   "pygments_lexer": "ipython3",
   "version": "3.12.9"
  }
 },
 "nbformat": 4,
 "nbformat_minor": 2
}
