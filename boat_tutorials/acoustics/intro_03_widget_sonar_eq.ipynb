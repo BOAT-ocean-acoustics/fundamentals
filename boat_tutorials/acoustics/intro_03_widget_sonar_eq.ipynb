{
 "cells": [
  {
   "cell_type": "markdown",
   "metadata": {
    "editable": true,
    "slideshow": {
     "slide_type": ""
    },
    "tags": []
   },
   "source": [
    "(acoustics-intro_widgets)=\n",
    "## Understanding SONAR equation through a widget\n",
    "\n",
    "Let's put what we just learn to use! Below is an interactive \"widget\" that you can use to get an intuitive sense of how loud Oli's sound or fish echoes Ola may receive."
   ]
  },
  {
   "cell_type": "markdown",
   "metadata": {
    "editable": true,
    "slideshow": {
     "slide_type": ""
    },
    "tags": []
   },
   "source": [
    "```{tip}\n",
    "Here, all the numbers are represented in **decibels**, or \"**dB**,\" which is a unitless, logarithmic measure widely used in ocean acoustics. We use the this measure in order to easily compare sound as loud as a jet taking off right outside of your window (~140 dB re 20 μPa) with sound as soft as dropping a needle on the floor (~15 dB re 20 μPa). Go to the [](primer-decibel) tutorial page to learn about this useful measure!\n",
    "```"
   ]
  },
  {
   "cell_type": "markdown",
   "metadata": {
    "editable": true,
    "slideshow": {
     "slide_type": ""
    },
    "tags": []
   },
   "source": [
    "In the widget below, you can tune the number of the SL, TL, and TS terms in the sonar equation, and observe how these terms affect the RL in the passive and active sensing scenarios.\n",
    "\n",
    "What do you find? Is it easy for Ola to detect a fish compared to try to listen to messages from Oli?"
   ]
  },
  {
   "cell_type": "code",
   "execution_count": 1,
   "metadata": {
    "editable": true,
    "jupyter": {
     "source_hidden": true
    },
    "slideshow": {
     "slide_type": ""
    },
    "tags": [
     "remove-input"
    ]
   },
   "outputs": [],
   "source": [
    "import ipywidgets as widgets"
   ]
  },
  {
   "cell_type": "code",
   "execution_count": 2,
   "metadata": {
    "editable": true,
    "jupyter": {
     "source_hidden": true
    },
    "slideshow": {
     "slide_type": ""
    },
    "tags": [
     "remove-input"
    ]
   },
   "outputs": [
    {
     "data": {
      "application/vnd.jupyter.widget-view+json": {
       "model_id": "c9a38f97c06d43b7b3de306dc0014c76",
       "version_major": 2,
       "version_minor": 0
      },
      "text/plain": [
       "interactive(children=(IntSlider(value=170, description='SL (dB)', layout=Layout(width='400px'), max=220, min=1…"
      ]
     },
     "metadata": {},
     "output_type": "display_data"
    }
   ],
   "source": [
    "def update_RL(SL, TL, TS):\n",
    "    RL_passive = SL - TL\n",
    "    RL_active = SL - 2*TL + TS\n",
    "    print(f\"Passive RL: {RL_passive} dB\")\n",
    "    print(f\"Active  RL: {RL_active} dB\")\n",
    "\n",
    "_ = widgets.interact(\n",
    "    update_RL,\n",
    "    SL=widgets.IntSlider(value=170, min=150, max=220, step=1, layout=widgets.Layout(width=\"400px\"), style={'description_width': 'initial'}, description=\"SL (dB)\"),\n",
    "    TL=widgets.IntSlider(value=50, min=40, max=60, step=1, layout=widgets.Layout(width=\"400px\"), style={'description_width': 'initial'}, description=\"TL (dB)\"),\n",
    "    TS=widgets.IntSlider(value=-40, min=-50, max=-30, step=1, layout=widgets.Layout(width=\"400px\"), style={'description_width': 'initial'}, description=\"TS (dB)\"),\n",
    ")"
   ]
  },
  {
   "cell_type": "code",
   "execution_count": null,
   "metadata": {
    "editable": true,
    "slideshow": {
     "slide_type": ""
    },
    "tags": []
   },
   "outputs": [],
   "source": []
  }
 ],
 "metadata": {
  "kernelspec": {
   "display_name": "Python 3 (ipykernel)",
   "language": "python",
   "name": "python3"
  },
  "language_info": {
   "codemirror_mode": {
    "name": "ipython",
    "version": 3
   },
   "file_extension": ".py",
   "mimetype": "text/x-python",
   "name": "python",
   "nbconvert_exporter": "python",
   "pygments_lexer": "ipython3",
   "version": "3.12.9"
  },
  "widgets": {
   "application/vnd.jupyter.widget-state+json": {
    "state": {
     "1bcd88f6f517406bb635cb4848714168": {
      "model_module": "@jupyter-widgets/base",
      "model_module_version": "2.0.0",
      "model_name": "LayoutModel",
      "state": {
       "width": "400px"
      }
     },
     "4c9da6ef97f54faf9a4de38a53d1a04d": {
      "model_module": "@jupyter-widgets/controls",
      "model_module_version": "2.0.0",
      "model_name": "IntSliderModel",
      "state": {
       "behavior": "drag-tap",
       "description": "TL (dB)",
       "layout": "IPY_MODEL_4dd5a1a65e1e470aad571fd8efc5bd9b",
       "max": 60,
       "min": 40,
       "style": "IPY_MODEL_f154624d159644a0b81659f4a028e49d",
       "value": 50
      }
     },
     "4dd5a1a65e1e470aad571fd8efc5bd9b": {
      "model_module": "@jupyter-widgets/base",
      "model_module_version": "2.0.0",
      "model_name": "LayoutModel",
      "state": {
       "width": "400px"
      }
     },
     "6a1bf2102604411198a44bdaa6fc8fc4": {
      "model_module": "@jupyter-widgets/base",
      "model_module_version": "2.0.0",
      "model_name": "LayoutModel",
      "state": {
       "width": "400px"
      }
     },
     "6b4d779453824747b22fdadbaee5de39": {
      "model_module": "@jupyter-widgets/output",
      "model_module_version": "1.0.0",
      "model_name": "OutputModel",
      "state": {
       "layout": "IPY_MODEL_d2c54cd4dda945b4ba3b95b2d87698a1",
       "outputs": [
        {
         "name": "stdout",
         "output_type": "stream",
         "text": "Passive RL: 120 dB\nActive  RL: 30 dB\n"
        }
       ]
      }
     },
     "6c31afc1f6f2410ead41982e91a3426f": {
      "model_module": "@jupyter-widgets/base",
      "model_module_version": "2.0.0",
      "model_name": "LayoutModel",
      "state": {}
     },
     "71dc1d537d7d4da2b7e5f0aac8dbd229": {
      "model_module": "@jupyter-widgets/controls",
      "model_module_version": "2.0.0",
      "model_name": "IntSliderModel",
      "state": {
       "behavior": "drag-tap",
       "description": "SL (dB)",
       "layout": "IPY_MODEL_6a1bf2102604411198a44bdaa6fc8fc4",
       "max": 220,
       "min": 150,
       "style": "IPY_MODEL_a8d0749e0b1a420aaa38168dcb22b4ed",
       "value": 170
      }
     },
     "7e7a7f85794342e79455d94ae4370c46": {
      "model_module": "@jupyter-widgets/controls",
      "model_module_version": "2.0.0",
      "model_name": "IntSliderModel",
      "state": {
       "behavior": "drag-tap",
       "description": "TS (dB)",
       "layout": "IPY_MODEL_1bcd88f6f517406bb635cb4848714168",
       "max": -30,
       "min": -50,
       "style": "IPY_MODEL_9a0dabd536eb4ae19d046d8cb218d6e1",
       "value": -40
      }
     },
     "9a0dabd536eb4ae19d046d8cb218d6e1": {
      "model_module": "@jupyter-widgets/controls",
      "model_module_version": "2.0.0",
      "model_name": "SliderStyleModel",
      "state": {
       "description_width": "initial"
      }
     },
     "a8d0749e0b1a420aaa38168dcb22b4ed": {
      "model_module": "@jupyter-widgets/controls",
      "model_module_version": "2.0.0",
      "model_name": "SliderStyleModel",
      "state": {
       "description_width": "initial"
      }
     },
     "c9a38f97c06d43b7b3de306dc0014c76": {
      "model_module": "@jupyter-widgets/controls",
      "model_module_version": "2.0.0",
      "model_name": "VBoxModel",
      "state": {
       "_dom_classes": [
        "widget-interact"
       ],
       "children": [
        "IPY_MODEL_71dc1d537d7d4da2b7e5f0aac8dbd229",
        "IPY_MODEL_4c9da6ef97f54faf9a4de38a53d1a04d",
        "IPY_MODEL_7e7a7f85794342e79455d94ae4370c46",
        "IPY_MODEL_6b4d779453824747b22fdadbaee5de39"
       ],
       "layout": "IPY_MODEL_6c31afc1f6f2410ead41982e91a3426f"
      }
     },
     "d2c54cd4dda945b4ba3b95b2d87698a1": {
      "model_module": "@jupyter-widgets/base",
      "model_module_version": "2.0.0",
      "model_name": "LayoutModel",
      "state": {}
     },
     "f154624d159644a0b81659f4a028e49d": {
      "model_module": "@jupyter-widgets/controls",
      "model_module_version": "2.0.0",
      "model_name": "SliderStyleModel",
      "state": {
       "description_width": "initial"
      }
     }
    },
    "version_major": 2,
    "version_minor": 0
   }
  }
 },
 "nbformat": 4,
 "nbformat_minor": 4
}
