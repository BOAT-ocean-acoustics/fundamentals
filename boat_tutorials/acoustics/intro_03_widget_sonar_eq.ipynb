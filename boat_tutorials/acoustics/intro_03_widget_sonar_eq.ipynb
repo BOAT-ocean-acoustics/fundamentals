{
 "cells": [
  {
   "cell_type": "markdown",
   "metadata": {
    "editable": true,
    "slideshow": {
     "slide_type": ""
    },
    "tags": []
   },
   "source": [
    "(acoustics-intro_widgets)=\n",
    "## Understanding SONAR equation through a widget\n",
    "\n",
    "Let's put what we just learn to use! Below is an interactive \"widget\" that you can use to get an intuitive sense of how loud Oli's sound or fish echoes Ola may receive."
   ]
  },
  {
   "cell_type": "markdown",
   "metadata": {},
   "source": [
    "```{Tip}\n",
    ":class: tip\n",
    "Here, all the numbers are represented in **decibels**, or \"**dB**,\" which is a unitless, logarithmic measure widely used in ocean acoustics. We use the this measure in order to easily compare sound as loud as a jet taking off right outside of your window (~140 dB re 20 μPa) with sound as soft as dropping a needle on the floor (~15 dB re 20 μPa). Go to the [](primer-decibel) tutorial page to learn about this useful measure!\n",
    "```"
   ]
  },
  {
   "cell_type": "markdown",
   "metadata": {},
   "source": [
    "In the widget below, you can tune the number of the SL, TL, and TS terms in the sonar equation, and observe how these terms affect the RL in the passive and active sensing scenarios.\n",
    "\n",
    "What do you find? Is it easy for Ola to detect a fish compared to try to listen to messages from Oli?"
   ]
  },
  {
   "cell_type": "code",
   "execution_count": 1,
   "metadata": {
    "editable": true,
    "slideshow": {
     "slide_type": ""
    },
    "tags": [
     "hide-input"
    ]
   },
   "outputs": [],
   "source": [
    "import ipywidgets as widgets"
   ]
  },
  {
   "cell_type": "code",
   "execution_count": 2,
   "metadata": {
    "editable": true,
    "slideshow": {
     "slide_type": ""
    },
    "tags": [
     "hide-input"
    ]
   },
   "outputs": [
    {
     "data": {
      "application/vnd.jupyter.widget-view+json": {
       "model_id": "f769d17507bb4afb8596522c963105ed",
       "version_major": 2,
       "version_minor": 0
      },
      "text/plain": [
       "interactive(children=(IntSlider(value=170, description='SL (dB)', layout=Layout(width='400px'), max=220, min=1…"
      ]
     },
     "metadata": {},
     "output_type": "display_data"
    }
   ],
   "source": [
    "def update_RL(SL, TL, TS):\n",
    "    RL_passive = SL - TL\n",
    "    RL_active = SL - 2*TL + TS\n",
    "    print(f\"Passive RL: {RL_passive} dB\")\n",
    "    print(f\"Active  RL: {RL_active} dB\")\n",
    "\n",
    "_ = widgets.interact(\n",
    "    update_RL,\n",
    "    SL=widgets.IntSlider(value=170, min=150, max=220, step=1, layout=widgets.Layout(width=\"400px\"), style={'description_width': 'initial'}, description=\"SL (dB)\"),\n",
    "    TL=widgets.IntSlider(value=50, min=40, max=60, step=1, layout=widgets.Layout(width=\"400px\"), style={'description_width': 'initial'}, description=\"TL (dB)\"),\n",
    "    TS=widgets.IntSlider(value=-40, min=-50, max=-30, step=1, layout=widgets.Layout(width=\"400px\"), style={'description_width': 'initial'}, description=\"TS (dB)\"),\n",
    ")"
   ]
  },
  {
   "cell_type": "code",
   "execution_count": null,
   "metadata": {
    "editable": true,
    "slideshow": {
     "slide_type": ""
    },
    "tags": []
   },
   "outputs": [],
   "source": []
  }
 ],
 "metadata": {
  "kernelspec": {
   "display_name": "Python 3 (ipykernel)",
   "language": "python",
   "name": "python3"
  },
  "language_info": {
   "codemirror_mode": {
    "name": "ipython",
    "version": 3
   },
   "file_extension": ".py",
   "mimetype": "text/x-python",
   "name": "python",
   "nbconvert_exporter": "python",
   "pygments_lexer": "ipython3",
   "version": "3.12.9"
  },
  "widgets": {
   "application/vnd.jupyter.widget-state+json": {
    "state": {
     "07e18a9d0e064e7693fe8443d3d379a7": {
      "model_module": "@jupyter-widgets/controls",
      "model_module_version": "2.0.0",
      "model_name": "SliderStyleModel",
      "state": {
       "description_width": "initial"
      }
     },
     "1a2c31c0524c49b79bd53714e3a8357d": {
      "model_module": "@jupyter-widgets/controls",
      "model_module_version": "2.0.0",
      "model_name": "IntSliderModel",
      "state": {
       "behavior": "drag-tap",
       "description": "TL (dB)",
       "layout": "IPY_MODEL_8f1ecba8966c4480b4f045c0c20059ef",
       "max": 60,
       "min": 40,
       "style": "IPY_MODEL_07e18a9d0e064e7693fe8443d3d379a7",
       "value": 50
      }
     },
     "21762a04934e42718ce5be59322a91fb": {
      "model_module": "@jupyter-widgets/output",
      "model_module_version": "1.0.0",
      "model_name": "OutputModel",
      "state": {
       "layout": "IPY_MODEL_29479340a0d3431a99cd338a0df1e2bc",
       "outputs": [
        {
         "name": "stdout",
         "output_type": "stream",
         "text": "Passive RL: 120 dB\nActive  RL: 30 dB\n"
        }
       ]
      }
     },
     "2565421c46594e40aec26685a1013720": {
      "model_module": "@jupyter-widgets/base",
      "model_module_version": "2.0.0",
      "model_name": "LayoutModel",
      "state": {
       "width": "400px"
      }
     },
     "29479340a0d3431a99cd338a0df1e2bc": {
      "model_module": "@jupyter-widgets/base",
      "model_module_version": "2.0.0",
      "model_name": "LayoutModel",
      "state": {}
     },
     "2f9830f0ea984bf0aed32524a671ed40": {
      "model_module": "@jupyter-widgets/controls",
      "model_module_version": "2.0.0",
      "model_name": "IntSliderModel",
      "state": {
       "behavior": "drag-tap",
       "description": "TS (dB)",
       "layout": "IPY_MODEL_f8ae276f20f046598b12d42e921cad55",
       "max": -30,
       "min": -50,
       "style": "IPY_MODEL_3b327c279be74083bcd84e8c76d247ad",
       "value": -40
      }
     },
     "3b327c279be74083bcd84e8c76d247ad": {
      "model_module": "@jupyter-widgets/controls",
      "model_module_version": "2.0.0",
      "model_name": "SliderStyleModel",
      "state": {
       "description_width": "initial"
      }
     },
     "8f1ecba8966c4480b4f045c0c20059ef": {
      "model_module": "@jupyter-widgets/base",
      "model_module_version": "2.0.0",
      "model_name": "LayoutModel",
      "state": {
       "width": "400px"
      }
     },
     "8f2fcda444b24924a32bb9fdf5173455": {
      "model_module": "@jupyter-widgets/base",
      "model_module_version": "2.0.0",
      "model_name": "LayoutModel",
      "state": {}
     },
     "cb64019eb21c47298d581a84612f5d73": {
      "model_module": "@jupyter-widgets/controls",
      "model_module_version": "2.0.0",
      "model_name": "SliderStyleModel",
      "state": {
       "description_width": "initial"
      }
     },
     "ccabeaa4122c4b799a3a6f69aa90ac60": {
      "model_module": "@jupyter-widgets/controls",
      "model_module_version": "2.0.0",
      "model_name": "IntSliderModel",
      "state": {
       "behavior": "drag-tap",
       "description": "SL (dB)",
       "layout": "IPY_MODEL_2565421c46594e40aec26685a1013720",
       "max": 220,
       "min": 150,
       "style": "IPY_MODEL_cb64019eb21c47298d581a84612f5d73",
       "value": 170
      }
     },
     "f769d17507bb4afb8596522c963105ed": {
      "model_module": "@jupyter-widgets/controls",
      "model_module_version": "2.0.0",
      "model_name": "VBoxModel",
      "state": {
       "_dom_classes": [
        "widget-interact"
       ],
       "children": [
        "IPY_MODEL_ccabeaa4122c4b799a3a6f69aa90ac60",
        "IPY_MODEL_1a2c31c0524c49b79bd53714e3a8357d",
        "IPY_MODEL_2f9830f0ea984bf0aed32524a671ed40",
        "IPY_MODEL_21762a04934e42718ce5be59322a91fb"
       ],
       "layout": "IPY_MODEL_8f2fcda444b24924a32bb9fdf5173455"
      }
     },
     "f8ae276f20f046598b12d42e921cad55": {
      "model_module": "@jupyter-widgets/base",
      "model_module_version": "2.0.0",
      "model_name": "LayoutModel",
      "state": {
       "width": "400px"
      }
     }
    },
    "version_major": 2,
    "version_minor": 0
   }
  }
 },
 "nbformat": 4,
 "nbformat_minor": 4
}
