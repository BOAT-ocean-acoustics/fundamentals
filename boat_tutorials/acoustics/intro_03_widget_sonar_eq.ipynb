{
 "cells": [
  {
   "cell_type": "markdown",
   "metadata": {},
   "source": [
    "(acoustics-intro_widgets)=\n",
    "## Understanding SONAR equation through a widget\n",
    "\n",
    "Let's put what we just learn to use! Below is an interactive \"widget\" that you can use to get an intuitive sense of how loud Oli's sound or fish echoes Ola may receive."
   ]
  },
  {
   "cell_type": "markdown",
   "metadata": {},
   "source": [
    "```{Tip}\n",
    ":class: tip\n",
    "Here, all the numbers are represented in **decibels**, or \"**dB**,\" which is a unitless, logarithmic measure widely used in ocean acoustics. We use the this measure in order to easily compare sound as loud as a jet taking off right outside of your window (~140 dB re 20 μPa) with sound as soft as dropping a needle on the floor (~15 dB re 20 μPa). Go to the [](primer-decibel) tutorial page to learn about this useful measure!\n",
    "```"
   ]
  },
  {
   "cell_type": "markdown",
   "metadata": {},
   "source": [
    "In the widget below, you can tune the number of the SL, TL, and TS terms in the sonar equation, and observe how these terms affect the RL in the passive and active sensing scenarios.\n",
    "\n",
    "What do you find? Is it easy for Ola to detect a fish compared to try to listen to messages from Oli?"
   ]
  },
  {
   "cell_type": "code",
   "execution_count": 1,
   "metadata": {},
   "outputs": [],
   "source": [
    "import numpy as np\n",
    "import ipywidgets as widgets\n",
    "\n",
    "from IPython.display import display"
   ]
  },
  {
   "cell_type": "code",
   "execution_count": 2,
   "metadata": {},
   "outputs": [
    {
     "data": {
      "application/vnd.jupyter.widget-view+json": {
       "model_id": "369394cbdded4c20a8a57ec5ef7371ef",
       "version_major": 2,
       "version_minor": 0
      },
      "text/plain": [
       "interactive(children=(IntSlider(value=170, description='SL (dB)', layout=Layout(width='400px'), max=210, min=1…"
      ]
     },
     "metadata": {},
     "output_type": "display_data"
    }
   ],
   "source": [
    "def update_RL(SL, TL, TS):\n",
    "    RL_passive = SL - TL\n",
    "    RL_active = SL - 2*TL + TS\n",
    "    print(f\"Passive RL: {RL_passive} dB\")\n",
    "    print(f\"Active  RL: {RL_active} dB\")\n",
    "\n",
    "_ = widgets.interact(\n",
    "    update_RL,\n",
    "    SL=widgets.IntSlider(value=170, min=120, max=210, step=1, layout=widgets.Layout(width=\"400px\"), style={'description_width': 'initial'}, description=\"SL (dB)\"),\n",
    "    TL=widgets.IntSlider(value=60, min=40, max=80, step=1, layout=widgets.Layout(width=\"400px\"), style={'description_width': 'initial'}, description=\"TL (dB)\"),\n",
    "    TS=widgets.IntSlider(value=-40, min=-80, max=-20, step=1, layout=widgets.Layout(width=\"400px\"), style={'description_width': 'initial'}, description=\"TS (dB)\"),\n",
    ")"
   ]
  }
 ],
 "metadata": {
  "kernelspec": {
   "display_name": "boat_20250320",
   "language": "python",
   "name": "python3"
  },
  "language_info": {
   "codemirror_mode": {
    "name": "ipython",
    "version": 3
   },
   "file_extension": ".py",
   "mimetype": "text/x-python",
   "name": "python",
   "nbconvert_exporter": "python",
   "pygments_lexer": "ipython3",
   "version": "3.12.9"
  }
 },
 "nbformat": 4,
 "nbformat_minor": 2
}
