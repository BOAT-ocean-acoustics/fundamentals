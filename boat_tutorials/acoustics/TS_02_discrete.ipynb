{
 "cells": [
  {
   "cell_type": "markdown",
   "metadata": {},
   "source": [
    "(acoustics-scattering_discrete)=\n",
    "## Discrete scatterers"
   ]
  },
  {
   "cell_type": "markdown",
   "metadata": {},
   "source": [
    "(acoustics-scattering_discrete_why)=\n",
    "### What are discrete scatterers and why they matter\n",
    "\n",
    "We call something a \"discrete\" scatterer when we consider their scattering response by itself. It is extremely useful, because not only can we model individual _things_ in the ocean—a bubble, oil droplet, sand, fish, krill, whale, or even a submarine—as discrete scatterers, we can also model the combined scattering from a group of these things as a _collection_ of discrete scatterers. This allows us to build up models for more complex scenarios, like a patch of seafloor or sea surface, a cloud of bubbles or a school of fish, which we will explore in the [surface](acoustics-scattering_surface) and [volume](acoustics-scattering_volume) scattering sections.\n",
    "\n",
    "Furthermore, once we know how different types of objects scatterer sound, we can use that knowledge to interpret the echo signals we receive and infer the potential scattering sources. In cases when we already know or are very confident of what the scatterers are, we can even go one step further, to estimate scatterer properties, such as their size, shape, or material composition based on the spectral, temporal, or other features of the echoes.\n",
    "\n",
    "For simplicity, in this section we will focus on discussing echoes in the backscattering direction in the [monostatic](acoustics-scattering_monostatic_bistatic) scenario."
   ]
  },
  {
   "cell_type": "markdown",
   "metadata": {},
   "source": [
    "(acoustics-scattering_discrete_why)=\n",
    "### Point scatterer\n",
    "\n",
    "The simplest discrete scatterer model is a \"point\" scatterer, which is very small and can be thought of as a new sound source that radiates sound after it is excited by the incident waves. This is nice, because we can immdiately apply many concepts we have learned about the [acoustic sources](acoustics-source) here.\n",
    "\n",
    "We often assume a point scatterer to be _omnidirectional_, meaning that when impinged by sound, it would scatter echoes equally in all directions. This means that regardless of the directions of the source and the receiver, the echo would always be the same.\n",
    "\n",
    "But of course, in the natural world, most objects scatter sounds differently depending on the direciton of the incident sound and its relative location with respective to the receiver. Therefore, we can model a _directional_ point scatterer, just like how we consider sources with different directional characteristics.\n"
   ]
  },
  {
   "cell_type": "markdown",
   "metadata": {},
   "source": [
    "(acoustics-scattering_discrete_regimes)=\n",
    "### Scattering regimes\n",
    "\n",
    "As we have seen in the [acoustic sources](acoustics-source) tutorial, when we talk about the _size_ of the scatterer, we are really talking about the _relative size_ of the scatterer compare to the acoustic wavelength. In acoustics, we often use $ka$, a _dimensionless_ number, to quantify this. Here, $k=2\\pi/\\lambda$ is the acoustic wavenumber, and $a$ is the _characteristic dimension_ of the scatterer, such as the radius of a sphere or the length of a cylinder. $ka=2\\pi a/\\lambda$ is _dimensionless_, because both $\\lambda$ and $a$ are length measures. This allows us to easily compare the echo reponse of a large scatterer at low frquency and a small scatterer at high frequency, not based on the absolute size of the scatterer or the sound frequency, but by the ratio between the wavelength and the scatterer size.\n",
    "\n",
    "When the acoustic wavelength is very large compared to the scatterer ($ka\\ll1$), we call this the \"Rayleigh\" scattering regime, in which the scattering is dominated by diffraction. On the other extreme, when the acoustic wavelength is small compared to the scatterer ($ka\\gg1$), we call this the \"geometric\" regime, in which the scattering is dominated by reflection. In the Rayleigh regime, the exact shape of the scatterer is often not as critical, and the scattering cross section scales with frequency with a steep slope proportional to $(ka)^4$, whereas in the geometric regime, the scattering cross section often varies around a high-frequency limit. This relative stability of scattering strength across frequency is useful for calibrating instruments. For example, below is the TS spectrum of a solid tungston carbide sphere typically used to calibrate a 38 kHz echosounder system.\n",
    "\n",
    "\n",
    "ADD FIGURE\n",
    "TS SPECTRUM FOR CALIBRATION SPHERE SHOWING FREQUENCY DEPENDENCY"
   ]
  },
  {
   "cell_type": "markdown",
   "metadata": {},
   "source": [
    "(acoustics-scattering_discrete_material_properties)=\n",
    "### Scatterer material properties\n",
    "\n",
    "Scattering phenomena can be complex and depend on the material properties and shape of the object. For example, bubbles or objects that include air in its composition can _resonante_ in the $ka\\ll1$ region, producing scattering signals much stronger than similarly sized objects without air. When the object is made of materials very similar to the surrounding water medium, sound can easily transmit and reflect through the object, causing interference that can be observed in the spectrum.\n",
    "\n",
    "Below you can see the TS spectrum from a sphere of the same size but with different material compositions: dense metal, fluid (jelly-like), and air (bubble):\n",
    "\n",
    "\n",
    "ADD FIGURE\n",
    "TS SPECTRUM FOR 3 SPHERE TYPES OF THE SAME SIZE"
   ]
  },
  {
   "cell_type": "markdown",
   "metadata": {},
   "source": [
    "To get an intuitive feel of how the echoes change depending on the scatterer, try the two widgets below and see how the TS magnitude and spectral features change depending on the size of the scatterer."
   ]
  },
  {
   "cell_type": "markdown",
   "metadata": {},
   "source": [
    "**Air-filled sphere**"
   ]
  },
  {
   "cell_type": "code",
   "execution_count": 1,
   "metadata": {},
   "outputs": [],
   "source": [
    "# ADD WIDGET\n",
    "# - VARY: BUBBLE RADIUS\n",
    "# - PLOT: TS SPECTRUM\n",
    "# - OBSERVE CHANGE OF RESONANCE FREQUENCY DUE TO BUBBLE SIZE CHANGE"
   ]
  },
  {
   "cell_type": "markdown",
   "metadata": {},
   "source": [
    "**Fluid sphere**"
   ]
  },
  {
   "cell_type": "code",
   "execution_count": 2,
   "metadata": {},
   "outputs": [],
   "source": [
    "# ADD WIDGET\n",
    "# - VARY: SPHERE RADIUS\n",
    "# - PLOT: TS SPECTRUM\n",
    "# - OBSERVE CHANGE OF SPECTRAL RIPPLES DUE TO SPHERE SIZE CHANGE"
   ]
  },
  {
   "cell_type": "markdown",
   "metadata": {},
   "source": [
    "In practice, how do we apply these concepts to interpret echo data? Even though simple geometrical shapes like spheres or spheroids are rare in nature, they are often pretty good approximations to many discrete scatterers in the ocean. For example, we can model the fish swimbladder as an air-filled sphere or spheroid, and model a krill as an fluid spheroid or cylinder. By observing how the echo spectrum changes across frequency, we can make inference about the type of animals that produced the echoes."
   ]
  },
  {
   "cell_type": "markdown",
   "metadata": {},
   "source": [
    "(acoustics-scattering_discrete_orientation)=\n",
    "### Orientation dependence\n",
    "\n",
    "What if we actually consider the non-spherical nature of most objects in nature? In that case, the echoes would indeed vary depending on the direction sound impinges on the scatterer. This is especailly when $ka$ is high and the wavelength is relatively short compared to the scatterer size, such that sound scattered from different part of the scatterer would induce stronger constructive and destructive interference patterns in different directions. This is the same concept as discussed in the [acoustic sources](acoustics-source) section, where higher $ka$ means a more directional beampattern.\n",
    "\n",
    "To get an idea of how this directionality may look like, try the widget below and see how the TS magnitude and spectral features of a fluid spheroid change depending on the incident sound direction."
   ]
  },
  {
   "cell_type": "markdown",
   "metadata": {},
   "source": [
    "**Fluid spheroid**"
   ]
  },
  {
   "cell_type": "code",
   "execution_count": 3,
   "metadata": {},
   "outputs": [],
   "source": [
    "# ADD WIDGET\n",
    "# - VARY: incident angle\n",
    "# - PLOT: TS SPECTRUM\n",
    "# - OBSERVE CHANGE OF SPECTRAL FEATURES AND MAGNITUDE DUE TO INCIDENCE ANGLE CHANGE"
   ]
  },
  {
   "cell_type": "markdown",
   "metadata": {},
   "source": [
    "As you may have already guessed: The angular variation of TS spectrum—sometimes referred to as the \"acoustic color\"—can provide valuable information to infer the scatterer identity."
   ]
  },
  {
   "cell_type": "code",
   "execution_count": null,
   "metadata": {},
   "outputs": [],
   "source": []
  }
 ],
 "metadata": {
  "kernelspec": {
   "display_name": "boat_20250320",
   "language": "python",
   "name": "python3"
  },
  "language_info": {
   "codemirror_mode": {
    "name": "ipython",
    "version": 3
   },
   "file_extension": ".py",
   "mimetype": "text/x-python",
   "name": "python",
   "nbconvert_exporter": "python",
   "pygments_lexer": "ipython3",
   "version": "3.12.9"
  }
 },
 "nbformat": 4,
 "nbformat_minor": 2
}
