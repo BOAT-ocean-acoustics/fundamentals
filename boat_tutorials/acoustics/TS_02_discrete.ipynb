{
 "cells": [
  {
   "cell_type": "markdown",
   "metadata": {},
   "source": [
    "(acoustics-scattering_discrete)=\n",
    "## Discrete scatterers"
   ]
  },
  {
   "cell_type": "markdown",
   "metadata": {},
   "source": [
    "(acoustics-scattering_discrete_why)=\n",
    "### What are discrete scatterers and why they matter\n",
    "\n",
    "We call something a \"discrete\" scatterer when we consider their scattering response by itself. It is extremely useful, because not only can we model individual _things_ in the ocean—a bubble, oil droplet, sand, fish, krill, whale, or even a submarine—as discrete scatterers, we can also model the combined scattering from a group of these things as a _collection_ of discrete scatterers. This allows us to build up models for more complex scenarios, like a patch of seafloor or sea surface, a cloud of bubbles or a school of fish, which we will explore in the [surface](acoustics-scattering_surface) and [volume](acoustics-scattering_volume) scattering sections.\n",
    "\n",
    "Furthermore, once we know how different types of objects scatterer sound, we can use that knowledge to interpret the echo signals we receive and infer the potential scattering sources. In cases when we already know or are very confident of what the scatterers are, we can even go one step further, to estimate scatterer properties, such as their size, shape, or material composition based on the spectral, temporal, or other features of the echoes.\n",
    "\n",
    "For simplicity, in this section we will focus on discussing echoes in the backscattering direction in the [monostatic](acoustics-scattering_monostatic_bistatic) scenario."
   ]
  },
  {
   "cell_type": "markdown",
   "metadata": {},
   "source": [
    "(acoustics-scattering_discrete_why)=\n",
    "### Point scatterer\n",
    "\n",
    "The simplest discrete scatterer model is a \"point\" scatterer, which is very small and can be thought of as a new sound source that radiates sound after it is excited by the incident waves. This is nice, because we can immdiately apply many concepts we have learned about the [acoustic sources](acoustics-source) here.\n",
    "\n",
    "We often assume a point scatterer to be _omnidirectional_, meaning that when impinged by sound, it would scatter echoes equally in all directions. This means that regardless of the directions of the source and the receiver, the echo would always be the same.\n",
    "\n",
    "But of course, in the natural world, most objects scatter sounds differently depending on the direciton of the incident sound and its relative location with respective to the receiver. Therefore, we can model a _directional_ point scatterer, just like how we consider sources with different directional characteristics.\n"
   ]
  },
  {
   "cell_type": "markdown",
   "metadata": {},
   "source": [
    "(acoustics-scattering_discrete_regimes)=\n",
    "### Scattering regimes\n",
    "\n",
    "As we have seen in the [acoustic sources](acoustics-source) tutorial, when we talk about the _size_ of the scatterer, we are really talking about the _relative size_ of the scatterer compare to the acoustic wavelength. In acoustics, we often use $ka$, a _dimensionless_ number, to quantify this. Here, $k=2\\pi/\\lambda$ is the acoustic wavenumber, and $a$ is the _characteristic dimension_ of the scatterer, such as the radius of a sphere or the length of a cylinder. $ka=2\\pi a/\\lambda$ is _dimensionless_, because both $\\lambda$ and $a$ are length measures. This allows us to easily compare the echo reponse of a large scatterer at low frquency and a small scatterer at high frequency, not based on the absolute size of the scatterer or the sound frequency, but by the ratio between the wavelength and the scatterer size.\n",
    "\n",
    "When the acoustic wavelength is very large compared to the scatterer ($ka\\ll1$), we call this the \"Rayleigh\" scattering regime, in which the scattering is dominated by diffraction. On the other extreme, when the acoustic wavelength is small compared to the scatterer ($ka\\gg1$), we call this the \"geometric\" regime, in which the scattering is dominated by reflection. In the Rayleigh regime, the exact shape of the scatterer is often not as critical, and the scattering cross section scales with frequency with a steep slope proportional to $(ka)^4$, whereas in the geometric regime, the scattering cross section often varies around a high-frequency limit. This relative stability of scattering strength across frequency is useful for calibrating instruments. For example, below is the TS spectrum of a solid tungston carbide sphere typically used to calibrate a 38 kHz echosounder system.\n",
    "\n",
    "\n",
    "ADD FIGURE\n",
    "TS SPECTRUM FOR CALIBRATION SPHERE SHOWING FREQUENCY DEPENDENCY"
   ]
  },
  {
   "cell_type": "markdown",
   "metadata": {},
   "source": [
    "(acoustics-scattering_discrete_size_material)=\n",
    "### Scatterer size and material properties\n",
    "\n",
    "Scattering phenomena can be complex and depend on the material properties and shape of the object. For example, bubbles or objects that include air in its composition can _resonante_ in the $ka\\ll1$ region, producing scattering signals much stronger than similarly sized objects without air. When the object is made of materials very similar to the surrounding water medium, sound can easily transmit and reflect through the object, causing interference that can be observed in the spectrum.\n",
    "\n",
    "Below you can see the TS spectrum from a sphere of the same size but with different material compositions: dense metal, fluid (jelly-like), and air (bubble):\n",
    "\n",
    "\n",
    "ADD FIGURE\n",
    "TS SPECTRUM FOR 3 SPHERE TYPES OF THE SAME SIZE"
   ]
  },
  {
   "cell_type": "markdown",
   "metadata": {},
   "source": [
    "(acoustics-scattering_discrete_size_materials_widget)=\n",
    "\n",
    "To get an intuitive feel of how the echoes change depending on the scatterer, try the widget below and see how the TS magnitude and spectral features change depending on the size of a bubble and a fluid sphere."
   ]
  },
  {
   "cell_type": "code",
   "execution_count": 1,
   "metadata": {},
   "outputs": [],
   "source": [
    "import numpy as np\n",
    "import matplotlib.pyplot as plt\n",
    "from scipy.special import spherical_jn, spherical_yn"
   ]
  },
  {
   "cell_type": "code",
   "execution_count": 2,
   "metadata": {},
   "outputs": [],
   "source": [
    "import matplotlib\n",
    "matplotlib.use('module://matplotlib_inline.backend_inline')\n",
    "\n",
    "import ipywidgets as widgets\n",
    "\n",
    "from IPython.display import display, HTML"
   ]
  },
  {
   "cell_type": "code",
   "execution_count": 3,
   "metadata": {},
   "outputs": [],
   "source": [
    "def Pn(n: int, x: np.array):\n",
    "    if np.max(np.abs(x)) > 1:\n",
    "        raise ValueError(\"|x| must be smaller than 1!\")\n",
    "\n",
    "    pn = np.zeros((x.size, n + 1))\n",
    "    pn[:, 0] = 1\n",
    "    if n >= 1:\n",
    "        pn[:, 1] = x\n",
    "\n",
    "    for nn in range(1, n):\n",
    "        pn[:, nn + 1] = ((2 * nn + 1) * x * pn[:, nn] - nn * pn[:, nn - 1]) / (nn + 1)\n",
    "\n",
    "    return pn[:, n]"
   ]
  },
  {
   "cell_type": "code",
   "execution_count": 4,
   "metadata": {},
   "outputs": [],
   "source": [
    "def fluid_fs(scale, out_flag, para):\n",
    "    DEG2RAD = np.pi / 180\n",
    "    ns, x0, xe, g, h = para[:5]\n",
    "    \n",
    "    # Create ka array\n",
    "    if scale == 1:\n",
    "        ka1 = np.linspace(x0, xe, ns)\n",
    "    else:\n",
    "        ka1 = np.logspace(np.log10(x0), np.log10(xe), ns)\n",
    "\n",
    "    # Determine max mode\n",
    "    if len(para) < 7:\n",
    "        Nmax = round(np.max(ka1)) + 10\n",
    "    else:\n",
    "        Nmax = para[6]\n",
    "\n",
    "    ka2 = ka1 / h\n",
    "    m = len(ka1)\n",
    "    theta = para[5] * DEG2RAD\n",
    "    x = np.cos(theta)\n",
    "\n",
    "    n = np.arange(Nmax)\n",
    "    nl = 2 * n + 1\n",
    "\n",
    "    # Compute Legendre polynomials Pn(x)\n",
    "    pn1 = np.array([Pn(ni, x) for ni in n]).squeeze()\n",
    "\n",
    "    # Bessel functions and derivatives\n",
    "    jn1 = np.array([spherical_jn(ni, ka1) for ni in n])  # shape (Nmax, m)\n",
    "    yn1 = np.array([spherical_yn(ni, ka1) for ni in n])\n",
    "    djn1 = np.array([spherical_jn(ni, ka1, derivative=True) for ni in n])\n",
    "    dyn1 = np.array([spherical_yn(ni, ka1, derivative=True) for ni in n])\n",
    "\n",
    "    jn2 = np.array([spherical_jn(ni, ka2) for ni in n])\n",
    "    djn2 = np.array([spherical_jn(ni, ka2, derivative=True) for ni in n])\n",
    "\n",
    "    # Avoid division warnings\n",
    "    with np.errstate(divide='ignore', invalid='ignore'):\n",
    "        term1 = djn2 * yn1 / (jn2 * djn1) - g * h * dyn1 / djn1\n",
    "        term2 = djn2 * jn1 / (jn2 * djn1) - g * h\n",
    "        cn = term1 / term2\n",
    "        bn = -1 / (1 + 1j * cn)\n",
    "\n",
    "    # Form function f and amplitude S\n",
    "    f = np.zeros(m, dtype=complex)\n",
    "    # S = np.zeros((m, Nmax), dtype=complex)\n",
    "    for mm in range(m):\n",
    "        s = nl * pn1 * bn[:, mm]\n",
    "        f[mm] = np.sum(s)\n",
    "        # S[mm, :] = s / ka1[mm]\n",
    "\n",
    "    outx = ka1\n",
    "    # Choose output based on out_flag\n",
    "    if out_flag == 1:\n",
    "        outy = np.abs(2 * f / ka1)  # Modulus of form function\n",
    "    elif out_flag == 2:\n",
    "        outy = -1j * 2 * f / ka1  # Complex form function\n",
    "    elif out_flag == 3:\n",
    "        outy = np.abs(f) / (np.sqrt(np.pi) * ka1)  # Modulus of normalized scattering amplitude\n",
    "    elif out_flag == 4:\n",
    "        outy = -1j * f / (np.sqrt(np.pi) * ka1)  # Complex normalized scattering amplitude\n",
    "    else:\n",
    "        raise ValueError(\"Invalid out_flag value.\")\n",
    "\n",
    "    return outx, outy"
   ]
  },
  {
   "cell_type": "code",
   "execution_count": 5,
   "metadata": {},
   "outputs": [
    {
     "data": {
      "application/vnd.jupyter.widget-view+json": {
       "model_id": "64147df27af043ecb3b4dd2b999de084",
       "version_major": 2,
       "version_minor": 0
      },
      "text/plain": [
       "interactive(children=(SelectionSlider(description='Bubble radius (m)', index=4, layout=Layout(width='400px'), …"
      ]
     },
     "metadata": {},
     "output_type": "display_data"
    }
   ],
   "source": [
    "# para_fld=[n, x0, xe, g, h, theta_ka]\n",
    "para_bubble = [1000, 0.001, 25, 0.0012, 0.22, 180]  # bubble at surface\n",
    "para_fluid = [1000, 0.001, 25, 1.026, 1.017, 180]  # fluid sphere\n",
    "scale = 2\n",
    "out_flag = 2  # complex form function\n",
    "\n",
    "\n",
    "def plot_TS(radius_bubble, radius_fluid, xscale_type):\n",
    "    freq_bubble = ka_bubble * c / (radius_bubble * 2 * np.pi)\n",
    "    freq_fluid = ka_fluid * c / (radius_fluid * 2 * np.pi)\n",
    "    TS_bubble = 20 * np.log10(np.abs(fm_bubble) * radius_bubble/2)\n",
    "    TS_fluid = 20 * np.log10(np.abs(fm_fluid) * radius_fluid/2)\n",
    "\n",
    "    plt.figure(figsize=(6, 4))\n",
    "    plt.plot(freq_bubble, TS_bubble, lw=1.5)\n",
    "    plt.plot(freq_fluid, TS_fluid, lw=1.5)\n",
    "    if xscale_type == \"log\":\n",
    "        plt.xlim(np.log10(23), 6e3)\n",
    "        plt.xscale(\"log\")\n",
    "    else:\n",
    "        plt.xlim(0, 6e3)\n",
    "    plt.ylim(-100, 40)\n",
    "    plt.xlabel(\"Frequency (Hz)\")\n",
    "    plt.ylabel(\"TS (dB)\")\n",
    "    plt.title(\"Scattering from a bubble and a fluid sphere\")\n",
    "    plt.show()\n",
    "\n",
    "\n",
    "rr = np.arange(1, 10, 1)/10\n",
    "radius_bubble_slider = widgets.SelectionSlider(\n",
    "    options=rr,\n",
    "    value=0.5,  # default value\n",
    "    description=\"Bubble radius (m)\",\n",
    "    style={'description_width': 'initial'},\n",
    "    layout=widgets.Layout(width=\"400px\"),\n",
    "    continuous_update=True\n",
    ")\n",
    "\n",
    "radius_fluid_slider = widgets.SelectionSlider(\n",
    "    options=rr,\n",
    "    value=0.5,  # default value\n",
    "    description=\"Fluid sphere radius (m)\",\n",
    "    style={'description_width': 'initial'},\n",
    "    layout=widgets.Layout(width=\"400px\"),\n",
    "    continuous_update=True\n",
    ")\n",
    "\n",
    "xscale_radio = widgets.RadioButtons(\n",
    "    options=[\"linear\", \"log\"],\n",
    "    value=\"log\",  # default selected\n",
    "    description=\"X-axis scale\",\n",
    "    disabled=False,\n",
    "    style={'description_width': 'initial'},\n",
    ")\n",
    "\n",
    "\n",
    "ka_bubble, fm_bubble = fluid_fs(scale, out_flag, para_bubble)\n",
    "ka_fluid, fm_fluid = fluid_fs(scale, out_flag, para_fluid)\n",
    "\n",
    "c = 1500  # medium sound speed [m/s]\n",
    "\n",
    "\n",
    "interactive_plot = widgets.interactive(\n",
    "    plot_TS, \n",
    "    radius_bubble=radius_bubble_slider, \n",
    "    radius_fluid=radius_fluid_slider,\n",
    "    xscale_type=xscale_radio)\n",
    "display(interactive_plot)"
   ]
  },
  {
   "cell_type": "markdown",
   "metadata": {},
   "source": [
    "In practice, how do we apply these concepts to interpret echo data? Even though simple geometrical shapes like spheres or spheroids are rare in nature, they are often pretty good approximations to many discrete scatterers in the ocean. For example, we can model the fish swimbladder as an air-filled sphere or spheroid, and model a krill as an fluid spheroid or cylinder. By observing how the echo spectrum changes across frequency, we can make inference about the type of animals that produced the echoes."
   ]
  },
  {
   "cell_type": "markdown",
   "metadata": {},
   "source": [
    "```{Tip}\n",
    ":class: tip\n",
    "Check out the [](acoustics-scattering_inference) section to try interpreting an [\"echogram!\"](acoustics-scattering_echogram)\n",
    "```"
   ]
  },
  {
   "cell_type": "markdown",
   "metadata": {},
   "source": [
    "(acoustics-scattering_discrete_orientation)=\n",
    "### Orientation dependence\n",
    "\n",
    "What if we actually consider the non-spherical nature of most objects in nature? In that case, the echoes would indeed vary depending on the direction sound impinges on the scatterer. This is especailly when $ka$ is high and the wavelength is relatively short compared to the scatterer size, such that sound scattered from different part of the scatterer would induce stronger constructive and destructive interference patterns in different directions. This is the same concept as discussed in the [acoustic sources](acoustics-source) section, where higher $ka$ means a more directional beampattern.\n",
    "\n",
    "To get an idea of how this directionality may look like, try the widget below and see how the TS magnitude and spectral features of a fluid spheroid change depending on the incident sound direction."
   ]
  },
  {
   "cell_type": "code",
   "execution_count": 6,
   "metadata": {},
   "outputs": [],
   "source": [
    "def dwba_prolate_spheroid(L, a, g, h, ka, phi):\n",
    "    \"\"\"\n",
    "    DWBA solution for a fluid prolate spheroid.\n",
    "    \n",
    "    Parameters:\n",
    "        L   : Length of spheroid (long axis)\n",
    "        a   : Radius of spheroid (short axis)\n",
    "        g   : rho2/rho1\n",
    "        h   : c2/c1\n",
    "        ka  : dimensionless wavenumber * radius (can be array)\n",
    "        phi : incident angle in radians\n",
    "\n",
    "    Returns:\n",
    "        fbs      : complex backscattering amplitude\n",
    "        sigmabs  : backscattering cross-section (abs squared)\n",
    "        TS       : target strength in dB\n",
    "    \"\"\"\n",
    "\n",
    "    Cb = 1 / (g * h**2) + 1 / g - 2  # gamma_kappa - gamma_rho\n",
    "\n",
    "    beta = phi + np.pi / 2\n",
    "    ka = np.atleast_1d(ka)  # ensure ka is array\n",
    "\n",
    "    # Argument inside spherical Bessel function\n",
    "    sin2 = np.sin(beta)**2\n",
    "    cos2 = np.cos(beta)**2\n",
    "    ellip_term = np.sqrt(sin2 + ((L / (2 * a))**2) * cos2)\n",
    "    arg = 2 * ka / h * ellip_term\n",
    "\n",
    "    j1 = spherical_jn(1, arg)\n",
    "\n",
    "    fbs = (ka**2) * L * Cb / 2 * j1 / arg\n",
    "\n",
    "    return fbs"
   ]
  },
  {
   "cell_type": "code",
   "execution_count": 7,
   "metadata": {},
   "outputs": [
    {
     "data": {
      "application/vnd.jupyter.widget-view+json": {
       "model_id": "1870e5ad1efe439d90919fb3b5c72feb",
       "version_major": 2,
       "version_minor": 0
      },
      "text/plain": [
       "interactive(children=(SelectionSlider(description='Incident angle (deg)', options=(np.int64(0), np.int64(1), n…"
      ]
     },
     "metadata": {},
     "output_type": "display_data"
    }
   ],
   "source": [
    "a = 0.015\n",
    "L = a * 6\n",
    "g = 1.043\n",
    "h = 1.053\n",
    "c = 1500\n",
    "\n",
    "freq = np.arange(100, 100e3, 10)\n",
    "ka = 2*np.pi*freq / c * a\n",
    "\n",
    "def update_dwba(angle, xscale_type):\n",
    "\n",
    "    phi = np.deg2rad(angle)  # incident angle in radians (e.g., backscatter)\n",
    "    fbs = dwba_prolate_spheroid(L, a, g, h, ka, phi)\n",
    "    TS = 20*np.log10(np.abs(fbs))\n",
    "\n",
    "    plt.figure(figsize=(5,3.5))\n",
    "    plt.plot(freq/1e3, TS, lw=1)\n",
    "    if xscale_type == \"log\":\n",
    "        plt.xscale(\"log\")\n",
    "    plt.xlim(500/1e3, 100e3/1e3)\n",
    "    plt.ylim(-120, -50)\n",
    "    plt.xlabel(\"Frequency (kHz)\")\n",
    "    plt.ylabel(\"TS (dB)\")\n",
    "    plt.title(\"Scattering from a fluid prolate spheroid\")\n",
    "    plt.show\n",
    "\n",
    "\n",
    "# rr = np.hstack(((np.arange(5, 10, 1)/100), np.arange(1, 10, 1)/10))\n",
    "aa = np.arange(0, 91, 1)\n",
    "angle_slider = widgets.SelectionSlider(\n",
    "    options=aa,\n",
    "    value=0,  # default value\n",
    "    description=\"Incident angle (deg)\",\n",
    "    style={'description_width': 'initial'},\n",
    "    continuous_update=True\n",
    ")\n",
    "\n",
    "xscale_radio = widgets.RadioButtons(\n",
    "    options=[\"linear\", \"log\"],\n",
    "    value=\"linear\",  # default selected\n",
    "    description=\"X-axis type\",\n",
    "    disabled=False,\n",
    "    style={'description_width': 'initial'}\n",
    ")\n",
    "\n",
    "interactive_plot = widgets.interactive(\n",
    "    update_dwba, angle=angle_slider, xscale_type=xscale_radio)\n",
    "display(interactive_plot)"
   ]
  },
  {
   "cell_type": "markdown",
   "metadata": {},
   "source": [
    "### Inferring scatterer identity"
   ]
  },
  {
   "cell_type": "markdown",
   "metadata": {},
   "source": [
    "Seeing how the TS spectrum can change with both material properties, shape, and incident angle even for simple scatterers such as spheres and spheroid, it is natural to imagine that we can use these features to infer the dominant scattering mechanisms and scatterer identity. \"Acoustic color\"—the strength of echo as a function of angle and frequency as shown in the fig below—is one such feature that has been used widely to distinguish different types of scatterer underwater."
   ]
  },
  {
   "cell_type": "code",
   "execution_count": 8,
   "metadata": {},
   "outputs": [],
   "source": [
    "# ADD ACOUSITC COLOR FIGURE!"
   ]
  },
  {
   "cell_type": "code",
   "execution_count": null,
   "metadata": {},
   "outputs": [],
   "source": []
  }
 ],
 "metadata": {
  "kernelspec": {
   "display_name": "boat_20250320",
   "language": "python",
   "name": "python3"
  },
  "language_info": {
   "codemirror_mode": {
    "name": "ipython",
    "version": 3
   },
   "file_extension": ".py",
   "mimetype": "text/x-python",
   "name": "python",
   "nbconvert_exporter": "python",
   "pygments_lexer": "ipython3",
   "version": "3.12.9"
  }
 },
 "nbformat": 4,
 "nbformat_minor": 2
}
