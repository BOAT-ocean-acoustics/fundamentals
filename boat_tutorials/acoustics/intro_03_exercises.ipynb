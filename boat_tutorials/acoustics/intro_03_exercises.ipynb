{
 "cells": [
  {
   "cell_type": "markdown",
   "metadata": {},
   "source": [
    "(acoustics-intro_widgets)=\n",
    "### Widget exercise\n",
    "\n",
    "Let's put what we just learn to use! Below is an interactive \"widget\" that you can use to get an intuitive sense of how loud Oli's sound or fish echoes Ola may receive.\n",
    "\n",
    "```{Tip}\n",
    ":class: tip\n",
    "Throughout the tutorials, we will use widgets to help develop physical intuitions behind ocean acoustics problems.\n",
    "```\n",
    "\n",
    "Here, all the numbers are represented in **decibels**, or \"**dB**,\" which is a unitless, logarithmic measure widely used in ocean acoustics. We use the this measure in order to easily compare sound as loud as a jet taking off right outside of your window (~140 dB re 20 $\\mu$Pa) with sound as soft as dropping a needle on the floor (~15 dB re 20 $\\mu$Pa). Go to the [](primer-decibel) page to learn about this useful measure.\n",
    "\n",
    "ADD_WIDGET:\n",
    "- PASSIVE: RETURN RL FROM TL AND SL SLIDEBARS\n",
    "- ACTIVE: RETURN RL FROM TL, SL, AND TS SLIDEBARS\n",
    "\n",
    "**Try this for yourself:** By keeping $\\textrm{TL}$ the same, you can see how much harder it is to hear fish echoes compared to Ola's sound, just because the sound needs to travel twice of the distance! Note that $\\textrm{TL}$ is also typically a negative number when measured in decibel, which we will explain in [](acoustics-target_strength).\n",
    "\n",
    "\n",
    "\n",
    "\n",
    "\n",
    "(acoustics-intro_exercises)=\n",
    "## Apply the SONAR equation to other ocean acoustics problems\n",
    "\n",
    "Having seen how the SONAR equation can be applied to study the orcas, let's try to apply the same principle to analyze another couple ocean acoustics problems.\n",
    "\n",
    "### Exercise 1: \"Looking\" under the sea surface using an echosounder\n",
    "Echosounder are high-frequency sonar systems widely used to \"image\" the interior of the ocean. It operates by transmitting signals (\"pings\") and receiving echo returns from any objects or boundaries underwater. Below is a sketch of how an echosounder measurement scenario looks like:\n",
    "\n",
    "ADD PICTURE\n",
    "\n",
    "Try to see if you can figure out the following:\n",
    "- Identify the various terms in the SONAR equations in this sketch\n",
    "- Identify at least one scientific question or application that can benefit from using an echosounder\n",
    "\n",
    "### Exercise 2: Apply to your own research\n",
    "If you have done or are thinking about doing research on an ocean acoustics-related topic, what is it? Think of one question you may want to answer or an application you may want to try, and try to see if you can figure out the following:\n",
    "- Put together a quick sketch of the \"system\" of your ocean acoustics problem\n",
    "- Identify the various terms in the SONAR equations in this sketch\n",
    "- Identify at least one component in the sketch or one term in the SONAR equation that you would like to learn more about from the tutorials\n",
    "<!-- - Submit your question [here](LINK): we will periodically answer these on the Ocean Acoustics & Technology forum! -->\n"
   ]
  }
 ],
 "metadata": {
  "language_info": {
   "name": "python"
  }
 },
 "nbformat": 4,
 "nbformat_minor": 2
}
