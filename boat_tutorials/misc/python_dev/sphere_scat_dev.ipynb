{
 "cells": [
  {
   "cell_type": "code",
   "execution_count": 1,
   "metadata": {},
   "outputs": [],
   "source": [
    "import numpy as np\n",
    "import matplotlib.pyplot as plt\n",
    "from scipy.special import spherical_jn, spherical_yn"
   ]
  },
  {
   "cell_type": "code",
   "execution_count": 2,
   "metadata": {},
   "outputs": [],
   "source": [
    "def Pn(n: int, x: np.array):\n",
    "    if np.max(np.abs(x)) > 1:\n",
    "        raise ValueError(\"|x| must be smaller than 1!\")\n",
    "\n",
    "    pn = np.zeros((x.size, n + 1))\n",
    "    pn[:, 0] = 1\n",
    "    if n >= 1:\n",
    "        pn[:, 1] = x\n",
    "\n",
    "    for nn in range(1, n):\n",
    "        pn[:, nn + 1] = ((2 * nn + 1) * x * pn[:, nn] - nn * pn[:, nn - 1]) / (nn + 1)\n",
    "\n",
    "    return pn[:, n]"
   ]
  },
  {
   "cell_type": "code",
   "execution_count": 3,
   "metadata": {},
   "outputs": [],
   "source": [
    "x = np.array([0.1, 0.5, 0.9])\n",
    "n = 3"
   ]
  },
  {
   "cell_type": "code",
   "execution_count": 4,
   "metadata": {},
   "outputs": [
    {
     "data": {
      "text/plain": [
       "array([-0.1475, -0.4375,  0.4725])"
      ]
     },
     "execution_count": 4,
     "metadata": {},
     "output_type": "execute_result"
    }
   ],
   "source": [
    "Pn(n, x)"
   ]
  },
  {
   "cell_type": "code",
   "execution_count": 5,
   "metadata": {},
   "outputs": [],
   "source": [
    "def fluid_fs(scale, out_flag, para):\n",
    "    DEG2RAD = np.pi / 180\n",
    "    ns, x0, xe, g, h = para[:5]\n",
    "    \n",
    "    # Create ka array\n",
    "    if scale == 1:\n",
    "        ka1 = np.linspace(x0, xe, ns)\n",
    "    else:\n",
    "        ka1 = np.logspace(np.log10(x0), np.log10(xe), ns)\n",
    "\n",
    "    # Determine max mode\n",
    "    if len(para) < 7:\n",
    "        Nmax = round(np.max(ka1)) + 10\n",
    "    else:\n",
    "        Nmax = para[6]\n",
    "\n",
    "    ka2 = ka1 / h\n",
    "    m = len(ka1)\n",
    "    theta = para[5] * DEG2RAD\n",
    "    x = np.cos(theta)\n",
    "\n",
    "    n = np.arange(Nmax)\n",
    "    nl = 2 * n + 1\n",
    "\n",
    "    # Compute Legendre polynomials Pn(x)\n",
    "    pn1 = np.array([Pn(ni, x) for ni in n]).squeeze()\n",
    "\n",
    "    # Bessel functions and derivatives\n",
    "    jn1 = np.array([spherical_jn(ni, ka1) for ni in n])  # shape (Nmax, m)\n",
    "    yn1 = np.array([spherical_yn(ni, ka1) for ni in n])\n",
    "    djn1 = np.array([spherical_jn(ni, ka1, derivative=True) for ni in n])\n",
    "    dyn1 = np.array([spherical_yn(ni, ka1, derivative=True) for ni in n])\n",
    "\n",
    "    jn2 = np.array([spherical_jn(ni, ka2) for ni in n])\n",
    "    djn2 = np.array([spherical_jn(ni, ka2, derivative=True) for ni in n])\n",
    "\n",
    "    # Avoid division warnings\n",
    "    with np.errstate(divide='ignore', invalid='ignore'):\n",
    "        term1 = djn2 * yn1 / (jn2 * djn1) - g * h * dyn1 / djn1\n",
    "        term2 = djn2 * jn1 / (jn2 * djn1) - g * h\n",
    "        cn = term1 / term2\n",
    "        bn = -1 / (1 + 1j * cn)\n",
    "\n",
    "    # Form function f and amplitude S\n",
    "    f = np.zeros(m, dtype=complex)\n",
    "    # S = np.zeros((m, Nmax), dtype=complex)\n",
    "    for mm in range(m):\n",
    "        s = nl * pn1 * bn[:, mm]\n",
    "        f[mm] = np.sum(s)\n",
    "        # S[mm, :] = s / ka1[mm]\n",
    "\n",
    "    outx = ka1\n",
    "    # Choose output based on out_flag\n",
    "    if out_flag == 1:\n",
    "        outy = np.abs(2 * f / ka1)  # Modulus of form function\n",
    "    elif out_flag == 2:\n",
    "        outy = -1j * 2 * f / ka1  # Complex form function\n",
    "    elif out_flag == 3:\n",
    "        outy = np.abs(f) / (np.sqrt(np.pi) * ka1)  # Modulus of normalized scattering amplitude\n",
    "    elif out_flag == 4:\n",
    "        outy = -1j * f / (np.sqrt(np.pi) * ka1)  # Complex normalized scattering amplitude\n",
    "    else:\n",
    "        raise ValueError(\"Invalid out_flag value.\")\n",
    "\n",
    "    return outx, outy"
   ]
  },
  {
   "cell_type": "code",
   "execution_count": 6,
   "metadata": {},
   "outputs": [],
   "source": [
    "# para_fld=[n, x0, xe, g, h, theta_ka]\n",
    "# para = [1000, 0.001, 20, 0.0012, 0.22, 180]  # bubble at surface\n",
    "para = [1000, 0.001, 20, 1.026, 1.017, 180]  # fluid sphere\n",
    "scale = 2\n",
    "out_flag = 1  # modulus of form function\n",
    "\n",
    "ka, fm = fluid_fs(scale, out_flag, para)"
   ]
  },
  {
   "cell_type": "code",
   "execution_count": 7,
   "metadata": {},
   "outputs": [
    {
     "data": {
      "text/plain": [
       "[<matplotlib.lines.Line2D at 0x12e49a540>]"
      ]
     },
     "execution_count": 7,
     "metadata": {},
     "output_type": "execute_result"
    },
    {
     "data": {
      "image/png": "[encoded data removed]",
      "text/plain": [
       "<Figure size 640x480 with 1 Axes>"
      ]
     },
     "metadata": {},
     "output_type": "display_data"
    }
   ],
   "source": [
    "plt.loglog(ka,abs(fm), lw=1)"
   ]
  },
  {
   "cell_type": "code",
   "execution_count": null,
   "metadata": {},
   "outputs": [],
   "source": []
  },
  {
   "cell_type": "code",
   "execution_count": 8,
   "metadata": {},
   "outputs": [],
   "source": [
    "def elastic_fs(scale, out_flag, para):\n",
    "    DEG2RAD = np.pi / 180\n",
    "    ns, x0, xe, g, hc, hs = para[:6]\n",
    "\n",
    "    # Create ka values\n",
    "    if scale == 1:\n",
    "        ka1 = np.linspace(x0, xe, ns)\n",
    "    else:\n",
    "        ka1 = np.logspace(np.log10(x0), np.log10(xe), ns)\n",
    "\n",
    "    ka2L = ka1 / hc\n",
    "    ka2s = ka1 / hs\n",
    "    m = len(ka1)\n",
    "\n",
    "    # Set Nmax\n",
    "    if len(para) < 8:\n",
    "        Nmax = round(np.max(ka1)) + 10\n",
    "    else:\n",
    "        Nmax = para[7]\n",
    "\n",
    "    theta = para[6] * DEG2RAD\n",
    "    x = np.cos(theta)\n",
    "\n",
    "    n = np.arange(Nmax)\n",
    "    nl = 2 * n + 1\n",
    "    pn = np.array([Pn(ni, x) for ni in n]).squeeze()\n",
    "\n",
    "    # Spherical Bessel functions\n",
    "    jn1 = np.array([spherical_jn(ni, ka1) for ni in n])\n",
    "    yn1 = np.array([spherical_yn(ni, ka1) for ni in n])\n",
    "    djn1 = np.array([spherical_jn(ni, ka1, derivative=True) for ni in n])\n",
    "    dyn1 = np.array([spherical_yn(ni, ka1, derivative=True) for ni in n])\n",
    "\n",
    "    jn2L = np.array([spherical_jn(ni, ka2L) for ni in n])\n",
    "    djn2L = np.array([spherical_jn(ni, ka2L, derivative=True) for ni in n])\n",
    "    jn2s = np.array([spherical_jn(ni, ka2s) for ni in n])\n",
    "    djn2s = np.array([spherical_jn(ni, ka2s, derivative=True) for ni in n])\n",
    "\n",
    "    f = np.zeros(m, dtype=complex)\n",
    "\n",
    "    nn = n * n + n  # shape (Nmax,)\n",
    "    \n",
    "    # Compute tan terms (shape: Nmax x m)\n",
    "    tan1 = -ka2L * djn2L / jn2L\n",
    "    tan2 = -ka2s * djn2s / jn2s\n",
    "    tan3 = -ka1 * djn1 / jn1\n",
    "    tan_beta = -ka1 * dyn1 / yn1\n",
    "    tan_del = -jn1 / yn1\n",
    "\n",
    "    d1 = tan1 + 1\n",
    "    d2 = nn[:, None] - 1 - (ka2s**2)[None, :] / 2 + tan2\n",
    "\n",
    "    term1a = tan1 / d1\n",
    "    term1b = nn[:, None] / d2\n",
    "    term2a = (nn[:, None] - (ka2s**2)[None, :] / 2 + 2 * tan1) / d1\n",
    "    term2b = nn[:, None] * (tan2 + 1) / d2\n",
    "\n",
    "    td = -0.5 * (ka2s**2)[None, :] * (term1a - term1b) / (term2a - term2b)\n",
    "    tan_phi = -td / g\n",
    "    tan_eta = tan_del * (tan_phi + tan3) / (tan_phi + tan_beta)\n",
    "\n",
    "    cos_eta = 1 / np.sqrt(1 + tan_eta**2)\n",
    "    sin_eta = tan_eta * cos_eta\n",
    "\n",
    "    bn = sin_eta * (1j * cos_eta - sin_eta)  # shape: (Nmax, m)\n",
    "    s = nl[:, None] * pn[:, None] * bn       # shape: (Nmax, m)\n",
    "    f = np.sum(s, axis=0)                    # shape: (m,)\n",
    "\n",
    "    outx = ka1\n",
    "    if out_flag == 1:\n",
    "        outy = np.abs(2 * f / ka1)\n",
    "    elif out_flag == 2:\n",
    "        outy = -1j * 2 * f / ka1\n",
    "    elif out_flag == 3:\n",
    "        outy = np.abs(f) / (np.sqrt(np.pi) * ka1)\n",
    "    elif out_flag == 4:\n",
    "        outy = -1j * f / (np.sqrt(np.pi) * ka1)\n",
    "    else:\n",
    "        raise ValueError(\"Invalid out_flag value.\")\n",
    "\n",
    "    return outx, outy"
   ]
  },
  {
   "cell_type": "code",
   "execution_count": 11,
   "metadata": {},
   "outputs": [],
   "source": [
    "# para_fld=[n x0 xe g hc hs theta_ka]\n",
    "para = [1000, 0.001, 30, 7.8, 3.74, 2.08, 180]  # stainless steel\n",
    "scale = 2\n",
    "out_flag = 1  # modulus of form function\n",
    "\n",
    "ka, fm = elastic_fs(scale, out_flag, para)"
   ]
  },
  {
   "cell_type": "code",
   "execution_count": 12,
   "metadata": {},
   "outputs": [
    {
     "data": {
      "text/plain": [
       "[<matplotlib.lines.Line2D at 0x12eb6f980>]"
      ]
     },
     "execution_count": 12,
     "metadata": {},
     "output_type": "execute_result"
    },
    {
     "data": {
      "image/png": "[encoded data removed]",
      "text/plain": [
       "<Figure size 640x480 with 1 Axes>"
      ]
     },
     "metadata": {},
     "output_type": "display_data"
    }
   ],
   "source": [
    "plt.loglog(ka,abs(fm))"
   ]
  },
  {
   "cell_type": "code",
   "execution_count": null,
   "metadata": {},
   "outputs": [],
   "source": []
  },
  {
   "cell_type": "code",
   "execution_count": null,
   "metadata": {},
   "outputs": [],
   "source": []
  },
  {
   "cell_type": "code",
   "execution_count": null,
   "metadata": {},
   "outputs": [],
   "source": []
  }
 ],
 "metadata": {
  "kernelspec": {
   "display_name": "boat_20250320",
   "language": "python",
   "name": "python3"
  },
  "language_info": {
   "codemirror_mode": {
    "name": "ipython",
    "version": 3
   },
   "file_extension": ".py",
   "mimetype": "text/x-python",
   "name": "python",
   "nbconvert_exporter": "python",
   "pygments_lexer": "ipython3",
   "version": "3.12.9"
  }
 },
 "nbformat": 4,
 "nbformat_minor": 2
}
