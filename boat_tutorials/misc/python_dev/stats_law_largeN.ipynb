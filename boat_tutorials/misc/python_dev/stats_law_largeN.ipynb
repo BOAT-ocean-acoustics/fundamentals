{
 "cells": [
  {
   "cell_type": "markdown",
   "id": "a701b3e2",
   "metadata": {},
   "source": [
    "(primers-law_largeN)=\n",
    "# Law of Large Numbers\n",
    "\n",
    "This notebook introduces the law of large numbers when generating independent and identically distributed (iid) samples from a random variable with a finite mean."
   ]
  },
  {
   "cell_type": "markdown",
   "id": "bfb83219",
   "metadata": {},
   "source": [
    "\n",
    "\n",
    "\n",
    "1) This notebook starts by importing all packages that were found in `requirements.txt`"
   ]
  },
  {
   "cell_type": "code",
   "execution_count": 2,
   "id": "305ccd87-fffa-404b-a190-1d4069dedf5a",
   "metadata": {},
   "outputs": [],
   "source": [
    "import matplotlib.pyplot as plt\n",
    "import numpy as np\n",
    "import scipy as sp\n",
    "import ipywidgets as widgets\n",
    "import pandas as pd"
   ]
  },
  {
   "cell_type": "markdown",
   "id": "bf4f2e57",
   "metadata": {},
   "source": [
    "2) Next, a method is defined to take a parameter `N` and plot the probability density function (PDF) of `N` samples drawn from a standard normal distribution which is also plotted for comparison. The mean-squared error (MSE) between sample mean and true mean when performing many trials of generating N samples and calculating sample mean is printed on the plot. The vertical dashed line is meant to mark the sample mean of the shown PDF of `N` samples."
   ]
  },
  {
   "cell_type": "code",
   "execution_count": 3,
   "id": "78f256d3",
   "metadata": {},
   "outputs": [],
   "source": [
    "def plot_PDF_of_noise_with_samples(N):\n",
    "    noise = np.random.randn(N)\n",
    "    sample_mean = noise.mean()\n",
    "\n",
    "    x = np.linspace(-4, 4, 1000)\n",
    "    pdf = sp.stats.norm.pdf(x, loc=0, scale=1)\n",
    "\n",
    "    num_trials = 100\n",
    "    noise_batches = np.random.randn(N, num_trials)\n",
    "    noise_batches_sample_means = noise_batches.mean(axis=0)\n",
    "    mse = (noise_batches_sample_means**2).mean()\n",
    "\n",
    "    fig, pdf_ax = plt.subplots(1, 1, figsize=(7, 3))\n",
    "    pdf_ax.set_title(f'Probability Density Function ({N} samples)')\n",
    "    pdf_ax.hist(noise, bins=100, density=True, zorder=2)\n",
    "    pdf_ax.plot(x, pdf, label='Theoretical Standard Normal Distribution')\n",
    "\n",
    "    pdf_ax.axvline(x=sample_mean, label=f'Sample mean line',\n",
    "                color='k', linestyle='dashed', linewidth=2, zorder=3)\n",
    "    pdf_ax.text(x = -3.5, y = 0.65, s = f'MSE over {num_trials} trials: {(mse):.4f})')\n",
    "    pdf_ax.set_ylim(0, 1)\n",
    "    pdf_ax.set_xlim(-4, 4)\n",
    "    pdf_ax.grid(which='both')\n",
    "    pdf_ax.set_ylabel('Probability')\n",
    "    pdf_ax.set_xlabel('Noise values')\n",
    "    pdf_ax.legend()\n",
    "    \n",
    "    plt.show()"
   ]
  },
  {
   "cell_type": "markdown",
   "id": "de461eb4",
   "metadata": {},
   "source": [
    "3) Finally, an interactive widget is used to plot the above PDF for any `N` value ranging from 100 to 5000 with step sizes of 100. As `N` increases, the MSE between sample mean and true mean decreases to 0"
   ]
  },
  {
   "cell_type": "code",
   "execution_count": null,
   "id": "0bef4be2",
   "metadata": {},
   "outputs": [
    {
     "data": {
      "application/vnd.jupyter.widget-view+json": {
       "model_id": "c40280ca9af549229a43ff16acf52e93",
       "version_major": 2,
       "version_minor": 0
      },
      "text/plain": [
       "interactive(children=(IntSlider(value=100, description='Number of samples:', layout=Layout(width='650px'), max…"
      ]
     },
     "metadata": {},
     "output_type": "display_data"
    }
   ],
   "source": [
    "N_slider = widgets.IntSlider(\n",
    "    value=100,\n",
    "    min=100,\n",
    "    max=5000,\n",
    "    step=10,\n",
    "    description='Number of samples:', \n",
    "    style={'description_width': 'initial'},\n",
    "    disabled=False,\n",
    "    continuous_update=True,\n",
    "    orientation='horizontal',\n",
    "    readout=True,\n",
    "    readout_format='d',\n",
    "    layout=widgets.Layout(width=\"650px\")\n",
    ")\n",
    "\n",
    "out = widgets.interact(plot_PDF_of_noise_with_samples,N=N_slider)"
   ]
  }
 ],
 "metadata": {
  "kernelspec": {
   "display_name": "boat-fundamentals",
   "language": "python",
   "name": "python3"
  },
  "language_info": {
   "codemirror_mode": {
    "name": "ipython",
    "version": 3
   },
   "file_extension": ".py",
   "mimetype": "text/x-python",
   "name": "python",
   "nbconvert_exporter": "python",
   "pygments_lexer": "ipython3",
   "version": "3.13.5"
  }
 },
 "nbformat": 4,
 "nbformat_minor": 5
}
