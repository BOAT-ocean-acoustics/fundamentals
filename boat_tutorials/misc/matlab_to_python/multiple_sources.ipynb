{
 "cells": [
  {
   "cell_type": "code",
   "execution_count": 1,
   "metadata": {},
   "outputs": [],
   "source": [
    "# Import packages\n",
    "import numpy as np\n",
    "import matplotlib.pyplot as plt\n",
    "import ipywidgets as widgets\n",
    "\n",
    "# Set inline\n",
    "%matplotlib inline"
   ]
  },
  {
   "cell_type": "code",
   "execution_count": 2,
   "metadata": {},
   "outputs": [
    {
     "data": {
      "application/vnd.jupyter.widget-view+json": {
       "model_id": "b1768dd13ce14e25977beb864934a0f6",
       "version_major": 2,
       "version_minor": 0
      },
      "text/plain": [
       "interactive(children=(Dropdown(description='Source 2', layout=Layout(height='30px', width='500px'), options=('…"
      ]
     },
     "metadata": {},
     "output_type": "display_data"
    },
    {
     "data": {
      "text/plain": [
       "<function __main__.two_sources_field(source_2, plot_type, frequency, distance_apart)>"
      ]
     },
     "execution_count": 2,
     "metadata": {},
     "output_type": "execute_result"
    }
   ],
   "source": [
    "def two_sources_field(source_2, plot_type, frequency, distance_apart):\n",
    "    \"\"\"\n",
    "    Plot two sources field.\n",
    "    \"\"\"\n",
    "    # Speed of sound (m/s)\n",
    "    c = 1500.0\n",
    "    \n",
    "    # Pressure amplitudes\n",
    "    SL = 0\n",
    "    A_SL = 10**(SL/20)\n",
    "\n",
    "    # Turn on or off second source\n",
    "    A2 = 1 if source_2 == \"On\" else 0\n",
    "\n",
    "    # Maximum seperation between sources\n",
    "    dmax = 10\n",
    "\n",
    "    # Compute domain of calculation\n",
    "    Lx = 2 * dmax\n",
    "    Ly = 2 * dmax\n",
    "    Nx = 150\n",
    "    Ny = Nx\n",
    "    x = np.linspace(-Lx, Lx, Nx)\n",
    "    y = np.linspace(-Ly, Ly, Ny)\n",
    "    X, Y = np.meshgrid(x, y)\n",
    "\n",
    "    # Determine pressure field from each source and sum\n",
    "\n",
    "    # Distance from source #1 to each point\n",
    "    r1 = np.sqrt((X - distance_apart/2)**2 + Y**2)\n",
    "\n",
    "    # Distance from source #2 to each point\n",
    "    r2 = np.sqrt((X + distance_apart/2)**2 + Y**2)\n",
    "\n",
    "    # Pressure due to source #1\n",
    "    p1 = A_SL * np.exp(1j * 2*np.pi*frequency*r1/c) / r1\n",
    "\n",
    "    # Pressure due to source #2\n",
    "    p2 = A_SL * A2 * np.exp(1j * 2*np.pi*frequency*r2/c) / r2\n",
    "\n",
    "    # Coherent sum of pressures\n",
    "    p = p1 + p2\n",
    "\n",
    "    # Create plot for either pressure or intensity acoustic fields\n",
    "    fig, ax = plt.subplots(figsize=(8, 6))\n",
    "    if plot_type == \"Pressure\":\n",
    "        pressure_data = np.real(p) * np.sqrt(2)\n",
    "        im = ax.imshow(pressure_data, extent=[x[0], x[-1], y[0], y[-1]], origin=\"lower\", cmap=\"viridis\", vmin=-2, vmax=2)\n",
    "        ax.set_xlabel(\"x (m)\")\n",
    "        ax.set_ylabel(\"y (m)\")\n",
    "        cbar = fig.colorbar(im, ax=ax)\n",
    "        cbar.set_label(\"Pressure (µPa)\")\n",
    "    else:\n",
    "        intensity_data = 20 * np.log10(np.abs(p))\n",
    "        im = ax.imshow(intensity_data, extent=[x[0], x[-1], y[0], y[-1]], origin=\"lower\", cmap=\"viridis\", vmin=-40, vmax=5)\n",
    "        ax.set_xlabel(\"x (m)\")\n",
    "        ax.set_ylabel(\"y (m)\")\n",
    "        cbar = fig.colorbar(im, ax=ax)\n",
    "        cbar.set_label(\"Intensity (dB re 1 µPa)\")\n",
    "    ax.set_title(\"Acoustic Field\")\n",
    "\n",
    "    # Show plot\n",
    "    plt.show()\n",
    "\n",
    "# Create the interactive widgets\n",
    "layout = widgets.Layout(width=\"500px\", height=\"30px\")\n",
    "widgets.interact(\n",
    "    two_sources_field,\n",
    "    source_2=widgets.Dropdown(\n",
    "        options=[\"On\", \"Off\"],\n",
    "        value=\"On\",\n",
    "        description=\"Source 2\",\n",
    "        style={\"description_width\": \"initial\"}, \n",
    "        layout=layout,\n",
    "    ),\n",
    "    plot_type=widgets.Dropdown(\n",
    "        options=[\"Pressure\", \"Intensity\"],\n",
    "        value=\"Intensity\",\n",
    "        description=\"Plot Type\",\n",
    "        style={\"description_width\": \"initial\"}, \n",
    "        layout=layout,\n",
    "    ),\n",
    "    frequency=widgets.FloatSlider(\n",
    "        value=1200.0,\n",
    "        min=600.0,\n",
    "        max=1800.0,\n",
    "        step=5.0,\n",
    "        description=\"Frequency (Hz)\",\n",
    "        style={\"description_width\": \"initial\"}, \n",
    "        layout=layout,\n",
    "    ),\n",
    "    distance_apart=widgets.FloatSlider(\n",
    "        value=5.5,\n",
    "        min=0,\n",
    "        max=20,\n",
    "        step=0.1,\n",
    "        description=\"Distance Apart (m)\",\n",
    "        style={\"description_width\": \"initial\"}, \n",
    "        layout=layout,\n",
    "    )\n",
    ")"
   ]
  }
 ],
 "metadata": {
  "kernelspec": {
   "display_name": "boat_acoustics",
   "language": "python",
   "name": "python3"
  },
  "language_info": {
   "codemirror_mode": {
    "name": "ipython",
    "version": 3
   },
   "file_extension": ".py",
   "mimetype": "text/x-python",
   "name": "python",
   "nbconvert_exporter": "python",
   "pygments_lexer": "ipython3",
   "version": "3.12.9"
  }
 },
 "nbformat": 4,
 "nbformat_minor": 2
}
